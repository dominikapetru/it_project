{
 "cells": [
  {
   "cell_type": "markdown",
   "id": "48117d15-7d7d-4ac7-a9c5-98c4b53daa83",
   "metadata": {},
   "source": [
    "# Dataset preparation"
   ]
  },
  {
   "cell_type": "markdown",
   "id": "ec2178f4-b2e3-4fdc-878d-3df34b284826",
   "metadata": {},
   "source": [
    "#### Imports"
   ]
  },
  {
   "cell_type": "code",
   "execution_count": 44,
   "id": "61a0cd15-343e-4564-b276-cb0c6fb8ed75",
   "metadata": {},
   "outputs": [],
   "source": [
    "#sql\n",
    "import mysql.connector\n",
    "from mysql.connector import Error\n",
    "import pymysql\n",
    "\n",
    "#dataframe\n",
    "import pandas as pd\n",
    "import numpy as np\n",
    "\n",
    "#visualization\n",
    "import matplotlib.pyplot as plt\n",
    "import seaborn as sns\n",
    "\n",
    "import warnings\n",
    "warnings.filterwarnings('ignore')"
   ]
  },
  {
   "cell_type": "markdown",
   "id": "6a8faf5d-15b5-48fd-8dde-0eec7946b665",
   "metadata": {},
   "source": [
    "Features to find: \n",
    "Punk number,Skin, Type, Rarest rank, Total number of attributes, Last sold price, Number of sold transactions, Total in sold transactions, Number of transactions, Highest sold price, Difference between two last sold transactions, Current hold time."
   ]
  },
  {
   "cell_type": "code",
   "execution_count": 45,
   "id": "7b9b29ba-9725-4237-92ce-32c0bbee747c",
   "metadata": {},
   "outputs": [],
   "source": [
    "connection = pymysql.connect(host='localhost',\n",
    "                             user='root',\n",
    "                             password='mysql',\n",
    "                             db='mydb')"
   ]
  },
  {
   "cell_type": "code",
   "execution_count": 46,
   "id": "c445c06f-8066-4e90-b12f-c55ccc799944",
   "metadata": {},
   "outputs": [
    {
     "data": {
      "text/plain": [
       "0"
      ]
     },
     "execution_count": 46,
     "metadata": {},
     "output_type": "execute_result"
    }
   ],
   "source": [
    "cursor = connection.cursor()\n",
    "cursor.execute(\"USE mydb\")"
   ]
  },
  {
   "cell_type": "markdown",
   "id": "e74d1ab0-463f-492e-814e-249a3b1744a8",
   "metadata": {},
   "source": [
    "#### Queries to get all features"
   ]
  },
  {
   "cell_type": "code",
   "execution_count": 47,
   "id": "ec54211e-2e74-42f9-9fc5-3356ffa9d54e",
   "metadata": {},
   "outputs": [],
   "source": [
    "try:\n",
    "    query = \"\"\"SELECT id, skin_id, type_id, rarest_rank FROM punk;\"\"\"\n",
    "    df1 = pd.read_sql(query,connection)\n",
    "except Exception as e:\n",
    "    cursor.close()\n",
    "    print(str(e))"
   ]
  },
  {
   "cell_type": "code",
   "execution_count": 48,
   "id": "6198e39f-eaa0-4c69-92c6-6178c815ae6e",
   "metadata": {},
   "outputs": [],
   "source": [
    "df1.rename(columns={'id': 'punk_id'}, inplace=True)"
   ]
  },
  {
   "cell_type": "code",
   "execution_count": 49,
   "id": "00862f18-e848-4031-b6c4-e271f52293e1",
   "metadata": {},
   "outputs": [
    {
     "data": {
      "text/html": [
       "<div>\n",
       "<style scoped>\n",
       "    .dataframe tbody tr th:only-of-type {\n",
       "        vertical-align: middle;\n",
       "    }\n",
       "\n",
       "    .dataframe tbody tr th {\n",
       "        vertical-align: top;\n",
       "    }\n",
       "\n",
       "    .dataframe thead th {\n",
       "        text-align: right;\n",
       "    }\n",
       "</style>\n",
       "<table border=\"1\" class=\"dataframe\">\n",
       "  <thead>\n",
       "    <tr style=\"text-align: right;\">\n",
       "      <th></th>\n",
       "      <th>punk_id</th>\n",
       "      <th>skin_id</th>\n",
       "      <th>type_id</th>\n",
       "      <th>rarest_rank</th>\n",
       "    </tr>\n",
       "  </thead>\n",
       "  <tbody>\n",
       "    <tr>\n",
       "      <th>0</th>\n",
       "      <td>0</td>\n",
       "      <td>6</td>\n",
       "      <td>3</td>\n",
       "      <td>2118</td>\n",
       "    </tr>\n",
       "    <tr>\n",
       "      <th>1</th>\n",
       "      <td>1</td>\n",
       "      <td>4</td>\n",
       "      <td>4</td>\n",
       "      <td>4337</td>\n",
       "    </tr>\n",
       "  </tbody>\n",
       "</table>\n",
       "</div>"
      ],
      "text/plain": [
       "   punk_id  skin_id  type_id  rarest_rank\n",
       "0        0        6        3         2118\n",
       "1        1        4        4         4337"
      ]
     },
     "execution_count": 49,
     "metadata": {},
     "output_type": "execute_result"
    }
   ],
   "source": [
    "df1.head(2)"
   ]
  },
  {
   "cell_type": "code",
   "execution_count": 50,
   "id": "244c8f58-d648-43da-90e1-76288421e515",
   "metadata": {},
   "outputs": [],
   "source": [
    "try:\n",
    "    query = \"\"\"SELECT punk_id, attribute_id FROM punk_attribute_relation;\"\"\"\n",
    "    df2 = pd.read_sql(query,connection)\n",
    "except Exception as e:\n",
    "    cursor.close()\n",
    "    print(str(e))"
   ]
  },
  {
   "cell_type": "code",
   "execution_count": 51,
   "id": "249ec8d7-1e0a-4820-a6f1-b88d376dd4f0",
   "metadata": {},
   "outputs": [
    {
     "data": {
      "text/html": [
       "<div>\n",
       "<style scoped>\n",
       "    .dataframe tbody tr th:only-of-type {\n",
       "        vertical-align: middle;\n",
       "    }\n",
       "\n",
       "    .dataframe tbody tr th {\n",
       "        vertical-align: top;\n",
       "    }\n",
       "\n",
       "    .dataframe thead th {\n",
       "        text-align: right;\n",
       "    }\n",
       "</style>\n",
       "<table border=\"1\" class=\"dataframe\">\n",
       "  <thead>\n",
       "    <tr style=\"text-align: right;\">\n",
       "      <th></th>\n",
       "      <th>total_att</th>\n",
       "      <th>punk_id</th>\n",
       "    </tr>\n",
       "  </thead>\n",
       "  <tbody>\n",
       "    <tr>\n",
       "      <th>0</th>\n",
       "      <td>3</td>\n",
       "      <td>0</td>\n",
       "    </tr>\n",
       "    <tr>\n",
       "      <th>1</th>\n",
       "      <td>2</td>\n",
       "      <td>1</td>\n",
       "    </tr>\n",
       "  </tbody>\n",
       "</table>\n",
       "</div>"
      ],
      "text/plain": [
       "   total_att  punk_id\n",
       "0          3        0\n",
       "1          2        1"
      ]
     },
     "execution_count": 51,
     "metadata": {},
     "output_type": "execute_result"
    }
   ],
   "source": [
    "df2 = df2.groupby(['punk_id']).size()\n",
    "df2 = df2.to_frame()\n",
    "df2.columns = ['total_att']\n",
    "df2['punk_id'] = df2.index\n",
    "df2 = df2.reset_index(drop=True)\n",
    "df2.head(2)"
   ]
  },
  {
   "cell_type": "code",
   "execution_count": 52,
   "id": "b1b0255f-d87e-4c02-b06b-dc464b96d4e6",
   "metadata": {},
   "outputs": [
    {
     "data": {
      "text/plain": [
       "9992"
      ]
     },
     "execution_count": 52,
     "metadata": {},
     "output_type": "execute_result"
    }
   ],
   "source": [
    "len(df2)"
   ]
  },
  {
   "cell_type": "code",
   "execution_count": 53,
   "id": "ae0a4bfa-d5b9-4985-9984-7bba3565a771",
   "metadata": {},
   "outputs": [
    {
     "data": {
      "text/plain": [
       "10000"
      ]
     },
     "execution_count": 53,
     "metadata": {},
     "output_type": "execute_result"
    }
   ],
   "source": [
    "new_row = {'total_att':0, 'punk_id':281}\n",
    "df2 = df2.append(new_row, ignore_index=True)\n",
    "new_row = {'total_att':0, 'punk_id':510}\n",
    "df2 = df2.append(new_row, ignore_index=True)\n",
    "new_row = {'total_att':0, 'punk_id':641}\n",
    "df2 = df2.append(new_row, ignore_index=True)\n",
    "new_row = {'total_att':0, 'punk_id':741}\n",
    "df2 = df2.append(new_row, ignore_index=True)\n",
    "new_row = {'total_att':0, 'punk_id':1050}\n",
    "df2 = df2.append(new_row, ignore_index=True)\n",
    "new_row = {'total_att':0, 'punk_id':2204}\n",
    "df2 = df2.append(new_row, ignore_index=True)\n",
    "new_row = {'total_att':0, 'punk_id':3307}\n",
    "df2 = df2.append(new_row, ignore_index=True)\n",
    "new_row = {'total_att':0, 'punk_id':6487}\n",
    "df2 = df2.append(new_row, ignore_index=True)\n",
    "len(df2)"
   ]
  },
  {
   "cell_type": "code",
   "execution_count": 54,
   "id": "42690ab6-4560-4a95-8f3d-08d20be4620c",
   "metadata": {},
   "outputs": [
    {
     "data": {
      "text/html": [
       "<div>\n",
       "<style scoped>\n",
       "    .dataframe tbody tr th:only-of-type {\n",
       "        vertical-align: middle;\n",
       "    }\n",
       "\n",
       "    .dataframe tbody tr th {\n",
       "        vertical-align: top;\n",
       "    }\n",
       "\n",
       "    .dataframe thead th {\n",
       "        text-align: right;\n",
       "    }\n",
       "</style>\n",
       "<table border=\"1\" class=\"dataframe\">\n",
       "  <thead>\n",
       "    <tr style=\"text-align: right;\">\n",
       "      <th></th>\n",
       "      <th>total_att</th>\n",
       "      <th>punk_id</th>\n",
       "    </tr>\n",
       "  </thead>\n",
       "  <tbody>\n",
       "    <tr>\n",
       "      <th>0</th>\n",
       "      <td>3</td>\n",
       "      <td>0</td>\n",
       "    </tr>\n",
       "    <tr>\n",
       "      <th>1</th>\n",
       "      <td>2</td>\n",
       "      <td>1</td>\n",
       "    </tr>\n",
       "    <tr>\n",
       "      <th>2</th>\n",
       "      <td>1</td>\n",
       "      <td>2</td>\n",
       "    </tr>\n",
       "  </tbody>\n",
       "</table>\n",
       "</div>"
      ],
      "text/plain": [
       "   total_att  punk_id\n",
       "0          3        0\n",
       "1          2        1\n",
       "2          1        2"
      ]
     },
     "execution_count": 54,
     "metadata": {},
     "output_type": "execute_result"
    }
   ],
   "source": [
    "df2 = df2.sort_values(by=['punk_id'])\n",
    "df2 = df2.reset_index(drop=True)\n",
    "df2.head(3)"
   ]
  },
  {
   "cell_type": "code",
   "execution_count": 55,
   "id": "659f65c2-60ad-4126-b343-cda7da51a37e",
   "metadata": {},
   "outputs": [],
   "source": [
    "try:\n",
    "    query = \"\"\"SELECT date, amount, punk_id \n",
    "    FROM transaction\n",
    "    WHERE type = 'Sold';\"\"\"\n",
    "    df3 = pd.read_sql(query,connection)\n",
    "except Exception as e:\n",
    "    cursor.close()\n",
    "    print(str(e))"
   ]
  },
  {
   "cell_type": "code",
   "execution_count": 56,
   "id": "424148f9-b824-4a2d-a774-05ecfdee7857",
   "metadata": {},
   "outputs": [
    {
     "data": {
      "text/html": [
       "<div>\n",
       "<style scoped>\n",
       "    .dataframe tbody tr th:only-of-type {\n",
       "        vertical-align: middle;\n",
       "    }\n",
       "\n",
       "    .dataframe tbody tr th {\n",
       "        vertical-align: top;\n",
       "    }\n",
       "\n",
       "    .dataframe thead th {\n",
       "        text-align: right;\n",
       "    }\n",
       "</style>\n",
       "<table border=\"1\" class=\"dataframe\">\n",
       "  <thead>\n",
       "    <tr style=\"text-align: right;\">\n",
       "      <th></th>\n",
       "      <th>last_price</th>\n",
       "      <th>punk_id</th>\n",
       "    </tr>\n",
       "  </thead>\n",
       "  <tbody>\n",
       "    <tr>\n",
       "      <th>0</th>\n",
       "      <td>25.00</td>\n",
       "      <td>0</td>\n",
       "    </tr>\n",
       "    <tr>\n",
       "      <th>3</th>\n",
       "      <td>60.00</td>\n",
       "      <td>1</td>\n",
       "    </tr>\n",
       "    <tr>\n",
       "      <th>6</th>\n",
       "      <td>2.50</td>\n",
       "      <td>14</td>\n",
       "    </tr>\n",
       "    <tr>\n",
       "      <th>9</th>\n",
       "      <td>0.51</td>\n",
       "      <td>33</td>\n",
       "    </tr>\n",
       "    <tr>\n",
       "      <th>10</th>\n",
       "      <td>129.99</td>\n",
       "      <td>53</td>\n",
       "    </tr>\n",
       "  </tbody>\n",
       "</table>\n",
       "</div>"
      ],
      "text/plain": [
       "    last_price  punk_id\n",
       "0        25.00        0\n",
       "3        60.00        1\n",
       "6         2.50       14\n",
       "9         0.51       33\n",
       "10      129.99       53"
      ]
     },
     "execution_count": 56,
     "metadata": {},
     "output_type": "execute_result"
    }
   ],
   "source": [
    "#keep only first item for each punk\n",
    "df3 = df3.drop_duplicates(subset=['punk_id'], keep='first')\n",
    "df3.rename(columns={'amount': 'last_price'}, inplace=True)\n",
    "df3.drop(['date'], axis=1, inplace=True)\n",
    "df3.head(5)"
   ]
  },
  {
   "cell_type": "code",
   "execution_count": 57,
   "id": "1e0c9237-9a07-43dd-a6d5-ce372607d04d",
   "metadata": {},
   "outputs": [
    {
     "data": {
      "text/plain": [
       "6500"
      ]
     },
     "execution_count": 57,
     "metadata": {},
     "output_type": "execute_result"
    }
   ],
   "source": [
    "len(df3)"
   ]
  },
  {
   "cell_type": "code",
   "execution_count": 58,
   "id": "82d56d0f-78a4-4d43-bb56-997e9f015236",
   "metadata": {},
   "outputs": [],
   "source": [
    "try:\n",
    "    query = \"\"\"SELECT date, amount, punk_id \n",
    "    FROM transaction\n",
    "    WHERE type = 'Sold';\"\"\"\n",
    "    df4 = pd.read_sql(query,connection)\n",
    "except Exception as e:\n",
    "    cursor.close()\n",
    "    print(str(e))"
   ]
  },
  {
   "cell_type": "code",
   "execution_count": 59,
   "id": "54b603b1-5165-45ee-89c5-7c53ac7b97bc",
   "metadata": {},
   "outputs": [
    {
     "data": {
      "text/html": [
       "<div>\n",
       "<style scoped>\n",
       "    .dataframe tbody tr th:only-of-type {\n",
       "        vertical-align: middle;\n",
       "    }\n",
       "\n",
       "    .dataframe tbody tr th {\n",
       "        vertical-align: top;\n",
       "    }\n",
       "\n",
       "    .dataframe thead th {\n",
       "        text-align: right;\n",
       "    }\n",
       "</style>\n",
       "<table border=\"1\" class=\"dataframe\">\n",
       "  <thead>\n",
       "    <tr style=\"text-align: right;\">\n",
       "      <th></th>\n",
       "      <th>num_sold_trans</th>\n",
       "      <th>punk_id</th>\n",
       "    </tr>\n",
       "  </thead>\n",
       "  <tbody>\n",
       "    <tr>\n",
       "      <th>0</th>\n",
       "      <td>3</td>\n",
       "      <td>0</td>\n",
       "    </tr>\n",
       "    <tr>\n",
       "      <th>1</th>\n",
       "      <td>3</td>\n",
       "      <td>1</td>\n",
       "    </tr>\n",
       "    <tr>\n",
       "      <th>2</th>\n",
       "      <td>3</td>\n",
       "      <td>14</td>\n",
       "    </tr>\n",
       "    <tr>\n",
       "      <th>3</th>\n",
       "      <td>1</td>\n",
       "      <td>33</td>\n",
       "    </tr>\n",
       "    <tr>\n",
       "      <th>4</th>\n",
       "      <td>3</td>\n",
       "      <td>53</td>\n",
       "    </tr>\n",
       "  </tbody>\n",
       "</table>\n",
       "</div>"
      ],
      "text/plain": [
       "   num_sold_trans  punk_id\n",
       "0               3        0\n",
       "1               3        1\n",
       "2               3       14\n",
       "3               1       33\n",
       "4               3       53"
      ]
     },
     "execution_count": 59,
     "metadata": {},
     "output_type": "execute_result"
    }
   ],
   "source": [
    "df4 = df4.groupby(['punk_id']).count()\n",
    "df4['punk_id'] = df4.index\n",
    "df4 = df4.reset_index(drop=True)\n",
    "df4.drop(['date'], axis=1, inplace=True)\n",
    "df4.rename(columns={'amount': 'num_sold_trans'}, inplace=True)\n",
    "df4.head(5)"
   ]
  },
  {
   "cell_type": "code",
   "execution_count": 60,
   "id": "18893888-93af-44c9-adc9-232330670924",
   "metadata": {},
   "outputs": [
    {
     "data": {
      "text/plain": [
       "6500"
      ]
     },
     "execution_count": 60,
     "metadata": {},
     "output_type": "execute_result"
    }
   ],
   "source": [
    "len(df4)"
   ]
  },
  {
   "cell_type": "code",
   "execution_count": 61,
   "id": "4933e750-b4b0-44ac-8310-5c325517b409",
   "metadata": {},
   "outputs": [],
   "source": [
    "try:\n",
    "    query = \"\"\"SELECT date, amount, punk_id \n",
    "    FROM transaction\n",
    "    WHERE type = 'Sold';\"\"\"\n",
    "    df5 = pd.read_sql(query,connection)\n",
    "except Exception as e:\n",
    "    cursor.close()\n",
    "    print(str(e))"
   ]
  },
  {
   "cell_type": "code",
   "execution_count": 62,
   "id": "a94e767b-5812-4f34-9055-fa6e24565423",
   "metadata": {},
   "outputs": [
    {
     "data": {
      "text/html": [
       "<div>\n",
       "<style scoped>\n",
       "    .dataframe tbody tr th:only-of-type {\n",
       "        vertical-align: middle;\n",
       "    }\n",
       "\n",
       "    .dataframe tbody tr th {\n",
       "        vertical-align: top;\n",
       "    }\n",
       "\n",
       "    .dataframe thead th {\n",
       "        text-align: right;\n",
       "    }\n",
       "</style>\n",
       "<table border=\"1\" class=\"dataframe\">\n",
       "  <thead>\n",
       "    <tr style=\"text-align: right;\">\n",
       "      <th></th>\n",
       "      <th>total_sold_trans</th>\n",
       "      <th>punk_id</th>\n",
       "    </tr>\n",
       "  </thead>\n",
       "  <tbody>\n",
       "    <tr>\n",
       "      <th>0</th>\n",
       "      <td>27.58</td>\n",
       "      <td>0</td>\n",
       "    </tr>\n",
       "    <tr>\n",
       "      <th>1</th>\n",
       "      <td>91.42</td>\n",
       "      <td>1</td>\n",
       "    </tr>\n",
       "    <tr>\n",
       "      <th>2</th>\n",
       "      <td>5.25</td>\n",
       "      <td>14</td>\n",
       "    </tr>\n",
       "    <tr>\n",
       "      <th>3</th>\n",
       "      <td>0.51</td>\n",
       "      <td>33</td>\n",
       "    </tr>\n",
       "    <tr>\n",
       "      <th>4</th>\n",
       "      <td>171.99</td>\n",
       "      <td>53</td>\n",
       "    </tr>\n",
       "  </tbody>\n",
       "</table>\n",
       "</div>"
      ],
      "text/plain": [
       "   total_sold_trans  punk_id\n",
       "0             27.58        0\n",
       "1             91.42        1\n",
       "2              5.25       14\n",
       "3              0.51       33\n",
       "4            171.99       53"
      ]
     },
     "execution_count": 62,
     "metadata": {},
     "output_type": "execute_result"
    }
   ],
   "source": [
    "df5 = df5.groupby(['punk_id']).sum()\n",
    "df5['punk_id'] = df5.index\n",
    "df5 = df5.reset_index(drop=True)\n",
    "df5.rename(columns={'amount': 'total_sold_trans'}, inplace=True)\n",
    "df5.head(5)"
   ]
  },
  {
   "cell_type": "code",
   "execution_count": 63,
   "id": "d4194331-4568-49b2-a3ab-817e61d6ca24",
   "metadata": {},
   "outputs": [
    {
     "data": {
      "text/plain": [
       "6500"
      ]
     },
     "execution_count": 63,
     "metadata": {},
     "output_type": "execute_result"
    }
   ],
   "source": [
    "len(df5)"
   ]
  },
  {
   "cell_type": "code",
   "execution_count": 64,
   "id": "07e48d27-bd8a-44c9-9ae4-b4931e8b34d8",
   "metadata": {},
   "outputs": [],
   "source": [
    "try:\n",
    "    query = \"\"\"SELECT date, amount, punk_id \n",
    "    FROM transaction;\"\"\"\n",
    "    df6 = pd.read_sql(query,connection)\n",
    "except Exception as e:\n",
    "    cursor.close()\n",
    "    print(str(e))"
   ]
  },
  {
   "cell_type": "code",
   "execution_count": 65,
   "id": "c61d3446-32af-471b-8ee3-656780e0bf30",
   "metadata": {},
   "outputs": [
    {
     "data": {
      "text/html": [
       "<div>\n",
       "<style scoped>\n",
       "    .dataframe tbody tr th:only-of-type {\n",
       "        vertical-align: middle;\n",
       "    }\n",
       "\n",
       "    .dataframe tbody tr th {\n",
       "        vertical-align: top;\n",
       "    }\n",
       "\n",
       "    .dataframe thead th {\n",
       "        text-align: right;\n",
       "    }\n",
       "</style>\n",
       "<table border=\"1\" class=\"dataframe\">\n",
       "  <thead>\n",
       "    <tr style=\"text-align: right;\">\n",
       "      <th></th>\n",
       "      <th>num_trans</th>\n",
       "      <th>punk_id</th>\n",
       "    </tr>\n",
       "  </thead>\n",
       "  <tbody>\n",
       "    <tr>\n",
       "      <th>0</th>\n",
       "      <td>40</td>\n",
       "      <td>0</td>\n",
       "    </tr>\n",
       "    <tr>\n",
       "      <th>1</th>\n",
       "      <td>63</td>\n",
       "      <td>1</td>\n",
       "    </tr>\n",
       "    <tr>\n",
       "      <th>2</th>\n",
       "      <td>30</td>\n",
       "      <td>2</td>\n",
       "    </tr>\n",
       "    <tr>\n",
       "      <th>3</th>\n",
       "      <td>17</td>\n",
       "      <td>3</td>\n",
       "    </tr>\n",
       "    <tr>\n",
       "      <th>4</th>\n",
       "      <td>12</td>\n",
       "      <td>4</td>\n",
       "    </tr>\n",
       "  </tbody>\n",
       "</table>\n",
       "</div>"
      ],
      "text/plain": [
       "   num_trans  punk_id\n",
       "0         40        0\n",
       "1         63        1\n",
       "2         30        2\n",
       "3         17        3\n",
       "4         12        4"
      ]
     },
     "execution_count": 65,
     "metadata": {},
     "output_type": "execute_result"
    }
   ],
   "source": [
    "df6 = df6.groupby(['punk_id']).count()\n",
    "df6['punk_id'] = df6.index\n",
    "df6.drop(['date'], axis=1, inplace=True)\n",
    "df6 = df6.reset_index(drop=True)\n",
    "df6.rename(columns={'amount': 'num_trans'}, inplace=True)\n",
    "df6.head(5)"
   ]
  },
  {
   "cell_type": "code",
   "execution_count": 66,
   "id": "a663e780-0946-47cc-925b-640f729f78c4",
   "metadata": {},
   "outputs": [],
   "source": [
    "try:\n",
    "    query = \"\"\"SELECT date, amount, punk_id \n",
    "    FROM transaction\n",
    "    WHERE type = 'Sold';\"\"\"\n",
    "    df7 = pd.read_sql(query,connection)\n",
    "except Exception as e:\n",
    "    cursor.close()\n",
    "    print(str(e))"
   ]
  },
  {
   "cell_type": "code",
   "execution_count": 67,
   "id": "c8b9edfd-f7e8-4541-8c59-0a1a5ab13440",
   "metadata": {},
   "outputs": [
    {
     "data": {
      "text/html": [
       "<div>\n",
       "<style scoped>\n",
       "    .dataframe tbody tr th:only-of-type {\n",
       "        vertical-align: middle;\n",
       "    }\n",
       "\n",
       "    .dataframe tbody tr th {\n",
       "        vertical-align: top;\n",
       "    }\n",
       "\n",
       "    .dataframe thead th {\n",
       "        text-align: right;\n",
       "    }\n",
       "</style>\n",
       "<table border=\"1\" class=\"dataframe\">\n",
       "  <thead>\n",
       "    <tr style=\"text-align: right;\">\n",
       "      <th></th>\n",
       "      <th>date</th>\n",
       "      <th>amount</th>\n",
       "      <th>punk_id</th>\n",
       "    </tr>\n",
       "  </thead>\n",
       "  <tbody>\n",
       "    <tr>\n",
       "      <th>0</th>\n",
       "      <td>2018-11-30</td>\n",
       "      <td>25.00</td>\n",
       "      <td>0</td>\n",
       "    </tr>\n",
       "    <tr>\n",
       "      <th>1</th>\n",
       "      <td>2017-07-07</td>\n",
       "      <td>1.60</td>\n",
       "      <td>0</td>\n",
       "    </tr>\n",
       "    <tr>\n",
       "      <th>2</th>\n",
       "      <td>2017-06-23</td>\n",
       "      <td>0.98</td>\n",
       "      <td>0</td>\n",
       "    </tr>\n",
       "  </tbody>\n",
       "</table>\n",
       "</div>"
      ],
      "text/plain": [
       "         date  amount  punk_id\n",
       "0  2018-11-30   25.00        0\n",
       "1  2017-07-07    1.60        0\n",
       "2  2017-06-23    0.98        0"
      ]
     },
     "execution_count": 67,
     "metadata": {},
     "output_type": "execute_result"
    }
   ],
   "source": [
    "df7 = df7.sort_values([\"punk_id\",\"amount\"], ascending = (True, False))\n",
    "df7.head(3)"
   ]
  },
  {
   "cell_type": "code",
   "execution_count": 68,
   "id": "81f7a6bf-54bd-4f93-a77b-d11da7c60e8c",
   "metadata": {},
   "outputs": [
    {
     "data": {
      "text/html": [
       "<div>\n",
       "<style scoped>\n",
       "    .dataframe tbody tr th:only-of-type {\n",
       "        vertical-align: middle;\n",
       "    }\n",
       "\n",
       "    .dataframe tbody tr th {\n",
       "        vertical-align: top;\n",
       "    }\n",
       "\n",
       "    .dataframe thead th {\n",
       "        text-align: right;\n",
       "    }\n",
       "</style>\n",
       "<table border=\"1\" class=\"dataframe\">\n",
       "  <thead>\n",
       "    <tr style=\"text-align: right;\">\n",
       "      <th></th>\n",
       "      <th>highest_price</th>\n",
       "      <th>punk_id</th>\n",
       "    </tr>\n",
       "  </thead>\n",
       "  <tbody>\n",
       "    <tr>\n",
       "      <th>0</th>\n",
       "      <td>25.0</td>\n",
       "      <td>0</td>\n",
       "    </tr>\n",
       "    <tr>\n",
       "      <th>3</th>\n",
       "      <td>60.0</td>\n",
       "      <td>1</td>\n",
       "    </tr>\n",
       "    <tr>\n",
       "      <th>6</th>\n",
       "      <td>2.5</td>\n",
       "      <td>14</td>\n",
       "    </tr>\n",
       "  </tbody>\n",
       "</table>\n",
       "</div>"
      ],
      "text/plain": [
       "   highest_price  punk_id\n",
       "0           25.0        0\n",
       "3           60.0        1\n",
       "6            2.5       14"
      ]
     },
     "execution_count": 68,
     "metadata": {},
     "output_type": "execute_result"
    }
   ],
   "source": [
    "df7 = df7.drop_duplicates(subset=['punk_id'], keep='first')\n",
    "df7.rename(columns={'amount': 'highest_price'}, inplace=True)\n",
    "df7.drop(['date'], axis=1, inplace=True)\n",
    "df7.head(3)"
   ]
  },
  {
   "cell_type": "code",
   "execution_count": 69,
   "id": "2eed6e92-a72b-4a46-be1f-f941438bac4b",
   "metadata": {},
   "outputs": [],
   "source": [
    "try:\n",
    "    query = \"\"\"SELECT date, amount, punk_id \n",
    "    FROM transaction\n",
    "    WHERE type = 'Sold';\"\"\"\n",
    "    df8 = pd.read_sql(query,connection)\n",
    "except Exception as e:\n",
    "    cursor.close()\n",
    "    print(str(e))"
   ]
  },
  {
   "cell_type": "code",
   "execution_count": 70,
   "id": "2a8ee4de-f405-4188-9912-52dd6470e69a",
   "metadata": {},
   "outputs": [
    {
     "data": {
      "text/html": [
       "<div>\n",
       "<style scoped>\n",
       "    .dataframe tbody tr th:only-of-type {\n",
       "        vertical-align: middle;\n",
       "    }\n",
       "\n",
       "    .dataframe tbody tr th {\n",
       "        vertical-align: top;\n",
       "    }\n",
       "\n",
       "    .dataframe thead th {\n",
       "        text-align: right;\n",
       "    }\n",
       "</style>\n",
       "<table border=\"1\" class=\"dataframe\">\n",
       "  <thead>\n",
       "    <tr style=\"text-align: right;\">\n",
       "      <th></th>\n",
       "      <th>last_price</th>\n",
       "      <th>punk_id</th>\n",
       "    </tr>\n",
       "  </thead>\n",
       "  <tbody>\n",
       "    <tr>\n",
       "      <th>0</th>\n",
       "      <td>25.00</td>\n",
       "      <td>0</td>\n",
       "    </tr>\n",
       "    <tr>\n",
       "      <th>1</th>\n",
       "      <td>1.60</td>\n",
       "      <td>0</td>\n",
       "    </tr>\n",
       "    <tr>\n",
       "      <th>2</th>\n",
       "      <td>0.98</td>\n",
       "      <td>0</td>\n",
       "    </tr>\n",
       "  </tbody>\n",
       "</table>\n",
       "</div>"
      ],
      "text/plain": [
       "   last_price  punk_id\n",
       "0       25.00        0\n",
       "1        1.60        0\n",
       "2        0.98        0"
      ]
     },
     "execution_count": 70,
     "metadata": {},
     "output_type": "execute_result"
    }
   ],
   "source": [
    "df8.rename(columns={'amount': 'last_price'}, inplace=True)\n",
    "df8.drop(['date'], axis=1, inplace=True)\n",
    "df8.head(3)"
   ]
  },
  {
   "cell_type": "code",
   "execution_count": 71,
   "id": "2fe7a843-7429-48ee-8c3d-d2ab1c762f8c",
   "metadata": {},
   "outputs": [],
   "source": [
    "#last price\n",
    "df8a = df8.groupby('punk_id').head(1)\n",
    "df8a = df8a.reset_index(drop=True)\n",
    "#previous price\n",
    "df8b = df8.groupby('punk_id').head(2)\n",
    "df8b = df8b.drop_duplicates(subset=['punk_id'], keep='last')\n",
    "df8b = df8b.reset_index(drop=True)\n",
    "df8b.rename(columns={'last_price': 'previous_price'}, inplace=True)"
   ]
  },
  {
   "cell_type": "code",
   "execution_count": 72,
   "id": "8e25480b-eb00-464c-b1e6-dfea415bdde7",
   "metadata": {},
   "outputs": [
    {
     "data": {
      "text/html": [
       "<div>\n",
       "<style scoped>\n",
       "    .dataframe tbody tr th:only-of-type {\n",
       "        vertical-align: middle;\n",
       "    }\n",
       "\n",
       "    .dataframe tbody tr th {\n",
       "        vertical-align: top;\n",
       "    }\n",
       "\n",
       "    .dataframe thead th {\n",
       "        text-align: right;\n",
       "    }\n",
       "</style>\n",
       "<table border=\"1\" class=\"dataframe\">\n",
       "  <thead>\n",
       "    <tr style=\"text-align: right;\">\n",
       "      <th></th>\n",
       "      <th>punk_id</th>\n",
       "      <th>last_prices_diff</th>\n",
       "    </tr>\n",
       "  </thead>\n",
       "  <tbody>\n",
       "    <tr>\n",
       "      <th>0</th>\n",
       "      <td>0</td>\n",
       "      <td>23.40</td>\n",
       "    </tr>\n",
       "    <tr>\n",
       "      <th>1</th>\n",
       "      <td>1</td>\n",
       "      <td>29.00</td>\n",
       "    </tr>\n",
       "    <tr>\n",
       "      <th>2</th>\n",
       "      <td>14</td>\n",
       "      <td>0.65</td>\n",
       "    </tr>\n",
       "    <tr>\n",
       "      <th>3</th>\n",
       "      <td>33</td>\n",
       "      <td>0.00</td>\n",
       "    </tr>\n",
       "    <tr>\n",
       "      <th>4</th>\n",
       "      <td>53</td>\n",
       "      <td>107.99</td>\n",
       "    </tr>\n",
       "    <tr>\n",
       "      <th>5</th>\n",
       "      <td>89</td>\n",
       "      <td>-0.01</td>\n",
       "    </tr>\n",
       "    <tr>\n",
       "      <th>6</th>\n",
       "      <td>116</td>\n",
       "      <td>1.20</td>\n",
       "    </tr>\n",
       "    <tr>\n",
       "      <th>7</th>\n",
       "      <td>118</td>\n",
       "      <td>0.20</td>\n",
       "    </tr>\n",
       "    <tr>\n",
       "      <th>8</th>\n",
       "      <td>124</td>\n",
       "      <td>-2.90</td>\n",
       "    </tr>\n",
       "    <tr>\n",
       "      <th>9</th>\n",
       "      <td>138</td>\n",
       "      <td>15.99</td>\n",
       "    </tr>\n",
       "  </tbody>\n",
       "</table>\n",
       "</div>"
      ],
      "text/plain": [
       "   punk_id  last_prices_diff\n",
       "0        0             23.40\n",
       "1        1             29.00\n",
       "2       14              0.65\n",
       "3       33              0.00\n",
       "4       53            107.99\n",
       "5       89             -0.01\n",
       "6      116              1.20\n",
       "7      118              0.20\n",
       "8      124             -2.90\n",
       "9      138             15.99"
      ]
     },
     "execution_count": 72,
     "metadata": {},
     "output_type": "execute_result"
    }
   ],
   "source": [
    "df8 = df8a.copy()\n",
    "df8['last_prices_diff'] = (df8a['last_price']) - (df8b['previous_price'])\n",
    "df8.drop(['last_price'], axis=1, inplace=True)\n",
    "df8.head(10)"
   ]
  },
  {
   "cell_type": "code",
   "execution_count": 73,
   "id": "86f686b6-53c8-4b2c-b8a3-58b9a6000b58",
   "metadata": {},
   "outputs": [],
   "source": [
    "try:\n",
    "    query = \"\"\"SELECT date, amount, punk_id \n",
    "    FROM transaction\n",
    "    WHERE type = 'Sold';\"\"\"\n",
    "    df9 = pd.read_sql(query,connection)\n",
    "except Exception as e:\n",
    "    cursor.close()\n",
    "    print(str(e))"
   ]
  },
  {
   "cell_type": "code",
   "execution_count": 74,
   "id": "adc119af-826f-475e-86e4-a349da528dbe",
   "metadata": {},
   "outputs": [],
   "source": [
    "#last price\n",
    "df9 = df9.groupby('punk_id').head(1)\n",
    "df9 = df9.reset_index(drop=True)"
   ]
  },
  {
   "cell_type": "code",
   "execution_count": 75,
   "id": "4fc2f461-2c2b-4e93-934e-a7446fb845a6",
   "metadata": {},
   "outputs": [
    {
     "data": {
      "text/html": [
       "<div>\n",
       "<style scoped>\n",
       "    .dataframe tbody tr th:only-of-type {\n",
       "        vertical-align: middle;\n",
       "    }\n",
       "\n",
       "    .dataframe tbody tr th {\n",
       "        vertical-align: top;\n",
       "    }\n",
       "\n",
       "    .dataframe thead th {\n",
       "        text-align: right;\n",
       "    }\n",
       "</style>\n",
       "<table border=\"1\" class=\"dataframe\">\n",
       "  <thead>\n",
       "    <tr style=\"text-align: right;\">\n",
       "      <th></th>\n",
       "      <th>last_date</th>\n",
       "      <th>last_price</th>\n",
       "      <th>punk_id</th>\n",
       "    </tr>\n",
       "  </thead>\n",
       "  <tbody>\n",
       "    <tr>\n",
       "      <th>0</th>\n",
       "      <td>2018-11-30</td>\n",
       "      <td>25.0</td>\n",
       "      <td>0</td>\n",
       "    </tr>\n",
       "    <tr>\n",
       "      <th>1</th>\n",
       "      <td>2020-11-30</td>\n",
       "      <td>60.0</td>\n",
       "      <td>1</td>\n",
       "    </tr>\n",
       "    <tr>\n",
       "      <th>2</th>\n",
       "      <td>2018-12-07</td>\n",
       "      <td>2.5</td>\n",
       "      <td>14</td>\n",
       "    </tr>\n",
       "  </tbody>\n",
       "</table>\n",
       "</div>"
      ],
      "text/plain": [
       "    last_date  last_price  punk_id\n",
       "0  2018-11-30        25.0        0\n",
       "1  2020-11-30        60.0        1\n",
       "2  2018-12-07         2.5       14"
      ]
     },
     "execution_count": 75,
     "metadata": {},
     "output_type": "execute_result"
    }
   ],
   "source": [
    "df9.rename(columns={'amount': 'last_price','date': 'last_date'}, inplace=True)\n",
    "df9.head(3)"
   ]
  },
  {
   "cell_type": "code",
   "execution_count": 76,
   "id": "e1a5dc31-31d1-4a64-8e6d-10bf0f7022bf",
   "metadata": {},
   "outputs": [
    {
     "name": "stdout",
     "output_type": "stream",
     "text": [
      "Total time of CryptoPunks project 1662 days, 0:00:00\n"
     ]
    }
   ],
   "source": [
    "import datetime\n",
    "x = datetime.date(2022,1,10)\n",
    "y = datetime.date(2017,6,23)\n",
    "print('Total time of CryptoPunks project', x-y)"
   ]
  },
  {
   "cell_type": "code",
   "execution_count": 77,
   "id": "e3fe8131-71c6-4618-926e-912a50152722",
   "metadata": {},
   "outputs": [
    {
     "data": {
      "text/html": [
       "<div>\n",
       "<style scoped>\n",
       "    .dataframe tbody tr th:only-of-type {\n",
       "        vertical-align: middle;\n",
       "    }\n",
       "\n",
       "    .dataframe tbody tr th {\n",
       "        vertical-align: top;\n",
       "    }\n",
       "\n",
       "    .dataframe thead th {\n",
       "        text-align: right;\n",
       "    }\n",
       "</style>\n",
       "<table border=\"1\" class=\"dataframe\">\n",
       "  <thead>\n",
       "    <tr style=\"text-align: right;\">\n",
       "      <th></th>\n",
       "      <th>punk_id</th>\n",
       "      <th>date_diff</th>\n",
       "    </tr>\n",
       "  </thead>\n",
       "  <tbody>\n",
       "    <tr>\n",
       "      <th>0</th>\n",
       "      <td>0</td>\n",
       "      <td>1137 days</td>\n",
       "    </tr>\n",
       "    <tr>\n",
       "      <th>1</th>\n",
       "      <td>1</td>\n",
       "      <td>406 days</td>\n",
       "    </tr>\n",
       "    <tr>\n",
       "      <th>2</th>\n",
       "      <td>14</td>\n",
       "      <td>1130 days</td>\n",
       "    </tr>\n",
       "  </tbody>\n",
       "</table>\n",
       "</div>"
      ],
      "text/plain": [
       "   punk_id date_diff\n",
       "0        0 1137 days\n",
       "1        1  406 days\n",
       "2       14 1130 days"
      ]
     },
     "execution_count": 77,
     "metadata": {},
     "output_type": "execute_result"
    }
   ],
   "source": [
    "df9['date_diff'] = x - (df9['last_date'])\n",
    "df9.drop(['last_price','last_date'], axis=1, inplace=True)\n",
    "df9.head(3)"
   ]
  },
  {
   "cell_type": "code",
   "execution_count": 78,
   "id": "0f7c159c-c490-4036-9abf-80b1d68513e1",
   "metadata": {},
   "outputs": [
    {
     "data": {
      "text/html": [
       "<div>\n",
       "<style scoped>\n",
       "    .dataframe tbody tr th:only-of-type {\n",
       "        vertical-align: middle;\n",
       "    }\n",
       "\n",
       "    .dataframe tbody tr th {\n",
       "        vertical-align: top;\n",
       "    }\n",
       "\n",
       "    .dataframe thead th {\n",
       "        text-align: right;\n",
       "    }\n",
       "</style>\n",
       "<table border=\"1\" class=\"dataframe\">\n",
       "  <thead>\n",
       "    <tr style=\"text-align: right;\">\n",
       "      <th></th>\n",
       "      <th>punk_id</th>\n",
       "      <th>date_diff</th>\n",
       "    </tr>\n",
       "  </thead>\n",
       "  <tbody>\n",
       "    <tr>\n",
       "      <th>0</th>\n",
       "      <td>0</td>\n",
       "      <td>1137</td>\n",
       "    </tr>\n",
       "    <tr>\n",
       "      <th>1</th>\n",
       "      <td>1</td>\n",
       "      <td>406</td>\n",
       "    </tr>\n",
       "    <tr>\n",
       "      <th>2</th>\n",
       "      <td>14</td>\n",
       "      <td>1130</td>\n",
       "    </tr>\n",
       "  </tbody>\n",
       "</table>\n",
       "</div>"
      ],
      "text/plain": [
       "   punk_id  date_diff\n",
       "0        0       1137\n",
       "1        1        406\n",
       "2       14       1130"
      ]
     },
     "execution_count": 78,
     "metadata": {},
     "output_type": "execute_result"
    }
   ],
   "source": [
    "df9['date_diff'] = df9['date_diff'].dt.days\n",
    "df9.head(3)"
   ]
  },
  {
   "cell_type": "markdown",
   "id": "cd8ac5eb-12e0-465e-a130-dd60cef71311",
   "metadata": {},
   "source": [
    "#### Combine to final dataframe"
   ]
  },
  {
   "cell_type": "code",
   "execution_count": 37,
   "id": "35f117b2-2569-422a-82e1-452a014eb9a9",
   "metadata": {},
   "outputs": [
    {
     "data": {
      "text/html": [
       "<div>\n",
       "<style scoped>\n",
       "    .dataframe tbody tr th:only-of-type {\n",
       "        vertical-align: middle;\n",
       "    }\n",
       "\n",
       "    .dataframe tbody tr th {\n",
       "        vertical-align: top;\n",
       "    }\n",
       "\n",
       "    .dataframe thead th {\n",
       "        text-align: right;\n",
       "    }\n",
       "</style>\n",
       "<table border=\"1\" class=\"dataframe\">\n",
       "  <thead>\n",
       "    <tr style=\"text-align: right;\">\n",
       "      <th></th>\n",
       "      <th>punk_id</th>\n",
       "      <th>skin_id</th>\n",
       "      <th>type_id</th>\n",
       "      <th>rarest_rank</th>\n",
       "      <th>total_att</th>\n",
       "      <th>last_price</th>\n",
       "      <th>num_sold_trans</th>\n",
       "      <th>total_sold_trans</th>\n",
       "      <th>num_trans</th>\n",
       "      <th>highest_price</th>\n",
       "      <th>last_prices_diff</th>\n",
       "      <th>date_diff</th>\n",
       "    </tr>\n",
       "  </thead>\n",
       "  <tbody>\n",
       "    <tr>\n",
       "      <th>0</th>\n",
       "      <td>0</td>\n",
       "      <td>6</td>\n",
       "      <td>3</td>\n",
       "      <td>2118</td>\n",
       "      <td>3</td>\n",
       "      <td>25.0</td>\n",
       "      <td>3.0</td>\n",
       "      <td>27.58</td>\n",
       "      <td>40</td>\n",
       "      <td>25.0</td>\n",
       "      <td>23.4</td>\n",
       "      <td>1137.0</td>\n",
       "    </tr>\n",
       "    <tr>\n",
       "      <th>1</th>\n",
       "      <td>1</td>\n",
       "      <td>4</td>\n",
       "      <td>4</td>\n",
       "      <td>4337</td>\n",
       "      <td>2</td>\n",
       "      <td>60.0</td>\n",
       "      <td>3.0</td>\n",
       "      <td>91.42</td>\n",
       "      <td>63</td>\n",
       "      <td>60.0</td>\n",
       "      <td>29.0</td>\n",
       "      <td>406.0</td>\n",
       "    </tr>\n",
       "    <tr>\n",
       "      <th>2</th>\n",
       "      <td>2</td>\n",
       "      <td>5</td>\n",
       "      <td>3</td>\n",
       "      <td>7995</td>\n",
       "      <td>1</td>\n",
       "      <td>0.0</td>\n",
       "      <td>0.0</td>\n",
       "      <td>0.00</td>\n",
       "      <td>30</td>\n",
       "      <td>0.0</td>\n",
       "      <td>0.0</td>\n",
       "      <td>1662.0</td>\n",
       "    </tr>\n",
       "  </tbody>\n",
       "</table>\n",
       "</div>"
      ],
      "text/plain": [
       "   punk_id  skin_id  type_id  rarest_rank  total_att  last_price  \\\n",
       "0        0        6        3         2118          3        25.0   \n",
       "1        1        4        4         4337          2        60.0   \n",
       "2        2        5        3         7995          1         0.0   \n",
       "\n",
       "   num_sold_trans  total_sold_trans  num_trans  highest_price  \\\n",
       "0             3.0             27.58         40           25.0   \n",
       "1             3.0             91.42         63           60.0   \n",
       "2             0.0              0.00         30            0.0   \n",
       "\n",
       "   last_prices_diff  date_diff  \n",
       "0              23.4     1137.0  \n",
       "1              29.0      406.0  \n",
       "2               0.0     1662.0  "
      ]
     },
     "execution_count": 37,
     "metadata": {},
     "output_type": "execute_result"
    }
   ],
   "source": [
    "#punks and number of attributes\n",
    "df_final = pd.merge(df1, df2, on=[\"punk_id\"])\n",
    "\n",
    "#last soldprice\n",
    "df_final = df_final.merge(df3, how='left')\n",
    "df_final['last_price'] = df_final['last_price'].fillna(0)\n",
    "\n",
    "#number of sold transactions\n",
    "df_final = df_final.merge(df4, how='left')\n",
    "df_final['num_sold_trans'] = df_final['num_sold_trans'].fillna(0)\n",
    "\n",
    "#total in sold transactions\n",
    "df_final = df_final.merge(df5, how='left')\n",
    "df_final['total_sold_trans'] = df_final['total_sold_trans'].fillna(0)\n",
    "\n",
    "#number of transactions\n",
    "df_final = df_final.merge(df6, how='left')\n",
    "df_final['num_trans'] = df_final['num_trans'].fillna(0)\n",
    "\n",
    "#highest price\n",
    "df_final = df_final.merge(df7, how='left')\n",
    "df_final['highest_price'] = df_final['highest_price'].fillna(0)\n",
    "\n",
    "#difference in last prices\n",
    "df_final = df_final.merge(df8, how='left')\n",
    "df_final['last_prices_diff'] = df_final['last_prices_diff'].fillna(0)\n",
    "\n",
    "#current hold time\n",
    "df_final = df_final.merge(df9, how='left')\n",
    "df_final['date_diff'] = df_final['date_diff'].fillna(1662)\n",
    "\n",
    "df_final.head(3)"
   ]
  },
  {
   "cell_type": "code",
   "execution_count": 38,
   "id": "2eaf23c1-15a8-495d-bbca-e966146b7807",
   "metadata": {},
   "outputs": [
    {
     "data": {
      "text/plain": [
       "4200.0"
      ]
     },
     "execution_count": 38,
     "metadata": {},
     "output_type": "execute_result"
    }
   ],
   "source": [
    "df_final['highest_price'].max()"
   ]
  },
  {
   "cell_type": "code",
   "execution_count": 39,
   "id": "c767984e-079d-4206-b6e6-d6d38ce22826",
   "metadata": {},
   "outputs": [],
   "source": [
    "df_final = df_final[df_final['last_price'] < 120]\n",
    "df_final = df_final[df_final['highest_price'] < 120]"
   ]
  },
  {
   "cell_type": "code",
   "execution_count": 40,
   "id": "62f7ded1-26c5-4108-bfa5-8717440aa60b",
   "metadata": {},
   "outputs": [
    {
     "name": "stdout",
     "output_type": "stream",
     "text": [
      "119.99 119.99\n"
     ]
    }
   ],
   "source": [
    "print(df_final['last_price'].max(),df_final['highest_price'].max())"
   ]
  },
  {
   "cell_type": "code",
   "execution_count": 42,
   "id": "e742d259-a0ea-4942-86aa-a1797737e9fc",
   "metadata": {},
   "outputs": [
    {
     "data": {
      "text/html": [
       "<div>\n",
       "<style scoped>\n",
       "    .dataframe tbody tr th:only-of-type {\n",
       "        vertical-align: middle;\n",
       "    }\n",
       "\n",
       "    .dataframe tbody tr th {\n",
       "        vertical-align: top;\n",
       "    }\n",
       "\n",
       "    .dataframe thead th {\n",
       "        text-align: right;\n",
       "    }\n",
       "</style>\n",
       "<table border=\"1\" class=\"dataframe\">\n",
       "  <thead>\n",
       "    <tr style=\"text-align: right;\">\n",
       "      <th></th>\n",
       "      <th>punk_id</th>\n",
       "      <th>skin_id</th>\n",
       "      <th>type_id</th>\n",
       "      <th>rarest_rank</th>\n",
       "      <th>total_att</th>\n",
       "      <th>last_price</th>\n",
       "      <th>num_sold_trans</th>\n",
       "      <th>total_sold_trans</th>\n",
       "      <th>num_trans</th>\n",
       "      <th>highest_price</th>\n",
       "      <th>last_prices_diff</th>\n",
       "      <th>date_diff</th>\n",
       "    </tr>\n",
       "  </thead>\n",
       "  <tbody>\n",
       "    <tr>\n",
       "      <th>0</th>\n",
       "      <td>0</td>\n",
       "      <td>6</td>\n",
       "      <td>3</td>\n",
       "      <td>2118</td>\n",
       "      <td>3</td>\n",
       "      <td>25.0</td>\n",
       "      <td>3.0</td>\n",
       "      <td>27.58</td>\n",
       "      <td>40</td>\n",
       "      <td>25.0</td>\n",
       "      <td>23.4</td>\n",
       "      <td>1137.0</td>\n",
       "    </tr>\n",
       "    <tr>\n",
       "      <th>1</th>\n",
       "      <td>1</td>\n",
       "      <td>4</td>\n",
       "      <td>4</td>\n",
       "      <td>4337</td>\n",
       "      <td>2</td>\n",
       "      <td>60.0</td>\n",
       "      <td>3.0</td>\n",
       "      <td>91.42</td>\n",
       "      <td>63</td>\n",
       "      <td>60.0</td>\n",
       "      <td>29.0</td>\n",
       "      <td>406.0</td>\n",
       "    </tr>\n",
       "    <tr>\n",
       "      <th>2</th>\n",
       "      <td>2</td>\n",
       "      <td>5</td>\n",
       "      <td>3</td>\n",
       "      <td>7995</td>\n",
       "      <td>1</td>\n",
       "      <td>0.0</td>\n",
       "      <td>0.0</td>\n",
       "      <td>0.00</td>\n",
       "      <td>30</td>\n",
       "      <td>0.0</td>\n",
       "      <td>0.0</td>\n",
       "      <td>1662.0</td>\n",
       "    </tr>\n",
       "    <tr>\n",
       "      <th>3</th>\n",
       "      <td>3</td>\n",
       "      <td>4</td>\n",
       "      <td>4</td>\n",
       "      <td>7834</td>\n",
       "      <td>3</td>\n",
       "      <td>0.0</td>\n",
       "      <td>0.0</td>\n",
       "      <td>0.00</td>\n",
       "      <td>17</td>\n",
       "      <td>0.0</td>\n",
       "      <td>0.0</td>\n",
       "      <td>1662.0</td>\n",
       "    </tr>\n",
       "    <tr>\n",
       "      <th>4</th>\n",
       "      <td>4</td>\n",
       "      <td>6</td>\n",
       "      <td>4</td>\n",
       "      <td>7189</td>\n",
       "      <td>4</td>\n",
       "      <td>0.0</td>\n",
       "      <td>0.0</td>\n",
       "      <td>0.00</td>\n",
       "      <td>12</td>\n",
       "      <td>0.0</td>\n",
       "      <td>0.0</td>\n",
       "      <td>1662.0</td>\n",
       "    </tr>\n",
       "    <tr>\n",
       "      <th>5</th>\n",
       "      <td>5</td>\n",
       "      <td>6</td>\n",
       "      <td>3</td>\n",
       "      <td>2073</td>\n",
       "      <td>3</td>\n",
       "      <td>0.0</td>\n",
       "      <td>0.0</td>\n",
       "      <td>0.00</td>\n",
       "      <td>16</td>\n",
       "      <td>0.0</td>\n",
       "      <td>0.0</td>\n",
       "      <td>1662.0</td>\n",
       "    </tr>\n",
       "    <tr>\n",
       "      <th>6</th>\n",
       "      <td>6</td>\n",
       "      <td>6</td>\n",
       "      <td>4</td>\n",
       "      <td>4174</td>\n",
       "      <td>1</td>\n",
       "      <td>0.0</td>\n",
       "      <td>0.0</td>\n",
       "      <td>0.00</td>\n",
       "      <td>13</td>\n",
       "      <td>0.0</td>\n",
       "      <td>0.0</td>\n",
       "      <td>1662.0</td>\n",
       "    </tr>\n",
       "    <tr>\n",
       "      <th>7</th>\n",
       "      <td>7</td>\n",
       "      <td>6</td>\n",
       "      <td>3</td>\n",
       "      <td>937</td>\n",
       "      <td>3</td>\n",
       "      <td>0.0</td>\n",
       "      <td>0.0</td>\n",
       "      <td>0.00</td>\n",
       "      <td>14</td>\n",
       "      <td>0.0</td>\n",
       "      <td>0.0</td>\n",
       "      <td>1662.0</td>\n",
       "    </tr>\n",
       "    <tr>\n",
       "      <th>8</th>\n",
       "      <td>8</td>\n",
       "      <td>4</td>\n",
       "      <td>4</td>\n",
       "      <td>6394</td>\n",
       "      <td>2</td>\n",
       "      <td>0.0</td>\n",
       "      <td>0.0</td>\n",
       "      <td>0.00</td>\n",
       "      <td>19</td>\n",
       "      <td>0.0</td>\n",
       "      <td>0.0</td>\n",
       "      <td>1662.0</td>\n",
       "    </tr>\n",
       "    <tr>\n",
       "      <th>9</th>\n",
       "      <td>9</td>\n",
       "      <td>6</td>\n",
       "      <td>4</td>\n",
       "      <td>1816</td>\n",
       "      <td>3</td>\n",
       "      <td>0.0</td>\n",
       "      <td>0.0</td>\n",
       "      <td>0.00</td>\n",
       "      <td>31</td>\n",
       "      <td>0.0</td>\n",
       "      <td>0.0</td>\n",
       "      <td>1662.0</td>\n",
       "    </tr>\n",
       "  </tbody>\n",
       "</table>\n",
       "</div>"
      ],
      "text/plain": [
       "   punk_id  skin_id  type_id  rarest_rank  total_att  last_price  \\\n",
       "0        0        6        3         2118          3        25.0   \n",
       "1        1        4        4         4337          2        60.0   \n",
       "2        2        5        3         7995          1         0.0   \n",
       "3        3        4        4         7834          3         0.0   \n",
       "4        4        6        4         7189          4         0.0   \n",
       "5        5        6        3         2073          3         0.0   \n",
       "6        6        6        4         4174          1         0.0   \n",
       "7        7        6        3          937          3         0.0   \n",
       "8        8        4        4         6394          2         0.0   \n",
       "9        9        6        4         1816          3         0.0   \n",
       "\n",
       "   num_sold_trans  total_sold_trans  num_trans  highest_price  \\\n",
       "0             3.0             27.58         40           25.0   \n",
       "1             3.0             91.42         63           60.0   \n",
       "2             0.0              0.00         30            0.0   \n",
       "3             0.0              0.00         17            0.0   \n",
       "4             0.0              0.00         12            0.0   \n",
       "5             0.0              0.00         16            0.0   \n",
       "6             0.0              0.00         13            0.0   \n",
       "7             0.0              0.00         14            0.0   \n",
       "8             0.0              0.00         19            0.0   \n",
       "9             0.0              0.00         31            0.0   \n",
       "\n",
       "   last_prices_diff  date_diff  \n",
       "0              23.4     1137.0  \n",
       "1              29.0      406.0  \n",
       "2               0.0     1662.0  \n",
       "3               0.0     1662.0  \n",
       "4               0.0     1662.0  \n",
       "5               0.0     1662.0  \n",
       "6               0.0     1662.0  \n",
       "7               0.0     1662.0  \n",
       "8               0.0     1662.0  \n",
       "9               0.0     1662.0  "
      ]
     },
     "execution_count": 42,
     "metadata": {},
     "output_type": "execute_result"
    }
   ],
   "source": [
    "df = df_final.loc[(df_final['type_id'] == 3) | (df_final['type_id'] == 4)]\n",
    "df.head(10)"
   ]
  },
  {
   "cell_type": "code",
   "execution_count": 43,
   "id": "7c589790-bcde-40bc-be35-fbde9bed6709",
   "metadata": {},
   "outputs": [],
   "source": [
    "df.to_csv('final_dataset.csv')"
   ]
  }
 ],
 "metadata": {
  "kernelspec": {
   "display_name": "Python 3",
   "language": "python",
   "name": "python3"
  },
  "language_info": {
   "codemirror_mode": {
    "name": "ipython",
    "version": 3
   },
   "file_extension": ".py",
   "mimetype": "text/x-python",
   "name": "python",
   "nbconvert_exporter": "python",
   "pygments_lexer": "ipython3",
   "version": "3.8.8"
  }
 },
 "nbformat": 4,
 "nbformat_minor": 5
}
