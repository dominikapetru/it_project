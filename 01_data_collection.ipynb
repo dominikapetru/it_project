{
 "cells": [
  {
   "cell_type": "markdown",
   "id": "a21c0d24-d8aa-4d0c-a747-1fa0e0490a5c",
   "metadata": {},
   "source": [
    "# Web scrapping"
   ]
  },
  {
   "cell_type": "markdown",
   "id": "1348038e-907f-441d-9928-e032d0b0f015",
   "metadata": {},
   "source": [
    "#### Imports"
   ]
  },
  {
   "cell_type": "code",
   "execution_count": 3,
   "id": "6bc621cb-7489-4991-8af5-9466e9efd5ae",
   "metadata": {},
   "outputs": [],
   "source": [
    "#dataframe\n",
    "import pandas as pd\n",
    "import numpy as np\n",
    "\n",
    "#selenium\n",
    "import selenium\n",
    "from selenium.webdriver import Firefox\n",
    "from selenium.webdriver.firefox.options import Options\n",
    "from selenium.webdriver.common.by import By\n",
    "import time\n",
    "\n",
    "import re\n",
    "\n",
    "import warnings\n",
    "warnings.filterwarnings('ignore')"
   ]
  },
  {
   "cell_type": "markdown",
   "id": "37c4a4a2-8a2f-4952-b242-b143e8bff21d",
   "metadata": {},
   "source": [
    "### 1. attribute"
   ]
  },
  {
   "cell_type": "code",
   "execution_count": 59,
   "id": "6322b5a9-2df8-4cd4-b663-8f5f9c62031d",
   "metadata": {},
   "outputs": [],
   "source": [
    "#get page with attributes\n",
    "opts = Options()\n",
    "opts.headless = True\n",
    "browser = Firefox(options=opts)\n",
    "path1 = 'https://www.larvalabs.com/cryptopunks/attributes'\n",
    "browser.get(path1)"
   ]
  },
  {
   "cell_type": "code",
   "execution_count": 60,
   "id": "80dcb2cf-86ec-4880-bdc6-5dc737df7d29",
   "metadata": {},
   "outputs": [],
   "source": [
    "table = browser.find_element(By.XPATH,'/html/body/div[2]/div/div[3]/div/div[2]/table')"
   ]
  },
  {
   "cell_type": "code",
   "execution_count": 61,
   "id": "9e448023-384a-4824-9870-96877256369c",
   "metadata": {},
   "outputs": [
    {
     "name": "stdout",
     "output_type": "stream",
     "text": [
      "['Attribute', '#', 'Avail', 'Avg Sale', 'Cheapest', 'More Examples']\n"
     ]
    }
   ],
   "source": [
    "columns=[]\n",
    "\n",
    "for element in table.find_elements(By.TAG_NAME, \"th\"):    \n",
    "    columns.append(element.text)\n",
    "    \n",
    "print(columns)"
   ]
  },
  {
   "cell_type": "code",
   "execution_count": 62,
   "id": "d1d434cc-d8ad-4f20-80ac-13a2a851b941",
   "metadata": {},
   "outputs": [],
   "source": [
    "table = browser.find_element(By.XPATH,'/html/body/div[2]/div/div[3]/div/div[2]/table/tbody')"
   ]
  },
  {
   "cell_type": "code",
   "execution_count": 63,
   "id": "1a9e330e-74b7-411f-9b98-7d064ca17447",
   "metadata": {},
   "outputs": [],
   "source": [
    "results=[]\n",
    "\n",
    "for element in table.find_elements(By.TAG_NAME, \"td\"):    \n",
    "    results.append(element.text)"
   ]
  },
  {
   "cell_type": "code",
   "execution_count": 64,
   "id": "2f0ac5d3-29b6-45f9-a759-c25335520fa9",
   "metadata": {},
   "outputs": [
    {
     "data": {
      "text/html": [
       "<div>\n",
       "<style scoped>\n",
       "    .dataframe tbody tr th:only-of-type {\n",
       "        vertical-align: middle;\n",
       "    }\n",
       "\n",
       "    .dataframe tbody tr th {\n",
       "        vertical-align: top;\n",
       "    }\n",
       "\n",
       "    .dataframe thead th {\n",
       "        text-align: right;\n",
       "    }\n",
       "</style>\n",
       "<table border=\"1\" class=\"dataframe\">\n",
       "  <thead>\n",
       "    <tr style=\"text-align: right;\">\n",
       "      <th></th>\n",
       "      <th>id</th>\n",
       "      <th>Attribute</th>\n",
       "      <th>#</th>\n",
       "      <th>Avail</th>\n",
       "      <th>Avg Sale</th>\n",
       "      <th>Cheapest</th>\n",
       "    </tr>\n",
       "  </thead>\n",
       "  <tbody>\n",
       "    <tr>\n",
       "      <th>0</th>\n",
       "      <td>0</td>\n",
       "      <td>Beanie</td>\n",
       "      <td>44</td>\n",
       "      <td>11</td>\n",
       "      <td>380.50Ξ</td>\n",
       "      <td>360Ξ</td>\n",
       "    </tr>\n",
       "    <tr>\n",
       "      <th>1</th>\n",
       "      <td>1</td>\n",
       "      <td>Choker</td>\n",
       "      <td>48</td>\n",
       "      <td>13</td>\n",
       "      <td>152Ξ</td>\n",
       "      <td>119.95Ξ</td>\n",
       "    </tr>\n",
       "    <tr>\n",
       "      <th>2</th>\n",
       "      <td>2</td>\n",
       "      <td>Pilot Helmet</td>\n",
       "      <td>54</td>\n",
       "      <td>12</td>\n",
       "      <td>0</td>\n",
       "      <td>190Ξ</td>\n",
       "    </tr>\n",
       "    <tr>\n",
       "      <th>3</th>\n",
       "      <td>3</td>\n",
       "      <td>Tiara</td>\n",
       "      <td>55</td>\n",
       "      <td>6</td>\n",
       "      <td>116.53Ξ</td>\n",
       "      <td>160Ξ</td>\n",
       "    </tr>\n",
       "    <tr>\n",
       "      <th>4</th>\n",
       "      <td>4</td>\n",
       "      <td>Orange Side</td>\n",
       "      <td>68</td>\n",
       "      <td>17</td>\n",
       "      <td>125Ξ</td>\n",
       "      <td>109.99Ξ</td>\n",
       "    </tr>\n",
       "  </tbody>\n",
       "</table>\n",
       "</div>"
      ],
      "text/plain": [
       "   id     Attribute   # Avail Avg Sale Cheapest\n",
       "0   0        Beanie  44    11  380.50Ξ     360Ξ\n",
       "1   1        Choker  48    13     152Ξ  119.95Ξ\n",
       "2   2  Pilot Helmet  54    12        0     190Ξ\n",
       "3   3         Tiara  55     6  116.53Ξ     160Ξ\n",
       "4   4   Orange Side  68    17     125Ξ  109.99Ξ"
      ]
     },
     "execution_count": 64,
     "metadata": {},
     "output_type": "execute_result"
    }
   ],
   "source": [
    "data = {}\n",
    "for i in range(6):\n",
    "    data[columns[i]]=results[i::6]\n",
    "\n",
    "df = pd.DataFrame(data)\n",
    "df.drop(columns=['More Examples'], inplace=True)\n",
    "df.insert(0, 'id', range(0, len(df)))\n",
    "df.head()"
   ]
  },
  {
   "cell_type": "code",
   "execution_count": 65,
   "id": "c571d9fd-da3d-4b87-8ca0-b29a775c9d01",
   "metadata": {
    "tags": []
   },
   "outputs": [],
   "source": [
    "df.to_csv('attribute.csv')"
   ]
  },
  {
   "cell_type": "markdown",
   "id": "8038c911-5162-42ce-a90a-014356feee8f",
   "metadata": {},
   "source": [
    "### 2. punk"
   ]
  },
  {
   "cell_type": "code",
   "execution_count": 6,
   "id": "b658a9ba-245d-4fdb-aea2-047812d2aa0c",
   "metadata": {},
   "outputs": [
    {
     "data": {
      "text/html": [
       "<div>\n",
       "<style scoped>\n",
       "    .dataframe tbody tr th:only-of-type {\n",
       "        vertical-align: middle;\n",
       "    }\n",
       "\n",
       "    .dataframe tbody tr th {\n",
       "        vertical-align: top;\n",
       "    }\n",
       "\n",
       "    .dataframe thead th {\n",
       "        text-align: right;\n",
       "    }\n",
       "</style>\n",
       "<table border=\"1\" class=\"dataframe\">\n",
       "  <thead>\n",
       "    <tr style=\"text-align: right;\">\n",
       "      <th></th>\n",
       "      <th>ranking</th>\n",
       "      <th>punk_id</th>\n",
       "      <th>attributes</th>\n",
       "      <th>punk_skin</th>\n",
       "      <th>punk_type</th>\n",
       "    </tr>\n",
       "  </thead>\n",
       "  <tbody>\n",
       "    <tr>\n",
       "      <th>0</th>\n",
       "      <td>1</td>\n",
       "      <td>&lt;a href=\"https://www.larvalabs.com/cryptopunks...</td>\n",
       "      <td>Buck Teeth 0.7800,Top Hat 1.1500,Big Beard 1.4...</td>\n",
       "      <td>Mid</td>\n",
       "      <td>Male</td>\n",
       "    </tr>\n",
       "    <tr>\n",
       "      <th>1</th>\n",
       "      <td>2</td>\n",
       "      <td>&lt;a href=\"https://www.larvalabs.com/cryptopunks...</td>\n",
       "      <td>Cowboy Hat 1.4200,Earring 24.5900</td>\n",
       "      <td>Alien</td>\n",
       "      <td>Alien</td>\n",
       "    </tr>\n",
       "    <tr>\n",
       "      <th>2</th>\n",
       "      <td>3</td>\n",
       "      <td>&lt;a href=\"https://www.larvalabs.com/cryptopunks...</td>\n",
       "      <td>Medical Mask 1.7500,Knitted Cap 4.1900,Earring...</td>\n",
       "      <td>Alien</td>\n",
       "      <td>Alien</td>\n",
       "    </tr>\n",
       "  </tbody>\n",
       "</table>\n",
       "</div>"
      ],
      "text/plain": [
       "   ranking                                            punk_id  \\\n",
       "0        1  <a href=\"https://www.larvalabs.com/cryptopunks...   \n",
       "1        2  <a href=\"https://www.larvalabs.com/cryptopunks...   \n",
       "2        3  <a href=\"https://www.larvalabs.com/cryptopunks...   \n",
       "\n",
       "                                          attributes punk_skin punk_type  \n",
       "0  Buck Teeth 0.7800,Top Hat 1.1500,Big Beard 1.4...       Mid      Male  \n",
       "1                  Cowboy Hat 1.4200,Earring 24.5900     Alien     Alien  \n",
       "2  Medical Mask 1.7500,Knitted Cap 4.1900,Earring...     Alien     Alien  "
      ]
     },
     "execution_count": 6,
     "metadata": {},
     "output_type": "execute_result"
    }
   ],
   "source": [
    "header_list = ['ranking','punk_image','punk_id','minscore','2nd','category_score','att_count_score','attributes','punk_skin','punk_type','total_score']\n",
    "df = pd.read_csv('ranks.csv', names=header_list)\n",
    "df = df[['ranking','punk_id','attributes','punk_skin','punk_type']]\n",
    "df.head(3)"
   ]
  },
  {
   "cell_type": "code",
   "execution_count": 8,
   "id": "49f38cf6-3ca8-4963-8c25-0ba6e05affa7",
   "metadata": {},
   "outputs": [],
   "source": [
    "#change of format\n",
    "pattern='\\d{1,}'\n",
    "search = []    \n",
    "for values in df['punk_id']:\n",
    "    search.append(re.search(pattern, values).group())\n",
    "\n",
    "df['id'] = search"
   ]
  },
  {
   "cell_type": "code",
   "execution_count": 9,
   "id": "7493b784-82b7-4d6d-89e8-fcfb1eef91d3",
   "metadata": {},
   "outputs": [],
   "source": [
    "#category\n",
    "conditions = [(df['punk_type'] == 'Alien'),\n",
    "              (df['punk_type'] == 'Ape'),\n",
    "              (df['punk_type'] == 'Zombie'),\n",
    "              (df['punk_type'] == 'Female'),\n",
    "              (df['punk_type'] == 'Male')]\n",
    "\n",
    "values = [0, 1, 2, 3, 4]\n",
    "df['type'] = np.select(conditions, values)"
   ]
  },
  {
   "cell_type": "code",
   "execution_count": 10,
   "id": "303bc160-b2b5-4d10-9236-686479439719",
   "metadata": {},
   "outputs": [],
   "source": [
    "#skin\n",
    "conditions = [(df['punk_skin'] == 'Alien'),\n",
    "              (df['punk_skin'] == 'Ape'),\n",
    "              (df['punk_skin'] == 'Zombie'),\n",
    "              (df['punk_skin'] == 'Albino'),\n",
    "              (df['punk_skin'] == 'Dark'),\n",
    "              (df['punk_skin'] == 'Light'),\n",
    "              (df['punk_skin'] == 'Mid')]\n",
    "\n",
    "values = [0,1, 2, 3, 4, 5, 6]\n",
    "df['skin'] = np.select(conditions, values)"
   ]
  },
  {
   "cell_type": "code",
   "execution_count": 11,
   "id": "1a693294-423a-4218-a659-6cd5fbcc7bdb",
   "metadata": {},
   "outputs": [],
   "source": [
    "df[['a','b']] = df['punk_id'].str.split(\"\\\"\", 1, expand=True)\n",
    "df[['url','d']] = df['b'].str.split(\"\\\"\", 1, expand=True)\n",
    "df.drop(columns=['a','b','d','punk_id'], axis=1, inplace=True)"
   ]
  },
  {
   "cell_type": "code",
   "execution_count": 12,
   "id": "97842589-219c-456b-adbd-b37b00c9623c",
   "metadata": {
    "tags": []
   },
   "outputs": [
    {
     "data": {
      "text/plain": [
       "10000"
      ]
     },
     "execution_count": 12,
     "metadata": {},
     "output_type": "execute_result"
    }
   ],
   "source": [
    "len(df['id'].unique())"
   ]
  },
  {
   "cell_type": "code",
   "execution_count": 13,
   "id": "eea77f78-0f73-4f5e-8dda-571e898af966",
   "metadata": {},
   "outputs": [
    {
     "data": {
      "text/html": [
       "<div>\n",
       "<style scoped>\n",
       "    .dataframe tbody tr th:only-of-type {\n",
       "        vertical-align: middle;\n",
       "    }\n",
       "\n",
       "    .dataframe tbody tr th {\n",
       "        vertical-align: top;\n",
       "    }\n",
       "\n",
       "    .dataframe thead th {\n",
       "        text-align: right;\n",
       "    }\n",
       "</style>\n",
       "<table border=\"1\" class=\"dataframe\">\n",
       "  <thead>\n",
       "    <tr style=\"text-align: right;\">\n",
       "      <th></th>\n",
       "      <th>ranking</th>\n",
       "      <th>attributes</th>\n",
       "      <th>punk_skin</th>\n",
       "      <th>punk_type</th>\n",
       "      <th>id</th>\n",
       "      <th>type</th>\n",
       "      <th>skin</th>\n",
       "      <th>url</th>\n",
       "    </tr>\n",
       "  </thead>\n",
       "  <tbody>\n",
       "    <tr>\n",
       "      <th>0</th>\n",
       "      <td>1</td>\n",
       "      <td>Buck Teeth 0.7800,Top Hat 1.1500,Big Beard 1.4...</td>\n",
       "      <td>Mid</td>\n",
       "      <td>Male</td>\n",
       "      <td>8348</td>\n",
       "      <td>4</td>\n",
       "      <td>6</td>\n",
       "      <td>https://www.larvalabs.com/cryptopunks/details/...</td>\n",
       "    </tr>\n",
       "    <tr>\n",
       "      <th>1</th>\n",
       "      <td>2</td>\n",
       "      <td>Cowboy Hat 1.4200,Earring 24.5900</td>\n",
       "      <td>Alien</td>\n",
       "      <td>Alien</td>\n",
       "      <td>3443</td>\n",
       "      <td>0</td>\n",
       "      <td>0</td>\n",
       "      <td>https://www.larvalabs.com/cryptopunks/details/...</td>\n",
       "    </tr>\n",
       "  </tbody>\n",
       "</table>\n",
       "</div>"
      ],
      "text/plain": [
       "   ranking                                         attributes punk_skin  \\\n",
       "0        1  Buck Teeth 0.7800,Top Hat 1.1500,Big Beard 1.4...       Mid   \n",
       "1        2                  Cowboy Hat 1.4200,Earring 24.5900     Alien   \n",
       "\n",
       "  punk_type    id  type  skin  \\\n",
       "0      Male  8348     4     6   \n",
       "1     Alien  3443     0     0   \n",
       "\n",
       "                                                 url  \n",
       "0  https://www.larvalabs.com/cryptopunks/details/...  \n",
       "1  https://www.larvalabs.com/cryptopunks/details/...  "
      ]
     },
     "execution_count": 13,
     "metadata": {},
     "output_type": "execute_result"
    }
   ],
   "source": [
    "df.head(2)"
   ]
  },
  {
   "cell_type": "code",
   "execution_count": 14,
   "id": "baaa1641-a899-4b15-a2c6-ae9482e1807d",
   "metadata": {},
   "outputs": [],
   "source": [
    "df.to_csv('punk.csv')"
   ]
  },
  {
   "cell_type": "markdown",
   "id": "763eeafb-3332-4c40-93b7-855686efb7fb",
   "metadata": {},
   "source": [
    "### 3. punk_attribute_relation"
   ]
  },
  {
   "cell_type": "code",
   "execution_count": 22,
   "id": "be1cd656-e62a-41af-9fba-68c820b99f7d",
   "metadata": {},
   "outputs": [],
   "source": [
    "#get page with ranking and punks\n",
    "opts = Options()\n",
    "opts.headless = True\n",
    "browser = Firefox(options=opts)"
   ]
  },
  {
   "cell_type": "code",
   "execution_count": 23,
   "id": "95834c86-7118-4cf4-b975-9ceba65000b0",
   "metadata": {},
   "outputs": [
    {
     "name": "stdout",
     "output_type": "stream",
     "text": [
      "['attribute', 'punk_id']\n"
     ]
    }
   ],
   "source": [
    "columns=['attribute','punk_id']\n",
    "print(columns)"
   ]
  },
  {
   "cell_type": "code",
   "execution_count": 57,
   "id": "01e7b045-60a3-4d45-b1e9-a2cb95a1964d",
   "metadata": {},
   "outputs": [],
   "source": [
    "results=[]"
   ]
  },
  {
   "cell_type": "code",
   "execution_count": 58,
   "id": "7da84050-9eb3-45b1-ba9d-33258be46ad0",
   "metadata": {},
   "outputs": [
    {
     "name": "stdout",
     "output_type": "stream",
     "text": [
      "done\n"
     ]
    }
   ],
   "source": [
    "for i in range(1,1001):\n",
    "    num = str(i)\n",
    "    path = 'https://www.larvalabs.com/cryptopunks/details/'+num\n",
    "    browser.get(path)\n",
    "    table = browser.find_element(By.XPATH,'//*[@id=\"punkDetails\"]/div[2]/div/div')\n",
    "    \n",
    "    for element in table.find_elements(By.TAG_NAME, \"a\"):\n",
    "        results.append(element.text)\n",
    "        results.append(num)\n",
    "    time.sleep(0.1)\n",
    "print('done')"
   ]
  },
  {
   "cell_type": "code",
   "execution_count": 41,
   "id": "f45ad1f3-11c4-488c-ac59-823e15fcc783",
   "metadata": {
    "tags": []
   },
   "outputs": [
    {
     "data": {
      "text/html": [
       "<div>\n",
       "<style scoped>\n",
       "    .dataframe tbody tr th:only-of-type {\n",
       "        vertical-align: middle;\n",
       "    }\n",
       "\n",
       "    .dataframe tbody tr th {\n",
       "        vertical-align: top;\n",
       "    }\n",
       "\n",
       "    .dataframe thead th {\n",
       "        text-align: right;\n",
       "    }\n",
       "</style>\n",
       "<table border=\"1\" class=\"dataframe\">\n",
       "  <thead>\n",
       "    <tr style=\"text-align: right;\">\n",
       "      <th></th>\n",
       "      <th>attribute</th>\n",
       "      <th>punk_id</th>\n",
       "    </tr>\n",
       "  </thead>\n",
       "  <tbody>\n",
       "    <tr>\n",
       "      <th>0</th>\n",
       "      <td>Smile</td>\n",
       "      <td>1</td>\n",
       "    </tr>\n",
       "    <tr>\n",
       "      <th>1</th>\n",
       "      <td>Mohawk</td>\n",
       "      <td>1</td>\n",
       "    </tr>\n",
       "    <tr>\n",
       "      <th>2</th>\n",
       "      <td>Wild Hair</td>\n",
       "      <td>2</td>\n",
       "    </tr>\n",
       "    <tr>\n",
       "      <th>3</th>\n",
       "      <td>Wild Hair</td>\n",
       "      <td>3</td>\n",
       "    </tr>\n",
       "    <tr>\n",
       "      <th>4</th>\n",
       "      <td>Nerd Glasses</td>\n",
       "      <td>3</td>\n",
       "    </tr>\n",
       "  </tbody>\n",
       "</table>\n",
       "</div>"
      ],
      "text/plain": [
       "      attribute punk_id\n",
       "0         Smile       1\n",
       "1        Mohawk       1\n",
       "2     Wild Hair       2\n",
       "3     Wild Hair       3\n",
       "4  Nerd Glasses       3"
      ]
     },
     "execution_count": 41,
     "metadata": {},
     "output_type": "execute_result"
    }
   ],
   "source": [
    "data = {}\n",
    "for i in range(2):\n",
    "    data[columns[i]]=results[i::2]\n",
    "\n",
    "df = pd.DataFrame(data)\n",
    "df.head()"
   ]
  },
  {
   "cell_type": "code",
   "execution_count": 43,
   "id": "8a6b4a20-bade-49a1-a04f-9a24118c05e9",
   "metadata": {},
   "outputs": [],
   "source": [
    "df.to_csv('punk_attributes_relation.csv')"
   ]
  },
  {
   "cell_type": "code",
   "execution_count": 17,
   "id": "24f9eb5c-8659-4969-9b8f-116494ede8ec",
   "metadata": {},
   "outputs": [],
   "source": [
    "df = pd.read_csv('punk_attributes_relation.csv')"
   ]
  },
  {
   "cell_type": "code",
   "execution_count": 18,
   "id": "0cb1392a-2e29-4be0-b044-1ac168a985cd",
   "metadata": {},
   "outputs": [],
   "source": [
    "#number of attributes\n",
    "values = list(range(0, 87))\n",
    "#conditions\n",
    "conditions = [(df['attribute'] == 'Beanie'),(df['attribute'] == 'Choker'),\n",
    "             (df['attribute'] == 'Pilot Helmet'),(df['attribute'] == 'Tiara'),\n",
    "             (df['attribute'] == 'Orange Side'),(df['attribute'] == 'Buck Teeth'),\n",
    "             (df['attribute'] == 'Welding Goggles'),(df['attribute'] == 'Pigtails'),\n",
    "             (df['attribute'] == 'Pink With Hat'),(df['attribute'] == 'Top Hat'),\n",
    "             (df['attribute'] == 'Spots'),(df['attribute'] == 'Rosy Cheeks'),\n",
    "             (df['attribute'] == 'Blonde Short'),(df['attribute'] == 'Wild White Hair'),\n",
    "             (df['attribute'] == 'Cowboy Hat'),(df['attribute'] == 'Wild Blonde'),\n",
    "             (df['attribute'] == 'Straight Hair Blonde'),(df['attribute'] == 'Big Beard'),\n",
    "             (df['attribute'] == 'Red Mohawk'),(df['attribute'] == 'Half Shaved'),\n",
    "             (df['attribute'] == 'Blonde Bob'),(df['attribute'] == 'Vampire Hair'),\n",
    "             (df['attribute'] == 'Clown Hair Green'),(df['attribute'] == 'Straight Hair Dark'),\n",
    "             (df['attribute'] == 'Straight Hair'),(df['attribute'] == 'Silver Chain'),\n",
    "             (df['attribute'] == 'Dark Hair'),(df['attribute'] == 'Purple Hair'),\n",
    "             (df['attribute'] == 'Gold Chain'),(df['attribute'] == 'Medical Mask'),\n",
    "             (df['attribute'] == 'Tassle Hat'),(df['attribute'] == 'Fedora'),\n",
    "             (df['attribute'] == 'Police Cap'),(df['attribute'] == 'Clown Nose'),\n",
    "             (df['attribute'] == 'Smile'),(df['attribute'] == 'Cap Forward'),\n",
    "             (df['attribute'] == 'Hoodie'),(df['attribute'] == 'Front Beard Dark'),\n",
    "             (df['attribute'] == 'Frown'),(df['attribute'] == 'Purple Eye Shadow'),   \n",
    "             (df['attribute'] == 'Handlebars'),(df['attribute'] == 'Blue Eye Shadow'),\n",
    "             (df['attribute'] == 'Green Eye Shadow'),(df['attribute'] == 'Vape'),\n",
    "             (df['attribute'] == 'Front Beard'),(df['attribute'] == 'Chinstrap'),\n",
    "             (df['attribute'] == '3D Glasses'),(df['attribute'] == 'Luxurious Beard'),\n",
    "             (df['attribute'] == 'Mustache'),(df['attribute'] == 'Normal Beard Black'),\n",
    "             (df['attribute'] == 'Normal Beard'),(df['attribute'] == 'Eye Mask'),\n",
    "             (df['attribute'] == 'Goat'),(df['attribute'] == 'Do-rag'),\n",
    "             (df['attribute'] == 'Shaved Head'),(df['attribute'] == 'Muttonchops'),\n",
    "             (df['attribute'] == 'Peak Spike'),(df['attribute'] == 'Pipe'),\n",
    "             (df['attribute'] == 'VR'),(df['attribute'] == 'Cap'),\n",
    "             (df['attribute'] == 'Small Shades'),(df['attribute'] == 'Clown Eyes Green'),\n",
    "             (df['attribute'] == 'Clown Eyes Blue'),(df['attribute'] == 'Headband'),\n",
    "             (df['attribute'] == 'Crazy Hair'),(df['attribute'] == 'Knitted Cap'),\n",
    "             (df['attribute'] == 'Mohawk Dark'),(df['attribute'] == 'Mohawk'),\n",
    "             (df['attribute'] == 'Mohawk Thin'),(df['attribute'] == 'Frumpy Hair'),\n",
    "             (df['attribute'] == 'Wild Hair'),(df['attribute'] == 'Messy Hair'),\n",
    "             (df['attribute'] == 'Eye Patch'),(df['attribute'] == 'Stringy Hair'),\n",
    "             (df['attribute'] == 'Bandana'),(df['attribute'] == 'Classic Shadesv'),\n",
    "             (df['attribute'] == 'Shadow Beard'),(df['attribute'] == 'Regular Shades'),\n",
    "             (df['attribute'] == 'Horned Rim Glasses'),(df['attribute'] == 'Big Shades'),\n",
    "             (df['attribute'] == 'Nerd Glasses'),(df['attribute'] == 'Black Lipstick'),\n",
    "             (df['attribute'] == 'Mole'),(df['attribute'] == 'Purple Lipstick'),\n",
    "             (df['attribute'] == 'Hot Lipstick'),(df['attribute'] == 'Cigarette'),\n",
    "             (df['attribute'] == 'Earring')]\n",
    "\n",
    "df['att_id'] = np.select(conditions, values)"
   ]
  },
  {
   "cell_type": "code",
   "execution_count": 19,
   "id": "deda673f-77ab-4e41-b138-8d04d70ed5e2",
   "metadata": {},
   "outputs": [],
   "source": [
    "df.drop(columns=['Unnamed: 0'], axis=1, inplace=True)"
   ]
  },
  {
   "cell_type": "code",
   "execution_count": 20,
   "id": "9171d7d1-5625-4969-9c8a-002c1c06c6a1",
   "metadata": {},
   "outputs": [
    {
     "data": {
      "text/plain": [
       "28132"
      ]
     },
     "execution_count": 20,
     "metadata": {},
     "output_type": "execute_result"
    }
   ],
   "source": [
    "len(df['punk_id'])"
   ]
  },
  {
   "cell_type": "code",
   "execution_count": 21,
   "id": "826877cd-68ea-4950-9998-555d05fe5489",
   "metadata": {},
   "outputs": [],
   "source": [
    "df.drop_duplicates(subset=None, keep='first', inplace=True)"
   ]
  },
  {
   "cell_type": "code",
   "execution_count": 22,
   "id": "37be4f4c-9355-4f89-a492-ae14c638d6b9",
   "metadata": {},
   "outputs": [
    {
     "data": {
      "text/plain": [
       "27541"
      ]
     },
     "execution_count": 22,
     "metadata": {},
     "output_type": "execute_result"
    }
   ],
   "source": [
    "len(df['punk_id'])"
   ]
  },
  {
   "cell_type": "code",
   "execution_count": 23,
   "id": "14aa5034-f6f8-49de-8201-7d0c6b67f6d8",
   "metadata": {},
   "outputs": [
    {
     "data": {
      "text/plain": [
       "9992"
      ]
     },
     "execution_count": 23,
     "metadata": {},
     "output_type": "execute_result"
    }
   ],
   "source": [
    "len(df['punk_id'].unique())"
   ]
  },
  {
   "cell_type": "code",
   "execution_count": 24,
   "id": "59356d57-12d9-489a-b888-057e92b297ee",
   "metadata": {},
   "outputs": [
    {
     "data": {
      "text/html": [
       "<div>\n",
       "<style scoped>\n",
       "    .dataframe tbody tr th:only-of-type {\n",
       "        vertical-align: middle;\n",
       "    }\n",
       "\n",
       "    .dataframe tbody tr th {\n",
       "        vertical-align: top;\n",
       "    }\n",
       "\n",
       "    .dataframe thead th {\n",
       "        text-align: right;\n",
       "    }\n",
       "</style>\n",
       "<table border=\"1\" class=\"dataframe\">\n",
       "  <thead>\n",
       "    <tr style=\"text-align: right;\">\n",
       "      <th></th>\n",
       "      <th>attribute</th>\n",
       "      <th>punk_id</th>\n",
       "      <th>att_id</th>\n",
       "    </tr>\n",
       "  </thead>\n",
       "  <tbody>\n",
       "    <tr>\n",
       "      <th>6203</th>\n",
       "      <td>Green Eye Shadow</td>\n",
       "      <td>0</td>\n",
       "      <td>42</td>\n",
       "    </tr>\n",
       "    <tr>\n",
       "      <th>6204</th>\n",
       "      <td>Earring</td>\n",
       "      <td>0</td>\n",
       "      <td>86</td>\n",
       "    </tr>\n",
       "    <tr>\n",
       "      <th>6205</th>\n",
       "      <td>Blonde Bob</td>\n",
       "      <td>0</td>\n",
       "      <td>20</td>\n",
       "    </tr>\n",
       "    <tr>\n",
       "      <th>27954</th>\n",
       "      <td>Peak Spike</td>\n",
       "      <td>0</td>\n",
       "      <td>56</td>\n",
       "    </tr>\n",
       "    <tr>\n",
       "      <th>27956</th>\n",
       "      <td>Normal Beard</td>\n",
       "      <td>0</td>\n",
       "      <td>50</td>\n",
       "    </tr>\n",
       "  </tbody>\n",
       "</table>\n",
       "</div>"
      ],
      "text/plain": [
       "              attribute  punk_id  att_id\n",
       "6203   Green Eye Shadow        0      42\n",
       "6204            Earring        0      86\n",
       "6205         Blonde Bob        0      20\n",
       "27954        Peak Spike        0      56\n",
       "27956      Normal Beard        0      50"
      ]
     },
     "execution_count": 24,
     "metadata": {},
     "output_type": "execute_result"
    }
   ],
   "source": [
    "df.loc[df['punk_id'] == 0]"
   ]
  },
  {
   "cell_type": "code",
   "execution_count": 25,
   "id": "5b8aed7c-f6e4-4649-abad-6fd16cdff7c2",
   "metadata": {},
   "outputs": [
    {
     "data": {
      "text/html": [
       "<div>\n",
       "<style scoped>\n",
       "    .dataframe tbody tr th:only-of-type {\n",
       "        vertical-align: middle;\n",
       "    }\n",
       "\n",
       "    .dataframe tbody tr th {\n",
       "        vertical-align: top;\n",
       "    }\n",
       "\n",
       "    .dataframe thead th {\n",
       "        text-align: right;\n",
       "    }\n",
       "</style>\n",
       "<table border=\"1\" class=\"dataframe\">\n",
       "  <thead>\n",
       "    <tr style=\"text-align: right;\">\n",
       "      <th></th>\n",
       "      <th>attribute</th>\n",
       "      <th>punk_id</th>\n",
       "      <th>att_id</th>\n",
       "    </tr>\n",
       "  </thead>\n",
       "  <tbody>\n",
       "    <tr>\n",
       "      <th>6203</th>\n",
       "      <td>Green Eye Shadow</td>\n",
       "      <td>0</td>\n",
       "      <td>42</td>\n",
       "    </tr>\n",
       "    <tr>\n",
       "      <th>6204</th>\n",
       "      <td>Earring</td>\n",
       "      <td>0</td>\n",
       "      <td>86</td>\n",
       "    </tr>\n",
       "    <tr>\n",
       "      <th>6205</th>\n",
       "      <td>Blonde Bob</td>\n",
       "      <td>0</td>\n",
       "      <td>20</td>\n",
       "    </tr>\n",
       "  </tbody>\n",
       "</table>\n",
       "</div>"
      ],
      "text/plain": [
       "             attribute  punk_id  att_id\n",
       "6203  Green Eye Shadow        0      42\n",
       "6204           Earring        0      86\n",
       "6205        Blonde Bob        0      20"
      ]
     },
     "execution_count": 25,
     "metadata": {},
     "output_type": "execute_result"
    }
   ],
   "source": [
    "df.drop([27954, 27956], inplace=True)\n",
    "df.loc[df['punk_id'] == 0]"
   ]
  },
  {
   "cell_type": "code",
   "execution_count": 26,
   "id": "6801e143-b1d4-463e-8ca7-61f26e730209",
   "metadata": {},
   "outputs": [],
   "source": [
    "df.to_csv('punk_attribute_relation.csv')"
   ]
  },
  {
   "cell_type": "markdown",
   "id": "a6af3493-693c-49d4-8850-9dbe850a1deb",
   "metadata": {},
   "source": [
    "### 4. transaction"
   ]
  },
  {
   "cell_type": "code",
   "execution_count": 2,
   "id": "00216d63-e5ac-45af-a1f7-833eab731efa",
   "metadata": {},
   "outputs": [],
   "source": [
    "#initiate browser\n",
    "opts = Options()\n",
    "opts.headless = True\n",
    "browser = Firefox(options=opts)"
   ]
  },
  {
   "cell_type": "code",
   "execution_count": 5,
   "id": "25015a15-4521-4fce-85fb-fe1589adefd5",
   "metadata": {},
   "outputs": [],
   "source": [
    "results=[]"
   ]
  },
  {
   "cell_type": "code",
   "execution_count": 3,
   "id": "129c241f-c61f-47a4-b769-d1634867b936",
   "metadata": {},
   "outputs": [
    {
     "name": "stdout",
     "output_type": "stream",
     "text": [
      "['1', '2', '3', '4', '5', '6', '7', '8', '9', '10']\n"
     ]
    }
   ],
   "source": [
    "columns=['1','2','3','4','5','6','7','8','9','10']\n",
    "print(columns)"
   ]
  },
  {
   "cell_type": "code",
   "execution_count": null,
   "id": "3c77c27e-6700-43bd-a79d-af218411a579",
   "metadata": {},
   "outputs": [],
   "source": [
    "#loop to fetch all transactions\n",
    "for i in range(0,10000):\n",
    "    num = str(i)\n",
    "    path = 'https://www.larvalabs.com/cryptopunks/details/'+ num\n",
    "    browser.get(path)\n",
    "    table = browser.find_element(By.XPATH,'//*[@id=\"punkHistory\"]/div/table/tbody')\n",
    "    \n",
    "    try:\n",
    "        for element in table.find_elements(By.TAG_NAME, \"td\"):\n",
    "            results.append(element.text)\n",
    "            results.append(num)\n",
    "    except:\n",
    "        pass\n",
    "    time.sleep(0.1) "
   ]
  },
  {
   "cell_type": "code",
   "execution_count": 112,
   "id": "26f80d2a-9c1a-4cde-b7e3-4535c4b47718",
   "metadata": {},
   "outputs": [
    {
     "data": {
      "text/html": [
       "<div>\n",
       "<style scoped>\n",
       "    .dataframe tbody tr th:only-of-type {\n",
       "        vertical-align: middle;\n",
       "    }\n",
       "\n",
       "    .dataframe tbody tr th {\n",
       "        vertical-align: top;\n",
       "    }\n",
       "\n",
       "    .dataframe thead th {\n",
       "        text-align: right;\n",
       "    }\n",
       "</style>\n",
       "<table border=\"1\" class=\"dataframe\">\n",
       "  <thead>\n",
       "    <tr style=\"text-align: right;\">\n",
       "      <th></th>\n",
       "      <th>1</th>\n",
       "      <th>2</th>\n",
       "      <th>3</th>\n",
       "      <th>4</th>\n",
       "      <th>5</th>\n",
       "      <th>6</th>\n",
       "      <th>7</th>\n",
       "      <th>8</th>\n",
       "      <th>9</th>\n",
       "      <th>10</th>\n",
       "    </tr>\n",
       "  </thead>\n",
       "  <tbody>\n",
       "    <tr>\n",
       "      <th>0</th>\n",
       "      <td>Sold</td>\n",
       "      <td>2000</td>\n",
       "      <td>0xc352b5</td>\n",
       "      <td>2000</td>\n",
       "      <td>peted.et…</td>\n",
       "      <td>2000</td>\n",
       "      <td>120Ξ ($276,121)</td>\n",
       "      <td>2000</td>\n",
       "      <td>Apr 13, 2021</td>\n",
       "      <td>2000</td>\n",
       "    </tr>\n",
       "    <tr>\n",
       "      <th>1</th>\n",
       "      <td>Offered</td>\n",
       "      <td>2000</td>\n",
       "      <td></td>\n",
       "      <td>2000</td>\n",
       "      <td></td>\n",
       "      <td>2000</td>\n",
       "      <td>120Ξ ($259,800)</td>\n",
       "      <td>2000</td>\n",
       "      <td>Apr 13, 2021</td>\n",
       "      <td>2000</td>\n",
       "    </tr>\n",
       "    <tr>\n",
       "      <th>2</th>\n",
       "      <td>Bid Withdrawn</td>\n",
       "      <td>2000</td>\n",
       "      <td>daddykal…</td>\n",
       "      <td>2000</td>\n",
       "      <td></td>\n",
       "      <td>2000</td>\n",
       "      <td>72.69Ξ ($156,217)</td>\n",
       "      <td>2000</td>\n",
       "      <td>Apr 12, 2021</td>\n",
       "      <td>2000</td>\n",
       "    </tr>\n",
       "    <tr>\n",
       "      <th>3</th>\n",
       "      <td>Bid</td>\n",
       "      <td>2000</td>\n",
       "      <td>daddykal…</td>\n",
       "      <td>2000</td>\n",
       "      <td></td>\n",
       "      <td>2000</td>\n",
       "      <td>72.69Ξ ($156,126)</td>\n",
       "      <td>2000</td>\n",
       "      <td>Apr 12, 2021</td>\n",
       "      <td>2000</td>\n",
       "    </tr>\n",
       "    <tr>\n",
       "      <th>4</th>\n",
       "      <td>Bid Withdrawn</td>\n",
       "      <td>2000</td>\n",
       "      <td>caff.eth</td>\n",
       "      <td>2000</td>\n",
       "      <td></td>\n",
       "      <td>2000</td>\n",
       "      <td>50Ξ ($86,742)</td>\n",
       "      <td>2000</td>\n",
       "      <td>Feb 16, 2021</td>\n",
       "      <td>2000</td>\n",
       "    </tr>\n",
       "  </tbody>\n",
       "</table>\n",
       "</div>"
      ],
      "text/plain": [
       "               1     2          3     4          5     6                  7  \\\n",
       "0           Sold  2000   0xc352b5  2000  peted.et…  2000    120Ξ ($276,121)   \n",
       "1        Offered  2000             2000             2000    120Ξ ($259,800)   \n",
       "2  Bid Withdrawn  2000  daddykal…  2000             2000  72.69Ξ ($156,217)   \n",
       "3            Bid  2000  daddykal…  2000             2000  72.69Ξ ($156,126)   \n",
       "4  Bid Withdrawn  2000   caff.eth  2000             2000      50Ξ ($86,742)   \n",
       "\n",
       "      8             9    10  \n",
       "0  2000  Apr 13, 2021  2000  \n",
       "1  2000  Apr 13, 2021  2000  \n",
       "2  2000  Apr 12, 2021  2000  \n",
       "3  2000  Apr 12, 2021  2000  \n",
       "4  2000  Feb 16, 2021  2000  "
      ]
     },
     "execution_count": 112,
     "metadata": {},
     "output_type": "execute_result"
    }
   ],
   "source": [
    "data = {}\n",
    "for i in range(10):\n",
    "    data[columns[i]]=results[i::10]\n",
    "\n",
    "df = pd.DataFrame(data)\n",
    "df = df.iloc[1: , :]\n",
    "df.reset_index(inplace=True, drop=True)\n",
    "df.head()"
   ]
  },
  {
   "cell_type": "code",
   "execution_count": 29,
   "id": "d1a8c5ee-a1d7-40fa-a9a8-b66a3b68540d",
   "metadata": {},
   "outputs": [],
   "source": [
    "df.to_csv('transaction_all_data.csv')"
   ]
  },
  {
   "cell_type": "code",
   "execution_count": 96,
   "id": "fb108d2e-ffcc-4daf-8775-d23ecfb4c104",
   "metadata": {},
   "outputs": [
    {
     "data": {
      "text/html": [
       "<div>\n",
       "<style scoped>\n",
       "    .dataframe tbody tr th:only-of-type {\n",
       "        vertical-align: middle;\n",
       "    }\n",
       "\n",
       "    .dataframe tbody tr th {\n",
       "        vertical-align: top;\n",
       "    }\n",
       "\n",
       "    .dataframe thead th {\n",
       "        text-align: right;\n",
       "    }\n",
       "</style>\n",
       "<table border=\"1\" class=\"dataframe\">\n",
       "  <thead>\n",
       "    <tr style=\"text-align: right;\">\n",
       "      <th></th>\n",
       "      <th>Unnamed: 0</th>\n",
       "      <th>Unnamed: 0.1</th>\n",
       "      <th>1</th>\n",
       "      <th>2</th>\n",
       "      <th>3</th>\n",
       "      <th>4</th>\n",
       "      <th>5</th>\n",
       "      <th>6</th>\n",
       "      <th>7</th>\n",
       "      <th>8</th>\n",
       "      <th>9</th>\n",
       "      <th>10</th>\n",
       "    </tr>\n",
       "  </thead>\n",
       "  <tbody>\n",
       "    <tr>\n",
       "      <th>0</th>\n",
       "      <td>0</td>\n",
       "      <td>0</td>\n",
       "      <td>Bid</td>\n",
       "      <td>0</td>\n",
       "      <td>0xe73a1d</td>\n",
       "      <td>0</td>\n",
       "      <td>NaN</td>\n",
       "      <td>0</td>\n",
       "      <td>321Ξ ($1.14M)</td>\n",
       "      <td>0</td>\n",
       "      <td>Sep 01, 2021</td>\n",
       "      <td>0</td>\n",
       "    </tr>\n",
       "    <tr>\n",
       "      <th>1</th>\n",
       "      <td>1</td>\n",
       "      <td>1</td>\n",
       "      <td>Bid Withdrawn</td>\n",
       "      <td>0</td>\n",
       "      <td>ethmania…</td>\n",
       "      <td>0</td>\n",
       "      <td>NaN</td>\n",
       "      <td>0</td>\n",
       "      <td>320Ξ ($1.11M)</td>\n",
       "      <td>0</td>\n",
       "      <td>Sep 01, 2021</td>\n",
       "      <td>0</td>\n",
       "    </tr>\n",
       "    <tr>\n",
       "      <th>2</th>\n",
       "      <td>2</td>\n",
       "      <td>2</td>\n",
       "      <td>Bid</td>\n",
       "      <td>0</td>\n",
       "      <td>ethmania…</td>\n",
       "      <td>0</td>\n",
       "      <td>NaN</td>\n",
       "      <td>0</td>\n",
       "      <td>320Ξ ($1.1M)</td>\n",
       "      <td>0</td>\n",
       "      <td>Sep 01, 2021</td>\n",
       "      <td>0</td>\n",
       "    </tr>\n",
       "  </tbody>\n",
       "</table>\n",
       "</div>"
      ],
      "text/plain": [
       "   Unnamed: 0  Unnamed: 0.1              1  2          3  4    5  6  \\\n",
       "0           0             0            Bid  0   0xe73a1d  0  NaN  0   \n",
       "1           1             1  Bid Withdrawn  0  ethmania…  0  NaN  0   \n",
       "2           2             2            Bid  0  ethmania…  0  NaN  0   \n",
       "\n",
       "               7  8             9  10  \n",
       "0  321Ξ ($1.14M)  0  Sep 01, 2021   0  \n",
       "1  320Ξ ($1.11M)  0  Sep 01, 2021   0  \n",
       "2   320Ξ ($1.1M)  0  Sep 01, 2021   0  "
      ]
     },
     "execution_count": 96,
     "metadata": {},
     "output_type": "execute_result"
    }
   ],
   "source": [
    "df = pd.read_csv('transaction_all_data.csv')\n",
    "df.head(3)"
   ]
  },
  {
   "cell_type": "code",
   "execution_count": 97,
   "id": "6d70c80b-6831-451a-a61c-fef8a45e6210",
   "metadata": {},
   "outputs": [
    {
     "data": {
      "text/html": [
       "<div>\n",
       "<style scoped>\n",
       "    .dataframe tbody tr th:only-of-type {\n",
       "        vertical-align: middle;\n",
       "    }\n",
       "\n",
       "    .dataframe tbody tr th {\n",
       "        vertical-align: top;\n",
       "    }\n",
       "\n",
       "    .dataframe thead th {\n",
       "        text-align: right;\n",
       "    }\n",
       "</style>\n",
       "<table border=\"1\" class=\"dataframe\">\n",
       "  <thead>\n",
       "    <tr style=\"text-align: right;\">\n",
       "      <th></th>\n",
       "      <th>type</th>\n",
       "      <th>7</th>\n",
       "      <th>9</th>\n",
       "      <th>punk_id</th>\n",
       "      <th>id</th>\n",
       "    </tr>\n",
       "  </thead>\n",
       "  <tbody>\n",
       "    <tr>\n",
       "      <th>0</th>\n",
       "      <td>Bid</td>\n",
       "      <td>321Ξ ($1.14M)</td>\n",
       "      <td>Sep 01, 2021</td>\n",
       "      <td>0</td>\n",
       "      <td>0</td>\n",
       "    </tr>\n",
       "    <tr>\n",
       "      <th>1</th>\n",
       "      <td>Bid Withdrawn</td>\n",
       "      <td>320Ξ ($1.11M)</td>\n",
       "      <td>Sep 01, 2021</td>\n",
       "      <td>0</td>\n",
       "      <td>1</td>\n",
       "    </tr>\n",
       "    <tr>\n",
       "      <th>2</th>\n",
       "      <td>Bid</td>\n",
       "      <td>320Ξ ($1.1M)</td>\n",
       "      <td>Sep 01, 2021</td>\n",
       "      <td>0</td>\n",
       "      <td>2</td>\n",
       "    </tr>\n",
       "  </tbody>\n",
       "</table>\n",
       "</div>"
      ],
      "text/plain": [
       "            type              7             9  punk_id  id\n",
       "0            Bid  321Ξ ($1.14M)  Sep 01, 2021        0   0\n",
       "1  Bid Withdrawn  320Ξ ($1.11M)  Sep 01, 2021        0   1\n",
       "2            Bid   320Ξ ($1.1M)  Sep 01, 2021        0   2"
      ]
     },
     "execution_count": 97,
     "metadata": {},
     "output_type": "execute_result"
    }
   ],
   "source": [
    "df.drop(columns=['Unnamed: 0','Unnamed: 0.1','2','3','4','5','6','8'], axis=1, inplace=True)\n",
    "df.drop(df[df['1']=='Transfer'].index)\n",
    "df = df.rename(columns={'10':'punk_id','1':'type'})\n",
    "df['id'] = df.index\n",
    "df.head(3)"
   ]
  },
  {
   "cell_type": "code",
   "execution_count": 98,
   "id": "20637584-2d2c-411b-b585-be72bce816c9",
   "metadata": {},
   "outputs": [
    {
     "data": {
      "text/plain": [
       "type           0\n",
       "7          41114\n",
       "9              0\n",
       "punk_id        0\n",
       "id             0\n",
       "dtype: int64"
      ]
     },
     "execution_count": 98,
     "metadata": {},
     "output_type": "execute_result"
    }
   ],
   "source": [
    "df.isna().sum()"
   ]
  },
  {
   "cell_type": "code",
   "execution_count": 99,
   "id": "c7753cd9-682c-4197-a776-40c9fd825a69",
   "metadata": {},
   "outputs": [
    {
     "data": {
      "text/plain": [
       "type       0\n",
       "7          0\n",
       "9          0\n",
       "punk_id    0\n",
       "id         0\n",
       "dtype: int64"
      ]
     },
     "execution_count": 99,
     "metadata": {},
     "output_type": "execute_result"
    }
   ],
   "source": [
    "df['7'] = df['7'].fillna('0.00Ξ')\n",
    "df.isna().sum()"
   ]
  },
  {
   "cell_type": "code",
   "execution_count": 100,
   "id": "6d96772c-bff5-4b5e-a73b-58f15eac6c77",
   "metadata": {},
   "outputs": [],
   "source": [
    "df.reset_index(drop=True)\n",
    "df[['amount','b']] = df['7'].str.split(\"Ξ\", 1, expand=True)\n",
    "df.drop(columns=['b'], axis=1, inplace=True)"
   ]
  },
  {
   "cell_type": "code",
   "execution_count": 101,
   "id": "210f4564-b94b-4167-a4fa-07e6b9fb71e5",
   "metadata": {},
   "outputs": [
    {
     "data": {
      "text/plain": [
       "type       0\n",
       "7          0\n",
       "9          0\n",
       "punk_id    0\n",
       "id         0\n",
       "amount     0\n",
       "dtype: int64"
      ]
     },
     "execution_count": 101,
     "metadata": {},
     "output_type": "execute_result"
    }
   ],
   "source": [
    "df.isna().sum()"
   ]
  },
  {
   "cell_type": "code",
   "execution_count": 102,
   "id": "363e6716-abe7-4673-8933-ebdcbd78779c",
   "metadata": {},
   "outputs": [
    {
     "data": {
      "text/html": [
       "<div>\n",
       "<style scoped>\n",
       "    .dataframe tbody tr th:only-of-type {\n",
       "        vertical-align: middle;\n",
       "    }\n",
       "\n",
       "    .dataframe tbody tr th {\n",
       "        vertical-align: top;\n",
       "    }\n",
       "\n",
       "    .dataframe thead th {\n",
       "        text-align: right;\n",
       "    }\n",
       "</style>\n",
       "<table border=\"1\" class=\"dataframe\">\n",
       "  <thead>\n",
       "    <tr style=\"text-align: right;\">\n",
       "      <th></th>\n",
       "      <th>type</th>\n",
       "      <th>7</th>\n",
       "      <th>9</th>\n",
       "      <th>punk_id</th>\n",
       "      <th>id</th>\n",
       "      <th>amount</th>\n",
       "    </tr>\n",
       "  </thead>\n",
       "  <tbody>\n",
       "    <tr>\n",
       "      <th>34950</th>\n",
       "      <td>Offer Withdrawn</td>\n",
       "      <td>0.00Ξ</td>\n",
       "      <td>Apr 16, 2021</td>\n",
       "      <td>2484</td>\n",
       "      <td>34950</td>\n",
       "      <td>0.00</td>\n",
       "    </tr>\n",
       "    <tr>\n",
       "      <th>34951</th>\n",
       "      <td>Bid Withdrawn</td>\n",
       "      <td>345Ξ ($847,627)</td>\n",
       "      <td>Apr 15, 2021</td>\n",
       "      <td>2484</td>\n",
       "      <td>34951</td>\n",
       "      <td>345</td>\n",
       "    </tr>\n",
       "    <tr>\n",
       "      <th>34952</th>\n",
       "      <td>Offered</td>\n",
       "      <td>650Ξ ($1.59M)</td>\n",
       "      <td>Apr 15, 2021</td>\n",
       "      <td>2484</td>\n",
       "      <td>34952</td>\n",
       "      <td>650</td>\n",
       "    </tr>\n",
       "    <tr>\n",
       "      <th>34953</th>\n",
       "      <td>Bid</td>\n",
       "      <td>345Ξ ($836,370)</td>\n",
       "      <td>Apr 15, 2021</td>\n",
       "      <td>2484</td>\n",
       "      <td>34953</td>\n",
       "      <td>345</td>\n",
       "    </tr>\n",
       "    <tr>\n",
       "      <th>34954</th>\n",
       "      <td>Offered</td>\n",
       "      <td>850Ξ ($2.06M)</td>\n",
       "      <td>Apr 15, 2021</td>\n",
       "      <td>2484</td>\n",
       "      <td>34954</td>\n",
       "      <td>850</td>\n",
       "    </tr>\n",
       "  </tbody>\n",
       "</table>\n",
       "</div>"
      ],
      "text/plain": [
       "                  type                7             9  punk_id     id amount\n",
       "34950  Offer Withdrawn            0.00Ξ  Apr 16, 2021     2484  34950   0.00\n",
       "34951    Bid Withdrawn  345Ξ ($847,627)  Apr 15, 2021     2484  34951    345\n",
       "34952          Offered    650Ξ ($1.59M)  Apr 15, 2021     2484  34952    650\n",
       "34953              Bid  345Ξ ($836,370)  Apr 15, 2021     2484  34953    345\n",
       "34954          Offered    850Ξ ($2.06M)  Apr 15, 2021     2484  34954    850"
      ]
     },
     "execution_count": 102,
     "metadata": {},
     "output_type": "execute_result"
    }
   ],
   "source": [
    "#change of format\n",
    "pattern='\\d.{0,}'\n",
    "search = []    \n",
    "for values in df['amount']:\n",
    "    try:\n",
    "        search.append(re.search(pattern, values).group())\n",
    "    except:\n",
    "        search.append(values)\n",
    "df['amount'] = search\n",
    "df[34950:34955]"
   ]
  },
  {
   "cell_type": "code",
   "execution_count": 103,
   "id": "8a117535-0ee9-4524-9b2f-3fe879d15cf4",
   "metadata": {
    "tags": []
   },
   "outputs": [
    {
     "data": {
      "text/plain": [
       "177730"
      ]
     },
     "execution_count": 103,
     "metadata": {},
     "output_type": "execute_result"
    }
   ],
   "source": [
    "len(df)"
   ]
  },
  {
   "cell_type": "code",
   "execution_count": 104,
   "id": "35b62b03-a88d-47c1-a73a-1859fef23575",
   "metadata": {},
   "outputs": [
    {
     "data": {
      "text/plain": [
       "828"
      ]
     },
     "execution_count": 104,
     "metadata": {},
     "output_type": "execute_result"
    }
   ],
   "source": [
    "boolean_findings1 = df['amount'].str.contains('K|M|B|T|Y')\n",
    "total_occurence1 = boolean_findings1.sum()\n",
    "total_occurence1"
   ]
  },
  {
   "cell_type": "code",
   "execution_count": 105,
   "id": "962f0926-9217-42ef-8414-1dc5618199da",
   "metadata": {},
   "outputs": [
    {
     "data": {
      "text/plain": [
       "0         False\n",
       "1         False\n",
       "2         False\n",
       "3         False\n",
       "4         False\n",
       "          ...  \n",
       "177725    False\n",
       "177726    False\n",
       "177727    False\n",
       "177728    False\n",
       "177729    False\n",
       "Name: amount, Length: 177730, dtype: bool"
      ]
     },
     "execution_count": 105,
     "metadata": {},
     "output_type": "execute_result"
    }
   ],
   "source": [
    "boolean_findings1"
   ]
  },
  {
   "cell_type": "code",
   "execution_count": 106,
   "id": "c4da889f-61d6-484d-b75f-5ebc01c7264d",
   "metadata": {},
   "outputs": [
    {
     "data": {
      "text/html": [
       "<div>\n",
       "<style scoped>\n",
       "    .dataframe tbody tr th:only-of-type {\n",
       "        vertical-align: middle;\n",
       "    }\n",
       "\n",
       "    .dataframe tbody tr th {\n",
       "        vertical-align: top;\n",
       "    }\n",
       "\n",
       "    .dataframe thead th {\n",
       "        text-align: right;\n",
       "    }\n",
       "</style>\n",
       "<table border=\"1\" class=\"dataframe\">\n",
       "  <thead>\n",
       "    <tr style=\"text-align: right;\">\n",
       "      <th></th>\n",
       "      <th>type</th>\n",
       "      <th>7</th>\n",
       "      <th>9</th>\n",
       "      <th>punk_id</th>\n",
       "      <th>id</th>\n",
       "      <th>amount</th>\n",
       "      <th>choice</th>\n",
       "    </tr>\n",
       "  </thead>\n",
       "  <tbody>\n",
       "    <tr>\n",
       "      <th>34950</th>\n",
       "      <td>Offer Withdrawn</td>\n",
       "      <td>0.00Ξ</td>\n",
       "      <td>Apr 16, 2021</td>\n",
       "      <td>2484</td>\n",
       "      <td>34950</td>\n",
       "      <td>0.00</td>\n",
       "      <td>False</td>\n",
       "    </tr>\n",
       "    <tr>\n",
       "      <th>34951</th>\n",
       "      <td>Bid Withdrawn</td>\n",
       "      <td>345Ξ ($847,627)</td>\n",
       "      <td>Apr 15, 2021</td>\n",
       "      <td>2484</td>\n",
       "      <td>34951</td>\n",
       "      <td>345</td>\n",
       "      <td>False</td>\n",
       "    </tr>\n",
       "    <tr>\n",
       "      <th>34952</th>\n",
       "      <td>Offered</td>\n",
       "      <td>650Ξ ($1.59M)</td>\n",
       "      <td>Apr 15, 2021</td>\n",
       "      <td>2484</td>\n",
       "      <td>34952</td>\n",
       "      <td>650</td>\n",
       "      <td>False</td>\n",
       "    </tr>\n",
       "    <tr>\n",
       "      <th>34953</th>\n",
       "      <td>Bid</td>\n",
       "      <td>345Ξ ($836,370)</td>\n",
       "      <td>Apr 15, 2021</td>\n",
       "      <td>2484</td>\n",
       "      <td>34953</td>\n",
       "      <td>345</td>\n",
       "      <td>False</td>\n",
       "    </tr>\n",
       "    <tr>\n",
       "      <th>34954</th>\n",
       "      <td>Offered</td>\n",
       "      <td>850Ξ ($2.06M)</td>\n",
       "      <td>Apr 15, 2021</td>\n",
       "      <td>2484</td>\n",
       "      <td>34954</td>\n",
       "      <td>850</td>\n",
       "      <td>False</td>\n",
       "    </tr>\n",
       "  </tbody>\n",
       "</table>\n",
       "</div>"
      ],
      "text/plain": [
       "                  type                7             9  punk_id     id amount  \\\n",
       "34950  Offer Withdrawn            0.00Ξ  Apr 16, 2021     2484  34950   0.00   \n",
       "34951    Bid Withdrawn  345Ξ ($847,627)  Apr 15, 2021     2484  34951    345   \n",
       "34952          Offered    650Ξ ($1.59M)  Apr 15, 2021     2484  34952    650   \n",
       "34953              Bid  345Ξ ($836,370)  Apr 15, 2021     2484  34953    345   \n",
       "34954          Offered    850Ξ ($2.06M)  Apr 15, 2021     2484  34954    850   \n",
       "\n",
       "       choice  \n",
       "34950   False  \n",
       "34951   False  \n",
       "34952   False  \n",
       "34953   False  \n",
       "34954   False  "
      ]
     },
     "execution_count": 106,
     "metadata": {},
     "output_type": "execute_result"
    }
   ],
   "source": [
    "df['choice'] = boolean_findings1\n",
    "df[34950:34955]"
   ]
  },
  {
   "cell_type": "code",
   "execution_count": 107,
   "id": "42c31d84-aea2-40a8-9149-1d7859962da0",
   "metadata": {
    "tags": []
   },
   "outputs": [],
   "source": [
    "df = df[~df['amount'].str.contains(\"Y\")]\n",
    "df = df[~df['amount'].str.contains(\"Z\")]\n",
    "df = df[~df['amount'].str.contains(\"E\")]"
   ]
  },
  {
   "cell_type": "code",
   "execution_count": 108,
   "id": "b15be71a-6fb9-4d2f-9a30-8a4c1e08c465",
   "metadata": {},
   "outputs": [],
   "source": [
    "a = df.loc[df['choice'] == False]\n",
    "b = df.loc[df['choice'] == True]"
   ]
  },
  {
   "cell_type": "code",
   "execution_count": 109,
   "id": "e00f0f16-4570-434b-a39e-946ca0824d79",
   "metadata": {},
   "outputs": [
    {
     "data": {
      "text/html": [
       "<div>\n",
       "<style scoped>\n",
       "    .dataframe tbody tr th:only-of-type {\n",
       "        vertical-align: middle;\n",
       "    }\n",
       "\n",
       "    .dataframe tbody tr th {\n",
       "        vertical-align: top;\n",
       "    }\n",
       "\n",
       "    .dataframe thead th {\n",
       "        text-align: right;\n",
       "    }\n",
       "</style>\n",
       "<table border=\"1\" class=\"dataframe\">\n",
       "  <thead>\n",
       "    <tr style=\"text-align: right;\">\n",
       "      <th></th>\n",
       "      <th>type</th>\n",
       "      <th>7</th>\n",
       "      <th>9</th>\n",
       "      <th>punk_id</th>\n",
       "      <th>id</th>\n",
       "      <th>amount</th>\n",
       "      <th>choice</th>\n",
       "    </tr>\n",
       "  </thead>\n",
       "  <tbody>\n",
       "    <tr>\n",
       "      <th>1252</th>\n",
       "      <td>Offered</td>\n",
       "      <td>1.25KΞ ($3.72M)</td>\n",
       "      <td>Sep 30, 2021</td>\n",
       "      <td>155</td>\n",
       "      <td>1252</td>\n",
       "      <td>1.25K</td>\n",
       "      <td>True</td>\n",
       "    </tr>\n",
       "    <tr>\n",
       "      <th>2698</th>\n",
       "      <td>Offered</td>\n",
       "      <td>3.09KΞ ($10.82M)</td>\n",
       "      <td>Sep 17, 2021</td>\n",
       "      <td>309</td>\n",
       "      <td>2698</td>\n",
       "      <td>3.09K</td>\n",
       "      <td>True</td>\n",
       "    </tr>\n",
       "    <tr>\n",
       "      <th>2699</th>\n",
       "      <td>Offered</td>\n",
       "      <td>2.5KΞ ($8.8M)</td>\n",
       "      <td>Sep 01, 2021</td>\n",
       "      <td>309</td>\n",
       "      <td>2699</td>\n",
       "      <td>2.5K</td>\n",
       "      <td>True</td>\n",
       "    </tr>\n",
       "  </tbody>\n",
       "</table>\n",
       "</div>"
      ],
      "text/plain": [
       "         type                 7             9  punk_id    id amount  choice\n",
       "1252  Offered   1.25KΞ ($3.72M)  Sep 30, 2021      155  1252  1.25K    True\n",
       "2698  Offered  3.09KΞ ($10.82M)  Sep 17, 2021      309  2698  3.09K    True\n",
       "2699  Offered     2.5KΞ ($8.8M)  Sep 01, 2021      309  2699   2.5K    True"
      ]
     },
     "execution_count": 109,
     "metadata": {},
     "output_type": "execute_result"
    }
   ],
   "source": [
    "b.head(3)"
   ]
  },
  {
   "cell_type": "code",
   "execution_count": 110,
   "id": "cb76f36f-a6e4-415f-be7b-b02877564b1c",
   "metadata": {},
   "outputs": [],
   "source": [
    "b['amount']=b['amount'].str.replace(',','.')"
   ]
  },
  {
   "cell_type": "code",
   "execution_count": 111,
   "id": "7744e4fd-79b5-4859-8972-be6bed6ed6c7",
   "metadata": {},
   "outputs": [
    {
     "data": {
      "text/html": [
       "<div>\n",
       "<style scoped>\n",
       "    .dataframe tbody tr th:only-of-type {\n",
       "        vertical-align: middle;\n",
       "    }\n",
       "\n",
       "    .dataframe tbody tr th {\n",
       "        vertical-align: top;\n",
       "    }\n",
       "\n",
       "    .dataframe thead th {\n",
       "        text-align: right;\n",
       "    }\n",
       "</style>\n",
       "<table border=\"1\" class=\"dataframe\">\n",
       "  <thead>\n",
       "    <tr style=\"text-align: right;\">\n",
       "      <th></th>\n",
       "      <th>type</th>\n",
       "      <th>7</th>\n",
       "      <th>9</th>\n",
       "      <th>punk_id</th>\n",
       "      <th>id</th>\n",
       "      <th>amount</th>\n",
       "      <th>choice</th>\n",
       "    </tr>\n",
       "  </thead>\n",
       "  <tbody>\n",
       "    <tr>\n",
       "      <th>1252</th>\n",
       "      <td>Offered</td>\n",
       "      <td>1.25KΞ ($3.72M)</td>\n",
       "      <td>Sep 30, 2021</td>\n",
       "      <td>155</td>\n",
       "      <td>1252</td>\n",
       "      <td>1.25K</td>\n",
       "      <td>True</td>\n",
       "    </tr>\n",
       "    <tr>\n",
       "      <th>2698</th>\n",
       "      <td>Offered</td>\n",
       "      <td>3.09KΞ ($10.82M)</td>\n",
       "      <td>Sep 17, 2021</td>\n",
       "      <td>309</td>\n",
       "      <td>2698</td>\n",
       "      <td>3.09K</td>\n",
       "      <td>True</td>\n",
       "    </tr>\n",
       "    <tr>\n",
       "      <th>2699</th>\n",
       "      <td>Offered</td>\n",
       "      <td>2.5KΞ ($8.8M)</td>\n",
       "      <td>Sep 01, 2021</td>\n",
       "      <td>309</td>\n",
       "      <td>2699</td>\n",
       "      <td>2.5K</td>\n",
       "      <td>True</td>\n",
       "    </tr>\n",
       "  </tbody>\n",
       "</table>\n",
       "</div>"
      ],
      "text/plain": [
       "         type                 7             9  punk_id    id amount  choice\n",
       "1252  Offered   1.25KΞ ($3.72M)  Sep 30, 2021      155  1252  1.25K    True\n",
       "2698  Offered  3.09KΞ ($10.82M)  Sep 17, 2021      309  2698  3.09K    True\n",
       "2699  Offered     2.5KΞ ($8.8M)  Sep 01, 2021      309  2699   2.5K    True"
      ]
     },
     "execution_count": 111,
     "metadata": {},
     "output_type": "execute_result"
    }
   ],
   "source": [
    "b.head(3)"
   ]
  },
  {
   "cell_type": "code",
   "execution_count": 112,
   "id": "606e26fe-76df-4ba2-b119-4f31316d71d9",
   "metadata": {},
   "outputs": [],
   "source": [
    "c = b[b['amount'].str.contains(\"K\")]#thousand\n",
    "d = b[b['amount'].str.contains(\"M\")]#million\n",
    "e = b[b['amount'].str.contains(\"B\")]#billion\n",
    "f = b[b['amount'].str.contains(\"T\")]#trillion"
   ]
  },
  {
   "cell_type": "code",
   "execution_count": 113,
   "id": "59c83ba3-b3f0-4cee-abde-7fdf8bd089e5",
   "metadata": {},
   "outputs": [
    {
     "data": {
      "text/html": [
       "<div>\n",
       "<style scoped>\n",
       "    .dataframe tbody tr th:only-of-type {\n",
       "        vertical-align: middle;\n",
       "    }\n",
       "\n",
       "    .dataframe tbody tr th {\n",
       "        vertical-align: top;\n",
       "    }\n",
       "\n",
       "    .dataframe thead th {\n",
       "        text-align: right;\n",
       "    }\n",
       "</style>\n",
       "<table border=\"1\" class=\"dataframe\">\n",
       "  <thead>\n",
       "    <tr style=\"text-align: right;\">\n",
       "      <th></th>\n",
       "      <th>type</th>\n",
       "      <th>7</th>\n",
       "      <th>9</th>\n",
       "      <th>punk_id</th>\n",
       "      <th>id</th>\n",
       "      <th>amount</th>\n",
       "      <th>choice</th>\n",
       "    </tr>\n",
       "  </thead>\n",
       "  <tbody>\n",
       "    <tr>\n",
       "      <th>175840</th>\n",
       "      <td>Offered</td>\n",
       "      <td>2KΞ ($3.48M)</td>\n",
       "      <td>Mar 12, 2021</td>\n",
       "      <td>8909</td>\n",
       "      <td>175840</td>\n",
       "      <td>2K</td>\n",
       "      <td>True</td>\n",
       "    </tr>\n",
       "    <tr>\n",
       "      <th>177357</th>\n",
       "      <td>Offered</td>\n",
       "      <td>6.97KΞ ($22.64M)</td>\n",
       "      <td>May 05, 2021</td>\n",
       "      <td>8988</td>\n",
       "      <td>177357</td>\n",
       "      <td>6.97K</td>\n",
       "      <td>True</td>\n",
       "    </tr>\n",
       "    <tr>\n",
       "      <th>177491</th>\n",
       "      <td>Offered</td>\n",
       "      <td>25KΞ ($106.95M)</td>\n",
       "      <td>Oct 29, 2021</td>\n",
       "      <td>8993</td>\n",
       "      <td>177491</td>\n",
       "      <td>25K</td>\n",
       "      <td>True</td>\n",
       "    </tr>\n",
       "  </tbody>\n",
       "</table>\n",
       "</div>"
      ],
      "text/plain": [
       "           type                 7             9  punk_id      id amount  \\\n",
       "175840  Offered      2KΞ ($3.48M)  Mar 12, 2021     8909  175840     2K   \n",
       "177357  Offered  6.97KΞ ($22.64M)  May 05, 2021     8988  177357  6.97K   \n",
       "177491  Offered   25KΞ ($106.95M)  Oct 29, 2021     8993  177491    25K   \n",
       "\n",
       "        choice  \n",
       "175840    True  \n",
       "177357    True  \n",
       "177491    True  "
      ]
     },
     "execution_count": 113,
     "metadata": {},
     "output_type": "execute_result"
    }
   ],
   "source": [
    "c.tail(3)"
   ]
  },
  {
   "cell_type": "code",
   "execution_count": 114,
   "id": "d150c375-8940-4818-8f92-8dd60322605a",
   "metadata": {},
   "outputs": [],
   "source": [
    "c['amount']=c['amount'].str.replace('K','')\n",
    "d['amount']=d['amount'].str.replace('M','')\n",
    "e['amount']=e['amount'].str.replace('B','')\n",
    "f['amount']=f['amount'].str.replace('T','')"
   ]
  },
  {
   "cell_type": "code",
   "execution_count": 115,
   "id": "cb535e07-2ae8-4225-8d63-38c19cf36f47",
   "metadata": {},
   "outputs": [
    {
     "data": {
      "text/html": [
       "<div>\n",
       "<style scoped>\n",
       "    .dataframe tbody tr th:only-of-type {\n",
       "        vertical-align: middle;\n",
       "    }\n",
       "\n",
       "    .dataframe tbody tr th {\n",
       "        vertical-align: top;\n",
       "    }\n",
       "\n",
       "    .dataframe thead th {\n",
       "        text-align: right;\n",
       "    }\n",
       "</style>\n",
       "<table border=\"1\" class=\"dataframe\">\n",
       "  <thead>\n",
       "    <tr style=\"text-align: right;\">\n",
       "      <th></th>\n",
       "      <th>type</th>\n",
       "      <th>7</th>\n",
       "      <th>9</th>\n",
       "      <th>punk_id</th>\n",
       "      <th>id</th>\n",
       "      <th>amount</th>\n",
       "      <th>choice</th>\n",
       "    </tr>\n",
       "  </thead>\n",
       "  <tbody>\n",
       "    <tr>\n",
       "      <th>175840</th>\n",
       "      <td>Offered</td>\n",
       "      <td>2KΞ ($3.48M)</td>\n",
       "      <td>Mar 12, 2021</td>\n",
       "      <td>8909</td>\n",
       "      <td>175840</td>\n",
       "      <td>2</td>\n",
       "      <td>True</td>\n",
       "    </tr>\n",
       "    <tr>\n",
       "      <th>177357</th>\n",
       "      <td>Offered</td>\n",
       "      <td>6.97KΞ ($22.64M)</td>\n",
       "      <td>May 05, 2021</td>\n",
       "      <td>8988</td>\n",
       "      <td>177357</td>\n",
       "      <td>6.97</td>\n",
       "      <td>True</td>\n",
       "    </tr>\n",
       "    <tr>\n",
       "      <th>177491</th>\n",
       "      <td>Offered</td>\n",
       "      <td>25KΞ ($106.95M)</td>\n",
       "      <td>Oct 29, 2021</td>\n",
       "      <td>8993</td>\n",
       "      <td>177491</td>\n",
       "      <td>25</td>\n",
       "      <td>True</td>\n",
       "    </tr>\n",
       "  </tbody>\n",
       "</table>\n",
       "</div>"
      ],
      "text/plain": [
       "           type                 7             9  punk_id      id amount  \\\n",
       "175840  Offered      2KΞ ($3.48M)  Mar 12, 2021     8909  175840      2   \n",
       "177357  Offered  6.97KΞ ($22.64M)  May 05, 2021     8988  177357   6.97   \n",
       "177491  Offered   25KΞ ($106.95M)  Oct 29, 2021     8993  177491     25   \n",
       "\n",
       "        choice  \n",
       "175840    True  \n",
       "177357    True  \n",
       "177491    True  "
      ]
     },
     "execution_count": 115,
     "metadata": {},
     "output_type": "execute_result"
    }
   ],
   "source": [
    "c.tail(3)"
   ]
  },
  {
   "cell_type": "code",
   "execution_count": 116,
   "id": "f8f61509-ad25-4087-8a4d-6a7ba567137e",
   "metadata": {},
   "outputs": [],
   "source": [
    "c['amount']=c['amount'].astype(float)\n",
    "d['amount']=d['amount'].astype(float)\n",
    "e['amount']=e['amount'].astype(float)\n",
    "f['amount']=f['amount'].astype(float)"
   ]
  },
  {
   "cell_type": "code",
   "execution_count": 117,
   "id": "547c4636-b5ee-4ea0-83ed-afaf5f1f9508",
   "metadata": {},
   "outputs": [
    {
     "data": {
      "text/html": [
       "<div>\n",
       "<style scoped>\n",
       "    .dataframe tbody tr th:only-of-type {\n",
       "        vertical-align: middle;\n",
       "    }\n",
       "\n",
       "    .dataframe tbody tr th {\n",
       "        vertical-align: top;\n",
       "    }\n",
       "\n",
       "    .dataframe thead th {\n",
       "        text-align: right;\n",
       "    }\n",
       "</style>\n",
       "<table border=\"1\" class=\"dataframe\">\n",
       "  <thead>\n",
       "    <tr style=\"text-align: right;\">\n",
       "      <th></th>\n",
       "      <th>type</th>\n",
       "      <th>7</th>\n",
       "      <th>9</th>\n",
       "      <th>punk_id</th>\n",
       "      <th>id</th>\n",
       "      <th>amount</th>\n",
       "      <th>choice</th>\n",
       "    </tr>\n",
       "  </thead>\n",
       "  <tbody>\n",
       "    <tr>\n",
       "      <th>175840</th>\n",
       "      <td>Offered</td>\n",
       "      <td>2KΞ ($3.48M)</td>\n",
       "      <td>Mar 12, 2021</td>\n",
       "      <td>8909</td>\n",
       "      <td>175840</td>\n",
       "      <td>2000.0</td>\n",
       "      <td>True</td>\n",
       "    </tr>\n",
       "    <tr>\n",
       "      <th>177357</th>\n",
       "      <td>Offered</td>\n",
       "      <td>6.97KΞ ($22.64M)</td>\n",
       "      <td>May 05, 2021</td>\n",
       "      <td>8988</td>\n",
       "      <td>177357</td>\n",
       "      <td>6970.0</td>\n",
       "      <td>True</td>\n",
       "    </tr>\n",
       "    <tr>\n",
       "      <th>177491</th>\n",
       "      <td>Offered</td>\n",
       "      <td>25KΞ ($106.95M)</td>\n",
       "      <td>Oct 29, 2021</td>\n",
       "      <td>8993</td>\n",
       "      <td>177491</td>\n",
       "      <td>25000.0</td>\n",
       "      <td>True</td>\n",
       "    </tr>\n",
       "  </tbody>\n",
       "</table>\n",
       "</div>"
      ],
      "text/plain": [
       "           type                 7             9  punk_id      id   amount  \\\n",
       "175840  Offered      2KΞ ($3.48M)  Mar 12, 2021     8909  175840   2000.0   \n",
       "177357  Offered  6.97KΞ ($22.64M)  May 05, 2021     8988  177357   6970.0   \n",
       "177491  Offered   25KΞ ($106.95M)  Oct 29, 2021     8993  177491  25000.0   \n",
       "\n",
       "        choice  \n",
       "175840    True  \n",
       "177357    True  \n",
       "177491    True  "
      ]
     },
     "execution_count": 117,
     "metadata": {},
     "output_type": "execute_result"
    }
   ],
   "source": [
    "c['amount'] = c['amount'] * 1000\n",
    "d['amount'] = d['amount'] * 1000000\n",
    "e['amount'] = e['amount'] * 1000000000\n",
    "f['amount'] = f['amount'] * 1000000000000\n",
    "c.tail(3)"
   ]
  },
  {
   "cell_type": "code",
   "execution_count": 118,
   "id": "510561e6-b337-4494-81b6-ff76b5eaab73",
   "metadata": {},
   "outputs": [
    {
     "data": {
      "text/html": [
       "<div>\n",
       "<style scoped>\n",
       "    .dataframe tbody tr th:only-of-type {\n",
       "        vertical-align: middle;\n",
       "    }\n",
       "\n",
       "    .dataframe tbody tr th {\n",
       "        vertical-align: top;\n",
       "    }\n",
       "\n",
       "    .dataframe thead th {\n",
       "        text-align: right;\n",
       "    }\n",
       "</style>\n",
       "<table border=\"1\" class=\"dataframe\">\n",
       "  <thead>\n",
       "    <tr style=\"text-align: right;\">\n",
       "      <th></th>\n",
       "      <th>type</th>\n",
       "      <th>7</th>\n",
       "      <th>9</th>\n",
       "      <th>punk_id</th>\n",
       "      <th>id</th>\n",
       "      <th>amount</th>\n",
       "      <th>choice</th>\n",
       "    </tr>\n",
       "  </thead>\n",
       "  <tbody>\n",
       "    <tr>\n",
       "      <th>176893</th>\n",
       "      <td>Bid</td>\n",
       "      <td>0.12Ξ ($77)</td>\n",
       "      <td>Apr 23, 2018</td>\n",
       "      <td>8999</td>\n",
       "      <td>177725</td>\n",
       "      <td>0.12</td>\n",
       "      <td>False</td>\n",
       "    </tr>\n",
       "    <tr>\n",
       "      <th>176894</th>\n",
       "      <td>Bid Withdrawn</td>\n",
       "      <td>0.12Ξ ($44)</td>\n",
       "      <td>Apr 06, 2018</td>\n",
       "      <td>8999</td>\n",
       "      <td>177726</td>\n",
       "      <td>0.12</td>\n",
       "      <td>False</td>\n",
       "    </tr>\n",
       "    <tr>\n",
       "      <th>176895</th>\n",
       "      <td>Bid</td>\n",
       "      <td>0.12Ξ ($45)</td>\n",
       "      <td>Apr 04, 2018</td>\n",
       "      <td>8999</td>\n",
       "      <td>177727</td>\n",
       "      <td>0.12</td>\n",
       "      <td>False</td>\n",
       "    </tr>\n",
       "    <tr>\n",
       "      <th>176896</th>\n",
       "      <td>Offered</td>\n",
       "      <td>6.50Ξ ($1,406)</td>\n",
       "      <td>Jul 21, 2017</td>\n",
       "      <td>8999</td>\n",
       "      <td>177728</td>\n",
       "      <td>6.50</td>\n",
       "      <td>False</td>\n",
       "    </tr>\n",
       "    <tr>\n",
       "      <th>176897</th>\n",
       "      <td>Claimed</td>\n",
       "      <td>0.00Ξ</td>\n",
       "      <td>Jun 23, 2017</td>\n",
       "      <td>8999</td>\n",
       "      <td>177729</td>\n",
       "      <td>0.00</td>\n",
       "      <td>False</td>\n",
       "    </tr>\n",
       "  </tbody>\n",
       "</table>\n",
       "</div>"
      ],
      "text/plain": [
       "                 type               7             9  punk_id      id amount  \\\n",
       "176893            Bid     0.12Ξ ($77)  Apr 23, 2018     8999  177725   0.12   \n",
       "176894  Bid Withdrawn     0.12Ξ ($44)  Apr 06, 2018     8999  177726   0.12   \n",
       "176895            Bid     0.12Ξ ($45)  Apr 04, 2018     8999  177727   0.12   \n",
       "176896        Offered  6.50Ξ ($1,406)  Jul 21, 2017     8999  177728   6.50   \n",
       "176897        Claimed           0.00Ξ  Jun 23, 2017     8999  177729   0.00   \n",
       "\n",
       "        choice  \n",
       "176893   False  \n",
       "176894   False  \n",
       "176895   False  \n",
       "176896   False  \n",
       "176897   False  "
      ]
     },
     "execution_count": 118,
     "metadata": {},
     "output_type": "execute_result"
    }
   ],
   "source": [
    "df = pd.concat([a, c, d, e, f], ignore_index=True)\n",
    "df = df.sort_values(by=['id'])\n",
    "df.reset_index(drop=True)\n",
    "df.tail()"
   ]
  },
  {
   "cell_type": "code",
   "execution_count": 119,
   "id": "7a5b4945-1293-4de6-ad1a-f70ec08a49fd",
   "metadata": {},
   "outputs": [
    {
     "data": {
      "text/plain": [
       "type       0\n",
       "7          0\n",
       "9          0\n",
       "punk_id    0\n",
       "id         0\n",
       "amount     0\n",
       "choice     0\n",
       "dtype: int64"
      ]
     },
     "execution_count": 119,
     "metadata": {},
     "output_type": "execute_result"
    }
   ],
   "source": [
    "df.isna().sum()"
   ]
  },
  {
   "cell_type": "code",
   "execution_count": 120,
   "id": "805581c0-b44b-4828-a687-958c2f525f35",
   "metadata": {},
   "outputs": [
    {
     "data": {
      "text/html": [
       "<div>\n",
       "<style scoped>\n",
       "    .dataframe tbody tr th:only-of-type {\n",
       "        vertical-align: middle;\n",
       "    }\n",
       "\n",
       "    .dataframe tbody tr th {\n",
       "        vertical-align: top;\n",
       "    }\n",
       "\n",
       "    .dataframe thead th {\n",
       "        text-align: right;\n",
       "    }\n",
       "</style>\n",
       "<table border=\"1\" class=\"dataframe\">\n",
       "  <thead>\n",
       "    <tr style=\"text-align: right;\">\n",
       "      <th></th>\n",
       "      <th>type</th>\n",
       "      <th>7</th>\n",
       "      <th>9</th>\n",
       "      <th>punk_id</th>\n",
       "      <th>id</th>\n",
       "      <th>amount</th>\n",
       "      <th>choice</th>\n",
       "      <th>year</th>\n",
       "    </tr>\n",
       "  </thead>\n",
       "  <tbody>\n",
       "    <tr>\n",
       "      <th>0</th>\n",
       "      <td>Bid</td>\n",
       "      <td>321Ξ ($1.14M)</td>\n",
       "      <td>Sep 01, 2021</td>\n",
       "      <td>0</td>\n",
       "      <td>0</td>\n",
       "      <td>321</td>\n",
       "      <td>False</td>\n",
       "      <td>2021</td>\n",
       "    </tr>\n",
       "    <tr>\n",
       "      <th>1</th>\n",
       "      <td>Bid Withdrawn</td>\n",
       "      <td>320Ξ ($1.11M)</td>\n",
       "      <td>Sep 01, 2021</td>\n",
       "      <td>0</td>\n",
       "      <td>1</td>\n",
       "      <td>320</td>\n",
       "      <td>False</td>\n",
       "      <td>2021</td>\n",
       "    </tr>\n",
       "    <tr>\n",
       "      <th>2</th>\n",
       "      <td>Bid</td>\n",
       "      <td>320Ξ ($1.1M)</td>\n",
       "      <td>Sep 01, 2021</td>\n",
       "      <td>0</td>\n",
       "      <td>2</td>\n",
       "      <td>320</td>\n",
       "      <td>False</td>\n",
       "      <td>2021</td>\n",
       "    </tr>\n",
       "  </tbody>\n",
       "</table>\n",
       "</div>"
      ],
      "text/plain": [
       "            type              7             9  punk_id  id amount  choice  \\\n",
       "0            Bid  321Ξ ($1.14M)  Sep 01, 2021        0   0    321   False   \n",
       "1  Bid Withdrawn  320Ξ ($1.11M)  Sep 01, 2021        0   1    320   False   \n",
       "2            Bid   320Ξ ($1.1M)  Sep 01, 2021        0   2    320   False   \n",
       "\n",
       "   year  \n",
       "0  2021  \n",
       "1  2021  \n",
       "2  2021  "
      ]
     },
     "execution_count": 120,
     "metadata": {},
     "output_type": "execute_result"
    }
   ],
   "source": [
    "#change of format\n",
    "pattern='\\d{4}'\n",
    "search = []    \n",
    "for values in df['9']:\n",
    "    try:\n",
    "        search.append(re.search(pattern, values).group())\n",
    "    except:\n",
    "        search.append(re.search(pattern, values))\n",
    "df['year'] = search\n",
    "df.head(3)"
   ]
  },
  {
   "cell_type": "code",
   "execution_count": 121,
   "id": "edb829aa-a8f0-4ccf-9e46-14497da90fe4",
   "metadata": {},
   "outputs": [
    {
     "data": {
      "text/html": [
       "<div>\n",
       "<style scoped>\n",
       "    .dataframe tbody tr th:only-of-type {\n",
       "        vertical-align: middle;\n",
       "    }\n",
       "\n",
       "    .dataframe tbody tr th {\n",
       "        vertical-align: top;\n",
       "    }\n",
       "\n",
       "    .dataframe thead th {\n",
       "        text-align: right;\n",
       "    }\n",
       "</style>\n",
       "<table border=\"1\" class=\"dataframe\">\n",
       "  <thead>\n",
       "    <tr style=\"text-align: right;\">\n",
       "      <th></th>\n",
       "      <th>type</th>\n",
       "      <th>7</th>\n",
       "      <th>9</th>\n",
       "      <th>punk_id</th>\n",
       "      <th>id</th>\n",
       "      <th>amount</th>\n",
       "      <th>choice</th>\n",
       "      <th>year</th>\n",
       "      <th>day</th>\n",
       "    </tr>\n",
       "  </thead>\n",
       "  <tbody>\n",
       "    <tr>\n",
       "      <th>0</th>\n",
       "      <td>Bid</td>\n",
       "      <td>321Ξ ($1.14M)</td>\n",
       "      <td>Sep 01, 2021</td>\n",
       "      <td>0</td>\n",
       "      <td>0</td>\n",
       "      <td>321</td>\n",
       "      <td>False</td>\n",
       "      <td>2021</td>\n",
       "      <td>01</td>\n",
       "    </tr>\n",
       "    <tr>\n",
       "      <th>1</th>\n",
       "      <td>Bid Withdrawn</td>\n",
       "      <td>320Ξ ($1.11M)</td>\n",
       "      <td>Sep 01, 2021</td>\n",
       "      <td>0</td>\n",
       "      <td>1</td>\n",
       "      <td>320</td>\n",
       "      <td>False</td>\n",
       "      <td>2021</td>\n",
       "      <td>01</td>\n",
       "    </tr>\n",
       "    <tr>\n",
       "      <th>2</th>\n",
       "      <td>Bid</td>\n",
       "      <td>320Ξ ($1.1M)</td>\n",
       "      <td>Sep 01, 2021</td>\n",
       "      <td>0</td>\n",
       "      <td>2</td>\n",
       "      <td>320</td>\n",
       "      <td>False</td>\n",
       "      <td>2021</td>\n",
       "      <td>01</td>\n",
       "    </tr>\n",
       "  </tbody>\n",
       "</table>\n",
       "</div>"
      ],
      "text/plain": [
       "            type              7             9  punk_id  id amount  choice  \\\n",
       "0            Bid  321Ξ ($1.14M)  Sep 01, 2021        0   0    321   False   \n",
       "1  Bid Withdrawn  320Ξ ($1.11M)  Sep 01, 2021        0   1    320   False   \n",
       "2            Bid   320Ξ ($1.1M)  Sep 01, 2021        0   2    320   False   \n",
       "\n",
       "   year day  \n",
       "0  2021  01  \n",
       "1  2021  01  \n",
       "2  2021  01  "
      ]
     },
     "execution_count": 121,
     "metadata": {},
     "output_type": "execute_result"
    }
   ],
   "source": [
    "#change of format\n",
    "pattern='\\d{2}'\n",
    "search = []    \n",
    "for values in df['9']:\n",
    "    try:\n",
    "        search.append(re.search(pattern, values).group())\n",
    "    except:\n",
    "        search.append(re.search(pattern, values))\n",
    "df['day'] = search\n",
    "df.head(3)"
   ]
  },
  {
   "cell_type": "code",
   "execution_count": 122,
   "id": "d36e9db4-30ad-40f6-98b0-23b67b2aa49d",
   "metadata": {},
   "outputs": [
    {
     "data": {
      "text/html": [
       "<div>\n",
       "<style scoped>\n",
       "    .dataframe tbody tr th:only-of-type {\n",
       "        vertical-align: middle;\n",
       "    }\n",
       "\n",
       "    .dataframe tbody tr th {\n",
       "        vertical-align: top;\n",
       "    }\n",
       "\n",
       "    .dataframe thead th {\n",
       "        text-align: right;\n",
       "    }\n",
       "</style>\n",
       "<table border=\"1\" class=\"dataframe\">\n",
       "  <thead>\n",
       "    <tr style=\"text-align: right;\">\n",
       "      <th></th>\n",
       "      <th>type</th>\n",
       "      <th>7</th>\n",
       "      <th>9</th>\n",
       "      <th>punk_id</th>\n",
       "      <th>id</th>\n",
       "      <th>amount</th>\n",
       "      <th>choice</th>\n",
       "      <th>year</th>\n",
       "      <th>day</th>\n",
       "      <th>mon</th>\n",
       "    </tr>\n",
       "  </thead>\n",
       "  <tbody>\n",
       "    <tr>\n",
       "      <th>0</th>\n",
       "      <td>Bid</td>\n",
       "      <td>321Ξ ($1.14M)</td>\n",
       "      <td>Sep 01, 2021</td>\n",
       "      <td>0</td>\n",
       "      <td>0</td>\n",
       "      <td>321</td>\n",
       "      <td>False</td>\n",
       "      <td>2021</td>\n",
       "      <td>01</td>\n",
       "      <td>Sep</td>\n",
       "    </tr>\n",
       "    <tr>\n",
       "      <th>1</th>\n",
       "      <td>Bid Withdrawn</td>\n",
       "      <td>320Ξ ($1.11M)</td>\n",
       "      <td>Sep 01, 2021</td>\n",
       "      <td>0</td>\n",
       "      <td>1</td>\n",
       "      <td>320</td>\n",
       "      <td>False</td>\n",
       "      <td>2021</td>\n",
       "      <td>01</td>\n",
       "      <td>Sep</td>\n",
       "    </tr>\n",
       "    <tr>\n",
       "      <th>2</th>\n",
       "      <td>Bid</td>\n",
       "      <td>320Ξ ($1.1M)</td>\n",
       "      <td>Sep 01, 2021</td>\n",
       "      <td>0</td>\n",
       "      <td>2</td>\n",
       "      <td>320</td>\n",
       "      <td>False</td>\n",
       "      <td>2021</td>\n",
       "      <td>01</td>\n",
       "      <td>Sep</td>\n",
       "    </tr>\n",
       "  </tbody>\n",
       "</table>\n",
       "</div>"
      ],
      "text/plain": [
       "            type              7             9  punk_id  id amount  choice  \\\n",
       "0            Bid  321Ξ ($1.14M)  Sep 01, 2021        0   0    321   False   \n",
       "1  Bid Withdrawn  320Ξ ($1.11M)  Sep 01, 2021        0   1    320   False   \n",
       "2            Bid   320Ξ ($1.1M)  Sep 01, 2021        0   2    320   False   \n",
       "\n",
       "   year day  mon  \n",
       "0  2021  01  Sep  \n",
       "1  2021  01  Sep  \n",
       "2  2021  01  Sep  "
      ]
     },
     "execution_count": 122,
     "metadata": {},
     "output_type": "execute_result"
    }
   ],
   "source": [
    "#change of format\n",
    "pattern='\\w{3}'\n",
    "search = []    \n",
    "for values in df['9']:\n",
    "    try:\n",
    "        search.append(re.search(pattern, values).group())\n",
    "    except:\n",
    "        search.append(re.search(pattern, values))\n",
    "df['mon'] = search\n",
    "df.head(3)"
   ]
  },
  {
   "cell_type": "code",
   "execution_count": 123,
   "id": "26fc3cb2-ef3a-4f0e-a49f-c706f2ac03e5",
   "metadata": {},
   "outputs": [
    {
     "data": {
      "text/html": [
       "<div>\n",
       "<style scoped>\n",
       "    .dataframe tbody tr th:only-of-type {\n",
       "        vertical-align: middle;\n",
       "    }\n",
       "\n",
       "    .dataframe tbody tr th {\n",
       "        vertical-align: top;\n",
       "    }\n",
       "\n",
       "    .dataframe thead th {\n",
       "        text-align: right;\n",
       "    }\n",
       "</style>\n",
       "<table border=\"1\" class=\"dataframe\">\n",
       "  <thead>\n",
       "    <tr style=\"text-align: right;\">\n",
       "      <th></th>\n",
       "      <th>type</th>\n",
       "      <th>7</th>\n",
       "      <th>9</th>\n",
       "      <th>punk_id</th>\n",
       "      <th>id</th>\n",
       "      <th>amount</th>\n",
       "      <th>choice</th>\n",
       "      <th>year</th>\n",
       "      <th>day</th>\n",
       "      <th>mon</th>\n",
       "      <th>month</th>\n",
       "    </tr>\n",
       "  </thead>\n",
       "  <tbody>\n",
       "    <tr>\n",
       "      <th>0</th>\n",
       "      <td>Bid</td>\n",
       "      <td>321Ξ ($1.14M)</td>\n",
       "      <td>Sep 01, 2021</td>\n",
       "      <td>0</td>\n",
       "      <td>0</td>\n",
       "      <td>321</td>\n",
       "      <td>False</td>\n",
       "      <td>2021</td>\n",
       "      <td>01</td>\n",
       "      <td>Sep</td>\n",
       "      <td>09</td>\n",
       "    </tr>\n",
       "    <tr>\n",
       "      <th>1</th>\n",
       "      <td>Bid Withdrawn</td>\n",
       "      <td>320Ξ ($1.11M)</td>\n",
       "      <td>Sep 01, 2021</td>\n",
       "      <td>0</td>\n",
       "      <td>1</td>\n",
       "      <td>320</td>\n",
       "      <td>False</td>\n",
       "      <td>2021</td>\n",
       "      <td>01</td>\n",
       "      <td>Sep</td>\n",
       "      <td>09</td>\n",
       "    </tr>\n",
       "    <tr>\n",
       "      <th>2</th>\n",
       "      <td>Bid</td>\n",
       "      <td>320Ξ ($1.1M)</td>\n",
       "      <td>Sep 01, 2021</td>\n",
       "      <td>0</td>\n",
       "      <td>2</td>\n",
       "      <td>320</td>\n",
       "      <td>False</td>\n",
       "      <td>2021</td>\n",
       "      <td>01</td>\n",
       "      <td>Sep</td>\n",
       "      <td>09</td>\n",
       "    </tr>\n",
       "    <tr>\n",
       "      <th>3</th>\n",
       "      <td>Bid Withdrawn</td>\n",
       "      <td>263Ξ ($904,481)</td>\n",
       "      <td>Sep 01, 2021</td>\n",
       "      <td>0</td>\n",
       "      <td>3</td>\n",
       "      <td>263</td>\n",
       "      <td>False</td>\n",
       "      <td>2021</td>\n",
       "      <td>01</td>\n",
       "      <td>Sep</td>\n",
       "      <td>09</td>\n",
       "    </tr>\n",
       "    <tr>\n",
       "      <th>4</th>\n",
       "      <td>Bid</td>\n",
       "      <td>263Ξ ($849,714)</td>\n",
       "      <td>Aug 29, 2021</td>\n",
       "      <td>0</td>\n",
       "      <td>4</td>\n",
       "      <td>263</td>\n",
       "      <td>False</td>\n",
       "      <td>2021</td>\n",
       "      <td>29</td>\n",
       "      <td>Aug</td>\n",
       "      <td>08</td>\n",
       "    </tr>\n",
       "  </tbody>\n",
       "</table>\n",
       "</div>"
      ],
      "text/plain": [
       "            type                7             9  punk_id  id amount  choice  \\\n",
       "0            Bid    321Ξ ($1.14M)  Sep 01, 2021        0   0    321   False   \n",
       "1  Bid Withdrawn    320Ξ ($1.11M)  Sep 01, 2021        0   1    320   False   \n",
       "2            Bid     320Ξ ($1.1M)  Sep 01, 2021        0   2    320   False   \n",
       "3  Bid Withdrawn  263Ξ ($904,481)  Sep 01, 2021        0   3    263   False   \n",
       "4            Bid  263Ξ ($849,714)  Aug 29, 2021        0   4    263   False   \n",
       "\n",
       "   year day  mon month  \n",
       "0  2021  01  Sep    09  \n",
       "1  2021  01  Sep    09  \n",
       "2  2021  01  Sep    09  \n",
       "3  2021  01  Sep    09  \n",
       "4  2021  29  Aug    08  "
      ]
     },
     "execution_count": 123,
     "metadata": {},
     "output_type": "execute_result"
    }
   ],
   "source": [
    "#category\n",
    "conditions = [(df['mon'] == 'Jan'),\n",
    "              (df['mon'] == 'Feb'),\n",
    "              (df['mon'] == 'Mar'),\n",
    "              (df['mon'] == 'Apr'),\n",
    "              (df['mon'] == 'May'),\n",
    "              (df['mon'] == 'Jun'),\n",
    "              (df['mon'] == 'Jul'),\n",
    "              (df['mon'] == 'Aug'),\n",
    "              (df['mon'] == 'Sep'),\n",
    "              (df['mon'] == 'Oct'),\n",
    "              (df['mon'] == 'Nov'),\n",
    "              (df['mon'] == 'Dec'),]\n",
    "\n",
    "values = ['01', '02', '03', '04', '05','06','07','08','09','10','11','12']\n",
    "df['month'] = np.select(conditions, values)\n",
    "df.head(5)"
   ]
  },
  {
   "cell_type": "code",
   "execution_count": 124,
   "id": "53a79931-816b-4988-a178-6b6be8ff86e3",
   "metadata": {},
   "outputs": [
    {
     "data": {
      "text/html": [
       "<div>\n",
       "<style scoped>\n",
       "    .dataframe tbody tr th:only-of-type {\n",
       "        vertical-align: middle;\n",
       "    }\n",
       "\n",
       "    .dataframe tbody tr th {\n",
       "        vertical-align: top;\n",
       "    }\n",
       "\n",
       "    .dataframe thead th {\n",
       "        text-align: right;\n",
       "    }\n",
       "</style>\n",
       "<table border=\"1\" class=\"dataframe\">\n",
       "  <thead>\n",
       "    <tr style=\"text-align: right;\">\n",
       "      <th></th>\n",
       "      <th>type</th>\n",
       "      <th>7</th>\n",
       "      <th>9</th>\n",
       "      <th>punk_id</th>\n",
       "      <th>id</th>\n",
       "      <th>amount</th>\n",
       "      <th>choice</th>\n",
       "      <th>year</th>\n",
       "      <th>day</th>\n",
       "      <th>mon</th>\n",
       "      <th>month</th>\n",
       "      <th>date</th>\n",
       "    </tr>\n",
       "  </thead>\n",
       "  <tbody>\n",
       "    <tr>\n",
       "      <th>0</th>\n",
       "      <td>Bid</td>\n",
       "      <td>321Ξ ($1.14M)</td>\n",
       "      <td>Sep 01, 2021</td>\n",
       "      <td>0</td>\n",
       "      <td>0</td>\n",
       "      <td>321</td>\n",
       "      <td>False</td>\n",
       "      <td>2021</td>\n",
       "      <td>01</td>\n",
       "      <td>Sep</td>\n",
       "      <td>09</td>\n",
       "      <td>2021-09-01</td>\n",
       "    </tr>\n",
       "    <tr>\n",
       "      <th>1</th>\n",
       "      <td>Bid Withdrawn</td>\n",
       "      <td>320Ξ ($1.11M)</td>\n",
       "      <td>Sep 01, 2021</td>\n",
       "      <td>0</td>\n",
       "      <td>1</td>\n",
       "      <td>320</td>\n",
       "      <td>False</td>\n",
       "      <td>2021</td>\n",
       "      <td>01</td>\n",
       "      <td>Sep</td>\n",
       "      <td>09</td>\n",
       "      <td>2021-09-01</td>\n",
       "    </tr>\n",
       "    <tr>\n",
       "      <th>2</th>\n",
       "      <td>Bid</td>\n",
       "      <td>320Ξ ($1.1M)</td>\n",
       "      <td>Sep 01, 2021</td>\n",
       "      <td>0</td>\n",
       "      <td>2</td>\n",
       "      <td>320</td>\n",
       "      <td>False</td>\n",
       "      <td>2021</td>\n",
       "      <td>01</td>\n",
       "      <td>Sep</td>\n",
       "      <td>09</td>\n",
       "      <td>2021-09-01</td>\n",
       "    </tr>\n",
       "  </tbody>\n",
       "</table>\n",
       "</div>"
      ],
      "text/plain": [
       "            type              7             9  punk_id  id amount  choice  \\\n",
       "0            Bid  321Ξ ($1.14M)  Sep 01, 2021        0   0    321   False   \n",
       "1  Bid Withdrawn  320Ξ ($1.11M)  Sep 01, 2021        0   1    320   False   \n",
       "2            Bid   320Ξ ($1.1M)  Sep 01, 2021        0   2    320   False   \n",
       "\n",
       "   year day  mon month        date  \n",
       "0  2021  01  Sep    09  2021-09-01  \n",
       "1  2021  01  Sep    09  2021-09-01  \n",
       "2  2021  01  Sep    09  2021-09-01  "
      ]
     },
     "execution_count": 124,
     "metadata": {},
     "output_type": "execute_result"
    }
   ],
   "source": [
    "df['date'] = df[['year', 'month', 'day']].apply(lambda x: '-'.join(x), axis=1)\n",
    "df.head(3)"
   ]
  },
  {
   "cell_type": "code",
   "execution_count": 125,
   "id": "15a28e5a-df8e-48c0-9a23-4ba339dedfdc",
   "metadata": {},
   "outputs": [
    {
     "data": {
      "text/html": [
       "<div>\n",
       "<style scoped>\n",
       "    .dataframe tbody tr th:only-of-type {\n",
       "        vertical-align: middle;\n",
       "    }\n",
       "\n",
       "    .dataframe tbody tr th {\n",
       "        vertical-align: top;\n",
       "    }\n",
       "\n",
       "    .dataframe thead th {\n",
       "        text-align: right;\n",
       "    }\n",
       "</style>\n",
       "<table border=\"1\" class=\"dataframe\">\n",
       "  <thead>\n",
       "    <tr style=\"text-align: right;\">\n",
       "      <th></th>\n",
       "      <th>type</th>\n",
       "      <th>punk_id</th>\n",
       "      <th>id</th>\n",
       "      <th>amount</th>\n",
       "      <th>date</th>\n",
       "    </tr>\n",
       "  </thead>\n",
       "  <tbody>\n",
       "    <tr>\n",
       "      <th>0</th>\n",
       "      <td>Bid</td>\n",
       "      <td>0</td>\n",
       "      <td>0</td>\n",
       "      <td>321</td>\n",
       "      <td>2021-09-01</td>\n",
       "    </tr>\n",
       "    <tr>\n",
       "      <th>1</th>\n",
       "      <td>Bid Withdrawn</td>\n",
       "      <td>0</td>\n",
       "      <td>1</td>\n",
       "      <td>320</td>\n",
       "      <td>2021-09-01</td>\n",
       "    </tr>\n",
       "    <tr>\n",
       "      <th>2</th>\n",
       "      <td>Bid</td>\n",
       "      <td>0</td>\n",
       "      <td>2</td>\n",
       "      <td>320</td>\n",
       "      <td>2021-09-01</td>\n",
       "    </tr>\n",
       "  </tbody>\n",
       "</table>\n",
       "</div>"
      ],
      "text/plain": [
       "            type  punk_id  id amount        date\n",
       "0            Bid        0   0    321  2021-09-01\n",
       "1  Bid Withdrawn        0   1    320  2021-09-01\n",
       "2            Bid        0   2    320  2021-09-01"
      ]
     },
     "execution_count": 125,
     "metadata": {},
     "output_type": "execute_result"
    }
   ],
   "source": [
    "df.drop(columns=['7','9','year','day','mon','month','choice'], axis=1, inplace=True)\n",
    "df.head(3)"
   ]
  },
  {
   "cell_type": "code",
   "execution_count": 126,
   "id": "d52a70dd-da3e-4d8d-aa22-c7dc24683aa7",
   "metadata": {},
   "outputs": [],
   "source": [
    "df['amount'] = df['amount'].astype(float)"
   ]
  },
  {
   "cell_type": "code",
   "execution_count": 127,
   "id": "44da1e1b-beeb-453f-949e-97485d85ec37",
   "metadata": {},
   "outputs": [
    {
     "name": "stdout",
     "output_type": "stream",
     "text": [
      "<class 'pandas.core.frame.DataFrame'>\n",
      "Int64Index: 177692 entries, 0 to 176897\n",
      "Data columns (total 5 columns):\n",
      " #   Column   Non-Null Count   Dtype  \n",
      "---  ------   --------------   -----  \n",
      " 0   type     177692 non-null  object \n",
      " 1   punk_id  177692 non-null  int64  \n",
      " 2   id       177692 non-null  int64  \n",
      " 3   amount   177692 non-null  float64\n",
      " 4   date     177692 non-null  object \n",
      "dtypes: float64(1), int64(2), object(2)\n",
      "memory usage: 8.1+ MB\n"
     ]
    }
   ],
   "source": [
    "df.info()"
   ]
  },
  {
   "cell_type": "code",
   "execution_count": 128,
   "id": "20ba5017-e357-479d-988e-554de98a8468",
   "metadata": {},
   "outputs": [
    {
     "data": {
      "text/plain": [
       "type       0\n",
       "punk_id    0\n",
       "id         0\n",
       "amount     0\n",
       "date       0\n",
       "dtype: int64"
      ]
     },
     "execution_count": 128,
     "metadata": {},
     "output_type": "execute_result"
    }
   ],
   "source": [
    "df.isna().sum()"
   ]
  },
  {
   "cell_type": "code",
   "execution_count": 129,
   "id": "bbe23afc-5d59-469c-8568-04f83f747559",
   "metadata": {},
   "outputs": [
    {
     "data": {
      "text/plain": [
       "10000"
      ]
     },
     "execution_count": 129,
     "metadata": {},
     "output_type": "execute_result"
    }
   ],
   "source": [
    "len(df['punk_id'].unique())"
   ]
  },
  {
   "cell_type": "code",
   "execution_count": 130,
   "id": "8d6632f9-1566-413c-a7c9-4e8471473cae",
   "metadata": {},
   "outputs": [
    {
     "data": {
      "text/html": [
       "<div>\n",
       "<style scoped>\n",
       "    .dataframe tbody tr th:only-of-type {\n",
       "        vertical-align: middle;\n",
       "    }\n",
       "\n",
       "    .dataframe tbody tr th {\n",
       "        vertical-align: top;\n",
       "    }\n",
       "\n",
       "    .dataframe thead th {\n",
       "        text-align: right;\n",
       "    }\n",
       "</style>\n",
       "<table border=\"1\" class=\"dataframe\">\n",
       "  <thead>\n",
       "    <tr style=\"text-align: right;\">\n",
       "      <th></th>\n",
       "      <th>type</th>\n",
       "      <th>punk_id</th>\n",
       "      <th>id</th>\n",
       "      <th>amount</th>\n",
       "      <th>date</th>\n",
       "    </tr>\n",
       "  </thead>\n",
       "  <tbody>\n",
       "    <tr>\n",
       "      <th>176895</th>\n",
       "      <td>Bid</td>\n",
       "      <td>8999</td>\n",
       "      <td>177727</td>\n",
       "      <td>0.12</td>\n",
       "      <td>2018-04-04</td>\n",
       "    </tr>\n",
       "    <tr>\n",
       "      <th>176896</th>\n",
       "      <td>Offered</td>\n",
       "      <td>8999</td>\n",
       "      <td>177728</td>\n",
       "      <td>6.50</td>\n",
       "      <td>2017-07-21</td>\n",
       "    </tr>\n",
       "    <tr>\n",
       "      <th>176897</th>\n",
       "      <td>Claimed</td>\n",
       "      <td>8999</td>\n",
       "      <td>177729</td>\n",
       "      <td>0.00</td>\n",
       "      <td>2017-06-23</td>\n",
       "    </tr>\n",
       "  </tbody>\n",
       "</table>\n",
       "</div>"
      ],
      "text/plain": [
       "           type  punk_id      id  amount        date\n",
       "176895      Bid     8999  177727    0.12  2018-04-04\n",
       "176896  Offered     8999  177728    6.50  2017-07-21\n",
       "176897  Claimed     8999  177729    0.00  2017-06-23"
      ]
     },
     "execution_count": 130,
     "metadata": {},
     "output_type": "execute_result"
    }
   ],
   "source": [
    "df.tail(3)"
   ]
  },
  {
   "cell_type": "code",
   "execution_count": 131,
   "id": "0e887bb9-b5ec-49d3-a979-db779c0b740a",
   "metadata": {},
   "outputs": [
    {
     "data": {
      "text/html": [
       "<div>\n",
       "<style scoped>\n",
       "    .dataframe tbody tr th:only-of-type {\n",
       "        vertical-align: middle;\n",
       "    }\n",
       "\n",
       "    .dataframe tbody tr th {\n",
       "        vertical-align: top;\n",
       "    }\n",
       "\n",
       "    .dataframe thead th {\n",
       "        text-align: right;\n",
       "    }\n",
       "</style>\n",
       "<table border=\"1\" class=\"dataframe\">\n",
       "  <thead>\n",
       "    <tr style=\"text-align: right;\">\n",
       "      <th></th>\n",
       "      <th>type</th>\n",
       "      <th>punk_id</th>\n",
       "      <th>id</th>\n",
       "      <th>amount</th>\n",
       "      <th>date</th>\n",
       "    </tr>\n",
       "  </thead>\n",
       "  <tbody>\n",
       "    <tr>\n",
       "      <th>172946</th>\n",
       "      <td>Offered</td>\n",
       "      <td>9999</td>\n",
       "      <td>173726</td>\n",
       "      <td>16.60</td>\n",
       "      <td>2017-07-14</td>\n",
       "    </tr>\n",
       "    <tr>\n",
       "      <th>172947</th>\n",
       "      <td>Offer Withdrawn</td>\n",
       "      <td>9999</td>\n",
       "      <td>173727</td>\n",
       "      <td>0.00</td>\n",
       "      <td>2017-07-14</td>\n",
       "    </tr>\n",
       "    <tr>\n",
       "      <th>172948</th>\n",
       "      <td>Bid</td>\n",
       "      <td>9999</td>\n",
       "      <td>173728</td>\n",
       "      <td>1.00</td>\n",
       "      <td>2017-07-14</td>\n",
       "    </tr>\n",
       "    <tr>\n",
       "      <th>177630</th>\n",
       "      <td>Offered</td>\n",
       "      <td>9999</td>\n",
       "      <td>173730</td>\n",
       "      <td>2220.00</td>\n",
       "      <td>2017-07-14</td>\n",
       "    </tr>\n",
       "    <tr>\n",
       "      <th>172961</th>\n",
       "      <td>Bid</td>\n",
       "      <td>9999</td>\n",
       "      <td>173754</td>\n",
       "      <td>0.25</td>\n",
       "      <td>2017-07-03</td>\n",
       "    </tr>\n",
       "  </tbody>\n",
       "</table>\n",
       "</div>"
      ],
      "text/plain": [
       "                   type  punk_id      id   amount        date\n",
       "172946          Offered     9999  173726    16.60  2017-07-14\n",
       "172947  Offer Withdrawn     9999  173727     0.00  2017-07-14\n",
       "172948              Bid     9999  173728     1.00  2017-07-14\n",
       "177630          Offered     9999  173730  2220.00  2017-07-14\n",
       "172961              Bid     9999  173754     0.25  2017-07-03"
      ]
     },
     "execution_count": 131,
     "metadata": {},
     "output_type": "execute_result"
    }
   ],
   "source": [
    "df_sort = df.sort_values(by=['punk_id'])\n",
    "df_sort.tail(5)"
   ]
  },
  {
   "cell_type": "code",
   "execution_count": 132,
   "id": "d0b6cb90-b2fd-432c-8e2f-229ea89898d2",
   "metadata": {},
   "outputs": [
    {
     "name": "stdout",
     "output_type": "stream",
     "text": [
      "Nothing is missing\n"
     ]
    }
   ],
   "source": [
    "#what's missing? no attributes\n",
    "mylist = list(df_sort['punk_id'].unique())\n",
    "l = []\n",
    "def missing_num(mylist):\n",
    "    for n in range(0,10000): \n",
    "        if n not in mylist: \n",
    "            l.append(n)\n",
    "    if not l:\n",
    "        print(\"Nothing is missing\")\n",
    "        \n",
    "missing_num(mylist)"
   ]
  },
  {
   "cell_type": "code",
   "execution_count": 133,
   "id": "4b015d17-8cb8-4621-88a5-70f4d6bb1795",
   "metadata": {
    "tags": []
   },
   "outputs": [],
   "source": [
    "df.to_csv('transaction.csv')"
   ]
  }
 ],
 "metadata": {
  "kernelspec": {
   "display_name": "Python 3",
   "language": "python",
   "name": "python3"
  },
  "language_info": {
   "codemirror_mode": {
    "name": "ipython",
    "version": 3
   },
   "file_extension": ".py",
   "mimetype": "text/x-python",
   "name": "python",
   "nbconvert_exporter": "python",
   "pygments_lexer": "ipython3",
   "version": "3.8.8"
  }
 },
 "nbformat": 4,
 "nbformat_minor": 5
}
