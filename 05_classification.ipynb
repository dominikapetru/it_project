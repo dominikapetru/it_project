{
 "cells": [
  {
   "cell_type": "markdown",
   "id": "dbc7c069-293b-44b5-b04f-b2a4ea993f70",
   "metadata": {},
   "source": [
    "# Classification"
   ]
  },
  {
   "cell_type": "markdown",
   "id": "636d63f8-8218-4968-a113-2c5514489d94",
   "metadata": {},
   "source": [
    "#### Imports"
   ]
  },
  {
   "cell_type": "code",
   "execution_count": 23,
   "id": "a75b0e04-1b72-4966-a566-b6566bf5c0f6",
   "metadata": {},
   "outputs": [],
   "source": [
    "#dataframe\n",
    "import pandas as pd\n",
    "import numpy as np\n",
    "\n",
    "#visualization\n",
    "import matplotlib.pyplot as plt\n",
    "import seaborn as sns\n",
    "\n",
    "import warnings\n",
    "warnings.filterwarnings('ignore')\n",
    "\n",
    "#standardscaler\n",
    "from sklearn.preprocessing import StandardScaler\n",
    "\n",
    "#clustering\n",
    "from kneed import KneeLocator\n",
    "import sklearn as skl\n",
    "from sklearn.decomposition import PCA\n",
    "from sklearn.cluster import KMeans\n",
    "from sklearn import metrics"
   ]
  },
  {
   "cell_type": "code",
   "execution_count": 102,
   "id": "e1209e59-e0f9-4f60-aed3-1b1343c2b6bb",
   "metadata": {},
   "outputs": [],
   "source": [
    "df = pd.read_csv('final_dataset.csv')\n",
    "df.drop(['Unnamed: 0'], axis=1, inplace=True)"
   ]
  },
  {
   "cell_type": "code",
   "execution_count": 103,
   "id": "31bfe6e8-2c09-4d5b-b50e-07ef80fcd382",
   "metadata": {},
   "outputs": [
    {
     "data": {
      "text/html": [
       "<div>\n",
       "<style scoped>\n",
       "    .dataframe tbody tr th:only-of-type {\n",
       "        vertical-align: middle;\n",
       "    }\n",
       "\n",
       "    .dataframe tbody tr th {\n",
       "        vertical-align: top;\n",
       "    }\n",
       "\n",
       "    .dataframe thead th {\n",
       "        text-align: right;\n",
       "    }\n",
       "</style>\n",
       "<table border=\"1\" class=\"dataframe\">\n",
       "  <thead>\n",
       "    <tr style=\"text-align: right;\">\n",
       "      <th></th>\n",
       "      <th>punk_id</th>\n",
       "      <th>skin_id</th>\n",
       "      <th>type_id</th>\n",
       "      <th>rarest_rank</th>\n",
       "      <th>total_att</th>\n",
       "      <th>last_price</th>\n",
       "      <th>num_sold_trans</th>\n",
       "      <th>total_sold_trans</th>\n",
       "      <th>num_trans</th>\n",
       "      <th>highest_price</th>\n",
       "      <th>last_prices_diff</th>\n",
       "      <th>date_diff</th>\n",
       "    </tr>\n",
       "  </thead>\n",
       "  <tbody>\n",
       "    <tr>\n",
       "      <th>0</th>\n",
       "      <td>0</td>\n",
       "      <td>6</td>\n",
       "      <td>3</td>\n",
       "      <td>2118</td>\n",
       "      <td>3</td>\n",
       "      <td>25.0</td>\n",
       "      <td>3.0</td>\n",
       "      <td>27.58</td>\n",
       "      <td>40</td>\n",
       "      <td>25.0</td>\n",
       "      <td>23.4</td>\n",
       "      <td>1137.0</td>\n",
       "    </tr>\n",
       "    <tr>\n",
       "      <th>1</th>\n",
       "      <td>1</td>\n",
       "      <td>4</td>\n",
       "      <td>4</td>\n",
       "      <td>4337</td>\n",
       "      <td>2</td>\n",
       "      <td>60.0</td>\n",
       "      <td>3.0</td>\n",
       "      <td>91.42</td>\n",
       "      <td>63</td>\n",
       "      <td>60.0</td>\n",
       "      <td>29.0</td>\n",
       "      <td>406.0</td>\n",
       "    </tr>\n",
       "    <tr>\n",
       "      <th>2</th>\n",
       "      <td>2</td>\n",
       "      <td>5</td>\n",
       "      <td>3</td>\n",
       "      <td>7995</td>\n",
       "      <td>1</td>\n",
       "      <td>0.0</td>\n",
       "      <td>0.0</td>\n",
       "      <td>0.00</td>\n",
       "      <td>30</td>\n",
       "      <td>0.0</td>\n",
       "      <td>0.0</td>\n",
       "      <td>1662.0</td>\n",
       "    </tr>\n",
       "  </tbody>\n",
       "</table>\n",
       "</div>"
      ],
      "text/plain": [
       "   punk_id  skin_id  type_id  rarest_rank  total_att  last_price  \\\n",
       "0        0        6        3         2118          3        25.0   \n",
       "1        1        4        4         4337          2        60.0   \n",
       "2        2        5        3         7995          1         0.0   \n",
       "\n",
       "   num_sold_trans  total_sold_trans  num_trans  highest_price  \\\n",
       "0             3.0             27.58         40           25.0   \n",
       "1             3.0             91.42         63           60.0   \n",
       "2             0.0              0.00         30            0.0   \n",
       "\n",
       "   last_prices_diff  date_diff  \n",
       "0              23.4     1137.0  \n",
       "1              29.0      406.0  \n",
       "2               0.0     1662.0  "
      ]
     },
     "execution_count": 103,
     "metadata": {},
     "output_type": "execute_result"
    }
   ],
   "source": [
    "df.head(3)"
   ]
  },
  {
   "cell_type": "code",
   "execution_count": 104,
   "id": "898d7dd9-c5f3-456b-b501-2a389ce06ff9",
   "metadata": {},
   "outputs": [
    {
     "data": {
      "text/plain": [
       "9918"
      ]
     },
     "execution_count": 104,
     "metadata": {},
     "output_type": "execute_result"
    }
   ],
   "source": [
    "len(df)"
   ]
  },
  {
   "cell_type": "code",
   "execution_count": 105,
   "id": "2cb87d0b-0989-4eaf-937f-dc5d24beb2ce",
   "metadata": {},
   "outputs": [],
   "source": [
    "df1 = df.copy()\n",
    "df1.drop(['punk_id'], axis=1, inplace=True)\n",
    "df2 = df['punk_id'].to_frame()"
   ]
  },
  {
   "cell_type": "code",
   "execution_count": 106,
   "id": "365aee70-3a5d-4ddb-87ef-ee0ef5a12a15",
   "metadata": {},
   "outputs": [
    {
     "data": {
      "text/html": [
       "<div>\n",
       "<style scoped>\n",
       "    .dataframe tbody tr th:only-of-type {\n",
       "        vertical-align: middle;\n",
       "    }\n",
       "\n",
       "    .dataframe tbody tr th {\n",
       "        vertical-align: top;\n",
       "    }\n",
       "\n",
       "    .dataframe thead th {\n",
       "        text-align: right;\n",
       "    }\n",
       "</style>\n",
       "<table border=\"1\" class=\"dataframe\">\n",
       "  <thead>\n",
       "    <tr style=\"text-align: right;\">\n",
       "      <th></th>\n",
       "      <th>skin_id</th>\n",
       "      <th>type_id</th>\n",
       "      <th>rarest_rank</th>\n",
       "      <th>total_att</th>\n",
       "      <th>last_price</th>\n",
       "      <th>num_sold_trans</th>\n",
       "      <th>total_sold_trans</th>\n",
       "      <th>num_trans</th>\n",
       "      <th>highest_price</th>\n",
       "      <th>last_prices_diff</th>\n",
       "      <th>date_diff</th>\n",
       "    </tr>\n",
       "  </thead>\n",
       "  <tbody>\n",
       "    <tr>\n",
       "      <th>0</th>\n",
       "      <td>6</td>\n",
       "      <td>3</td>\n",
       "      <td>2118</td>\n",
       "      <td>3</td>\n",
       "      <td>25.0</td>\n",
       "      <td>3.0</td>\n",
       "      <td>27.58</td>\n",
       "      <td>40</td>\n",
       "      <td>25.0</td>\n",
       "      <td>23.4</td>\n",
       "      <td>1137.0</td>\n",
       "    </tr>\n",
       "    <tr>\n",
       "      <th>1</th>\n",
       "      <td>4</td>\n",
       "      <td>4</td>\n",
       "      <td>4337</td>\n",
       "      <td>2</td>\n",
       "      <td>60.0</td>\n",
       "      <td>3.0</td>\n",
       "      <td>91.42</td>\n",
       "      <td>63</td>\n",
       "      <td>60.0</td>\n",
       "      <td>29.0</td>\n",
       "      <td>406.0</td>\n",
       "    </tr>\n",
       "    <tr>\n",
       "      <th>2</th>\n",
       "      <td>5</td>\n",
       "      <td>3</td>\n",
       "      <td>7995</td>\n",
       "      <td>1</td>\n",
       "      <td>0.0</td>\n",
       "      <td>0.0</td>\n",
       "      <td>0.00</td>\n",
       "      <td>30</td>\n",
       "      <td>0.0</td>\n",
       "      <td>0.0</td>\n",
       "      <td>1662.0</td>\n",
       "    </tr>\n",
       "  </tbody>\n",
       "</table>\n",
       "</div>"
      ],
      "text/plain": [
       "   skin_id  type_id  rarest_rank  total_att  last_price  num_sold_trans  \\\n",
       "0        6        3         2118          3        25.0             3.0   \n",
       "1        4        4         4337          2        60.0             3.0   \n",
       "2        5        3         7995          1         0.0             0.0   \n",
       "\n",
       "   total_sold_trans  num_trans  highest_price  last_prices_diff  date_diff  \n",
       "0             27.58         40           25.0              23.4     1137.0  \n",
       "1             91.42         63           60.0              29.0      406.0  \n",
       "2              0.00         30            0.0               0.0     1662.0  "
      ]
     },
     "execution_count": 106,
     "metadata": {},
     "output_type": "execute_result"
    }
   ],
   "source": [
    "df1.head(3)"
   ]
  },
  {
   "cell_type": "code",
   "execution_count": 29,
   "id": "b44e1ead-413b-4a64-94d1-d709fd3f8b97",
   "metadata": {},
   "outputs": [
    {
     "data": {
      "text/html": [
       "<div>\n",
       "<style scoped>\n",
       "    .dataframe tbody tr th:only-of-type {\n",
       "        vertical-align: middle;\n",
       "    }\n",
       "\n",
       "    .dataframe tbody tr th {\n",
       "        vertical-align: top;\n",
       "    }\n",
       "\n",
       "    .dataframe thead th {\n",
       "        text-align: right;\n",
       "    }\n",
       "</style>\n",
       "<table border=\"1\" class=\"dataframe\">\n",
       "  <thead>\n",
       "    <tr style=\"text-align: right;\">\n",
       "      <th></th>\n",
       "      <th>skin_id</th>\n",
       "      <th>type_id</th>\n",
       "      <th>rarest_rank</th>\n",
       "      <th>total_att</th>\n",
       "      <th>last_price</th>\n",
       "      <th>num_sold_trans</th>\n",
       "      <th>total_sold_trans</th>\n",
       "      <th>num_trans</th>\n",
       "      <th>highest_price</th>\n",
       "      <th>last_prices_diff</th>\n",
       "      <th>date_diff</th>\n",
       "    </tr>\n",
       "  </thead>\n",
       "  <tbody>\n",
       "    <tr>\n",
       "      <th>0</th>\n",
       "      <td>1.181220</td>\n",
       "      <td>-1.129555</td>\n",
       "      <td>-1.010060</td>\n",
       "      <td>0.302789</td>\n",
       "      <td>-0.088562</td>\n",
       "      <td>0.436595</td>\n",
       "      <td>-0.300665</td>\n",
       "      <td>1.235328</td>\n",
       "      <td>-0.107952</td>\n",
       "      <td>0.507663</td>\n",
       "      <td>0.388923</td>\n",
       "    </tr>\n",
       "    <tr>\n",
       "      <th>1</th>\n",
       "      <td>-0.764204</td>\n",
       "      <td>0.779276</td>\n",
       "      <td>-0.239171</td>\n",
       "      <td>-0.935076</td>\n",
       "      <td>0.683433</td>\n",
       "      <td>0.436595</td>\n",
       "      <td>0.340925</td>\n",
       "      <td>2.502669</td>\n",
       "      <td>0.652110</td>\n",
       "      <td>0.716210</td>\n",
       "      <td>-0.663290</td>\n",
       "    </tr>\n",
       "    <tr>\n",
       "      <th>2</th>\n",
       "      <td>0.208508</td>\n",
       "      <td>-1.129555</td>\n",
       "      <td>1.031633</td>\n",
       "      <td>-2.172940</td>\n",
       "      <td>-0.639987</td>\n",
       "      <td>-0.826453</td>\n",
       "      <td>-0.577843</td>\n",
       "      <td>0.684311</td>\n",
       "      <td>-0.650853</td>\n",
       "      <td>-0.363768</td>\n",
       "      <td>1.144615</td>\n",
       "    </tr>\n",
       "  </tbody>\n",
       "</table>\n",
       "</div>"
      ],
      "text/plain": [
       "    skin_id   type_id  rarest_rank  total_att  last_price  num_sold_trans  \\\n",
       "0  1.181220 -1.129555    -1.010060   0.302789   -0.088562        0.436595   \n",
       "1 -0.764204  0.779276    -0.239171  -0.935076    0.683433        0.436595   \n",
       "2  0.208508 -1.129555     1.031633  -2.172940   -0.639987       -0.826453   \n",
       "\n",
       "   total_sold_trans  num_trans  highest_price  last_prices_diff  date_diff  \n",
       "0         -0.300665   1.235328      -0.107952          0.507663   0.388923  \n",
       "1          0.340925   2.502669       0.652110          0.716210  -0.663290  \n",
       "2         -0.577843   0.684311      -0.650853         -0.363768   1.144615  "
      ]
     },
     "execution_count": 29,
     "metadata": {},
     "output_type": "execute_result"
    }
   ],
   "source": [
    "scaler = StandardScaler()\n",
    "df_mod = scaler.fit_transform(df1)\n",
    "df_scaled = pd.DataFrame(df_mod, index=df1.index, columns=df1.columns)\n",
    "df_scaled.head(3)"
   ]
  },
  {
   "cell_type": "code",
   "execution_count": 8,
   "id": "1c30954a-c671-4140-8d17-11d3a8cbfacd",
   "metadata": {},
   "outputs": [
    {
     "data": {
      "text/html": [
       "<div>\n",
       "<style scoped>\n",
       "    .dataframe tbody tr th:only-of-type {\n",
       "        vertical-align: middle;\n",
       "    }\n",
       "\n",
       "    .dataframe tbody tr th {\n",
       "        vertical-align: top;\n",
       "    }\n",
       "\n",
       "    .dataframe thead th {\n",
       "        text-align: right;\n",
       "    }\n",
       "</style>\n",
       "<table border=\"1\" class=\"dataframe\">\n",
       "  <thead>\n",
       "    <tr style=\"text-align: right;\">\n",
       "      <th></th>\n",
       "      <th>component1</th>\n",
       "      <th>component2</th>\n",
       "    </tr>\n",
       "  </thead>\n",
       "  <tbody>\n",
       "    <tr>\n",
       "      <th>0</th>\n",
       "      <td>0.334689</td>\n",
       "      <td>0.943114</td>\n",
       "    </tr>\n",
       "    <tr>\n",
       "      <th>1</th>\n",
       "      <td>2.200999</td>\n",
       "      <td>0.055365</td>\n",
       "    </tr>\n",
       "    <tr>\n",
       "      <th>2</th>\n",
       "      <td>-1.464508</td>\n",
       "      <td>0.248004</td>\n",
       "    </tr>\n",
       "    <tr>\n",
       "      <th>3</th>\n",
       "      <td>-1.570545</td>\n",
       "      <td>-0.765223</td>\n",
       "    </tr>\n",
       "    <tr>\n",
       "      <th>4</th>\n",
       "      <td>-1.635361</td>\n",
       "      <td>-1.347890</td>\n",
       "    </tr>\n",
       "  </tbody>\n",
       "</table>\n",
       "</div>"
      ],
      "text/plain": [
       "   component1  component2\n",
       "0    0.334689    0.943114\n",
       "1    2.200999    0.055365\n",
       "2   -1.464508    0.248004\n",
       "3   -1.570545   -0.765223\n",
       "4   -1.635361   -1.347890"
      ]
     },
     "execution_count": 8,
     "metadata": {},
     "output_type": "execute_result"
    }
   ],
   "source": [
    "pca = PCA(n_components=2)\n",
    "pca_data = pca.fit_transform(df_scaled)\n",
    "df_final = pd.DataFrame(data = pca_data, columns = ['component1', 'component2'])\n",
    "df_final.head()"
   ]
  },
  {
   "cell_type": "code",
   "execution_count": 9,
   "id": "c681b343-d7d8-4f6f-9166-67c9c684f26f",
   "metadata": {},
   "outputs": [
    {
     "data": {
      "image/png": "[encoded data removed]",
      "text/plain": [
       "<Figure size 1080x432 with 1 Axes>"
      ]
     },
     "metadata": {},
     "output_type": "display_data"
    }
   ],
   "source": [
    "intertia = []\n",
    "K = range(1,15)\n",
    "for k in K:\n",
    "    km = KMeans(n_clusters=k)\n",
    "    km = km.fit(df_final)\n",
    "    intertia.append(km.inertia_)\n",
    "\n",
    "sns.set_style(\"ticks\")\n",
    "plt.figure(figsize =(15, 6))\n",
    "plt.plot(K, intertia, marker= \"o\",color='#2D689C')\n",
    "plt.title('SSE curve',fontsize=20)\n",
    "plt.xlabel('Number of clusters',fontsize=11)\n",
    "plt.ylabel('Intertiation',fontsize=11)\n",
    "plt.xticks(np.arange(15))\n",
    "plt.savefig('31.png')\n",
    "plt.show()"
   ]
  },
  {
   "cell_type": "code",
   "execution_count": 10,
   "id": "7e3df326-2cc9-44dc-926e-cb1ffe0f3f2d",
   "metadata": {},
   "outputs": [
    {
     "name": "stdout",
     "output_type": "stream",
     "text": [
      "Ideal cluster number is: 4\n"
     ]
    }
   ],
   "source": [
    "#how many clusters? elbow method\n",
    "sse = []\n",
    "for k in range(2, 10):\n",
    "    model = KMeans(n_clusters=k, max_iter= 300, random_state= 42)\n",
    "    model.fit(df_final)\n",
    "    sse.append(model.inertia_)\n",
    "kl = KneeLocator(range(2, 10), sse, curve=\"convex\", direction=\"decreasing\")\n",
    "print('Ideal cluster number is:', kl.elbow)"
   ]
  },
  {
   "cell_type": "code",
   "execution_count": 239,
   "id": "5ecb3199-fdcf-4dd3-94d9-b4d1a6b7d7d0",
   "metadata": {},
   "outputs": [
    {
     "data": {
      "image/png": "[encoded data removed]",
      "text/plain": [
       "<Figure size 1080x432 with 1 Axes>"
      ]
     },
     "metadata": {},
     "output_type": "display_data"
    }
   ],
   "source": [
    "#silhouette curve\n",
    "silhouette_coefficients = []\n",
    "for k in range(2, 11):\n",
    "    model = KMeans(n_clusters=k)\n",
    "    model.fit(df_final)\n",
    "    score1 = silhouette_score(df_scaled, model.labels_)\n",
    "    silhouette_coefficients.append(score1)\n",
    "    \n",
    "plt.figure(figsize =(15, 6))\n",
    "plt.plot(range(2, 11), silhouette_coefficients, marker= \"o\",color='#2D689C')\n",
    "plt.xticks(range(2, 11))\n",
    "plt.title(\"Silhouette curve\", fontsize = 20)\n",
    "plt.xlabel(\"Number of Clusters\",fontsize = 11)\n",
    "plt.ylabel(\"Silhouette Coefficient\",fontsize = 11)\n",
    "plt.savefig('32.png')\n",
    "plt.show()"
   ]
  },
  {
   "cell_type": "code",
   "execution_count": 11,
   "id": "55889e44-da3e-4ef0-8679-c8dc3a751885",
   "metadata": {},
   "outputs": [
    {
     "data": {
      "text/plain": [
       "KMeans(init='random', n_clusters=4, random_state=42)"
      ]
     },
     "execution_count": 11,
     "metadata": {},
     "output_type": "execute_result"
    }
   ],
   "source": [
    "model = KMeans(init=\"random\",n_clusters=4,n_init=10,max_iter=300,random_state=42)\n",
    "model.fit(df_final)"
   ]
  },
  {
   "cell_type": "code",
   "execution_count": 12,
   "id": "d9565963-dd8a-40c7-9023-623b9b6de267",
   "metadata": {},
   "outputs": [
    {
     "data": {
      "text/html": [
       "<div>\n",
       "<style scoped>\n",
       "    .dataframe tbody tr th:only-of-type {\n",
       "        vertical-align: middle;\n",
       "    }\n",
       "\n",
       "    .dataframe tbody tr th {\n",
       "        vertical-align: top;\n",
       "    }\n",
       "\n",
       "    .dataframe thead th {\n",
       "        text-align: right;\n",
       "    }\n",
       "</style>\n",
       "<table border=\"1\" class=\"dataframe\">\n",
       "  <thead>\n",
       "    <tr style=\"text-align: right;\">\n",
       "      <th></th>\n",
       "      <th>component1</th>\n",
       "      <th>component2</th>\n",
       "      <th>cluster</th>\n",
       "    </tr>\n",
       "  </thead>\n",
       "  <tbody>\n",
       "    <tr>\n",
       "      <th>0</th>\n",
       "      <td>0.334689</td>\n",
       "      <td>0.943114</td>\n",
       "      <td>2</td>\n",
       "    </tr>\n",
       "    <tr>\n",
       "      <th>1</th>\n",
       "      <td>2.200999</td>\n",
       "      <td>0.055365</td>\n",
       "      <td>2</td>\n",
       "    </tr>\n",
       "    <tr>\n",
       "      <th>2</th>\n",
       "      <td>-1.464508</td>\n",
       "      <td>0.248004</td>\n",
       "      <td>3</td>\n",
       "    </tr>\n",
       "    <tr>\n",
       "      <th>3</th>\n",
       "      <td>-1.570545</td>\n",
       "      <td>-0.765223</td>\n",
       "      <td>3</td>\n",
       "    </tr>\n",
       "    <tr>\n",
       "      <th>4</th>\n",
       "      <td>-1.635361</td>\n",
       "      <td>-1.347890</td>\n",
       "      <td>3</td>\n",
       "    </tr>\n",
       "  </tbody>\n",
       "</table>\n",
       "</div>"
      ],
      "text/plain": [
       "   component1  component2  cluster\n",
       "0    0.334689    0.943114        2\n",
       "1    2.200999    0.055365        2\n",
       "2   -1.464508    0.248004        3\n",
       "3   -1.570545   -0.765223        3\n",
       "4   -1.635361   -1.347890        3"
      ]
     },
     "execution_count": 12,
     "metadata": {},
     "output_type": "execute_result"
    }
   ],
   "source": [
    "y_kmeans = model.predict(df_final)\n",
    "df_final['cluster'] = y_kmeans\n",
    "df_final.head()"
   ]
  },
  {
   "cell_type": "code",
   "execution_count": 13,
   "id": "ef52f121-ae54-4d9f-80af-efefce3f6c47",
   "metadata": {},
   "outputs": [
    {
     "data": {
      "text/plain": [
       "array([2, 3, 1, 0], dtype=int32)"
      ]
     },
     "execution_count": 13,
     "metadata": {},
     "output_type": "execute_result"
    }
   ],
   "source": [
    "df_final['cluster'].unique()"
   ]
  },
  {
   "cell_type": "code",
   "execution_count": 14,
   "id": "bd4b8bf1-a7bc-474d-b6d9-443ac77cf1a3",
   "metadata": {},
   "outputs": [
    {
     "name": "stdout",
     "output_type": "stream",
     "text": [
      "Silhouette score is: 0.54\n"
     ]
    }
   ],
   "source": [
    "#score\n",
    "labels = model.labels_\n",
    "silhouette1 = metrics.silhouette_score(df_final, labels, metric = 'euclidean')\n",
    "print('Silhouette score is:',round(silhouette1,2))"
   ]
  },
  {
   "cell_type": "code",
   "execution_count": 15,
   "id": "7711a199-3891-4373-bc30-d25990fcb239",
   "metadata": {},
   "outputs": [
    {
     "data": {
      "image/png": "[encoded data removed]",
      "text/plain": [
       "<Figure size 1080x432 with 1 Axes>"
      ]
     },
     "metadata": {},
     "output_type": "display_data"
    }
   ],
   "source": [
    "plt.figure(figsize=(15, 6))\n",
    "fte_colors = {0: \"#51B689\",1: \"#2D689C\",2: \"#A6266C\", 3: \"#F2929E\"}\n",
    "km_colors = [fte_colors[label] for label in model.labels_]\n",
    "\n",
    "plt.scatter(df_final['component1'], df_final['component2'], c=km_colors)\n",
    "plt.title(\"4 Clusters\", fontsize = 20)\n",
    "plt.xlabel(\"Principal component 1\",fontsize = 11)\n",
    "plt.ylabel(\"Principal component 2\",fontsize = 11)\n",
    "plt.savefig('33.png')\n",
    "plt.show()"
   ]
  },
  {
   "cell_type": "code",
   "execution_count": 16,
   "id": "2b2bc504-fd35-4046-a7aa-f5d1a21180c0",
   "metadata": {},
   "outputs": [
    {
     "data": {
      "text/plain": [
       "KMeans(init='random', n_clusters=7, random_state=42)"
      ]
     },
     "execution_count": 16,
     "metadata": {},
     "output_type": "execute_result"
    }
   ],
   "source": [
    "model = KMeans(init=\"random\",n_clusters=7,n_init=10,max_iter=300,random_state=42)\n",
    "model.fit(df_final)"
   ]
  },
  {
   "cell_type": "code",
   "execution_count": 17,
   "id": "3ff71d97-35a0-46cb-8e55-8bcc97833a91",
   "metadata": {},
   "outputs": [
    {
     "data": {
      "text/html": [
       "<div>\n",
       "<style scoped>\n",
       "    .dataframe tbody tr th:only-of-type {\n",
       "        vertical-align: middle;\n",
       "    }\n",
       "\n",
       "    .dataframe tbody tr th {\n",
       "        vertical-align: top;\n",
       "    }\n",
       "\n",
       "    .dataframe thead th {\n",
       "        text-align: right;\n",
       "    }\n",
       "</style>\n",
       "<table border=\"1\" class=\"dataframe\">\n",
       "  <thead>\n",
       "    <tr style=\"text-align: right;\">\n",
       "      <th></th>\n",
       "      <th>component1</th>\n",
       "      <th>component2</th>\n",
       "      <th>cluster</th>\n",
       "    </tr>\n",
       "  </thead>\n",
       "  <tbody>\n",
       "    <tr>\n",
       "      <th>0</th>\n",
       "      <td>0.334689</td>\n",
       "      <td>0.943114</td>\n",
       "      <td>0</td>\n",
       "    </tr>\n",
       "    <tr>\n",
       "      <th>1</th>\n",
       "      <td>2.200999</td>\n",
       "      <td>0.055365</td>\n",
       "      <td>2</td>\n",
       "    </tr>\n",
       "    <tr>\n",
       "      <th>2</th>\n",
       "      <td>-1.464508</td>\n",
       "      <td>0.248004</td>\n",
       "      <td>1</td>\n",
       "    </tr>\n",
       "    <tr>\n",
       "      <th>3</th>\n",
       "      <td>-1.570545</td>\n",
       "      <td>-0.765223</td>\n",
       "      <td>1</td>\n",
       "    </tr>\n",
       "    <tr>\n",
       "      <th>4</th>\n",
       "      <td>-1.635361</td>\n",
       "      <td>-1.347890</td>\n",
       "      <td>1</td>\n",
       "    </tr>\n",
       "  </tbody>\n",
       "</table>\n",
       "</div>"
      ],
      "text/plain": [
       "   component1  component2  cluster\n",
       "0    0.334689    0.943114        0\n",
       "1    2.200999    0.055365        2\n",
       "2   -1.464508    0.248004        1\n",
       "3   -1.570545   -0.765223        1\n",
       "4   -1.635361   -1.347890        1"
      ]
     },
     "execution_count": 17,
     "metadata": {},
     "output_type": "execute_result"
    }
   ],
   "source": [
    "y_kmeans = model.predict(df_final)\n",
    "df_final['cluster'] = y_kmeans\n",
    "df_final.head()"
   ]
  },
  {
   "cell_type": "code",
   "execution_count": 18,
   "id": "a4553a2e-91a6-4ba2-aade-b614edded367",
   "metadata": {},
   "outputs": [
    {
     "data": {
      "text/plain": [
       "array([0, 2, 1, 6, 5, 3, 4], dtype=int32)"
      ]
     },
     "execution_count": 18,
     "metadata": {},
     "output_type": "execute_result"
    }
   ],
   "source": [
    "df_final['cluster'].unique()"
   ]
  },
  {
   "cell_type": "code",
   "execution_count": 19,
   "id": "e3b07132-939b-4543-bb24-1d9145e7e08f",
   "metadata": {},
   "outputs": [
    {
     "name": "stdout",
     "output_type": "stream",
     "text": [
      "Silhouette score is: 0.63\n"
     ]
    }
   ],
   "source": [
    "#score\n",
    "labels = model.labels_\n",
    "kmeans_silhouette = metrics.silhouette_score(df_final, labels, metric = 'euclidean')\n",
    "print('Silhouette score is:',round(kmeans_silhouette,2))"
   ]
  },
  {
   "cell_type": "code",
   "execution_count": 20,
   "id": "74415c7b-4a70-40dd-adf7-8a0134b83068",
   "metadata": {},
   "outputs": [
    {
     "data": {
      "image/png": "[encoded data removed]",
      "text/plain": [
       "<Figure size 1080x432 with 1 Axes>"
      ]
     },
     "metadata": {},
     "output_type": "display_data"
    }
   ],
   "source": [
    "plt.figure(figsize=(15, 6))\n",
    "fte_colors = {0: \"#51B689\",1: \"#2D689C\",2: \"#E39844\", 3: \"#F2929E\",\n",
    "              4: \"#F2389E\",5: \"#A6266C\",6: \"#2B9553\"}\n",
    "km_colors = [fte_colors[label] for label in model.labels_]\n",
    "\n",
    "plt.scatter(df_final['component1'], df_final['component2'], c=km_colors)\n",
    "\n",
    "plt.title(\"Clusters\", fontsize = 20)\n",
    "plt.xlabel(\"Principal component 1\",fontsize = 11)\n",
    "plt.ylabel(\"Principal component 2\",fontsize = 11)\n",
    "plt.savefig('34.png')\n",
    "plt.show()"
   ]
  },
  {
   "cell_type": "code",
   "execution_count": 21,
   "id": "613fc80e-e755-4348-8bae-596732c31258",
   "metadata": {},
   "outputs": [
    {
     "data": {
      "text/plain": [
       "1    3115\n",
       "6    1893\n",
       "3    1562\n",
       "2    1076\n",
       "5    1048\n",
       "0     805\n",
       "4     419\n",
       "Name: cluster, dtype: int64"
      ]
     },
     "execution_count": 21,
     "metadata": {},
     "output_type": "execute_result"
    }
   ],
   "source": [
    "df_final['cluster'].value_counts()"
   ]
  },
  {
   "cell_type": "code",
   "execution_count": 22,
   "id": "7c0275cd-3c3e-4880-ae1d-9a2354c01a79",
   "metadata": {},
   "outputs": [
    {
     "data": {
      "text/html": [
       "<div>\n",
       "<style scoped>\n",
       "    .dataframe tbody tr th:only-of-type {\n",
       "        vertical-align: middle;\n",
       "    }\n",
       "\n",
       "    .dataframe tbody tr th {\n",
       "        vertical-align: top;\n",
       "    }\n",
       "\n",
       "    .dataframe thead th {\n",
       "        text-align: right;\n",
       "    }\n",
       "</style>\n",
       "<table border=\"1\" class=\"dataframe\">\n",
       "  <thead>\n",
       "    <tr style=\"text-align: right;\">\n",
       "      <th></th>\n",
       "      <th>component1</th>\n",
       "      <th>component2</th>\n",
       "      <th>cluster</th>\n",
       "    </tr>\n",
       "  </thead>\n",
       "  <tbody>\n",
       "    <tr>\n",
       "      <th>0</th>\n",
       "      <td>0.334689</td>\n",
       "      <td>0.943114</td>\n",
       "      <td>0</td>\n",
       "    </tr>\n",
       "    <tr>\n",
       "      <th>1</th>\n",
       "      <td>2.200999</td>\n",
       "      <td>0.055365</td>\n",
       "      <td>2</td>\n",
       "    </tr>\n",
       "    <tr>\n",
       "      <th>2</th>\n",
       "      <td>-1.464508</td>\n",
       "      <td>0.248004</td>\n",
       "      <td>1</td>\n",
       "    </tr>\n",
       "    <tr>\n",
       "      <th>3</th>\n",
       "      <td>-1.570545</td>\n",
       "      <td>-0.765223</td>\n",
       "      <td>1</td>\n",
       "    </tr>\n",
       "    <tr>\n",
       "      <th>4</th>\n",
       "      <td>-1.635361</td>\n",
       "      <td>-1.347890</td>\n",
       "      <td>1</td>\n",
       "    </tr>\n",
       "  </tbody>\n",
       "</table>\n",
       "</div>"
      ],
      "text/plain": [
       "   component1  component2  cluster\n",
       "0    0.334689    0.943114        0\n",
       "1    2.200999    0.055365        2\n",
       "2   -1.464508    0.248004        1\n",
       "3   -1.570545   -0.765223        1\n",
       "4   -1.635361   -1.347890        1"
      ]
     },
     "execution_count": 22,
     "metadata": {},
     "output_type": "execute_result"
    }
   ],
   "source": [
    "df_final.head()"
   ]
  },
  {
   "cell_type": "code",
   "execution_count": 107,
   "id": "33e87b3d-521a-477a-af8a-cf1e0d7d478a",
   "metadata": {},
   "outputs": [
    {
     "data": {
      "text/html": [
       "<div>\n",
       "<style scoped>\n",
       "    .dataframe tbody tr th:only-of-type {\n",
       "        vertical-align: middle;\n",
       "    }\n",
       "\n",
       "    .dataframe tbody tr th {\n",
       "        vertical-align: top;\n",
       "    }\n",
       "\n",
       "    .dataframe thead th {\n",
       "        text-align: right;\n",
       "    }\n",
       "</style>\n",
       "<table border=\"1\" class=\"dataframe\">\n",
       "  <thead>\n",
       "    <tr style=\"text-align: right;\">\n",
       "      <th></th>\n",
       "      <th>skin_id</th>\n",
       "      <th>type_id</th>\n",
       "      <th>rarest_rank</th>\n",
       "      <th>total_att</th>\n",
       "      <th>last_price</th>\n",
       "      <th>num_sold_trans</th>\n",
       "      <th>total_sold_trans</th>\n",
       "      <th>num_trans</th>\n",
       "      <th>highest_price</th>\n",
       "      <th>last_prices_diff</th>\n",
       "      <th>date_diff</th>\n",
       "      <th>cluster</th>\n",
       "    </tr>\n",
       "  </thead>\n",
       "  <tbody>\n",
       "    <tr>\n",
       "      <th>0</th>\n",
       "      <td>6</td>\n",
       "      <td>3</td>\n",
       "      <td>2118</td>\n",
       "      <td>3</td>\n",
       "      <td>25.0</td>\n",
       "      <td>3.0</td>\n",
       "      <td>27.58</td>\n",
       "      <td>40</td>\n",
       "      <td>25.0</td>\n",
       "      <td>23.4</td>\n",
       "      <td>1137.0</td>\n",
       "      <td>0</td>\n",
       "    </tr>\n",
       "    <tr>\n",
       "      <th>1</th>\n",
       "      <td>4</td>\n",
       "      <td>4</td>\n",
       "      <td>4337</td>\n",
       "      <td>2</td>\n",
       "      <td>60.0</td>\n",
       "      <td>3.0</td>\n",
       "      <td>91.42</td>\n",
       "      <td>63</td>\n",
       "      <td>60.0</td>\n",
       "      <td>29.0</td>\n",
       "      <td>406.0</td>\n",
       "      <td>2</td>\n",
       "    </tr>\n",
       "    <tr>\n",
       "      <th>2</th>\n",
       "      <td>5</td>\n",
       "      <td>3</td>\n",
       "      <td>7995</td>\n",
       "      <td>1</td>\n",
       "      <td>0.0</td>\n",
       "      <td>0.0</td>\n",
       "      <td>0.00</td>\n",
       "      <td>30</td>\n",
       "      <td>0.0</td>\n",
       "      <td>0.0</td>\n",
       "      <td>1662.0</td>\n",
       "      <td>1</td>\n",
       "    </tr>\n",
       "    <tr>\n",
       "      <th>3</th>\n",
       "      <td>4</td>\n",
       "      <td>4</td>\n",
       "      <td>7834</td>\n",
       "      <td>3</td>\n",
       "      <td>0.0</td>\n",
       "      <td>0.0</td>\n",
       "      <td>0.00</td>\n",
       "      <td>17</td>\n",
       "      <td>0.0</td>\n",
       "      <td>0.0</td>\n",
       "      <td>1662.0</td>\n",
       "      <td>1</td>\n",
       "    </tr>\n",
       "    <tr>\n",
       "      <th>4</th>\n",
       "      <td>6</td>\n",
       "      <td>4</td>\n",
       "      <td>7189</td>\n",
       "      <td>4</td>\n",
       "      <td>0.0</td>\n",
       "      <td>0.0</td>\n",
       "      <td>0.00</td>\n",
       "      <td>12</td>\n",
       "      <td>0.0</td>\n",
       "      <td>0.0</td>\n",
       "      <td>1662.0</td>\n",
       "      <td>1</td>\n",
       "    </tr>\n",
       "  </tbody>\n",
       "</table>\n",
       "</div>"
      ],
      "text/plain": [
       "   skin_id  type_id  rarest_rank  total_att  last_price  num_sold_trans  \\\n",
       "0        6        3         2118          3        25.0             3.0   \n",
       "1        4        4         4337          2        60.0             3.0   \n",
       "2        5        3         7995          1         0.0             0.0   \n",
       "3        4        4         7834          3         0.0             0.0   \n",
       "4        6        4         7189          4         0.0             0.0   \n",
       "\n",
       "   total_sold_trans  num_trans  highest_price  last_prices_diff  date_diff  \\\n",
       "0             27.58         40           25.0              23.4     1137.0   \n",
       "1             91.42         63           60.0              29.0      406.0   \n",
       "2              0.00         30            0.0               0.0     1662.0   \n",
       "3              0.00         17            0.0               0.0     1662.0   \n",
       "4              0.00         12            0.0               0.0     1662.0   \n",
       "\n",
       "   cluster  \n",
       "0        0  \n",
       "1        2  \n",
       "2        1  \n",
       "3        1  \n",
       "4        1  "
      ]
     },
     "execution_count": 107,
     "metadata": {},
     "output_type": "execute_result"
    }
   ],
   "source": [
    "df1['cluster']= df_final['cluster']\n",
    "df1.head(5)"
   ]
  },
  {
   "cell_type": "code",
   "execution_count": 109,
   "id": "24a5e228-5779-4997-89e9-d6b9ede11c07",
   "metadata": {},
   "outputs": [],
   "source": [
    "conditions = [(df1['cluster'] == 0),\n",
    "              (df1['cluster'] == 1),\n",
    "              (df1['cluster'] == 2),\n",
    "              (df1['cluster'] == 3),\n",
    "              (df1['cluster'] == 4),\n",
    "              (df1['cluster'] == 5),\n",
    "              (df1['cluster'] == 6)]\n",
    "\n",
    "values = [1, 2, 3, 4, 5, 6, 7]\n",
    "df1['cluster'] = np.select(conditions, values)"
   ]
  },
  {
   "cell_type": "code",
   "execution_count": 110,
   "id": "47819076-a9cb-40ff-88bf-54682fcadc38",
   "metadata": {},
   "outputs": [
    {
     "data": {
      "text/html": [
       "<div>\n",
       "<style scoped>\n",
       "    .dataframe tbody tr th:only-of-type {\n",
       "        vertical-align: middle;\n",
       "    }\n",
       "\n",
       "    .dataframe tbody tr th {\n",
       "        vertical-align: top;\n",
       "    }\n",
       "\n",
       "    .dataframe thead th {\n",
       "        text-align: right;\n",
       "    }\n",
       "</style>\n",
       "<table border=\"1\" class=\"dataframe\">\n",
       "  <thead>\n",
       "    <tr style=\"text-align: right;\">\n",
       "      <th></th>\n",
       "      <th>skin_id</th>\n",
       "      <th>type_id</th>\n",
       "      <th>rarest_rank</th>\n",
       "      <th>total_att</th>\n",
       "      <th>last_price</th>\n",
       "      <th>num_sold_trans</th>\n",
       "      <th>total_sold_trans</th>\n",
       "      <th>num_trans</th>\n",
       "      <th>highest_price</th>\n",
       "      <th>last_prices_diff</th>\n",
       "      <th>date_diff</th>\n",
       "      <th>cluster</th>\n",
       "    </tr>\n",
       "  </thead>\n",
       "  <tbody>\n",
       "    <tr>\n",
       "      <th>0</th>\n",
       "      <td>6</td>\n",
       "      <td>3</td>\n",
       "      <td>2118</td>\n",
       "      <td>3</td>\n",
       "      <td>25.0</td>\n",
       "      <td>3.0</td>\n",
       "      <td>27.58</td>\n",
       "      <td>40</td>\n",
       "      <td>25.0</td>\n",
       "      <td>23.4</td>\n",
       "      <td>1137.0</td>\n",
       "      <td>1</td>\n",
       "    </tr>\n",
       "    <tr>\n",
       "      <th>1</th>\n",
       "      <td>4</td>\n",
       "      <td>4</td>\n",
       "      <td>4337</td>\n",
       "      <td>2</td>\n",
       "      <td>60.0</td>\n",
       "      <td>3.0</td>\n",
       "      <td>91.42</td>\n",
       "      <td>63</td>\n",
       "      <td>60.0</td>\n",
       "      <td>29.0</td>\n",
       "      <td>406.0</td>\n",
       "      <td>3</td>\n",
       "    </tr>\n",
       "    <tr>\n",
       "      <th>2</th>\n",
       "      <td>5</td>\n",
       "      <td>3</td>\n",
       "      <td>7995</td>\n",
       "      <td>1</td>\n",
       "      <td>0.0</td>\n",
       "      <td>0.0</td>\n",
       "      <td>0.00</td>\n",
       "      <td>30</td>\n",
       "      <td>0.0</td>\n",
       "      <td>0.0</td>\n",
       "      <td>1662.0</td>\n",
       "      <td>2</td>\n",
       "    </tr>\n",
       "    <tr>\n",
       "      <th>3</th>\n",
       "      <td>4</td>\n",
       "      <td>4</td>\n",
       "      <td>7834</td>\n",
       "      <td>3</td>\n",
       "      <td>0.0</td>\n",
       "      <td>0.0</td>\n",
       "      <td>0.00</td>\n",
       "      <td>17</td>\n",
       "      <td>0.0</td>\n",
       "      <td>0.0</td>\n",
       "      <td>1662.0</td>\n",
       "      <td>2</td>\n",
       "    </tr>\n",
       "    <tr>\n",
       "      <th>4</th>\n",
       "      <td>6</td>\n",
       "      <td>4</td>\n",
       "      <td>7189</td>\n",
       "      <td>4</td>\n",
       "      <td>0.0</td>\n",
       "      <td>0.0</td>\n",
       "      <td>0.00</td>\n",
       "      <td>12</td>\n",
       "      <td>0.0</td>\n",
       "      <td>0.0</td>\n",
       "      <td>1662.0</td>\n",
       "      <td>2</td>\n",
       "    </tr>\n",
       "  </tbody>\n",
       "</table>\n",
       "</div>"
      ],
      "text/plain": [
       "   skin_id  type_id  rarest_rank  total_att  last_price  num_sold_trans  \\\n",
       "0        6        3         2118          3        25.0             3.0   \n",
       "1        4        4         4337          2        60.0             3.0   \n",
       "2        5        3         7995          1         0.0             0.0   \n",
       "3        4        4         7834          3         0.0             0.0   \n",
       "4        6        4         7189          4         0.0             0.0   \n",
       "\n",
       "   total_sold_trans  num_trans  highest_price  last_prices_diff  date_diff  \\\n",
       "0             27.58         40           25.0              23.4     1137.0   \n",
       "1             91.42         63           60.0              29.0      406.0   \n",
       "2              0.00         30            0.0               0.0     1662.0   \n",
       "3              0.00         17            0.0               0.0     1662.0   \n",
       "4              0.00         12            0.0               0.0     1662.0   \n",
       "\n",
       "   cluster  \n",
       "0        1  \n",
       "1        3  \n",
       "2        2  \n",
       "3        2  \n",
       "4        2  "
      ]
     },
     "execution_count": 110,
     "metadata": {},
     "output_type": "execute_result"
    }
   ],
   "source": [
    "df1.head(5)"
   ]
  },
  {
   "cell_type": "code",
   "execution_count": 111,
   "id": "8e83092f-328a-4cd1-8fb5-62119318a5c1",
   "metadata": {},
   "outputs": [
    {
     "data": {
      "text/html": [
       "<div>\n",
       "<style scoped>\n",
       "    .dataframe tbody tr th:only-of-type {\n",
       "        vertical-align: middle;\n",
       "    }\n",
       "\n",
       "    .dataframe tbody tr th {\n",
       "        vertical-align: top;\n",
       "    }\n",
       "\n",
       "    .dataframe thead th {\n",
       "        text-align: right;\n",
       "    }\n",
       "</style>\n",
       "<table border=\"1\" class=\"dataframe\">\n",
       "  <thead>\n",
       "    <tr style=\"text-align: right;\">\n",
       "      <th></th>\n",
       "      <th>skin_id</th>\n",
       "      <th>type_id</th>\n",
       "      <th>rarest_rank</th>\n",
       "      <th>total_att</th>\n",
       "      <th>last_price</th>\n",
       "      <th>num_sold_trans</th>\n",
       "      <th>total_sold_trans</th>\n",
       "      <th>num_trans</th>\n",
       "      <th>highest_price</th>\n",
       "      <th>last_prices_diff</th>\n",
       "      <th>date_diff</th>\n",
       "    </tr>\n",
       "    <tr>\n",
       "      <th>cluster</th>\n",
       "      <th></th>\n",
       "      <th></th>\n",
       "      <th></th>\n",
       "      <th></th>\n",
       "      <th></th>\n",
       "      <th></th>\n",
       "      <th></th>\n",
       "      <th></th>\n",
       "      <th></th>\n",
       "      <th></th>\n",
       "      <th></th>\n",
       "    </tr>\n",
       "  </thead>\n",
       "  <tbody>\n",
       "    <tr>\n",
       "      <th>1</th>\n",
       "      <td>4.559006</td>\n",
       "      <td>3.115528</td>\n",
       "      <td>2629.836025</td>\n",
       "      <td>2.751553</td>\n",
       "      <td>40.725876</td>\n",
       "      <td>2.400000</td>\n",
       "      <td>64.964907</td>\n",
       "      <td>24.161491</td>\n",
       "      <td>41.943876</td>\n",
       "      <td>7.515851</td>\n",
       "      <td>260.634783</td>\n",
       "    </tr>\n",
       "    <tr>\n",
       "      <th>2</th>\n",
       "      <td>4.945746</td>\n",
       "      <td>3.809952</td>\n",
       "      <td>6177.643018</td>\n",
       "      <td>2.742215</td>\n",
       "      <td>0.408632</td>\n",
       "      <td>0.407384</td>\n",
       "      <td>0.476164</td>\n",
       "      <td>6.105939</td>\n",
       "      <td>0.438276</td>\n",
       "      <td>0.012559</td>\n",
       "      <td>1483.943820</td>\n",
       "    </tr>\n",
       "    <tr>\n",
       "      <th>3</th>\n",
       "      <td>4.939591</td>\n",
       "      <td>3.852230</td>\n",
       "      <td>6225.772305</td>\n",
       "      <td>2.826208</td>\n",
       "      <td>49.937110</td>\n",
       "      <td>4.307621</td>\n",
       "      <td>98.423104</td>\n",
       "      <td>31.026952</td>\n",
       "      <td>51.791245</td>\n",
       "      <td>13.727407</td>\n",
       "      <td>181.902416</td>\n",
       "    </tr>\n",
       "    <tr>\n",
       "      <th>4</th>\n",
       "      <td>4.980794</td>\n",
       "      <td>3.832266</td>\n",
       "      <td>6620.403969</td>\n",
       "      <td>2.814341</td>\n",
       "      <td>16.935551</td>\n",
       "      <td>2.508963</td>\n",
       "      <td>28.238291</td>\n",
       "      <td>17.497439</td>\n",
       "      <td>18.530992</td>\n",
       "      <td>2.630333</td>\n",
       "      <td>314.407170</td>\n",
       "    </tr>\n",
       "    <tr>\n",
       "      <th>5</th>\n",
       "      <td>4.579952</td>\n",
       "      <td>3.663484</td>\n",
       "      <td>4136.780430</td>\n",
       "      <td>2.727924</td>\n",
       "      <td>149.160310</td>\n",
       "      <td>6.167064</td>\n",
       "      <td>350.364916</td>\n",
       "      <td>55.386635</td>\n",
       "      <td>152.579379</td>\n",
       "      <td>70.147041</td>\n",
       "      <td>118.279236</td>\n",
       "    </tr>\n",
       "    <tr>\n",
       "      <th>6</th>\n",
       "      <td>4.798664</td>\n",
       "      <td>3.604008</td>\n",
       "      <td>4949.597328</td>\n",
       "      <td>2.833015</td>\n",
       "      <td>104.514151</td>\n",
       "      <td>4.291985</td>\n",
       "      <td>208.000401</td>\n",
       "      <td>35.730916</td>\n",
       "      <td>106.857500</td>\n",
       "      <td>40.453359</td>\n",
       "      <td>119.594466</td>\n",
       "    </tr>\n",
       "    <tr>\n",
       "      <th>7</th>\n",
       "      <td>4.408347</td>\n",
       "      <td>3.066033</td>\n",
       "      <td>2388.564712</td>\n",
       "      <td>2.652932</td>\n",
       "      <td>0.792641</td>\n",
       "      <td>0.333862</td>\n",
       "      <td>0.885837</td>\n",
       "      <td>7.675119</td>\n",
       "      <td>0.809672</td>\n",
       "      <td>0.065536</td>\n",
       "      <td>1533.519282</td>\n",
       "    </tr>\n",
       "  </tbody>\n",
       "</table>\n",
       "</div>"
      ],
      "text/plain": [
       "          skin_id   type_id  rarest_rank  total_att  last_price  \\\n",
       "cluster                                                           \n",
       "1        4.559006  3.115528  2629.836025   2.751553   40.725876   \n",
       "2        4.945746  3.809952  6177.643018   2.742215    0.408632   \n",
       "3        4.939591  3.852230  6225.772305   2.826208   49.937110   \n",
       "4        4.980794  3.832266  6620.403969   2.814341   16.935551   \n",
       "5        4.579952  3.663484  4136.780430   2.727924  149.160310   \n",
       "6        4.798664  3.604008  4949.597328   2.833015  104.514151   \n",
       "7        4.408347  3.066033  2388.564712   2.652932    0.792641   \n",
       "\n",
       "         num_sold_trans  total_sold_trans  num_trans  highest_price  \\\n",
       "cluster                                                               \n",
       "1              2.400000         64.964907  24.161491      41.943876   \n",
       "2              0.407384          0.476164   6.105939       0.438276   \n",
       "3              4.307621         98.423104  31.026952      51.791245   \n",
       "4              2.508963         28.238291  17.497439      18.530992   \n",
       "5              6.167064        350.364916  55.386635     152.579379   \n",
       "6              4.291985        208.000401  35.730916     106.857500   \n",
       "7              0.333862          0.885837   7.675119       0.809672   \n",
       "\n",
       "         last_prices_diff    date_diff  \n",
       "cluster                                 \n",
       "1                7.515851   260.634783  \n",
       "2                0.012559  1483.943820  \n",
       "3               13.727407   181.902416  \n",
       "4                2.630333   314.407170  \n",
       "5               70.147041   118.279236  \n",
       "6               40.453359   119.594466  \n",
       "7                0.065536  1533.519282  "
      ]
     },
     "execution_count": 111,
     "metadata": {},
     "output_type": "execute_result"
    }
   ],
   "source": [
    "df1.groupby(['cluster']).mean()"
   ]
  },
  {
   "cell_type": "code",
   "execution_count": 112,
   "id": "83d570d3-d843-4667-95ec-86d61169ebdc",
   "metadata": {},
   "outputs": [
    {
     "data": {
      "text/plain": [
       "cluster  type_id\n",
       "1        1             2\n",
       "         2            11\n",
       "         3           684\n",
       "         4           108\n",
       "2        3           592\n",
       "         4          2523\n",
       "3        3           159\n",
       "         4           917\n",
       "4        3           262\n",
       "         4          1300\n",
       "5        1             2\n",
       "         2             1\n",
       "         3           133\n",
       "         4           283\n",
       "6        2             1\n",
       "         3           413\n",
       "         4           634\n",
       "7        0             6\n",
       "         1            16\n",
       "         2            54\n",
       "         3          1588\n",
       "         4           229\n",
       "Name: type_id, dtype: int64"
      ]
     },
     "execution_count": 112,
     "metadata": {},
     "output_type": "execute_result"
    }
   ],
   "source": [
    "df1.groupby(['cluster','type_id'])['type_id'].count()"
   ]
  },
  {
   "cell_type": "code",
   "execution_count": 113,
   "id": "b0041af9-6e34-49c0-bd65-6f8d04d5e6b7",
   "metadata": {},
   "outputs": [
    {
     "data": {
      "text/plain": [
       "cluster  skin_id\n",
       "1        1             2\n",
       "         2            11\n",
       "         3           106\n",
       "         4           284\n",
       "         5           220\n",
       "         6           182\n",
       "2        3           237\n",
       "         4           785\n",
       "         5          1003\n",
       "         6          1090\n",
       "3        3            69\n",
       "         4           300\n",
       "         5           334\n",
       "         6           373\n",
       "4        3            95\n",
       "         4           399\n",
       "         5           509\n",
       "         6           559\n",
       "5        1             2\n",
       "         2             1\n",
       "         3            60\n",
       "         4           135\n",
       "         5           131\n",
       "         6            90\n",
       "6        2             1\n",
       "         3           107\n",
       "         4           315\n",
       "         5           304\n",
       "         6           321\n",
       "7        0             6\n",
       "         1            16\n",
       "         2            54\n",
       "         3           336\n",
       "         4           592\n",
       "         5           489\n",
       "         6           400\n",
       "Name: skin_id, dtype: int64"
      ]
     },
     "execution_count": 113,
     "metadata": {},
     "output_type": "execute_result"
    }
   ],
   "source": [
    "df1.groupby(['cluster','skin_id'])['skin_id'].count()"
   ]
  },
  {
   "cell_type": "code",
   "execution_count": 114,
   "id": "09275686-aba3-4c13-a004-5d6af483da24",
   "metadata": {},
   "outputs": [
    {
     "data": {
      "text/plain": [
       "cluster  total_att\n",
       "1        0               2\n",
       "         1              22\n",
       "         2             284\n",
       "         3             372\n",
       "         4             118\n",
       "         5               5\n",
       "         6               2\n",
       "2        1             128\n",
       "         2            1110\n",
       "         3            1372\n",
       "         4             450\n",
       "         5              52\n",
       "         6               3\n",
       "3        1              10\n",
       "         2             364\n",
       "         3             522\n",
       "         4             163\n",
       "         5              17\n",
       "4        1              13\n",
       "         2             528\n",
       "         3             771\n",
       "         4             236\n",
       "         5              14\n",
       "5        0               1\n",
       "         1              13\n",
       "         2             161\n",
       "         3             183\n",
       "         4              46\n",
       "         5              15\n",
       "6        1              10\n",
       "         2             373\n",
       "         3             478\n",
       "         4             159\n",
       "         5              26\n",
       "         6               1\n",
       "         7               1\n",
       "7        0               4\n",
       "         1             130\n",
       "         2             708\n",
       "         3             770\n",
       "         4             242\n",
       "         5              36\n",
       "         6               3\n",
       "Name: total_att, dtype: int64"
      ]
     },
     "execution_count": 114,
     "metadata": {},
     "output_type": "execute_result"
    }
   ],
   "source": [
    "df1.groupby(['cluster','total_att'])['total_att'].count()"
   ]
  },
  {
   "cell_type": "code",
   "execution_count": 115,
   "id": "7d5951c1-2237-45fc-80d3-1e3068270f45",
   "metadata": {},
   "outputs": [
    {
     "data": {
      "text/plain": [
       "-130.0"
      ]
     },
     "execution_count": 115,
     "metadata": {},
     "output_type": "execute_result"
    }
   ],
   "source": [
    "df1['last_prices_diff'].min()"
   ]
  },
  {
   "cell_type": "code",
   "execution_count": 116,
   "id": "5e03b508-b489-47f2-b194-2a158c30d5b8",
   "metadata": {},
   "outputs": [
    {
     "data": {
      "text/plain": [
       "501"
      ]
     },
     "execution_count": 116,
     "metadata": {},
     "output_type": "execute_result"
    }
   ],
   "source": [
    "df_a= df1 [df1['last_prices_diff'] < 0]\n",
    "len(df_a)"
   ]
  },
  {
   "cell_type": "code",
   "execution_count": 117,
   "id": "6e1a12f4-cc2c-426c-adee-c5a8be9a3c67",
   "metadata": {},
   "outputs": [
    {
     "data": {
      "text/plain": [
       "5590"
      ]
     },
     "execution_count": 117,
     "metadata": {},
     "output_type": "execute_result"
    }
   ],
   "source": [
    "df_b= df1[df1['last_prices_diff'] == 0]\n",
    "len(df_b)"
   ]
  },
  {
   "cell_type": "code",
   "execution_count": 118,
   "id": "18629028-4970-4b99-a951-dd4148fea40c",
   "metadata": {},
   "outputs": [
    {
     "data": {
      "text/plain": [
       "3827"
      ]
     },
     "execution_count": 118,
     "metadata": {},
     "output_type": "execute_result"
    }
   ],
   "source": [
    "df_c= df1[df1['last_prices_diff'] > 0]\n",
    "len(df_c)"
   ]
  },
  {
   "cell_type": "code",
   "execution_count": 119,
   "id": "58deca9b-844f-4570-9f4c-c3c81678fc59",
   "metadata": {},
   "outputs": [
    {
     "data": {
      "text/plain": [
       "238.5"
      ]
     },
     "execution_count": 119,
     "metadata": {},
     "output_type": "execute_result"
    }
   ],
   "source": [
    "df['last_prices_diff'].max()"
   ]
  },
  {
   "cell_type": "code",
   "execution_count": 120,
   "id": "c0d68770-a411-4cfb-a750-e616c736dad8",
   "metadata": {},
   "outputs": [
    {
     "data": {
      "text/plain": [
       "4    938\n",
       "6    885\n",
       "3    848\n",
       "1    480\n",
       "5    385\n",
       "2    192\n",
       "7     99\n",
       "Name: cluster, dtype: int64"
      ]
     },
     "execution_count": 120,
     "metadata": {},
     "output_type": "execute_result"
    }
   ],
   "source": [
    "df_c['cluster'].value_counts()"
   ]
  },
  {
   "cell_type": "code",
   "execution_count": 121,
   "id": "a695e7bc-c536-4b61-8bb4-88f440cfde95",
   "metadata": {},
   "outputs": [
    {
     "data": {
      "text/html": [
       "<div>\n",
       "<style scoped>\n",
       "    .dataframe tbody tr th:only-of-type {\n",
       "        vertical-align: middle;\n",
       "    }\n",
       "\n",
       "    .dataframe tbody tr th {\n",
       "        vertical-align: top;\n",
       "    }\n",
       "\n",
       "    .dataframe thead th {\n",
       "        text-align: right;\n",
       "    }\n",
       "</style>\n",
       "<table border=\"1\" class=\"dataframe\">\n",
       "  <thead>\n",
       "    <tr style=\"text-align: right;\">\n",
       "      <th></th>\n",
       "      <th>skin_id</th>\n",
       "      <th>type_id</th>\n",
       "      <th>rarest_rank</th>\n",
       "      <th>total_att</th>\n",
       "      <th>last_price</th>\n",
       "      <th>num_sold_trans</th>\n",
       "      <th>total_sold_trans</th>\n",
       "      <th>num_trans</th>\n",
       "      <th>highest_price</th>\n",
       "      <th>last_prices_diff</th>\n",
       "      <th>date_diff</th>\n",
       "      <th>cluster</th>\n",
       "    </tr>\n",
       "  </thead>\n",
       "  <tbody>\n",
       "    <tr>\n",
       "      <th>0</th>\n",
       "      <td>6</td>\n",
       "      <td>3</td>\n",
       "      <td>2118</td>\n",
       "      <td>3</td>\n",
       "      <td>25.0</td>\n",
       "      <td>3.0</td>\n",
       "      <td>27.58</td>\n",
       "      <td>40</td>\n",
       "      <td>25.0</td>\n",
       "      <td>23.4</td>\n",
       "      <td>1137.0</td>\n",
       "      <td>1</td>\n",
       "    </tr>\n",
       "    <tr>\n",
       "      <th>1</th>\n",
       "      <td>4</td>\n",
       "      <td>4</td>\n",
       "      <td>4337</td>\n",
       "      <td>2</td>\n",
       "      <td>60.0</td>\n",
       "      <td>3.0</td>\n",
       "      <td>91.42</td>\n",
       "      <td>63</td>\n",
       "      <td>60.0</td>\n",
       "      <td>29.0</td>\n",
       "      <td>406.0</td>\n",
       "      <td>3</td>\n",
       "    </tr>\n",
       "    <tr>\n",
       "      <th>2</th>\n",
       "      <td>5</td>\n",
       "      <td>3</td>\n",
       "      <td>7995</td>\n",
       "      <td>1</td>\n",
       "      <td>0.0</td>\n",
       "      <td>0.0</td>\n",
       "      <td>0.00</td>\n",
       "      <td>30</td>\n",
       "      <td>0.0</td>\n",
       "      <td>0.0</td>\n",
       "      <td>1662.0</td>\n",
       "      <td>2</td>\n",
       "    </tr>\n",
       "    <tr>\n",
       "      <th>3</th>\n",
       "      <td>4</td>\n",
       "      <td>4</td>\n",
       "      <td>7834</td>\n",
       "      <td>3</td>\n",
       "      <td>0.0</td>\n",
       "      <td>0.0</td>\n",
       "      <td>0.00</td>\n",
       "      <td>17</td>\n",
       "      <td>0.0</td>\n",
       "      <td>0.0</td>\n",
       "      <td>1662.0</td>\n",
       "      <td>2</td>\n",
       "    </tr>\n",
       "    <tr>\n",
       "      <th>4</th>\n",
       "      <td>6</td>\n",
       "      <td>4</td>\n",
       "      <td>7189</td>\n",
       "      <td>4</td>\n",
       "      <td>0.0</td>\n",
       "      <td>0.0</td>\n",
       "      <td>0.00</td>\n",
       "      <td>12</td>\n",
       "      <td>0.0</td>\n",
       "      <td>0.0</td>\n",
       "      <td>1662.0</td>\n",
       "      <td>2</td>\n",
       "    </tr>\n",
       "  </tbody>\n",
       "</table>\n",
       "</div>"
      ],
      "text/plain": [
       "   skin_id  type_id  rarest_rank  total_att  last_price  num_sold_trans  \\\n",
       "0        6        3         2118          3        25.0             3.0   \n",
       "1        4        4         4337          2        60.0             3.0   \n",
       "2        5        3         7995          1         0.0             0.0   \n",
       "3        4        4         7834          3         0.0             0.0   \n",
       "4        6        4         7189          4         0.0             0.0   \n",
       "\n",
       "   total_sold_trans  num_trans  highest_price  last_prices_diff  date_diff  \\\n",
       "0             27.58         40           25.0              23.4     1137.0   \n",
       "1             91.42         63           60.0              29.0      406.0   \n",
       "2              0.00         30            0.0               0.0     1662.0   \n",
       "3              0.00         17            0.0               0.0     1662.0   \n",
       "4              0.00         12            0.0               0.0     1662.0   \n",
       "\n",
       "   cluster  \n",
       "0        1  \n",
       "1        3  \n",
       "2        2  \n",
       "3        2  \n",
       "4        2  "
      ]
     },
     "execution_count": 121,
     "metadata": {},
     "output_type": "execute_result"
    }
   ],
   "source": [
    "df1.head()"
   ]
  },
  {
   "cell_type": "code",
   "execution_count": 122,
   "id": "31bb0f9c-270e-4a9b-82c8-e0d1a52cf0e8",
   "metadata": {},
   "outputs": [
    {
     "data": {
      "image/png": "[encoded data removed]",
      "text/plain": [
       "<Figure size 1080x432 with 1 Axes>"
      ]
     },
     "metadata": {},
     "output_type": "display_data"
    }
   ],
   "source": [
    "fig = plt.figure(figsize = (15,6))\n",
    "sns.histplot(x='last_prices_diff', data=df1, kde=False , edgecolor=\"w\", alpha=.9, hue='cluster',\n",
    "             bins=30, palette=\"Paired\", multiple='dodge')\n",
    "plt.title(\"Distribution of last two sold prices difference\",fontsize=20)\n",
    "plt.xlabel(\"Amount in price difference\",fontsize=11)\n",
    "plt.ylabel(\"Count\",fontsize=11)\n",
    "plt.savefig('41.png')\n",
    "plt.show()"
   ]
  },
  {
   "cell_type": "code",
   "execution_count": 123,
   "id": "94e62ac7-693f-4c35-aa1e-436ca8fb738c",
   "metadata": {},
   "outputs": [
    {
     "data": {
      "image/png": "[encoded data removed]",
      "text/plain": [
       "<Figure size 1080x432 with 1 Axes>"
      ]
     },
     "metadata": {},
     "output_type": "display_data"
    }
   ],
   "source": [
    "fig = plt.figure(figsize = (15,6))\n",
    "labels = ['1','2','3','4','5','6','7']\n",
    "sns.histplot(x='last_prices_diff', data=df_c, kde=False , edgecolor=\"w\", alpha=.9, hue = 'cluster',\n",
    "             bins=30, palette=\"Paired\", multiple='dodge')\n",
    "plt.title(\"Distribution of positive last two sold prices difference\",fontsize=20)\n",
    "plt.xlabel(\"Amount in price difference\",fontsize=11)\n",
    "plt.ylabel(\"Count\",fontsize=11)\n",
    "plt.savefig('42.png')\n",
    "plt.show()"
   ]
  },
  {
   "cell_type": "code",
   "execution_count": null,
   "id": "31c3b7ad-8180-40d7-afe4-0ef397ce2418",
   "metadata": {},
   "outputs": [],
   "source": []
  }
 ],
 "metadata": {
  "kernelspec": {
   "display_name": "Python 3",
   "language": "python",
   "name": "python3"
  },
  "language_info": {
   "codemirror_mode": {
    "name": "ipython",
    "version": 3
   },
   "file_extension": ".py",
   "mimetype": "text/x-python",
   "name": "python",
   "nbconvert_exporter": "python",
   "pygments_lexer": "ipython3",
   "version": "3.8.8"
  }
 },
 "nbformat": 4,
 "nbformat_minor": 5
}
