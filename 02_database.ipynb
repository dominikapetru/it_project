{
 "cells": [
  {
   "cell_type": "markdown",
   "id": "9d666357-2859-49ca-b74d-f6a055b22e12",
   "metadata": {},
   "source": [
    "# PostgreSQL"
   ]
  },
  {
   "cell_type": "code",
   "execution_count": 113,
   "id": "079e680a-1c6d-4c7b-b880-fac6ece95dc1",
   "metadata": {},
   "outputs": [],
   "source": [
    "import psycopg2\n",
    "import pandas as pd"
   ]
  },
  {
   "cell_type": "code",
   "execution_count": 123,
   "id": "69710e6d-d7c8-48c1-9d0a-6554cb3f8508",
   "metadata": {},
   "outputs": [],
   "source": [
    "try:\n",
    "    connection = psycopg2.connect(host=\"localhost\", \n",
    "                                  port = 5432,\n",
    "                                  database='mydb',\n",
    "                                  user=\"postgres\",\n",
    "                                  password=\"postgres\")\n",
    "except:\n",
    "    print(\"I am unable to connect to the database\")"
   ]
  },
  {
   "cell_type": "code",
   "execution_count": 124,
   "id": "69a9957d-40a1-4078-824b-c004a47e2578",
   "metadata": {},
   "outputs": [],
   "source": [
    "cursor = connection.cursor()"
   ]
  },
  {
   "cell_type": "code",
   "execution_count": 125,
   "id": "06685c44-70b0-4a78-a61d-45dcf6341cbd",
   "metadata": {},
   "outputs": [],
   "source": [
    "cursor.execute(\"DROP TABLE IF EXISTS attribute\")\n",
    "\n",
    "cursor.execute(\"\"\"CREATE TABLE attribute\n",
    "                (id INT PRIMARY KEY, \n",
    "                 attribute VARCHAR(255))\"\"\")\n",
    "connection.commit()"
   ]
  },
  {
   "cell_type": "code",
   "execution_count": 126,
   "id": "cc366a97-ac9b-4718-91bd-826428338cb0",
   "metadata": {},
   "outputs": [
    {
     "name": "stdout",
     "output_type": "stream",
     "text": [
      "('attribute',)\n"
     ]
    }
   ],
   "source": [
    "cursor.execute(\"\"\"SELECT table_name FROM information_schema.tables\n",
    "       WHERE table_schema = 'public'\"\"\")\n",
    "for table in cursor.fetchall():\n",
    "    print(table)"
   ]
  },
  {
   "cell_type": "code",
   "execution_count": 131,
   "id": "2d488a70-043d-4656-b809-400c8dd37253",
   "metadata": {},
   "outputs": [
    {
     "data": {
      "text/html": [
       "<div>\n",
       "<style scoped>\n",
       "    .dataframe tbody tr th:only-of-type {\n",
       "        vertical-align: middle;\n",
       "    }\n",
       "\n",
       "    .dataframe tbody tr th {\n",
       "        vertical-align: top;\n",
       "    }\n",
       "\n",
       "    .dataframe thead th {\n",
       "        text-align: right;\n",
       "    }\n",
       "</style>\n",
       "<table border=\"1\" class=\"dataframe\">\n",
       "  <thead>\n",
       "    <tr style=\"text-align: right;\">\n",
       "      <th></th>\n",
       "      <th>Unnamed: 0</th>\n",
       "      <th>id</th>\n",
       "      <th>Attribute</th>\n",
       "      <th>#</th>\n",
       "      <th>Avail</th>\n",
       "      <th>Avg Sale</th>\n",
       "      <th>Cheapest</th>\n",
       "    </tr>\n",
       "  </thead>\n",
       "  <tbody>\n",
       "    <tr>\n",
       "      <th>0</th>\n",
       "      <td>0</td>\n",
       "      <td>0</td>\n",
       "      <td>Beanie</td>\n",
       "      <td>44</td>\n",
       "      <td>11</td>\n",
       "      <td>380.50Ξ</td>\n",
       "      <td>360Ξ</td>\n",
       "    </tr>\n",
       "    <tr>\n",
       "      <th>1</th>\n",
       "      <td>1</td>\n",
       "      <td>1</td>\n",
       "      <td>Choker</td>\n",
       "      <td>48</td>\n",
       "      <td>13</td>\n",
       "      <td>152Ξ</td>\n",
       "      <td>119.95Ξ</td>\n",
       "    </tr>\n",
       "    <tr>\n",
       "      <th>2</th>\n",
       "      <td>2</td>\n",
       "      <td>2</td>\n",
       "      <td>Pilot Helmet</td>\n",
       "      <td>54</td>\n",
       "      <td>12</td>\n",
       "      <td>0</td>\n",
       "      <td>190Ξ</td>\n",
       "    </tr>\n",
       "  </tbody>\n",
       "</table>\n",
       "</div>"
      ],
      "text/plain": [
       "   Unnamed: 0  id     Attribute   #  Avail Avg Sale Cheapest\n",
       "0           0   0        Beanie  44     11  380.50Ξ     360Ξ\n",
       "1           1   1        Choker  48     13     152Ξ  119.95Ξ\n",
       "2           2   2  Pilot Helmet  54     12        0     190Ξ"
      ]
     },
     "execution_count": 131,
     "metadata": {},
     "output_type": "execute_result"
    }
   ],
   "source": [
    "df = pd.read_csv('attribute.csv')\n",
    "df.head(3)"
   ]
  },
  {
   "cell_type": "code",
   "execution_count": 128,
   "id": "e627c477-9148-49f7-bb96-30113943113a",
   "metadata": {},
   "outputs": [
    {
     "name": "stdout",
     "output_type": "stream",
     "text": [
      "87 record inserted\n"
     ]
    }
   ],
   "source": [
    "sql = \"INSERT INTO attribute (id, attribute) VALUES (%s,%s)\"\n",
    "\n",
    "#tuple and than list\n",
    "df['att'] = df[['id', 'Attribute']].apply(tuple, axis=1)\n",
    "att = list(df['att'])\n",
    "\n",
    "cursor.executemany(sql, att)\n",
    "connection.commit()\n",
    "print(cursor.rowcount, \"record inserted\")"
   ]
  },
  {
   "cell_type": "code",
   "execution_count": 129,
   "id": "fce77852-1cd8-4a80-aefe-400c4ed40d26",
   "metadata": {},
   "outputs": [],
   "source": [
    "cursor.close()\n",
    "connection.close()"
   ]
  },
  {
   "cell_type": "markdown",
   "id": "462d5f80-3ea0-4f66-96cb-8cbc3c4db49d",
   "metadata": {},
   "source": [
    "# MySQL"
   ]
  },
  {
   "cell_type": "code",
   "execution_count": 137,
   "id": "e4bf4d5f-e87a-4512-a7a6-0121c389e627",
   "metadata": {},
   "outputs": [],
   "source": [
    "import pymysql\n",
    "import pandas as pd"
   ]
  },
  {
   "cell_type": "code",
   "execution_count": 138,
   "id": "ce82c0f9-1121-49c5-85f0-29af6be9eccc",
   "metadata": {},
   "outputs": [],
   "source": [
    "try:\n",
    "    connection = pymysql.connect(host='localhost',\n",
    "                                 user='root',\n",
    "                                 password='mysql')\n",
    "except:\n",
    "    print(\"I am unable to connect to the database\")"
   ]
  },
  {
   "cell_type": "code",
   "execution_count": 139,
   "id": "e019d886-0f6d-4307-af36-72c0eeceb9fa",
   "metadata": {},
   "outputs": [
    {
     "data": {
      "text/plain": [
       "0"
      ]
     },
     "execution_count": 139,
     "metadata": {},
     "output_type": "execute_result"
    }
   ],
   "source": [
    "cursor = connection.cursor()\n",
    "cursor.execute(\"DROP DATABASE IF EXISTS mydb\")\n",
    "cursor.execute(\"CREATE DATABASE mydb\")\n",
    "cursor.execute(\"USE mydb\") "
   ]
  },
  {
   "cell_type": "code",
   "execution_count": 140,
   "id": "14e89bcb-8262-4e72-a98c-8777bd23f1ef",
   "metadata": {},
   "outputs": [
    {
     "name": "stdout",
     "output_type": "stream",
     "text": [
      "('attribute',)\n"
     ]
    }
   ],
   "source": [
    "cursor.execute(\"DROP TABLE IF EXISTS attribute\")\n",
    "\n",
    "cursor.execute(\"\"\"CREATE TABLE attribute\n",
    "                (id INT PRIMARY KEY, \n",
    "                 attribute VARCHAR(255))\"\"\")\n",
    "cursor.execute(\"SHOW TABLES\")\n",
    "for x in cursor:\n",
    "    print(x)"
   ]
  },
  {
   "cell_type": "code",
   "execution_count": 141,
   "id": "38fc05d7-6907-4672-ae76-39afb6b66876",
   "metadata": {},
   "outputs": [],
   "source": [
    "df = pd.read_csv('attribute.csv')"
   ]
  },
  {
   "cell_type": "code",
   "execution_count": 142,
   "id": "8deb8304-51ef-40b2-9ec0-ccc560cdd55c",
   "metadata": {},
   "outputs": [
    {
     "name": "stdout",
     "output_type": "stream",
     "text": [
      "87 record inserted\n"
     ]
    }
   ],
   "source": [
    "sql = \"INSERT INTO attribute (id, attribute) VALUES (%s,%s)\"\n",
    "\n",
    "#tuple and than list\n",
    "df['att'] = df[['id', 'Attribute']].apply(tuple, axis=1)\n",
    "att = list(df['att'])\n",
    "\n",
    "cursor.executemany(sql, att)\n",
    "connection.commit()\n",
    "print(cursor.rowcount, \"record inserted\")"
   ]
  },
  {
   "cell_type": "code",
   "execution_count": 143,
   "id": "e40569c0-50a6-4d3a-ad80-89c499c85c0a",
   "metadata": {},
   "outputs": [
    {
     "name": "stdout",
     "output_type": "stream",
     "text": [
      "('attribute',)\n",
      "('type',)\n"
     ]
    }
   ],
   "source": [
    "cursor.execute(\"DROP TABLE IF EXISTS type\")\n",
    "\n",
    "cursor.execute(\"\"\"CREATE TABLE type\n",
    "                (id INT PRIMARY KEY, \n",
    "                 category VARCHAR(255))\"\"\")\n",
    "cursor.execute(\"SHOW TABLES\")\n",
    "for x in cursor:\n",
    "    print(x)"
   ]
  },
  {
   "cell_type": "code",
   "execution_count": 144,
   "id": "658e7aa5-a39d-44a4-812d-b1dc60b4b29c",
   "metadata": {},
   "outputs": [
    {
     "name": "stdout",
     "output_type": "stream",
     "text": [
      "5 record inserted\n"
     ]
    }
   ],
   "source": [
    "sql = \"INSERT INTO type (id, category) VALUES (%s,%s)\"\n",
    "\n",
    "types = [(0, 'Alien'),(1, 'Ape'),(2, 'Zombie'),(3, 'Female'),(4, 'Male')]\n",
    "\n",
    "cursor.executemany(sql, types)\n",
    "connection.commit()\n",
    "print(cursor.rowcount, \"record inserted\")"
   ]
  },
  {
   "cell_type": "code",
   "execution_count": 145,
   "id": "e7277c0e-8e3d-4ee6-949b-2dc1a8c624fb",
   "metadata": {},
   "outputs": [
    {
     "name": "stdout",
     "output_type": "stream",
     "text": [
      "('attribute',)\n",
      "('skin',)\n",
      "('type',)\n"
     ]
    }
   ],
   "source": [
    "cursor.execute(\"DROP TABLE IF EXISTS skin\")\n",
    "\n",
    "cursor.execute(\"\"\"CREATE TABLE skin\n",
    "                (id INT PRIMARY KEY, \n",
    "                 skin VARCHAR(255))\"\"\")\n",
    "cursor.execute(\"SHOW TABLES\")\n",
    "for x in cursor:\n",
    "    print(x)"
   ]
  },
  {
   "cell_type": "code",
   "execution_count": 146,
   "id": "41cda201-7362-4618-9112-4d46511ea884",
   "metadata": {},
   "outputs": [
    {
     "name": "stdout",
     "output_type": "stream",
     "text": [
      "7 record inserted\n"
     ]
    }
   ],
   "source": [
    "sql = \"INSERT INTO skin (id, skin) VALUES (%s,%s)\"\n",
    "\n",
    "val = [(0, 'Alien'),(1, 'Ape'),(2, 'Zombie'),(3, 'Albino'),(4, 'Dark'),(5, 'Light'),(6, 'Mid')]\n",
    "\n",
    "cursor.executemany(sql, val)\n",
    "connection.commit()\n",
    "print(cursor.rowcount, \"record inserted\")"
   ]
  },
  {
   "cell_type": "code",
   "execution_count": 147,
   "id": "ea3fc85d-d2db-4a1d-be0e-f718238b15d1",
   "metadata": {},
   "outputs": [
    {
     "name": "stdout",
     "output_type": "stream",
     "text": [
      "('attribute',)\n",
      "('punk',)\n",
      "('skin',)\n",
      "('type',)\n"
     ]
    }
   ],
   "source": [
    "cursor.execute(\"DROP TABLE IF EXISTS punk\")\n",
    "\n",
    "cursor.execute(\"\"\"CREATE TABLE punk\n",
    "                (id INT PRIMARY KEY, \n",
    "                 url VARCHAR(255),\n",
    "                 rarest_rank INT,\n",
    "                 type_id INT ,\n",
    "                 skin_id INT )\"\"\")\n",
    "\n",
    "cursor.execute(\"SHOW TABLES\")\n",
    "for x in cursor:\n",
    "    print(x)"
   ]
  },
  {
   "cell_type": "code",
   "execution_count": 148,
   "id": "01fae7ae-cc2c-4f80-9f39-7110e182f5a7",
   "metadata": {},
   "outputs": [],
   "source": [
    "df = pd.read_csv('punk.csv')"
   ]
  },
  {
   "cell_type": "code",
   "execution_count": 149,
   "id": "29156022-1719-4fdd-b090-c9b4fb00c808",
   "metadata": {},
   "outputs": [
    {
     "name": "stdout",
     "output_type": "stream",
     "text": [
      "10000 record inserted\n"
     ]
    }
   ],
   "source": [
    "sql = \"INSERT INTO punk (id, url, rarest_rank, type_id, skin_id) VALUES (%s,%s,%s,%s,%s)\"\n",
    "\n",
    "#tuple and than list\n",
    "df['punk_all'] = df[['id','url', 'ranking','type','skin']].apply(tuple, axis=1)\n",
    "val = list(df['punk_all'])\n",
    "\n",
    "cursor.executemany(sql, val)\n",
    "connection.commit()\n",
    "print(cursor.rowcount, \"record inserted\")"
   ]
  },
  {
   "cell_type": "code",
   "execution_count": 150,
   "id": "e57bfa23-3126-40c4-be63-b94f0eae5778",
   "metadata": {},
   "outputs": [
    {
     "data": {
      "text/plain": [
       "10000"
      ]
     },
     "execution_count": 150,
     "metadata": {},
     "output_type": "execute_result"
    }
   ],
   "source": [
    "cursor.execute(\"\"\"ALTER TABLE punk ADD FOREIGN KEY (type_id) REFERENCES type(id)\"\"\")\n",
    "cursor.execute(\"\"\"ALTER TABLE punk ADD FOREIGN KEY (skin_id) REFERENCES skin(id)\"\"\")"
   ]
  },
  {
   "cell_type": "code",
   "execution_count": 151,
   "id": "5f422cbb-d457-4f1c-8b64-04ee74f643d5",
   "metadata": {},
   "outputs": [
    {
     "name": "stdout",
     "output_type": "stream",
     "text": [
      "('attribute',)\n",
      "('punk',)\n",
      "('punk_attribute_relation',)\n",
      "('skin',)\n",
      "('type',)\n"
     ]
    }
   ],
   "source": [
    "cursor.execute(\"DROP TABLE IF EXISTS punk_attribute_relation\")\n",
    "\n",
    "cursor.execute(\"\"\"CREATE TABLE punk_attribute_relation\n",
    "                (punk_id INT,\n",
    "                 attribute_id INT)\"\"\")\n",
    "cursor.execute(\"SHOW TABLES\")\n",
    "for x in cursor:\n",
    "    print(x)"
   ]
  },
  {
   "cell_type": "code",
   "execution_count": 152,
   "id": "ee9a8890-e143-457b-9263-996eaa1fded2",
   "metadata": {},
   "outputs": [],
   "source": [
    "df = pd.read_csv('punk_attribute_relation.csv')"
   ]
  },
  {
   "cell_type": "code",
   "execution_count": 153,
   "id": "bd40f88b-4950-4f8c-a9cf-751745965cd0",
   "metadata": {},
   "outputs": [
    {
     "name": "stdout",
     "output_type": "stream",
     "text": [
      "27539 record inserted\n"
     ]
    }
   ],
   "source": [
    "sql = \"INSERT INTO punk_attribute_relation (punk_id, attribute_id) VALUES (%s,%s)\"\n",
    "\n",
    "#tuple and than list\n",
    "df['punk_att_all'] = df[['punk_id','att_id']].apply(tuple, axis=1)\n",
    "val = list(df['punk_att_all'])\n",
    "\n",
    "cursor.executemany(sql, val)\n",
    "connection.commit()\n",
    "print(cursor.rowcount, \"record inserted\")"
   ]
  },
  {
   "cell_type": "code",
   "execution_count": 154,
   "id": "6ccf6023-7b18-4eda-9741-2be307056c69",
   "metadata": {},
   "outputs": [
    {
     "data": {
      "text/plain": [
       "27539"
      ]
     },
     "execution_count": 154,
     "metadata": {},
     "output_type": "execute_result"
    }
   ],
   "source": [
    "cursor.execute(\"\"\"ALTER TABLE punk_attribute_relation ADD FOREIGN KEY (punk_id) REFERENCES punk(id) ON UPDATE CASCADE\"\"\")\n",
    "cursor.execute(\"\"\"ALTER TABLE punk_attribute_relation ADD FOREIGN KEY (attribute_id) REFERENCES attribute(id) ON UPDATE CASCADE\"\"\")"
   ]
  },
  {
   "cell_type": "code",
   "execution_count": 155,
   "id": "8c2b263d-3131-4d98-90c4-fb07d5579946",
   "metadata": {},
   "outputs": [
    {
     "name": "stdout",
     "output_type": "stream",
     "text": [
      "('attribute',)\n",
      "('punk',)\n",
      "('punk_attribute_relation',)\n",
      "('skin',)\n",
      "('transaction',)\n",
      "('type',)\n"
     ]
    }
   ],
   "source": [
    "cursor.execute(\"DROP TABLE IF EXISTS transaction\")\n",
    "\n",
    "cursor.execute(\"\"\"CREATE TABLE transaction\n",
    "                (id INT PRIMARY KEY,\n",
    "                 type VARCHAR(255),\n",
    "                 date DATE,\n",
    "                 amount FLOAT,\n",
    "                 punk_id INT)\"\"\")\n",
    "cursor.execute(\"SHOW TABLES\")\n",
    "for x in cursor:\n",
    "    print(x)"
   ]
  },
  {
   "cell_type": "code",
   "execution_count": 156,
   "id": "21ab8957-46f0-4ec4-b9e2-b3d9b5ef5e50",
   "metadata": {},
   "outputs": [],
   "source": [
    "df = pd.read_csv('transaction.csv')"
   ]
  },
  {
   "cell_type": "code",
   "execution_count": 157,
   "id": "4f079286-000a-40e7-9d98-8387c3b9f349",
   "metadata": {},
   "outputs": [
    {
     "name": "stdout",
     "output_type": "stream",
     "text": [
      "177692 record inserted\n"
     ]
    }
   ],
   "source": [
    "sql = \"INSERT INTO transaction (id, type, date, amount, punk_id) VALUES (%s,%s,%s,%s,%s)\"\n",
    "\n",
    "#tuple and than list\n",
    "df['all'] = df[['id','type','date','amount','punk_id']].apply(tuple, axis=1)\n",
    "val = list(df['all'])\n",
    "\n",
    "cursor.executemany(sql, val)\n",
    "connection.commit()\n",
    "print(cursor.rowcount, \"record inserted\")"
   ]
  },
  {
   "cell_type": "code",
   "execution_count": 158,
   "id": "63d2293e-fed6-4744-9740-891d82f1cb21",
   "metadata": {},
   "outputs": [
    {
     "data": {
      "text/plain": [
       "177692"
      ]
     },
     "execution_count": 158,
     "metadata": {},
     "output_type": "execute_result"
    }
   ],
   "source": [
    "cursor.execute(\"\"\"ALTER TABLE transaction ADD FOREIGN KEY (punk_id) REFERENCES punk(id) ON UPDATE CASCADE\"\"\")"
   ]
  },
  {
   "cell_type": "code",
   "execution_count": 159,
   "id": "4f419774-2f5e-4a14-abdc-7a5bbfeb5fcf",
   "metadata": {},
   "outputs": [],
   "source": [
    "cursor.close()"
   ]
  }
 ],
 "metadata": {
  "kernelspec": {
   "display_name": "Python 3",
   "language": "python",
   "name": "python3"
  },
  "language_info": {
   "codemirror_mode": {
    "name": "ipython",
    "version": 3
   },
   "file_extension": ".py",
   "mimetype": "text/x-python",
   "name": "python",
   "nbconvert_exporter": "python",
   "pygments_lexer": "ipython3",
   "version": "3.8.8"
  }
 },
 "nbformat": 4,
 "nbformat_minor": 5
}
