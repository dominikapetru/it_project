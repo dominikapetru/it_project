{
 "cells": [
  {
   "cell_type": "markdown",
   "id": "2138dbd1-9d33-47e9-8b3d-f4fb8d3b4fea",
   "metadata": {},
   "source": [
    "# Data analysis"
   ]
  },
  {
   "cell_type": "markdown",
   "id": "5034c949-65fa-4161-bd39-ace971358581",
   "metadata": {},
   "source": [
    "#### Imports"
   ]
  },
  {
   "cell_type": "code",
   "execution_count": 3,
   "id": "632fa902-e17c-466d-a094-f08ffeaec3a6",
   "metadata": {},
   "outputs": [],
   "source": [
    "#sql\n",
    "import mysql.connector\n",
    "from mysql.connector import Error\n",
    "import pymysql\n",
    "\n",
    "#dataframe\n",
    "import pandas as pd\n",
    "import numpy as np\n",
    "import re\n",
    "\n",
    "#visualization\n",
    "import matplotlib.pyplot as plt\n",
    "import seaborn as sns\n",
    "\n",
    "import warnings\n",
    "warnings.filterwarnings('ignore')"
   ]
  },
  {
   "cell_type": "code",
   "execution_count": 4,
   "id": "f57d05f8-d8bc-43c2-b4cf-3da9814deb4f",
   "metadata": {},
   "outputs": [],
   "source": [
    "connection = pymysql.connect(host='localhost',\n",
    "                             user='root',\n",
    "                             password='mysql',\n",
    "                             db='mydb')"
   ]
  },
  {
   "cell_type": "code",
   "execution_count": 5,
   "id": "41cb0102-9a86-4f1c-b147-b3ca0f0f9064",
   "metadata": {},
   "outputs": [
    {
     "name": "stdout",
     "output_type": "stream",
     "text": [
      "('attribute',)\n",
      "('punk',)\n",
      "('punk_attribute_relation',)\n",
      "('skin',)\n",
      "('transaction',)\n",
      "('type',)\n"
     ]
    }
   ],
   "source": [
    "cursor = connection.cursor()\n",
    "cursor.execute(\"USE mydb\")\n",
    "cursor.execute(\"SHOW TABLES\")\n",
    "for x in cursor:\n",
    "    print(x)"
   ]
  },
  {
   "cell_type": "markdown",
   "id": "f625782c-93c3-4cf9-9207-5b4ee0225851",
   "metadata": {},
   "source": [
    "### Types of punks"
   ]
  },
  {
   "cell_type": "code",
   "execution_count": 295,
   "id": "723ac6f6-dd3a-4b9b-8260-409140583bc3",
   "metadata": {},
   "outputs": [],
   "source": [
    "try:\n",
    "    query = \"\"\"SELECT id, type_id  \n",
    "               FROM punk;\"\"\"\n",
    "    df_type = pd.read_sql(query,connection)\n",
    "except Exception as e:\n",
    "    cursor.close()\n",
    "    print(str(e))"
   ]
  },
  {
   "cell_type": "code",
   "execution_count": 296,
   "id": "40c4c037-5dc6-4044-a584-ae69b17c230c",
   "metadata": {},
   "outputs": [
    {
     "data": {
      "text/html": [
       "<div>\n",
       "<style scoped>\n",
       "    .dataframe tbody tr th:only-of-type {\n",
       "        vertical-align: middle;\n",
       "    }\n",
       "\n",
       "    .dataframe tbody tr th {\n",
       "        vertical-align: top;\n",
       "    }\n",
       "\n",
       "    .dataframe thead th {\n",
       "        text-align: right;\n",
       "    }\n",
       "</style>\n",
       "<table border=\"1\" class=\"dataframe\">\n",
       "  <thead>\n",
       "    <tr style=\"text-align: right;\">\n",
       "      <th></th>\n",
       "      <th>id</th>\n",
       "      <th>type_id</th>\n",
       "    </tr>\n",
       "  </thead>\n",
       "  <tbody>\n",
       "    <tr>\n",
       "      <th>0</th>\n",
       "      <td>635</td>\n",
       "      <td>0</td>\n",
       "    </tr>\n",
       "    <tr>\n",
       "      <th>1</th>\n",
       "      <td>2890</td>\n",
       "      <td>0</td>\n",
       "    </tr>\n",
       "    <tr>\n",
       "      <th>2</th>\n",
       "      <td>3100</td>\n",
       "      <td>0</td>\n",
       "    </tr>\n",
       "  </tbody>\n",
       "</table>\n",
       "</div>"
      ],
      "text/plain": [
       "     id  type_id\n",
       "0   635        0\n",
       "1  2890        0\n",
       "2  3100        0"
      ]
     },
     "execution_count": 296,
     "metadata": {},
     "output_type": "execute_result"
    }
   ],
   "source": [
    "df_type.head(3)"
   ]
  },
  {
   "cell_type": "code",
   "execution_count": 297,
   "id": "915ff19a-1b65-40d0-b52e-7677e1d079ae",
   "metadata": {},
   "outputs": [
    {
     "data": {
      "text/html": [
       "<div>\n",
       "<style scoped>\n",
       "    .dataframe tbody tr th:only-of-type {\n",
       "        vertical-align: middle;\n",
       "    }\n",
       "\n",
       "    .dataframe tbody tr th {\n",
       "        vertical-align: top;\n",
       "    }\n",
       "\n",
       "    .dataframe thead th {\n",
       "        text-align: right;\n",
       "    }\n",
       "</style>\n",
       "<table border=\"1\" class=\"dataframe\">\n",
       "  <thead>\n",
       "    <tr style=\"text-align: right;\">\n",
       "      <th></th>\n",
       "      <th>id</th>\n",
       "      <th>type</th>\n",
       "    </tr>\n",
       "    <tr>\n",
       "      <th>type_id</th>\n",
       "      <th></th>\n",
       "      <th></th>\n",
       "    </tr>\n",
       "  </thead>\n",
       "  <tbody>\n",
       "    <tr>\n",
       "      <th>0</th>\n",
       "      <td>9</td>\n",
       "      <td>0</td>\n",
       "    </tr>\n",
       "    <tr>\n",
       "      <th>1</th>\n",
       "      <td>24</td>\n",
       "      <td>1</td>\n",
       "    </tr>\n",
       "    <tr>\n",
       "      <th>2</th>\n",
       "      <td>88</td>\n",
       "      <td>2</td>\n",
       "    </tr>\n",
       "  </tbody>\n",
       "</table>\n",
       "</div>"
      ],
      "text/plain": [
       "         id  type\n",
       "type_id          \n",
       "0         9     0\n",
       "1        24     1\n",
       "2        88     2"
      ]
     },
     "execution_count": 297,
     "metadata": {},
     "output_type": "execute_result"
    }
   ],
   "source": [
    "data = df_type.groupby(['type_id']).count()\n",
    "data['type'] = data.index\n",
    "data.head(3)"
   ]
  },
  {
   "cell_type": "code",
   "execution_count": 298,
   "id": "37f142d8-2e9f-4324-a58f-2a4475d8e749",
   "metadata": {},
   "outputs": [
    {
     "data": {
      "image/png": "[encoded data removed]",
      "text/plain": [
       "<Figure size 1080x432 with 1 Axes>"
      ]
     },
     "metadata": {
      "needs_background": "light"
     },
     "output_type": "display_data"
    }
   ],
   "source": [
    "plt.figure(figsize =(15, 6))\n",
    "a = sns.barplot(x=\"type\", y=\"id\", data=data, palette=\"Blues\")\n",
    "\n",
    "a.set_xticklabels(['Alien','Ape','Zombie','Female','Male'],fontsize=15)\n",
    "a.set(yticklabels=[])\n",
    "a.set(ylabel=None)\n",
    "a.tick_params(left=False)\n",
    "\n",
    "for index, row in data.iterrows():\n",
    "    a.text(row.type, row.id, row.id, color='black', ha=\"center\",fontsize=15)\n",
    "\n",
    "plt.title(\"Types of punks\",fontsize=20)\n",
    "plt.xlabel(\"\")\n",
    "plt.ylabel(\"\")\n",
    "plt.savefig('6.png')\n",
    "plt.show(a)"
   ]
  },
  {
   "cell_type": "markdown",
   "id": "d5b5401c-6416-4696-afb0-a6d02ae09d55",
   "metadata": {},
   "source": [
    "### Skins of punks"
   ]
  },
  {
   "cell_type": "code",
   "execution_count": 299,
   "id": "6926c882-8587-4b0a-bbc2-d4b68b32a2a1",
   "metadata": {},
   "outputs": [],
   "source": [
    "try:\n",
    "    query = \"\"\"SELECT id, skin_id FROM punk;\"\"\"\n",
    "    df_skin = pd.read_sql(query,connection)\n",
    "except Exception as e:\n",
    "    cursor.close()\n",
    "    print(str(e))"
   ]
  },
  {
   "cell_type": "code",
   "execution_count": 300,
   "id": "bdb2685b-22d5-4514-8b55-83623bdf40d1",
   "metadata": {},
   "outputs": [
    {
     "data": {
      "text/html": [
       "<div>\n",
       "<style scoped>\n",
       "    .dataframe tbody tr th:only-of-type {\n",
       "        vertical-align: middle;\n",
       "    }\n",
       "\n",
       "    .dataframe tbody tr th {\n",
       "        vertical-align: top;\n",
       "    }\n",
       "\n",
       "    .dataframe thead th {\n",
       "        text-align: right;\n",
       "    }\n",
       "</style>\n",
       "<table border=\"1\" class=\"dataframe\">\n",
       "  <thead>\n",
       "    <tr style=\"text-align: right;\">\n",
       "      <th></th>\n",
       "      <th>id</th>\n",
       "      <th>skin_id</th>\n",
       "    </tr>\n",
       "  </thead>\n",
       "  <tbody>\n",
       "    <tr>\n",
       "      <th>0</th>\n",
       "      <td>635</td>\n",
       "      <td>0</td>\n",
       "    </tr>\n",
       "    <tr>\n",
       "      <th>1</th>\n",
       "      <td>2890</td>\n",
       "      <td>0</td>\n",
       "    </tr>\n",
       "    <tr>\n",
       "      <th>2</th>\n",
       "      <td>3100</td>\n",
       "      <td>0</td>\n",
       "    </tr>\n",
       "  </tbody>\n",
       "</table>\n",
       "</div>"
      ],
      "text/plain": [
       "     id  skin_id\n",
       "0   635        0\n",
       "1  2890        0\n",
       "2  3100        0"
      ]
     },
     "execution_count": 300,
     "metadata": {},
     "output_type": "execute_result"
    }
   ],
   "source": [
    "df_skin.head(3)"
   ]
  },
  {
   "cell_type": "code",
   "execution_count": 301,
   "id": "0c055c3e-fda0-49ff-875f-e124a5ddb45e",
   "metadata": {},
   "outputs": [
    {
     "data": {
      "text/html": [
       "<div>\n",
       "<style scoped>\n",
       "    .dataframe tbody tr th:only-of-type {\n",
       "        vertical-align: middle;\n",
       "    }\n",
       "\n",
       "    .dataframe tbody tr th {\n",
       "        vertical-align: top;\n",
       "    }\n",
       "\n",
       "    .dataframe thead th {\n",
       "        text-align: right;\n",
       "    }\n",
       "</style>\n",
       "<table border=\"1\" class=\"dataframe\">\n",
       "  <thead>\n",
       "    <tr style=\"text-align: right;\">\n",
       "      <th></th>\n",
       "      <th>id</th>\n",
       "      <th>skin</th>\n",
       "    </tr>\n",
       "    <tr>\n",
       "      <th>skin_id</th>\n",
       "      <th></th>\n",
       "      <th></th>\n",
       "    </tr>\n",
       "  </thead>\n",
       "  <tbody>\n",
       "    <tr>\n",
       "      <th>0</th>\n",
       "      <td>9</td>\n",
       "      <td>0</td>\n",
       "    </tr>\n",
       "    <tr>\n",
       "      <th>1</th>\n",
       "      <td>24</td>\n",
       "      <td>1</td>\n",
       "    </tr>\n",
       "    <tr>\n",
       "      <th>2</th>\n",
       "      <td>88</td>\n",
       "      <td>2</td>\n",
       "    </tr>\n",
       "    <tr>\n",
       "      <th>3</th>\n",
       "      <td>1018</td>\n",
       "      <td>3</td>\n",
       "    </tr>\n",
       "    <tr>\n",
       "      <th>4</th>\n",
       "      <td>2824</td>\n",
       "      <td>4</td>\n",
       "    </tr>\n",
       "    <tr>\n",
       "      <th>5</th>\n",
       "      <td>3006</td>\n",
       "      <td>5</td>\n",
       "    </tr>\n",
       "    <tr>\n",
       "      <th>6</th>\n",
       "      <td>3031</td>\n",
       "      <td>6</td>\n",
       "    </tr>\n",
       "  </tbody>\n",
       "</table>\n",
       "</div>"
      ],
      "text/plain": [
       "           id  skin\n",
       "skin_id            \n",
       "0           9     0\n",
       "1          24     1\n",
       "2          88     2\n",
       "3        1018     3\n",
       "4        2824     4\n",
       "5        3006     5\n",
       "6        3031     6"
      ]
     },
     "execution_count": 301,
     "metadata": {},
     "output_type": "execute_result"
    }
   ],
   "source": [
    "data = df_skin.groupby(['skin_id']).count()\n",
    "data['skin'] = data.index\n",
    "data"
   ]
  },
  {
   "cell_type": "code",
   "execution_count": 302,
   "id": "48e522b7-d954-4695-9fc5-68b70e257763",
   "metadata": {},
   "outputs": [
    {
     "data": {
      "image/png": "[encoded data removed]",
      "text/plain": [
       "<Figure size 1080x432 with 1 Axes>"
      ]
     },
     "metadata": {
      "needs_background": "light"
     },
     "output_type": "display_data"
    }
   ],
   "source": [
    "plt.figure(figsize =(15, 6))\n",
    "a = sns.barplot(x=\"skin\", y=\"id\", data=data, palette=\"Blues\")\n",
    "\n",
    "a.set_xticklabels(['Alien','Ape','Zombie','Albino','Dark','Light','Mid'],fontsize=15)\n",
    "a.set(yticklabels=[])\n",
    "a.set(ylabel=None)\n",
    "a.tick_params(left=False)\n",
    "\n",
    "for index, row in data.iterrows():\n",
    "    a.text(row.skin, row.id, row.id, color='black', ha=\"center\",fontsize=15)\n",
    "\n",
    "plt.title(\"Skin types\",fontsize=20)\n",
    "plt.xlabel(\"\")\n",
    "plt.ylabel(\"\")\n",
    "plt.savefig('7.png')\n",
    "plt.show(a)"
   ]
  },
  {
   "cell_type": "markdown",
   "id": "4336ce29-6040-4693-a9ff-0459859f50ba",
   "metadata": {},
   "source": [
    "### Attributes of punks"
   ]
  },
  {
   "cell_type": "code",
   "execution_count": 303,
   "id": "30eb2c32-e314-488b-aa27-d63dc76fa151",
   "metadata": {},
   "outputs": [],
   "source": [
    "try:\n",
    "    query = \"\"\"SELECT punk_id, attribute_id FROM punk_attribute_relation;\"\"\"\n",
    "    df_att = pd.read_sql(query,connection)\n",
    "except Exception as e:\n",
    "    cursor.close()\n",
    "    print(str(e))"
   ]
  },
  {
   "cell_type": "code",
   "execution_count": 304,
   "id": "14bdb910-6820-4a8a-81e5-6565fde0026b",
   "metadata": {},
   "outputs": [
    {
     "data": {
      "text/html": [
       "<div>\n",
       "<style scoped>\n",
       "    .dataframe tbody tr th:only-of-type {\n",
       "        vertical-align: middle;\n",
       "    }\n",
       "\n",
       "    .dataframe tbody tr th {\n",
       "        vertical-align: top;\n",
       "    }\n",
       "\n",
       "    .dataframe thead th {\n",
       "        text-align: right;\n",
       "    }\n",
       "</style>\n",
       "<table border=\"1\" class=\"dataframe\">\n",
       "  <thead>\n",
       "    <tr style=\"text-align: right;\">\n",
       "      <th></th>\n",
       "      <th>punk_id</th>\n",
       "      <th>attribute_id</th>\n",
       "    </tr>\n",
       "  </thead>\n",
       "  <tbody>\n",
       "    <tr>\n",
       "      <th>0</th>\n",
       "      <td>1</td>\n",
       "      <td>34</td>\n",
       "    </tr>\n",
       "    <tr>\n",
       "      <th>1</th>\n",
       "      <td>1</td>\n",
       "      <td>67</td>\n",
       "    </tr>\n",
       "    <tr>\n",
       "      <th>2</th>\n",
       "      <td>2</td>\n",
       "      <td>70</td>\n",
       "    </tr>\n",
       "  </tbody>\n",
       "</table>\n",
       "</div>"
      ],
      "text/plain": [
       "   punk_id  attribute_id\n",
       "0        1            34\n",
       "1        1            67\n",
       "2        2            70"
      ]
     },
     "execution_count": 304,
     "metadata": {},
     "output_type": "execute_result"
    }
   ],
   "source": [
    "df_att.head(3)"
   ]
  },
  {
   "cell_type": "code",
   "execution_count": 305,
   "id": "ceebf72a-b5e1-47bb-b6ce-3b8f64c4efeb",
   "metadata": {},
   "outputs": [
    {
     "data": {
      "text/html": [
       "<div>\n",
       "<style scoped>\n",
       "    .dataframe tbody tr th:only-of-type {\n",
       "        vertical-align: middle;\n",
       "    }\n",
       "\n",
       "    .dataframe tbody tr th {\n",
       "        vertical-align: top;\n",
       "    }\n",
       "\n",
       "    .dataframe thead th {\n",
       "        text-align: right;\n",
       "    }\n",
       "</style>\n",
       "<table border=\"1\" class=\"dataframe\">\n",
       "  <thead>\n",
       "    <tr style=\"text-align: right;\">\n",
       "      <th></th>\n",
       "      <th>total</th>\n",
       "      <th>att</th>\n",
       "    </tr>\n",
       "  </thead>\n",
       "  <tbody>\n",
       "    <tr>\n",
       "      <th>7</th>\n",
       "      <td>8</td>\n",
       "      <td>0</td>\n",
       "    </tr>\n",
       "    <tr>\n",
       "      <th>0</th>\n",
       "      <td>333</td>\n",
       "      <td>1</td>\n",
       "    </tr>\n",
       "    <tr>\n",
       "      <th>1</th>\n",
       "      <td>3560</td>\n",
       "      <td>2</td>\n",
       "    </tr>\n",
       "    <tr>\n",
       "      <th>2</th>\n",
       "      <td>4501</td>\n",
       "      <td>3</td>\n",
       "    </tr>\n",
       "    <tr>\n",
       "      <th>3</th>\n",
       "      <td>1420</td>\n",
       "      <td>4</td>\n",
       "    </tr>\n",
       "    <tr>\n",
       "      <th>4</th>\n",
       "      <td>166</td>\n",
       "      <td>5</td>\n",
       "    </tr>\n",
       "    <tr>\n",
       "      <th>5</th>\n",
       "      <td>11</td>\n",
       "      <td>6</td>\n",
       "    </tr>\n",
       "    <tr>\n",
       "      <th>6</th>\n",
       "      <td>1</td>\n",
       "      <td>7</td>\n",
       "    </tr>\n",
       "  </tbody>\n",
       "</table>\n",
       "</div>"
      ],
      "text/plain": [
       "   total  att\n",
       "7      8    0\n",
       "0    333    1\n",
       "1   3560    2\n",
       "2   4501    3\n",
       "3   1420    4\n",
       "4    166    5\n",
       "5     11    6\n",
       "6      1    7"
      ]
     },
     "execution_count": 305,
     "metadata": {},
     "output_type": "execute_result"
    }
   ],
   "source": [
    "data = df_att.groupby(['punk_id']).size()\n",
    "data = data.to_frame()\n",
    "data.columns = ['total']\n",
    "\n",
    "data = data.groupby(['total']).size()\n",
    "data = data.to_frame()\n",
    "data.columns = ['total']\n",
    "data['att'] = data.index\n",
    "\n",
    "new_row = {'total':8, 'att':0}\n",
    "data = data.append(new_row, ignore_index=True)\n",
    "\n",
    "data = data.sort_values(by=['att'])\n",
    "data"
   ]
  },
  {
   "cell_type": "code",
   "execution_count": 306,
   "id": "863cd2ad-0f23-4031-8758-8c303dc83dd4",
   "metadata": {},
   "outputs": [
    {
     "data": {
      "image/png": "[encoded data removed]",
      "text/plain": [
       "<Figure size 1080x432 with 1 Axes>"
      ]
     },
     "metadata": {
      "needs_background": "light"
     },
     "output_type": "display_data"
    }
   ],
   "source": [
    "plt.figure(figsize =(15, 6))\n",
    "a = sns.barplot(x=\"att\", y=\"total\", data=data, \n",
    "                palette=([\"#F7FBFF\",\"#A6C7D8\",\"#336FA2\",\"#1A5088\",\n",
    "                            \"#78AAC8\", \"#CBDBEA\",\"#F7FBFF\",\"#F7FBFF\"]))\n",
    "\n",
    "a.set_xticklabels(['0','1','2','3','4','5','6','7'],fontsize=15)\n",
    "a.set(yticklabels=[])\n",
    "a.set(ylabel=None)\n",
    "a.tick_params(left=False)\n",
    "\n",
    "for index, row in data.iterrows():\n",
    "    a.text(row.att, row.total, row.total, color='black', ha=\"center\",fontsize=15)\n",
    "\n",
    "plt.title(\"Total number of attributes\",fontsize=20)\n",
    "plt.xlabel(\"\")\n",
    "plt.ylabel(\"\")\n",
    "plt.savefig('8.png')\n",
    "plt.show(a)"
   ]
  },
  {
   "cell_type": "markdown",
   "id": "2479fa31-a5b9-495e-ba68-e2f4c00849fb",
   "metadata": {},
   "source": [
    "### Average price by type"
   ]
  },
  {
   "cell_type": "code",
   "execution_count": 307,
   "id": "18a12e7e-bab4-4585-ad8f-6d52e1b07ecf",
   "metadata": {},
   "outputs": [],
   "source": [
    "try:\n",
    "    query = \"\"\"SELECT type, date, amount, punk_id \n",
    "    FROM transaction;\"\"\"\n",
    "    df_price_type = pd.read_sql(query,connection)\n",
    "except Exception as e:\n",
    "    cursor.close()\n",
    "    print(str(e))"
   ]
  },
  {
   "cell_type": "code",
   "execution_count": 308,
   "id": "ea9f1a8b-83db-4f16-8dec-3bda898cc8d6",
   "metadata": {},
   "outputs": [
    {
     "data": {
      "text/html": [
       "<div>\n",
       "<style scoped>\n",
       "    .dataframe tbody tr th:only-of-type {\n",
       "        vertical-align: middle;\n",
       "    }\n",
       "\n",
       "    .dataframe tbody tr th {\n",
       "        vertical-align: top;\n",
       "    }\n",
       "\n",
       "    .dataframe thead th {\n",
       "        text-align: right;\n",
       "    }\n",
       "</style>\n",
       "<table border=\"1\" class=\"dataframe\">\n",
       "  <thead>\n",
       "    <tr style=\"text-align: right;\">\n",
       "      <th></th>\n",
       "      <th>type</th>\n",
       "      <th>date</th>\n",
       "      <th>amount</th>\n",
       "      <th>punk_id</th>\n",
       "    </tr>\n",
       "  </thead>\n",
       "  <tbody>\n",
       "    <tr>\n",
       "      <th>0</th>\n",
       "      <td>Bid</td>\n",
       "      <td>2021-09-01</td>\n",
       "      <td>321.0</td>\n",
       "      <td>0</td>\n",
       "    </tr>\n",
       "    <tr>\n",
       "      <th>1</th>\n",
       "      <td>Bid Withdrawn</td>\n",
       "      <td>2021-09-01</td>\n",
       "      <td>320.0</td>\n",
       "      <td>0</td>\n",
       "    </tr>\n",
       "    <tr>\n",
       "      <th>2</th>\n",
       "      <td>Bid</td>\n",
       "      <td>2021-09-01</td>\n",
       "      <td>320.0</td>\n",
       "      <td>0</td>\n",
       "    </tr>\n",
       "  </tbody>\n",
       "</table>\n",
       "</div>"
      ],
      "text/plain": [
       "            type        date  amount  punk_id\n",
       "0            Bid  2021-09-01   321.0        0\n",
       "1  Bid Withdrawn  2021-09-01   320.0        0\n",
       "2            Bid  2021-09-01   320.0        0"
      ]
     },
     "execution_count": 308,
     "metadata": {},
     "output_type": "execute_result"
    }
   ],
   "source": [
    "df_price_type.head(3)"
   ]
  },
  {
   "cell_type": "code",
   "execution_count": 309,
   "id": "0afff52f-74bc-4480-bb92-68771f101e35",
   "metadata": {
    "tags": []
   },
   "outputs": [
    {
     "data": {
      "text/plain": [
       "10000"
      ]
     },
     "execution_count": 309,
     "metadata": {},
     "output_type": "execute_result"
    }
   ],
   "source": [
    "#how many punks are there? 10000 good\n",
    "len(df_price_type['punk_id'].unique())"
   ]
  },
  {
   "cell_type": "code",
   "execution_count": 310,
   "id": "91c451a2-fa73-4782-896a-e678616190ec",
   "metadata": {},
   "outputs": [
    {
     "data": {
      "text/plain": [
       "19702"
      ]
     },
     "execution_count": 310,
     "metadata": {},
     "output_type": "execute_result"
    }
   ],
   "source": [
    "#locate all transaction sold\n",
    "a = df_price_type.loc[df_price_type['type'] == 'Sold']\n",
    "len(a['punk_id'])"
   ]
  },
  {
   "cell_type": "code",
   "execution_count": 311,
   "id": "c45facc2-dd51-46a4-86a4-a7ebbe8941d3",
   "metadata": {},
   "outputs": [
    {
     "data": {
      "text/plain": [
       "6500"
      ]
     },
     "execution_count": 311,
     "metadata": {},
     "output_type": "execute_result"
    }
   ],
   "source": [
    "#keep only first item for each punk\n",
    "b = a.drop_duplicates(subset=['punk_id'], keep='first')\n",
    "len(b['punk_id'])"
   ]
  },
  {
   "cell_type": "code",
   "execution_count": 312,
   "id": "d1342f5c-914e-41be-b09a-0e12c9b01369",
   "metadata": {},
   "outputs": [
    {
     "data": {
      "text/html": [
       "<div>\n",
       "<style scoped>\n",
       "    .dataframe tbody tr th:only-of-type {\n",
       "        vertical-align: middle;\n",
       "    }\n",
       "\n",
       "    .dataframe tbody tr th {\n",
       "        vertical-align: top;\n",
       "    }\n",
       "\n",
       "    .dataframe thead th {\n",
       "        text-align: right;\n",
       "    }\n",
       "</style>\n",
       "<table border=\"1\" class=\"dataframe\">\n",
       "  <thead>\n",
       "    <tr style=\"text-align: right;\">\n",
       "      <th></th>\n",
       "      <th>type</th>\n",
       "      <th>date</th>\n",
       "      <th>amount</th>\n",
       "      <th>punk_id</th>\n",
       "    </tr>\n",
       "  </thead>\n",
       "  <tbody>\n",
       "    <tr>\n",
       "      <th>21</th>\n",
       "      <td>Sold</td>\n",
       "      <td>2018-11-30</td>\n",
       "      <td>25.0</td>\n",
       "      <td>0</td>\n",
       "    </tr>\n",
       "    <tr>\n",
       "      <th>51</th>\n",
       "      <td>Sold</td>\n",
       "      <td>2020-11-30</td>\n",
       "      <td>60.0</td>\n",
       "      <td>1</td>\n",
       "    </tr>\n",
       "    <tr>\n",
       "      <th>305</th>\n",
       "      <td>Sold</td>\n",
       "      <td>2018-12-07</td>\n",
       "      <td>2.5</td>\n",
       "      <td>14</td>\n",
       "    </tr>\n",
       "  </tbody>\n",
       "</table>\n",
       "</div>"
      ],
      "text/plain": [
       "     type        date  amount  punk_id\n",
       "21   Sold  2018-11-30    25.0        0\n",
       "51   Sold  2020-11-30    60.0        1\n",
       "305  Sold  2018-12-07     2.5       14"
      ]
     },
     "execution_count": 312,
     "metadata": {},
     "output_type": "execute_result"
    }
   ],
   "source": [
    "b.head(3)"
   ]
  },
  {
   "cell_type": "code",
   "execution_count": 313,
   "id": "6f597326-de58-410e-869f-e9c3a9dabab4",
   "metadata": {},
   "outputs": [
    {
     "data": {
      "text/plain": [
       "10000"
      ]
     },
     "execution_count": 313,
     "metadata": {},
     "output_type": "execute_result"
    }
   ],
   "source": [
    "#only claimed\n",
    "c = df_price_type.loc[(df_price_type['amount'] == 0) & (df_price_type['type'] == 'Claimed')]\n",
    "len(c['punk_id'].unique())"
   ]
  },
  {
   "cell_type": "code",
   "execution_count": 314,
   "id": "5aec4149-b62d-460b-aeef-c2516fccda64",
   "metadata": {},
   "outputs": [
    {
     "data": {
      "text/html": [
       "<div>\n",
       "<style scoped>\n",
       "    .dataframe tbody tr th:only-of-type {\n",
       "        vertical-align: middle;\n",
       "    }\n",
       "\n",
       "    .dataframe tbody tr th {\n",
       "        vertical-align: top;\n",
       "    }\n",
       "\n",
       "    .dataframe thead th {\n",
       "        text-align: right;\n",
       "    }\n",
       "</style>\n",
       "<table border=\"1\" class=\"dataframe\">\n",
       "  <thead>\n",
       "    <tr style=\"text-align: right;\">\n",
       "      <th></th>\n",
       "      <th>type</th>\n",
       "      <th>date</th>\n",
       "      <th>amount</th>\n",
       "      <th>punk_id</th>\n",
       "    </tr>\n",
       "  </thead>\n",
       "  <tbody>\n",
       "    <tr>\n",
       "      <th>39</th>\n",
       "      <td>Claimed</td>\n",
       "      <td>2017-06-23</td>\n",
       "      <td>0.0</td>\n",
       "      <td>0</td>\n",
       "    </tr>\n",
       "    <tr>\n",
       "      <th>102</th>\n",
       "      <td>Claimed</td>\n",
       "      <td>2017-06-23</td>\n",
       "      <td>0.0</td>\n",
       "      <td>1</td>\n",
       "    </tr>\n",
       "    <tr>\n",
       "      <th>132</th>\n",
       "      <td>Claimed</td>\n",
       "      <td>2017-06-23</td>\n",
       "      <td>0.0</td>\n",
       "      <td>2</td>\n",
       "    </tr>\n",
       "  </tbody>\n",
       "</table>\n",
       "</div>"
      ],
      "text/plain": [
       "        type        date  amount  punk_id\n",
       "39   Claimed  2017-06-23     0.0        0\n",
       "102  Claimed  2017-06-23     0.0        1\n",
       "132  Claimed  2017-06-23     0.0        2"
      ]
     },
     "execution_count": 314,
     "metadata": {},
     "output_type": "execute_result"
    }
   ],
   "source": [
    "c.head(3)"
   ]
  },
  {
   "cell_type": "code",
   "execution_count": 315,
   "id": "beec70fa-8d09-45c4-afe9-3c47b3412464",
   "metadata": {},
   "outputs": [
    {
     "data": {
      "text/html": [
       "<div>\n",
       "<style scoped>\n",
       "    .dataframe tbody tr th:only-of-type {\n",
       "        vertical-align: middle;\n",
       "    }\n",
       "\n",
       "    .dataframe tbody tr th {\n",
       "        vertical-align: top;\n",
       "    }\n",
       "\n",
       "    .dataframe thead th {\n",
       "        text-align: right;\n",
       "    }\n",
       "</style>\n",
       "<table border=\"1\" class=\"dataframe\">\n",
       "  <thead>\n",
       "    <tr style=\"text-align: right;\">\n",
       "      <th></th>\n",
       "      <th>type</th>\n",
       "      <th>date</th>\n",
       "      <th>amount</th>\n",
       "      <th>punk_id</th>\n",
       "    </tr>\n",
       "  </thead>\n",
       "  <tbody>\n",
       "    <tr>\n",
       "      <th>16497</th>\n",
       "      <td>Claimed</td>\n",
       "      <td>2017-06-23</td>\n",
       "      <td>0.0</td>\n",
       "      <td>9998</td>\n",
       "    </tr>\n",
       "    <tr>\n",
       "      <th>16498</th>\n",
       "      <td>Sold</td>\n",
       "      <td>2021-08-11</td>\n",
       "      <td>110.0</td>\n",
       "      <td>9998</td>\n",
       "    </tr>\n",
       "    <tr>\n",
       "      <th>16499</th>\n",
       "      <td>Claimed</td>\n",
       "      <td>2017-06-23</td>\n",
       "      <td>0.0</td>\n",
       "      <td>9999</td>\n",
       "    </tr>\n",
       "  </tbody>\n",
       "</table>\n",
       "</div>"
      ],
      "text/plain": [
       "          type        date  amount  punk_id\n",
       "16497  Claimed  2017-06-23     0.0     9998\n",
       "16498     Sold  2021-08-11   110.0     9998\n",
       "16499  Claimed  2017-06-23     0.0     9999"
      ]
     },
     "execution_count": 315,
     "metadata": {},
     "output_type": "execute_result"
    }
   ],
   "source": [
    "df_price_type = pd.concat([b, c], ignore_index=True)\n",
    "df_price_type = df_price_type.sort_values(by=['punk_id','date'])\n",
    "df_price_type = df_price_type.reset_index(drop=True)\n",
    "df_price_type.tail(3)"
   ]
  },
  {
   "cell_type": "code",
   "execution_count": 316,
   "id": "014f12fa-a589-4f16-8722-91b3a40a8b76",
   "metadata": {},
   "outputs": [
    {
     "data": {
      "text/plain": [
       "10000"
      ]
     },
     "execution_count": 316,
     "metadata": {},
     "output_type": "execute_result"
    }
   ],
   "source": [
    "#keep only first item for each punk\n",
    "df_price_type = df_price_type.drop_duplicates(subset=['punk_id'], keep='last')\n",
    "len(df_price_type['punk_id'])"
   ]
  },
  {
   "cell_type": "code",
   "execution_count": 317,
   "id": "c14f4961-3e83-4bc0-81bc-acbe6977875f",
   "metadata": {},
   "outputs": [],
   "source": [
    "try:\n",
    "    query = \"\"\"SELECT id, type_id, skin_id FROM punk;\"\"\"\n",
    "    df_punk = pd.read_sql(query,connection)\n",
    "except Exception as e:\n",
    "    cursor.close()\n",
    "    print(str(e))"
   ]
  },
  {
   "cell_type": "code",
   "execution_count": 318,
   "id": "4ea5aa75-98ee-4e65-b3d1-6f7958ebdd62",
   "metadata": {},
   "outputs": [
    {
     "data": {
      "text/html": [
       "<div>\n",
       "<style scoped>\n",
       "    .dataframe tbody tr th:only-of-type {\n",
       "        vertical-align: middle;\n",
       "    }\n",
       "\n",
       "    .dataframe tbody tr th {\n",
       "        vertical-align: top;\n",
       "    }\n",
       "\n",
       "    .dataframe thead th {\n",
       "        text-align: right;\n",
       "    }\n",
       "</style>\n",
       "<table border=\"1\" class=\"dataframe\">\n",
       "  <thead>\n",
       "    <tr style=\"text-align: right;\">\n",
       "      <th></th>\n",
       "      <th>id</th>\n",
       "      <th>type_id</th>\n",
       "      <th>skin_id</th>\n",
       "    </tr>\n",
       "  </thead>\n",
       "  <tbody>\n",
       "    <tr>\n",
       "      <th>0</th>\n",
       "      <td>0</td>\n",
       "      <td>3</td>\n",
       "      <td>6</td>\n",
       "    </tr>\n",
       "    <tr>\n",
       "      <th>1</th>\n",
       "      <td>1</td>\n",
       "      <td>4</td>\n",
       "      <td>4</td>\n",
       "    </tr>\n",
       "    <tr>\n",
       "      <th>2</th>\n",
       "      <td>2</td>\n",
       "      <td>3</td>\n",
       "      <td>5</td>\n",
       "    </tr>\n",
       "  </tbody>\n",
       "</table>\n",
       "</div>"
      ],
      "text/plain": [
       "   id  type_id  skin_id\n",
       "0   0        3        6\n",
       "1   1        4        4\n",
       "2   2        3        5"
      ]
     },
     "execution_count": 318,
     "metadata": {},
     "output_type": "execute_result"
    }
   ],
   "source": [
    "df_punk.head(3)"
   ]
  },
  {
   "cell_type": "code",
   "execution_count": 319,
   "id": "510bd6e3-2102-44b9-8972-538267bcf680",
   "metadata": {},
   "outputs": [
    {
     "data": {
      "text/plain": [
       "id         0\n",
       "type_id    0\n",
       "skin_id    0\n",
       "dtype: int64"
      ]
     },
     "execution_count": 319,
     "metadata": {},
     "output_type": "execute_result"
    }
   ],
   "source": [
    "df_punk.isnull().sum()"
   ]
  },
  {
   "cell_type": "code",
   "execution_count": 320,
   "id": "0f170a7c-a8f3-411c-80f9-793273e4e6a6",
   "metadata": {},
   "outputs": [
    {
     "data": {
      "text/html": [
       "<div>\n",
       "<style scoped>\n",
       "    .dataframe tbody tr th:only-of-type {\n",
       "        vertical-align: middle;\n",
       "    }\n",
       "\n",
       "    .dataframe tbody tr th {\n",
       "        vertical-align: top;\n",
       "    }\n",
       "\n",
       "    .dataframe thead th {\n",
       "        text-align: right;\n",
       "    }\n",
       "</style>\n",
       "<table border=\"1\" class=\"dataframe\">\n",
       "  <thead>\n",
       "    <tr style=\"text-align: right;\">\n",
       "      <th></th>\n",
       "      <th>id</th>\n",
       "      <th>type_id</th>\n",
       "      <th>skin_id</th>\n",
       "    </tr>\n",
       "  </thead>\n",
       "  <tbody>\n",
       "    <tr>\n",
       "      <th>0</th>\n",
       "      <td>0</td>\n",
       "      <td>3</td>\n",
       "      <td>6</td>\n",
       "    </tr>\n",
       "    <tr>\n",
       "      <th>1</th>\n",
       "      <td>1</td>\n",
       "      <td>4</td>\n",
       "      <td>4</td>\n",
       "    </tr>\n",
       "    <tr>\n",
       "      <th>2</th>\n",
       "      <td>2</td>\n",
       "      <td>3</td>\n",
       "      <td>5</td>\n",
       "    </tr>\n",
       "  </tbody>\n",
       "</table>\n",
       "</div>"
      ],
      "text/plain": [
       "   id  type_id  skin_id\n",
       "0   0        3        6\n",
       "1   1        4        4\n",
       "2   2        3        5"
      ]
     },
     "execution_count": 320,
     "metadata": {},
     "output_type": "execute_result"
    }
   ],
   "source": [
    "df_punk = df_punk.sort_values(by=['id'])\n",
    "df_punk = df_punk.reset_index(drop=True)\n",
    "df_punk.head(3)"
   ]
  },
  {
   "cell_type": "code",
   "execution_count": 321,
   "id": "1b08e09d-1dcf-45be-9125-9b4bc6fa29d2",
   "metadata": {},
   "outputs": [
    {
     "data": {
      "text/html": [
       "<div>\n",
       "<style scoped>\n",
       "    .dataframe tbody tr th:only-of-type {\n",
       "        vertical-align: middle;\n",
       "    }\n",
       "\n",
       "    .dataframe tbody tr th {\n",
       "        vertical-align: top;\n",
       "    }\n",
       "\n",
       "    .dataframe thead th {\n",
       "        text-align: right;\n",
       "    }\n",
       "</style>\n",
       "<table border=\"1\" class=\"dataframe\">\n",
       "  <thead>\n",
       "    <tr style=\"text-align: right;\">\n",
       "      <th></th>\n",
       "      <th>punk_id</th>\n",
       "      <th>type_id</th>\n",
       "      <th>skin_id</th>\n",
       "    </tr>\n",
       "  </thead>\n",
       "  <tbody>\n",
       "    <tr>\n",
       "      <th>0</th>\n",
       "      <td>0</td>\n",
       "      <td>3</td>\n",
       "      <td>6</td>\n",
       "    </tr>\n",
       "    <tr>\n",
       "      <th>1</th>\n",
       "      <td>1</td>\n",
       "      <td>4</td>\n",
       "      <td>4</td>\n",
       "    </tr>\n",
       "    <tr>\n",
       "      <th>2</th>\n",
       "      <td>2</td>\n",
       "      <td>3</td>\n",
       "      <td>5</td>\n",
       "    </tr>\n",
       "    <tr>\n",
       "      <th>3</th>\n",
       "      <td>3</td>\n",
       "      <td>4</td>\n",
       "      <td>4</td>\n",
       "    </tr>\n",
       "    <tr>\n",
       "      <th>4</th>\n",
       "      <td>4</td>\n",
       "      <td>4</td>\n",
       "      <td>6</td>\n",
       "    </tr>\n",
       "  </tbody>\n",
       "</table>\n",
       "</div>"
      ],
      "text/plain": [
       "   punk_id  type_id  skin_id\n",
       "0        0        3        6\n",
       "1        1        4        4\n",
       "2        2        3        5\n",
       "3        3        4        4\n",
       "4        4        4        6"
      ]
     },
     "execution_count": 321,
     "metadata": {},
     "output_type": "execute_result"
    }
   ],
   "source": [
    "df_punk = df_punk.rename(columns={'id':'punk_id'})\n",
    "df_punk.head()"
   ]
  },
  {
   "cell_type": "code",
   "execution_count": 322,
   "id": "676fecbe-00b2-402c-820f-7df586ae45f8",
   "metadata": {},
   "outputs": [
    {
     "data": {
      "text/html": [
       "<div>\n",
       "<style scoped>\n",
       "    .dataframe tbody tr th:only-of-type {\n",
       "        vertical-align: middle;\n",
       "    }\n",
       "\n",
       "    .dataframe tbody tr th {\n",
       "        vertical-align: top;\n",
       "    }\n",
       "\n",
       "    .dataframe thead th {\n",
       "        text-align: right;\n",
       "    }\n",
       "</style>\n",
       "<table border=\"1\" class=\"dataframe\">\n",
       "  <thead>\n",
       "    <tr style=\"text-align: right;\">\n",
       "      <th></th>\n",
       "      <th>type</th>\n",
       "      <th>date</th>\n",
       "      <th>amount</th>\n",
       "      <th>punk_id</th>\n",
       "      <th>type_id</th>\n",
       "      <th>skin_id</th>\n",
       "    </tr>\n",
       "  </thead>\n",
       "  <tbody>\n",
       "    <tr>\n",
       "      <th>0</th>\n",
       "      <td>Sold</td>\n",
       "      <td>2018-11-30</td>\n",
       "      <td>25.0</td>\n",
       "      <td>0</td>\n",
       "      <td>3</td>\n",
       "      <td>6</td>\n",
       "    </tr>\n",
       "    <tr>\n",
       "      <th>1</th>\n",
       "      <td>Sold</td>\n",
       "      <td>2020-11-30</td>\n",
       "      <td>60.0</td>\n",
       "      <td>1</td>\n",
       "      <td>4</td>\n",
       "      <td>4</td>\n",
       "    </tr>\n",
       "    <tr>\n",
       "      <th>2</th>\n",
       "      <td>Claimed</td>\n",
       "      <td>2017-06-23</td>\n",
       "      <td>0.0</td>\n",
       "      <td>2</td>\n",
       "      <td>3</td>\n",
       "      <td>5</td>\n",
       "    </tr>\n",
       "  </tbody>\n",
       "</table>\n",
       "</div>"
      ],
      "text/plain": [
       "      type        date  amount  punk_id  type_id  skin_id\n",
       "0     Sold  2018-11-30    25.0        0        3        6\n",
       "1     Sold  2020-11-30    60.0        1        4        4\n",
       "2  Claimed  2017-06-23     0.0        2        3        5"
      ]
     },
     "execution_count": 322,
     "metadata": {},
     "output_type": "execute_result"
    }
   ],
   "source": [
    "df_price_type = pd.merge(df_price_type, df_punk, on=[\"punk_id\"])\n",
    "df_price_type.head(3)"
   ]
  },
  {
   "cell_type": "code",
   "execution_count": 325,
   "id": "48c4ce81-898d-4255-925a-d9f85967a91d",
   "metadata": {},
   "outputs": [
    {
     "data": {
      "text/html": [
       "<div>\n",
       "<style scoped>\n",
       "    .dataframe tbody tr th:only-of-type {\n",
       "        vertical-align: middle;\n",
       "    }\n",
       "\n",
       "    .dataframe tbody tr th {\n",
       "        vertical-align: top;\n",
       "    }\n",
       "\n",
       "    .dataframe thead th {\n",
       "        text-align: right;\n",
       "    }\n",
       "</style>\n",
       "<table border=\"1\" class=\"dataframe\">\n",
       "  <thead>\n",
       "    <tr style=\"text-align: right;\">\n",
       "      <th></th>\n",
       "      <th>amount</th>\n",
       "      <th>punk_id</th>\n",
       "      <th>skin_id</th>\n",
       "      <th>type</th>\n",
       "    </tr>\n",
       "    <tr>\n",
       "      <th>type_id</th>\n",
       "      <th></th>\n",
       "      <th></th>\n",
       "      <th></th>\n",
       "      <th></th>\n",
       "    </tr>\n",
       "  </thead>\n",
       "  <tbody>\n",
       "    <tr>\n",
       "      <th>0</th>\n",
       "      <td>1004.555556</td>\n",
       "      <td>4801.222222</td>\n",
       "      <td>0.000000</td>\n",
       "      <td>0</td>\n",
       "    </tr>\n",
       "    <tr>\n",
       "      <th>1</th>\n",
       "      <td>321.491250</td>\n",
       "      <td>4830.291667</td>\n",
       "      <td>1.000000</td>\n",
       "      <td>1</td>\n",
       "    </tr>\n",
       "    <tr>\n",
       "      <th>2</th>\n",
       "      <td>177.537045</td>\n",
       "      <td>5280.602273</td>\n",
       "      <td>2.000000</td>\n",
       "      <td>2</td>\n",
       "    </tr>\n",
       "    <tr>\n",
       "      <th>3</th>\n",
       "      <td>27.654885</td>\n",
       "      <td>4915.416146</td>\n",
       "      <td>4.800260</td>\n",
       "      <td>3</td>\n",
       "    </tr>\n",
       "    <tr>\n",
       "      <th>4</th>\n",
       "      <td>33.098354</td>\n",
       "      <td>5049.837887</td>\n",
       "      <td>4.824143</td>\n",
       "      <td>4</td>\n",
       "    </tr>\n",
       "  </tbody>\n",
       "</table>\n",
       "</div>"
      ],
      "text/plain": [
       "              amount      punk_id   skin_id  type\n",
       "type_id                                          \n",
       "0        1004.555556  4801.222222  0.000000     0\n",
       "1         321.491250  4830.291667  1.000000     1\n",
       "2         177.537045  5280.602273  2.000000     2\n",
       "3          27.654885  4915.416146  4.800260     3\n",
       "4          33.098354  5049.837887  4.824143     4"
      ]
     },
     "execution_count": 325,
     "metadata": {},
     "output_type": "execute_result"
    }
   ],
   "source": [
    "data = df_price_type.groupby(['type_id']).mean()\n",
    "data['type'] = data.index\n",
    "data"
   ]
  },
  {
   "cell_type": "code",
   "execution_count": 326,
   "id": "6bf9f4b9-4b21-42f2-93ba-41fb9f59507f",
   "metadata": {},
   "outputs": [
    {
     "data": {
      "image/png": "[encoded data removed]",
      "text/plain": [
       "<Figure size 1080x432 with 1 Axes>"
      ]
     },
     "metadata": {
      "needs_background": "light"
     },
     "output_type": "display_data"
    }
   ],
   "source": [
    "plt.figure(figsize =(15, 6))\n",
    "a = sns.barplot(x=\"type\", y=\"amount\", data=data, palette=\"YlOrBr_r\")\n",
    "\n",
    "a.set_xticklabels(['Alien','Ape','Zombie','Female','Male'],fontsize=15)\n",
    "a.set(yticklabels=[])\n",
    "a.set(ylabel=None)\n",
    "a.tick_params(left=False)\n",
    "\n",
    "for index, row in data.iterrows():\n",
    "    a.text(row.type, row.amount,round(row.amount,2), color='black', ha=\"center\",fontsize=15)\n",
    "\n",
    "plt.title(\"Average price in Ethers of one punk by type\",fontsize=20)\n",
    "plt.xlabel(\"\")\n",
    "plt.ylabel(\"\")\n",
    "plt.savefig('9.png')\n",
    "plt.show(a)"
   ]
  },
  {
   "cell_type": "markdown",
   "id": "cbde25e1-bec1-4fc2-b542-7408ecc9ce1d",
   "metadata": {},
   "source": [
    "### Average price by skin"
   ]
  },
  {
   "cell_type": "code",
   "execution_count": 328,
   "id": "dbad1094-625b-4bb5-92d1-318b35d6adbe",
   "metadata": {},
   "outputs": [
    {
     "data": {
      "text/html": [
       "<div>\n",
       "<style scoped>\n",
       "    .dataframe tbody tr th:only-of-type {\n",
       "        vertical-align: middle;\n",
       "    }\n",
       "\n",
       "    .dataframe tbody tr th {\n",
       "        vertical-align: top;\n",
       "    }\n",
       "\n",
       "    .dataframe thead th {\n",
       "        text-align: right;\n",
       "    }\n",
       "</style>\n",
       "<table border=\"1\" class=\"dataframe\">\n",
       "  <thead>\n",
       "    <tr style=\"text-align: right;\">\n",
       "      <th></th>\n",
       "      <th>amount</th>\n",
       "      <th>punk_id</th>\n",
       "      <th>type_id</th>\n",
       "      <th>skin</th>\n",
       "    </tr>\n",
       "    <tr>\n",
       "      <th>skin_id</th>\n",
       "      <th></th>\n",
       "      <th></th>\n",
       "      <th></th>\n",
       "      <th></th>\n",
       "    </tr>\n",
       "  </thead>\n",
       "  <tbody>\n",
       "    <tr>\n",
       "      <th>0</th>\n",
       "      <td>1004.555556</td>\n",
       "      <td>4801.222222</td>\n",
       "      <td>0.000000</td>\n",
       "      <td>0</td>\n",
       "    </tr>\n",
       "    <tr>\n",
       "      <th>1</th>\n",
       "      <td>321.491250</td>\n",
       "      <td>4830.291667</td>\n",
       "      <td>1.000000</td>\n",
       "      <td>1</td>\n",
       "    </tr>\n",
       "    <tr>\n",
       "      <th>2</th>\n",
       "      <td>177.537045</td>\n",
       "      <td>5280.602273</td>\n",
       "      <td>2.000000</td>\n",
       "      <td>2</td>\n",
       "    </tr>\n",
       "    <tr>\n",
       "      <th>3</th>\n",
       "      <td>31.734381</td>\n",
       "      <td>5176.261297</td>\n",
       "      <td>3.587426</td>\n",
       "      <td>3</td>\n",
       "    </tr>\n",
       "    <tr>\n",
       "      <th>4</th>\n",
       "      <td>30.569593</td>\n",
       "      <td>4933.063031</td>\n",
       "      <td>3.610127</td>\n",
       "      <td>4</td>\n",
       "    </tr>\n",
       "    <tr>\n",
       "      <th>5</th>\n",
       "      <td>32.024558</td>\n",
       "      <td>5043.211910</td>\n",
       "      <td>3.619095</td>\n",
       "      <td>5</td>\n",
       "    </tr>\n",
       "    <tr>\n",
       "      <th>6</th>\n",
       "      <td>30.081085</td>\n",
       "      <td>4952.448037</td>\n",
       "      <td>3.612669</td>\n",
       "      <td>6</td>\n",
       "    </tr>\n",
       "  </tbody>\n",
       "</table>\n",
       "</div>"
      ],
      "text/plain": [
       "              amount      punk_id   type_id  skin\n",
       "skin_id                                          \n",
       "0        1004.555556  4801.222222  0.000000     0\n",
       "1         321.491250  4830.291667  1.000000     1\n",
       "2         177.537045  5280.602273  2.000000     2\n",
       "3          31.734381  5176.261297  3.587426     3\n",
       "4          30.569593  4933.063031  3.610127     4\n",
       "5          32.024558  5043.211910  3.619095     5\n",
       "6          30.081085  4952.448037  3.612669     6"
      ]
     },
     "execution_count": 328,
     "metadata": {},
     "output_type": "execute_result"
    }
   ],
   "source": [
    "data = df_price_type.groupby(['skin_id']).mean()\n",
    "data['skin'] = data.index\n",
    "data"
   ]
  },
  {
   "cell_type": "code",
   "execution_count": 329,
   "id": "ebb880a5-bb3b-41b3-84e6-da1e273bc6d5",
   "metadata": {},
   "outputs": [
    {
     "data": {
      "image/png": "[encoded data removed]",
      "text/plain": [
       "<Figure size 1080x432 with 1 Axes>"
      ]
     },
     "metadata": {
      "needs_background": "light"
     },
     "output_type": "display_data"
    }
   ],
   "source": [
    "plt.figure(figsize =(15, 6))\n",
    "a = sns.barplot(x=\"skin\", y=\"amount\", data=data, palette=\"YlOrBr_r\")\n",
    "\n",
    "a.set_xticklabels(['Alien','Ape','Zombie','Albino','Dark','Light','Mid'],fontsize=15)\n",
    "a.set(yticklabels=[])\n",
    "a.set(ylabel=None)\n",
    "a.tick_params(left=False)\n",
    "\n",
    "for index, row in data.iterrows():\n",
    "    a.text(row.skin, row.amount,round(row.amount,2), color='black', ha=\"center\",fontsize=15)\n",
    "\n",
    "plt.title(\"Average price in Ethers of one punk by skin\",fontsize=20)\n",
    "plt.xlabel(\"\")\n",
    "plt.ylabel(\"\")\n",
    "plt.savefig('10.png')\n",
    "plt.show(a)"
   ]
  },
  {
   "cell_type": "markdown",
   "id": "ed14f8e8-b37d-452c-9c9e-28d4c6098ff8",
   "metadata": {},
   "source": [
    "### Average price by attribute"
   ]
  },
  {
   "cell_type": "code",
   "execution_count": 330,
   "id": "2c4ed95f-f734-4045-b330-86add2017de5",
   "metadata": {},
   "outputs": [],
   "source": [
    "try:\n",
    "    query = \"\"\"SELECT punk_id, attribute_id FROM punk_attribute_relation;\"\"\"\n",
    "    df_att = pd.read_sql(query,connection)\n",
    "except Exception as e:\n",
    "    cursor.close()\n",
    "    print(str(e))"
   ]
  },
  {
   "cell_type": "code",
   "execution_count": 331,
   "id": "a2538795-23aa-46c7-8a8b-f9dab9815cd6",
   "metadata": {},
   "outputs": [
    {
     "data": {
      "text/html": [
       "<div>\n",
       "<style scoped>\n",
       "    .dataframe tbody tr th:only-of-type {\n",
       "        vertical-align: middle;\n",
       "    }\n",
       "\n",
       "    .dataframe tbody tr th {\n",
       "        vertical-align: top;\n",
       "    }\n",
       "\n",
       "    .dataframe thead th {\n",
       "        text-align: right;\n",
       "    }\n",
       "</style>\n",
       "<table border=\"1\" class=\"dataframe\">\n",
       "  <thead>\n",
       "    <tr style=\"text-align: right;\">\n",
       "      <th></th>\n",
       "      <th>punk_id</th>\n",
       "      <th>type_id</th>\n",
       "      <th>skin_id</th>\n",
       "    </tr>\n",
       "  </thead>\n",
       "  <tbody>\n",
       "    <tr>\n",
       "      <th>0</th>\n",
       "      <td>0</td>\n",
       "      <td>3</td>\n",
       "      <td>6</td>\n",
       "    </tr>\n",
       "    <tr>\n",
       "      <th>1</th>\n",
       "      <td>1</td>\n",
       "      <td>4</td>\n",
       "      <td>4</td>\n",
       "    </tr>\n",
       "    <tr>\n",
       "      <th>2</th>\n",
       "      <td>2</td>\n",
       "      <td>3</td>\n",
       "      <td>5</td>\n",
       "    </tr>\n",
       "    <tr>\n",
       "      <th>3</th>\n",
       "      <td>3</td>\n",
       "      <td>4</td>\n",
       "      <td>4</td>\n",
       "    </tr>\n",
       "    <tr>\n",
       "      <th>4</th>\n",
       "      <td>4</td>\n",
       "      <td>4</td>\n",
       "      <td>6</td>\n",
       "    </tr>\n",
       "  </tbody>\n",
       "</table>\n",
       "</div>"
      ],
      "text/plain": [
       "   punk_id  type_id  skin_id\n",
       "0        0        3        6\n",
       "1        1        4        4\n",
       "2        2        3        5\n",
       "3        3        4        4\n",
       "4        4        4        6"
      ]
     },
     "execution_count": 331,
     "metadata": {},
     "output_type": "execute_result"
    }
   ],
   "source": [
    "df = df_punk.sort_values(by=['punk_id'])\n",
    "df = df_punk.reset_index(drop=True)\n",
    "df.head()"
   ]
  },
  {
   "cell_type": "code",
   "execution_count": 332,
   "id": "f7a0ced2-ffcd-4ddf-aa6b-5d51abf25dcf",
   "metadata": {},
   "outputs": [
    {
     "data": {
      "text/html": [
       "<div>\n",
       "<style scoped>\n",
       "    .dataframe tbody tr th:only-of-type {\n",
       "        vertical-align: middle;\n",
       "    }\n",
       "\n",
       "    .dataframe tbody tr th {\n",
       "        vertical-align: top;\n",
       "    }\n",
       "\n",
       "    .dataframe thead th {\n",
       "        text-align: right;\n",
       "    }\n",
       "</style>\n",
       "<table border=\"1\" class=\"dataframe\">\n",
       "  <thead>\n",
       "    <tr style=\"text-align: right;\">\n",
       "      <th></th>\n",
       "      <th>punk_id</th>\n",
       "      <th>attribute_id</th>\n",
       "    </tr>\n",
       "  </thead>\n",
       "  <tbody>\n",
       "    <tr>\n",
       "      <th>0</th>\n",
       "      <td>1</td>\n",
       "      <td>34</td>\n",
       "    </tr>\n",
       "    <tr>\n",
       "      <th>1</th>\n",
       "      <td>1</td>\n",
       "      <td>67</td>\n",
       "    </tr>\n",
       "    <tr>\n",
       "      <th>2</th>\n",
       "      <td>2</td>\n",
       "      <td>70</td>\n",
       "    </tr>\n",
       "    <tr>\n",
       "      <th>3</th>\n",
       "      <td>3</td>\n",
       "      <td>70</td>\n",
       "    </tr>\n",
       "    <tr>\n",
       "      <th>4</th>\n",
       "      <td>3</td>\n",
       "      <td>80</td>\n",
       "    </tr>\n",
       "  </tbody>\n",
       "</table>\n",
       "</div>"
      ],
      "text/plain": [
       "   punk_id  attribute_id\n",
       "0        1            34\n",
       "1        1            67\n",
       "2        2            70\n",
       "3        3            70\n",
       "4        3            80"
      ]
     },
     "execution_count": 332,
     "metadata": {},
     "output_type": "execute_result"
    }
   ],
   "source": [
    "df_att.head()"
   ]
  },
  {
   "cell_type": "code",
   "execution_count": 333,
   "id": "b9ee7e1e-bbd5-4ad4-b50d-f1e71c3b3048",
   "metadata": {},
   "outputs": [
    {
     "data": {
      "text/html": [
       "<div>\n",
       "<style scoped>\n",
       "    .dataframe tbody tr th:only-of-type {\n",
       "        vertical-align: middle;\n",
       "    }\n",
       "\n",
       "    .dataframe tbody tr th {\n",
       "        vertical-align: top;\n",
       "    }\n",
       "\n",
       "    .dataframe thead th {\n",
       "        text-align: right;\n",
       "    }\n",
       "</style>\n",
       "<table border=\"1\" class=\"dataframe\">\n",
       "  <thead>\n",
       "    <tr style=\"text-align: right;\">\n",
       "      <th></th>\n",
       "      <th>punk_id</th>\n",
       "      <th>attribute_id_0</th>\n",
       "      <th>attribute_id_1</th>\n",
       "      <th>attribute_id_2</th>\n",
       "      <th>attribute_id_3</th>\n",
       "      <th>attribute_id_4</th>\n",
       "      <th>attribute_id_5</th>\n",
       "      <th>attribute_id_6</th>\n",
       "      <th>attribute_id_7</th>\n",
       "      <th>attribute_id_8</th>\n",
       "      <th>...</th>\n",
       "      <th>attribute_id_77</th>\n",
       "      <th>attribute_id_78</th>\n",
       "      <th>attribute_id_79</th>\n",
       "      <th>attribute_id_80</th>\n",
       "      <th>attribute_id_81</th>\n",
       "      <th>attribute_id_82</th>\n",
       "      <th>attribute_id_83</th>\n",
       "      <th>attribute_id_84</th>\n",
       "      <th>attribute_id_85</th>\n",
       "      <th>attribute_id_86</th>\n",
       "    </tr>\n",
       "  </thead>\n",
       "  <tbody>\n",
       "    <tr>\n",
       "      <th>0</th>\n",
       "      <td>1</td>\n",
       "      <td>0</td>\n",
       "      <td>0</td>\n",
       "      <td>0</td>\n",
       "      <td>0</td>\n",
       "      <td>0</td>\n",
       "      <td>0</td>\n",
       "      <td>0</td>\n",
       "      <td>0</td>\n",
       "      <td>0</td>\n",
       "      <td>...</td>\n",
       "      <td>0</td>\n",
       "      <td>0</td>\n",
       "      <td>0</td>\n",
       "      <td>0</td>\n",
       "      <td>0</td>\n",
       "      <td>0</td>\n",
       "      <td>0</td>\n",
       "      <td>0</td>\n",
       "      <td>0</td>\n",
       "      <td>0</td>\n",
       "    </tr>\n",
       "    <tr>\n",
       "      <th>1</th>\n",
       "      <td>1</td>\n",
       "      <td>0</td>\n",
       "      <td>0</td>\n",
       "      <td>0</td>\n",
       "      <td>0</td>\n",
       "      <td>0</td>\n",
       "      <td>0</td>\n",
       "      <td>0</td>\n",
       "      <td>0</td>\n",
       "      <td>0</td>\n",
       "      <td>...</td>\n",
       "      <td>0</td>\n",
       "      <td>0</td>\n",
       "      <td>0</td>\n",
       "      <td>0</td>\n",
       "      <td>0</td>\n",
       "      <td>0</td>\n",
       "      <td>0</td>\n",
       "      <td>0</td>\n",
       "      <td>0</td>\n",
       "      <td>0</td>\n",
       "    </tr>\n",
       "    <tr>\n",
       "      <th>2</th>\n",
       "      <td>2</td>\n",
       "      <td>0</td>\n",
       "      <td>0</td>\n",
       "      <td>0</td>\n",
       "      <td>0</td>\n",
       "      <td>0</td>\n",
       "      <td>0</td>\n",
       "      <td>0</td>\n",
       "      <td>0</td>\n",
       "      <td>0</td>\n",
       "      <td>...</td>\n",
       "      <td>0</td>\n",
       "      <td>0</td>\n",
       "      <td>0</td>\n",
       "      <td>0</td>\n",
       "      <td>0</td>\n",
       "      <td>0</td>\n",
       "      <td>0</td>\n",
       "      <td>0</td>\n",
       "      <td>0</td>\n",
       "      <td>0</td>\n",
       "    </tr>\n",
       "  </tbody>\n",
       "</table>\n",
       "<p>3 rows × 87 columns</p>\n",
       "</div>"
      ],
      "text/plain": [
       "   punk_id  attribute_id_0  attribute_id_1  attribute_id_2  attribute_id_3  \\\n",
       "0        1               0               0               0               0   \n",
       "1        1               0               0               0               0   \n",
       "2        2               0               0               0               0   \n",
       "\n",
       "   attribute_id_4  attribute_id_5  attribute_id_6  attribute_id_7  \\\n",
       "0               0               0               0               0   \n",
       "1               0               0               0               0   \n",
       "2               0               0               0               0   \n",
       "\n",
       "   attribute_id_8  ...  attribute_id_77  attribute_id_78  attribute_id_79  \\\n",
       "0               0  ...                0                0                0   \n",
       "1               0  ...                0                0                0   \n",
       "2               0  ...                0                0                0   \n",
       "\n",
       "   attribute_id_80  attribute_id_81  attribute_id_82  attribute_id_83  \\\n",
       "0                0                0                0                0   \n",
       "1                0                0                0                0   \n",
       "2                0                0                0                0   \n",
       "\n",
       "   attribute_id_84  attribute_id_85  attribute_id_86  \n",
       "0                0                0                0  \n",
       "1                0                0                0  \n",
       "2                0                0                0  \n",
       "\n",
       "[3 rows x 87 columns]"
      ]
     },
     "execution_count": 333,
     "metadata": {},
     "output_type": "execute_result"
    }
   ],
   "source": [
    "df_dummies = pd.get_dummies(df_att, columns=['attribute_id'])\n",
    "df_dummies.head(3)"
   ]
  },
  {
   "cell_type": "code",
   "execution_count": 334,
   "id": "3eb60ef8-c708-46e7-9f98-a3fcea575372",
   "metadata": {},
   "outputs": [
    {
     "data": {
      "text/html": [
       "<div>\n",
       "<style scoped>\n",
       "    .dataframe tbody tr th:only-of-type {\n",
       "        vertical-align: middle;\n",
       "    }\n",
       "\n",
       "    .dataframe tbody tr th {\n",
       "        vertical-align: top;\n",
       "    }\n",
       "\n",
       "    .dataframe thead th {\n",
       "        text-align: right;\n",
       "    }\n",
       "</style>\n",
       "<table border=\"1\" class=\"dataframe\">\n",
       "  <thead>\n",
       "    <tr style=\"text-align: right;\">\n",
       "      <th></th>\n",
       "      <th>total_att</th>\n",
       "      <th>punk_id</th>\n",
       "    </tr>\n",
       "  </thead>\n",
       "  <tbody>\n",
       "    <tr>\n",
       "      <th>0</th>\n",
       "      <td>3</td>\n",
       "      <td>0</td>\n",
       "    </tr>\n",
       "    <tr>\n",
       "      <th>1</th>\n",
       "      <td>2</td>\n",
       "      <td>1</td>\n",
       "    </tr>\n",
       "    <tr>\n",
       "      <th>2</th>\n",
       "      <td>1</td>\n",
       "      <td>2</td>\n",
       "    </tr>\n",
       "  </tbody>\n",
       "</table>\n",
       "</div>"
      ],
      "text/plain": [
       "   total_att  punk_id\n",
       "0          3        0\n",
       "1          2        1\n",
       "2          1        2"
      ]
     },
     "execution_count": 334,
     "metadata": {},
     "output_type": "execute_result"
    }
   ],
   "source": [
    "df_attributes = df_dummies.groupby(['punk_id']).count()\n",
    "df_attributes = df_attributes[['attribute_id_0']]\n",
    "df_attributes['punk_id'] = df_attributes.index\n",
    "df_attributes = df_attributes.rename(columns={'attribute_id_0':'total_att'})\n",
    "df_attributes = df_attributes.reset_index(drop=True)\n",
    "df_attributes.head(3)"
   ]
  },
  {
   "cell_type": "code",
   "execution_count": 335,
   "id": "469e2a2c-88b3-4e93-ad52-ce032402046a",
   "metadata": {},
   "outputs": [
    {
     "data": {
      "text/plain": [
       "9992"
      ]
     },
     "execution_count": 335,
     "metadata": {},
     "output_type": "execute_result"
    }
   ],
   "source": [
    "len(df_attributes)"
   ]
  },
  {
   "cell_type": "code",
   "execution_count": 336,
   "id": "bd74cfe8-fe81-4c00-945b-370e92feb819",
   "metadata": {},
   "outputs": [
    {
     "data": {
      "text/plain": [
       "10000"
      ]
     },
     "execution_count": 336,
     "metadata": {},
     "output_type": "execute_result"
    }
   ],
   "source": [
    "new_row = {'total_att':0, 'punk_id':281}\n",
    "df_attributes = df_attributes.append(new_row, ignore_index=True)\n",
    "new_row = {'total_att':0, 'punk_id':510}\n",
    "df_attributes = df_attributes.append(new_row, ignore_index=True)\n",
    "new_row = {'total_att':0, 'punk_id':641}\n",
    "df_attributes = df_attributes.append(new_row, ignore_index=True)\n",
    "new_row = {'total_att':0, 'punk_id':741}\n",
    "df_attributes = df_attributes.append(new_row, ignore_index=True)\n",
    "new_row = {'total_att':0, 'punk_id':1050}\n",
    "df_attributes = df_attributes.append(new_row, ignore_index=True)\n",
    "new_row = {'total_att':0, 'punk_id':2204}\n",
    "df_attributes = df_attributes.append(new_row, ignore_index=True)\n",
    "new_row = {'total_att':0, 'punk_id':3307}\n",
    "df_attributes = df_attributes.append(new_row, ignore_index=True)\n",
    "new_row = {'total_att':0, 'punk_id':6487}\n",
    "df_attributes = df_attributes.append(new_row, ignore_index=True)\n",
    "len(df_attributes)"
   ]
  },
  {
   "cell_type": "code",
   "execution_count": 337,
   "id": "238054b8-72ae-4385-ba3f-b122ff44afb7",
   "metadata": {},
   "outputs": [
    {
     "data": {
      "text/plain": [
       "10000"
      ]
     },
     "execution_count": 337,
     "metadata": {},
     "output_type": "execute_result"
    }
   ],
   "source": [
    "len(df_attributes['punk_id'].unique())"
   ]
  },
  {
   "cell_type": "code",
   "execution_count": 338,
   "id": "113c486a-fb33-433c-b99b-d4071540d30d",
   "metadata": {},
   "outputs": [
    {
     "data": {
      "text/html": [
       "<div>\n",
       "<style scoped>\n",
       "    .dataframe tbody tr th:only-of-type {\n",
       "        vertical-align: middle;\n",
       "    }\n",
       "\n",
       "    .dataframe tbody tr th {\n",
       "        vertical-align: top;\n",
       "    }\n",
       "\n",
       "    .dataframe thead th {\n",
       "        text-align: right;\n",
       "    }\n",
       "</style>\n",
       "<table border=\"1\" class=\"dataframe\">\n",
       "  <thead>\n",
       "    <tr style=\"text-align: right;\">\n",
       "      <th></th>\n",
       "      <th>type</th>\n",
       "      <th>date</th>\n",
       "      <th>amount</th>\n",
       "      <th>punk_id</th>\n",
       "      <th>type_id</th>\n",
       "      <th>skin_id</th>\n",
       "    </tr>\n",
       "  </thead>\n",
       "  <tbody>\n",
       "    <tr>\n",
       "      <th>0</th>\n",
       "      <td>Sold</td>\n",
       "      <td>2018-11-30</td>\n",
       "      <td>25.0</td>\n",
       "      <td>0</td>\n",
       "      <td>3</td>\n",
       "      <td>6</td>\n",
       "    </tr>\n",
       "    <tr>\n",
       "      <th>1</th>\n",
       "      <td>Sold</td>\n",
       "      <td>2020-11-30</td>\n",
       "      <td>60.0</td>\n",
       "      <td>1</td>\n",
       "      <td>4</td>\n",
       "      <td>4</td>\n",
       "    </tr>\n",
       "    <tr>\n",
       "      <th>2</th>\n",
       "      <td>Claimed</td>\n",
       "      <td>2017-06-23</td>\n",
       "      <td>0.0</td>\n",
       "      <td>2</td>\n",
       "      <td>3</td>\n",
       "      <td>5</td>\n",
       "    </tr>\n",
       "    <tr>\n",
       "      <th>3</th>\n",
       "      <td>Claimed</td>\n",
       "      <td>2017-06-23</td>\n",
       "      <td>0.0</td>\n",
       "      <td>3</td>\n",
       "      <td>4</td>\n",
       "      <td>4</td>\n",
       "    </tr>\n",
       "    <tr>\n",
       "      <th>4</th>\n",
       "      <td>Claimed</td>\n",
       "      <td>2017-06-23</td>\n",
       "      <td>0.0</td>\n",
       "      <td>4</td>\n",
       "      <td>4</td>\n",
       "      <td>6</td>\n",
       "    </tr>\n",
       "  </tbody>\n",
       "</table>\n",
       "</div>"
      ],
      "text/plain": [
       "      type        date  amount  punk_id  type_id  skin_id\n",
       "0     Sold  2018-11-30    25.0        0        3        6\n",
       "1     Sold  2020-11-30    60.0        1        4        4\n",
       "2  Claimed  2017-06-23     0.0        2        3        5\n",
       "3  Claimed  2017-06-23     0.0        3        4        4\n",
       "4  Claimed  2017-06-23     0.0        4        4        6"
      ]
     },
     "execution_count": 338,
     "metadata": {},
     "output_type": "execute_result"
    }
   ],
   "source": [
    "df_price_type.head()"
   ]
  },
  {
   "cell_type": "code",
   "execution_count": 339,
   "id": "6233ab42-9fd8-4cef-a939-333a3cf6dffc",
   "metadata": {},
   "outputs": [
    {
     "data": {
      "text/html": [
       "<div>\n",
       "<style scoped>\n",
       "    .dataframe tbody tr th:only-of-type {\n",
       "        vertical-align: middle;\n",
       "    }\n",
       "\n",
       "    .dataframe tbody tr th {\n",
       "        vertical-align: top;\n",
       "    }\n",
       "\n",
       "    .dataframe thead th {\n",
       "        text-align: right;\n",
       "    }\n",
       "</style>\n",
       "<table border=\"1\" class=\"dataframe\">\n",
       "  <thead>\n",
       "    <tr style=\"text-align: right;\">\n",
       "      <th></th>\n",
       "      <th>total_att</th>\n",
       "      <th>punk_id</th>\n",
       "      <th>type</th>\n",
       "      <th>date</th>\n",
       "      <th>amount</th>\n",
       "      <th>type_id</th>\n",
       "      <th>skin_id</th>\n",
       "    </tr>\n",
       "  </thead>\n",
       "  <tbody>\n",
       "    <tr>\n",
       "      <th>0</th>\n",
       "      <td>3</td>\n",
       "      <td>0</td>\n",
       "      <td>Sold</td>\n",
       "      <td>2018-11-30</td>\n",
       "      <td>25.0</td>\n",
       "      <td>3</td>\n",
       "      <td>6</td>\n",
       "    </tr>\n",
       "    <tr>\n",
       "      <th>1</th>\n",
       "      <td>2</td>\n",
       "      <td>1</td>\n",
       "      <td>Sold</td>\n",
       "      <td>2020-11-30</td>\n",
       "      <td>60.0</td>\n",
       "      <td>4</td>\n",
       "      <td>4</td>\n",
       "    </tr>\n",
       "    <tr>\n",
       "      <th>2</th>\n",
       "      <td>1</td>\n",
       "      <td>2</td>\n",
       "      <td>Claimed</td>\n",
       "      <td>2017-06-23</td>\n",
       "      <td>0.0</td>\n",
       "      <td>3</td>\n",
       "      <td>5</td>\n",
       "    </tr>\n",
       "    <tr>\n",
       "      <th>3</th>\n",
       "      <td>3</td>\n",
       "      <td>3</td>\n",
       "      <td>Claimed</td>\n",
       "      <td>2017-06-23</td>\n",
       "      <td>0.0</td>\n",
       "      <td>4</td>\n",
       "      <td>4</td>\n",
       "    </tr>\n",
       "    <tr>\n",
       "      <th>4</th>\n",
       "      <td>4</td>\n",
       "      <td>4</td>\n",
       "      <td>Claimed</td>\n",
       "      <td>2017-06-23</td>\n",
       "      <td>0.0</td>\n",
       "      <td>4</td>\n",
       "      <td>6</td>\n",
       "    </tr>\n",
       "  </tbody>\n",
       "</table>\n",
       "</div>"
      ],
      "text/plain": [
       "   total_att  punk_id     type        date  amount  type_id  skin_id\n",
       "0          3        0     Sold  2018-11-30    25.0        3        6\n",
       "1          2        1     Sold  2020-11-30    60.0        4        4\n",
       "2          1        2  Claimed  2017-06-23     0.0        3        5\n",
       "3          3        3  Claimed  2017-06-23     0.0        4        4\n",
       "4          4        4  Claimed  2017-06-23     0.0        4        6"
      ]
     },
     "execution_count": 339,
     "metadata": {},
     "output_type": "execute_result"
    }
   ],
   "source": [
    "df_price = pd.merge(df_attributes, df_price_type, on=[\"punk_id\"])\n",
    "df_price.head(5)"
   ]
  },
  {
   "cell_type": "code",
   "execution_count": 340,
   "id": "32511986-fc13-4655-a2b8-3574ce95907b",
   "metadata": {},
   "outputs": [
    {
     "data": {
      "text/html": [
       "<div>\n",
       "<style scoped>\n",
       "    .dataframe tbody tr th:only-of-type {\n",
       "        vertical-align: middle;\n",
       "    }\n",
       "\n",
       "    .dataframe tbody tr th {\n",
       "        vertical-align: top;\n",
       "    }\n",
       "\n",
       "    .dataframe thead th {\n",
       "        text-align: right;\n",
       "    }\n",
       "</style>\n",
       "<table border=\"1\" class=\"dataframe\">\n",
       "  <thead>\n",
       "    <tr style=\"text-align: right;\">\n",
       "      <th></th>\n",
       "      <th>punk_id</th>\n",
       "      <th>amount</th>\n",
       "      <th>type_id</th>\n",
       "      <th>skin_id</th>\n",
       "      <th>total_att</th>\n",
       "    </tr>\n",
       "    <tr>\n",
       "      <th>total_att</th>\n",
       "      <th></th>\n",
       "      <th></th>\n",
       "      <th></th>\n",
       "      <th></th>\n",
       "      <th></th>\n",
       "    </tr>\n",
       "  </thead>\n",
       "  <tbody>\n",
       "    <tr>\n",
       "      <th>0</th>\n",
       "      <td>1902.625000</td>\n",
       "      <td>95.628750</td>\n",
       "      <td>3.500000</td>\n",
       "      <td>4.500000</td>\n",
       "      <td>0</td>\n",
       "    </tr>\n",
       "    <tr>\n",
       "      <th>1</th>\n",
       "      <td>2479.561562</td>\n",
       "      <td>47.336216</td>\n",
       "      <td>3.357357</td>\n",
       "      <td>4.378378</td>\n",
       "      <td>1</td>\n",
       "    </tr>\n",
       "    <tr>\n",
       "      <th>2</th>\n",
       "      <td>4382.905337</td>\n",
       "      <td>33.775444</td>\n",
       "      <td>3.571629</td>\n",
       "      <td>4.690449</td>\n",
       "      <td>2</td>\n",
       "    </tr>\n",
       "    <tr>\n",
       "      <th>3</th>\n",
       "      <td>5454.828927</td>\n",
       "      <td>33.333959</td>\n",
       "      <td>3.604310</td>\n",
       "      <td>4.838480</td>\n",
       "      <td>3</td>\n",
       "    </tr>\n",
       "    <tr>\n",
       "      <th>4</th>\n",
       "      <td>5643.367606</td>\n",
       "      <td>30.231014</td>\n",
       "      <td>3.621127</td>\n",
       "      <td>4.876761</td>\n",
       "      <td>4</td>\n",
       "    </tr>\n",
       "    <tr>\n",
       "      <th>5</th>\n",
       "      <td>5561.036145</td>\n",
       "      <td>45.206687</td>\n",
       "      <td>3.662651</td>\n",
       "      <td>4.897590</td>\n",
       "      <td>5</td>\n",
       "    </tr>\n",
       "    <tr>\n",
       "      <th>6</th>\n",
       "      <td>4881.363636</td>\n",
       "      <td>103.063636</td>\n",
       "      <td>3.454545</td>\n",
       "      <td>4.727273</td>\n",
       "      <td>6</td>\n",
       "    </tr>\n",
       "    <tr>\n",
       "      <th>7</th>\n",
       "      <td>8348.000000</td>\n",
       "      <td>85.000000</td>\n",
       "      <td>4.000000</td>\n",
       "      <td>6.000000</td>\n",
       "      <td>7</td>\n",
       "    </tr>\n",
       "  </tbody>\n",
       "</table>\n",
       "</div>"
      ],
      "text/plain": [
       "               punk_id      amount   type_id   skin_id  total_att\n",
       "total_att                                                        \n",
       "0          1902.625000   95.628750  3.500000  4.500000          0\n",
       "1          2479.561562   47.336216  3.357357  4.378378          1\n",
       "2          4382.905337   33.775444  3.571629  4.690449          2\n",
       "3          5454.828927   33.333959  3.604310  4.838480          3\n",
       "4          5643.367606   30.231014  3.621127  4.876761          4\n",
       "5          5561.036145   45.206687  3.662651  4.897590          5\n",
       "6          4881.363636  103.063636  3.454545  4.727273          6\n",
       "7          8348.000000   85.000000  4.000000  6.000000          7"
      ]
     },
     "execution_count": 340,
     "metadata": {},
     "output_type": "execute_result"
    }
   ],
   "source": [
    "data = df_price.groupby(['total_att']).mean()\n",
    "data['total_att'] = data.index\n",
    "data"
   ]
  },
  {
   "cell_type": "code",
   "execution_count": 341,
   "id": "fdfa4c53-e130-41a6-92c4-f5b8ec0a4670",
   "metadata": {},
   "outputs": [
    {
     "data": {
      "image/png": "[encoded data removed]",
      "text/plain": [
       "<Figure size 1080x432 with 1 Axes>"
      ]
     },
     "metadata": {
      "needs_background": "light"
     },
     "output_type": "display_data"
    }
   ],
   "source": [
    "plt.figure(figsize =(15, 6))\n",
    "a = sns.barplot(x=\"total_att\", y=\"amount\", data=data,\n",
    "                palette=([\"#B3531B\",\n",
    "                          \"#E39844\",\n",
    "                          \"#F1DDA0\",\n",
    "                          \"#F7F1C5\",\n",
    "                          \"#FFF9E5\", \n",
    "                          \"#E8BD66\",\n",
    "                          \"#873B17\",\n",
    "                          \"#D1742F\"]))\n",
    "\n",
    "a.set_xticklabels(['0','1','2','3','4','5','6','7'],fontsize=15)\n",
    "a.set(yticklabels=[])\n",
    "a.set(ylabel=None)\n",
    "a.tick_params(left=False)\n",
    "\n",
    "for index, row in data.iterrows():\n",
    "    a.text(row.total_att, row.amount,round(row.amount,2), color='black', ha=\"center\",fontsize=15)\n",
    "\n",
    "plt.title(\"Average price in Ethers of punk by number of attributes\",fontsize=20)\n",
    "plt.xlabel(\"\")\n",
    "plt.ylabel(\"\")\n",
    "plt.savefig('11.png')\n",
    "plt.show(a)"
   ]
  },
  {
   "cell_type": "markdown",
   "id": "6e4ced86-afaf-4e54-8542-3a8683402d37",
   "metadata": {},
   "source": [
    "### Punks available by types"
   ]
  },
  {
   "cell_type": "code",
   "execution_count": 132,
   "id": "dfcd63a5-7363-4563-a648-67e840cb2ad9",
   "metadata": {},
   "outputs": [],
   "source": [
    "try:\n",
    "    query = \"\"\"SELECT type, date, amount, punk_id, type_id, skin_id\n",
    "    FROM transaction\n",
    "    INNER JOIN punk ON punk.id=transaction.punk_id;\"\"\"\n",
    "    df_available = pd.read_sql(query,connection)\n",
    "except Exception as e:\n",
    "    cursor.close()\n",
    "    print(str(e))"
   ]
  },
  {
   "cell_type": "code",
   "execution_count": 133,
   "id": "3b522ef9-a394-4c11-913c-57892e0d5e37",
   "metadata": {},
   "outputs": [
    {
     "data": {
      "text/html": [
       "<div>\n",
       "<style scoped>\n",
       "    .dataframe tbody tr th:only-of-type {\n",
       "        vertical-align: middle;\n",
       "    }\n",
       "\n",
       "    .dataframe tbody tr th {\n",
       "        vertical-align: top;\n",
       "    }\n",
       "\n",
       "    .dataframe thead th {\n",
       "        text-align: right;\n",
       "    }\n",
       "</style>\n",
       "<table border=\"1\" class=\"dataframe\">\n",
       "  <thead>\n",
       "    <tr style=\"text-align: right;\">\n",
       "      <th></th>\n",
       "      <th>type</th>\n",
       "      <th>date</th>\n",
       "      <th>amount</th>\n",
       "      <th>punk_id</th>\n",
       "      <th>type_id</th>\n",
       "      <th>skin_id</th>\n",
       "    </tr>\n",
       "  </thead>\n",
       "  <tbody>\n",
       "    <tr>\n",
       "      <th>0</th>\n",
       "      <td>Bid</td>\n",
       "      <td>2021-09-01</td>\n",
       "      <td>321.0</td>\n",
       "      <td>0</td>\n",
       "      <td>3</td>\n",
       "      <td>6</td>\n",
       "    </tr>\n",
       "    <tr>\n",
       "      <th>1</th>\n",
       "      <td>Bid Withdrawn</td>\n",
       "      <td>2021-09-01</td>\n",
       "      <td>320.0</td>\n",
       "      <td>0</td>\n",
       "      <td>3</td>\n",
       "      <td>6</td>\n",
       "    </tr>\n",
       "    <tr>\n",
       "      <th>2</th>\n",
       "      <td>Bid</td>\n",
       "      <td>2021-09-01</td>\n",
       "      <td>320.0</td>\n",
       "      <td>0</td>\n",
       "      <td>3</td>\n",
       "      <td>6</td>\n",
       "    </tr>\n",
       "    <tr>\n",
       "      <th>3</th>\n",
       "      <td>Bid Withdrawn</td>\n",
       "      <td>2021-09-01</td>\n",
       "      <td>263.0</td>\n",
       "      <td>0</td>\n",
       "      <td>3</td>\n",
       "      <td>6</td>\n",
       "    </tr>\n",
       "    <tr>\n",
       "      <th>4</th>\n",
       "      <td>Bid</td>\n",
       "      <td>2021-08-29</td>\n",
       "      <td>263.0</td>\n",
       "      <td>0</td>\n",
       "      <td>3</td>\n",
       "      <td>6</td>\n",
       "    </tr>\n",
       "  </tbody>\n",
       "</table>\n",
       "</div>"
      ],
      "text/plain": [
       "            type        date  amount  punk_id  type_id  skin_id\n",
       "0            Bid  2021-09-01   321.0        0        3        6\n",
       "1  Bid Withdrawn  2021-09-01   320.0        0        3        6\n",
       "2            Bid  2021-09-01   320.0        0        3        6\n",
       "3  Bid Withdrawn  2021-09-01   263.0        0        3        6\n",
       "4            Bid  2021-08-29   263.0        0        3        6"
      ]
     },
     "execution_count": 133,
     "metadata": {},
     "output_type": "execute_result"
    }
   ],
   "source": [
    "df_available.head()"
   ]
  },
  {
   "cell_type": "code",
   "execution_count": 135,
   "id": "4e00fafd-5d40-441d-ad25-3425c2e1e5c5",
   "metadata": {},
   "outputs": [
    {
     "data": {
      "text/plain": [
       "71062"
      ]
     },
     "execution_count": 135,
     "metadata": {},
     "output_type": "execute_result"
    }
   ],
   "source": [
    "#locate all transaction sold\n",
    "a = df_available.loc[df_available['type'] == 'Offered']\n",
    "len(a)"
   ]
  },
  {
   "cell_type": "code",
   "execution_count": 136,
   "id": "352d122c-aec2-4048-8e02-4cf2bca13b18",
   "metadata": {},
   "outputs": [
    {
     "data": {
      "text/plain": [
       "7013"
      ]
     },
     "execution_count": 136,
     "metadata": {},
     "output_type": "execute_result"
    }
   ],
   "source": [
    "#keep only first item for each punk\n",
    "b = a.drop_duplicates(subset=['punk_id'], keep='first')\n",
    "len(b['punk_id'])"
   ]
  },
  {
   "cell_type": "code",
   "execution_count": 137,
   "id": "4eef29a3-d995-46be-a92d-41d7de8e85bb",
   "metadata": {},
   "outputs": [
    {
     "data": {
      "text/html": [
       "<div>\n",
       "<style scoped>\n",
       "    .dataframe tbody tr th:only-of-type {\n",
       "        vertical-align: middle;\n",
       "    }\n",
       "\n",
       "    .dataframe tbody tr th {\n",
       "        vertical-align: top;\n",
       "    }\n",
       "\n",
       "    .dataframe thead th {\n",
       "        text-align: right;\n",
       "    }\n",
       "</style>\n",
       "<table border=\"1\" class=\"dataframe\">\n",
       "  <thead>\n",
       "    <tr style=\"text-align: right;\">\n",
       "      <th></th>\n",
       "      <th>type</th>\n",
       "      <th>date</th>\n",
       "      <th>amount</th>\n",
       "      <th>punk_id</th>\n",
       "      <th>skin_id</th>\n",
       "      <th>type_id</th>\n",
       "    </tr>\n",
       "    <tr>\n",
       "      <th>type_id</th>\n",
       "      <th></th>\n",
       "      <th></th>\n",
       "      <th></th>\n",
       "      <th></th>\n",
       "      <th></th>\n",
       "      <th></th>\n",
       "    </tr>\n",
       "  </thead>\n",
       "  <tbody>\n",
       "    <tr>\n",
       "      <th>0</th>\n",
       "      <td>6</td>\n",
       "      <td>6</td>\n",
       "      <td>6</td>\n",
       "      <td>6</td>\n",
       "      <td>6</td>\n",
       "      <td>0</td>\n",
       "    </tr>\n",
       "    <tr>\n",
       "      <th>1</th>\n",
       "      <td>18</td>\n",
       "      <td>18</td>\n",
       "      <td>18</td>\n",
       "      <td>18</td>\n",
       "      <td>18</td>\n",
       "      <td>1</td>\n",
       "    </tr>\n",
       "    <tr>\n",
       "      <th>2</th>\n",
       "      <td>52</td>\n",
       "      <td>52</td>\n",
       "      <td>52</td>\n",
       "      <td>52</td>\n",
       "      <td>52</td>\n",
       "      <td>2</td>\n",
       "    </tr>\n",
       "    <tr>\n",
       "      <th>3</th>\n",
       "      <td>2482</td>\n",
       "      <td>2482</td>\n",
       "      <td>2482</td>\n",
       "      <td>2482</td>\n",
       "      <td>2482</td>\n",
       "      <td>3</td>\n",
       "    </tr>\n",
       "    <tr>\n",
       "      <th>4</th>\n",
       "      <td>4455</td>\n",
       "      <td>4455</td>\n",
       "      <td>4455</td>\n",
       "      <td>4455</td>\n",
       "      <td>4455</td>\n",
       "      <td>4</td>\n",
       "    </tr>\n",
       "  </tbody>\n",
       "</table>\n",
       "</div>"
      ],
      "text/plain": [
       "         type  date  amount  punk_id  skin_id  type_id\n",
       "type_id                                               \n",
       "0           6     6       6        6        6        0\n",
       "1          18    18      18       18       18        1\n",
       "2          52    52      52       52       52        2\n",
       "3        2482  2482    2482     2482     2482        3\n",
       "4        4455  4455    4455     4455     4455        4"
      ]
     },
     "execution_count": 137,
     "metadata": {},
     "output_type": "execute_result"
    }
   ],
   "source": [
    "data = b.groupby(['type_id']).count()\n",
    "data['type_id'] = data.index\n",
    "data"
   ]
  },
  {
   "cell_type": "code",
   "execution_count": 145,
   "id": "50d8dd20-fa59-4d2a-a235-ecca19939aab",
   "metadata": {},
   "outputs": [
    {
     "data": {
      "image/png": "[encoded data removed]",
      "text/plain": [
       "<Figure size 1080x432 with 1 Axes>"
      ]
     },
     "metadata": {
      "needs_background": "light"
     },
     "output_type": "display_data"
    }
   ],
   "source": [
    "plt.figure(figsize =(15, 6))\n",
    "a = sns.barplot(x=\"type_id\", y=\"amount\", data=data, palette=\"BuGn\")\n",
    "\n",
    "a.set_xticklabels(['Alien','Ape','Zombie','Female','Male'],fontsize=15)\n",
    "a.set(yticklabels=[])\n",
    "a.set(ylabel=None)\n",
    "a.tick_params(left=False)\n",
    "\n",
    "for index, row in data.iterrows():\n",
    "    a.text(row.type_id, row.amount,row.amount, color='black', ha=\"center\",fontsize=15)\n",
    "\n",
    "plt.title(\"Total number of available punks by type\",fontsize=20)\n",
    "plt.xlabel(\"\")\n",
    "plt.ylabel(\"\")\n",
    "plt.savefig('12.png')\n",
    "plt.show(a)"
   ]
  },
  {
   "cell_type": "markdown",
   "id": "f4f151bd-82ed-4a0c-b9c9-b2e5451be232",
   "metadata": {},
   "source": [
    "### Punks available by skin"
   ]
  },
  {
   "cell_type": "code",
   "execution_count": 146,
   "id": "d6abdfae-f3d4-48e2-8370-94a9a51b098b",
   "metadata": {},
   "outputs": [
    {
     "data": {
      "text/html": [
       "<div>\n",
       "<style scoped>\n",
       "    .dataframe tbody tr th:only-of-type {\n",
       "        vertical-align: middle;\n",
       "    }\n",
       "\n",
       "    .dataframe tbody tr th {\n",
       "        vertical-align: top;\n",
       "    }\n",
       "\n",
       "    .dataframe thead th {\n",
       "        text-align: right;\n",
       "    }\n",
       "</style>\n",
       "<table border=\"1\" class=\"dataframe\">\n",
       "  <thead>\n",
       "    <tr style=\"text-align: right;\">\n",
       "      <th></th>\n",
       "      <th>type</th>\n",
       "      <th>date</th>\n",
       "      <th>amount</th>\n",
       "      <th>punk_id</th>\n",
       "      <th>type_id</th>\n",
       "      <th>skin_id</th>\n",
       "    </tr>\n",
       "    <tr>\n",
       "      <th>skin_id</th>\n",
       "      <th></th>\n",
       "      <th></th>\n",
       "      <th></th>\n",
       "      <th></th>\n",
       "      <th></th>\n",
       "      <th></th>\n",
       "    </tr>\n",
       "  </thead>\n",
       "  <tbody>\n",
       "    <tr>\n",
       "      <th>0</th>\n",
       "      <td>6</td>\n",
       "      <td>6</td>\n",
       "      <td>6</td>\n",
       "      <td>6</td>\n",
       "      <td>6</td>\n",
       "      <td>0</td>\n",
       "    </tr>\n",
       "    <tr>\n",
       "      <th>1</th>\n",
       "      <td>18</td>\n",
       "      <td>18</td>\n",
       "      <td>18</td>\n",
       "      <td>18</td>\n",
       "      <td>18</td>\n",
       "      <td>1</td>\n",
       "    </tr>\n",
       "    <tr>\n",
       "      <th>2</th>\n",
       "      <td>52</td>\n",
       "      <td>52</td>\n",
       "      <td>52</td>\n",
       "      <td>52</td>\n",
       "      <td>52</td>\n",
       "      <td>2</td>\n",
       "    </tr>\n",
       "    <tr>\n",
       "      <th>3</th>\n",
       "      <td>638</td>\n",
       "      <td>638</td>\n",
       "      <td>638</td>\n",
       "      <td>638</td>\n",
       "      <td>638</td>\n",
       "      <td>3</td>\n",
       "    </tr>\n",
       "    <tr>\n",
       "      <th>4</th>\n",
       "      <td>2019</td>\n",
       "      <td>2019</td>\n",
       "      <td>2019</td>\n",
       "      <td>2019</td>\n",
       "      <td>2019</td>\n",
       "      <td>4</td>\n",
       "    </tr>\n",
       "    <tr>\n",
       "      <th>5</th>\n",
       "      <td>2145</td>\n",
       "      <td>2145</td>\n",
       "      <td>2145</td>\n",
       "      <td>2145</td>\n",
       "      <td>2145</td>\n",
       "      <td>5</td>\n",
       "    </tr>\n",
       "    <tr>\n",
       "      <th>6</th>\n",
       "      <td>2135</td>\n",
       "      <td>2135</td>\n",
       "      <td>2135</td>\n",
       "      <td>2135</td>\n",
       "      <td>2135</td>\n",
       "      <td>6</td>\n",
       "    </tr>\n",
       "  </tbody>\n",
       "</table>\n",
       "</div>"
      ],
      "text/plain": [
       "         type  date  amount  punk_id  type_id  skin_id\n",
       "skin_id                                               \n",
       "0           6     6       6        6        6        0\n",
       "1          18    18      18       18       18        1\n",
       "2          52    52      52       52       52        2\n",
       "3         638   638     638      638      638        3\n",
       "4        2019  2019    2019     2019     2019        4\n",
       "5        2145  2145    2145     2145     2145        5\n",
       "6        2135  2135    2135     2135     2135        6"
      ]
     },
     "execution_count": 146,
     "metadata": {},
     "output_type": "execute_result"
    }
   ],
   "source": [
    "data = b.groupby(['skin_id']).count()\n",
    "data['skin_id'] = data.index\n",
    "data"
   ]
  },
  {
   "cell_type": "code",
   "execution_count": 148,
   "id": "30e9ecf3-668e-496a-8797-e94279c48aaa",
   "metadata": {},
   "outputs": [
    {
     "data": {
      "image/png": "[encoded data removed]",
      "text/plain": [
       "<Figure size 1080x432 with 1 Axes>"
      ]
     },
     "metadata": {
      "needs_background": "light"
     },
     "output_type": "display_data"
    }
   ],
   "source": [
    "plt.figure(figsize =(15, 6))\n",
    "a = sns.barplot(x=\"skin_id\", y=\"amount\", data=data, \n",
    "                palette=([\"#E1F3F6\",\n",
    "                          \"#E1F3F6\",\n",
    "                          \"#BDE6DD\",\n",
    "                          \"#83CEB9\",\n",
    "                          \"#51B689\", \n",
    "                          \"#04712F\",\n",
    "                          \"#2B9553\"]))\n",
    "\n",
    "a.set_xticklabels(['Alien','Ape','Zombie','Albino','Dark','Light','Mid'],fontsize=15)\n",
    "a.set(yticklabels=[])\n",
    "a.set(ylabel=None)\n",
    "a.tick_params(left=False)\n",
    "\n",
    "for index, row in data.iterrows():\n",
    "    a.text(row.skin_id, row.amount,row.amount, color='black', ha=\"center\",fontsize=15)\n",
    "\n",
    "plt.title(\"Total number of available punks by skin\",fontsize=20)\n",
    "plt.xlabel(\"\")\n",
    "plt.ylabel(\"\")\n",
    "plt.savefig('13.png')\n",
    "plt.show(a)"
   ]
  },
  {
   "cell_type": "markdown",
   "id": "1aebb246-b59f-435c-98d0-311c8331c850",
   "metadata": {},
   "source": [
    "### Punks available by attribute"
   ]
  },
  {
   "cell_type": "code",
   "execution_count": 342,
   "id": "5044064f-e120-459f-98ec-2645e43e69b4",
   "metadata": {},
   "outputs": [],
   "source": [
    "try:\n",
    "    query = \"\"\"SELECT type, date, amount, punk_id \n",
    "    FROM transaction\n",
    "    WHERE type='Offered';\"\"\"\n",
    "    df_offered = pd.read_sql(query,connection)\n",
    "except Exception as e:\n",
    "    cursor.close()\n",
    "    print(str(e))"
   ]
  },
  {
   "cell_type": "code",
   "execution_count": 343,
   "id": "2b050406-c616-49c8-ad53-369093a11128",
   "metadata": {},
   "outputs": [
    {
     "data": {
      "text/html": [
       "<div>\n",
       "<style scoped>\n",
       "    .dataframe tbody tr th:only-of-type {\n",
       "        vertical-align: middle;\n",
       "    }\n",
       "\n",
       "    .dataframe tbody tr th {\n",
       "        vertical-align: top;\n",
       "    }\n",
       "\n",
       "    .dataframe thead th {\n",
       "        text-align: right;\n",
       "    }\n",
       "</style>\n",
       "<table border=\"1\" class=\"dataframe\">\n",
       "  <thead>\n",
       "    <tr style=\"text-align: right;\">\n",
       "      <th></th>\n",
       "      <th>type</th>\n",
       "      <th>date</th>\n",
       "      <th>amount</th>\n",
       "      <th>punk_id</th>\n",
       "    </tr>\n",
       "  </thead>\n",
       "  <tbody>\n",
       "    <tr>\n",
       "      <th>71057</th>\n",
       "      <td>Offered</td>\n",
       "      <td>2020-10-26</td>\n",
       "      <td>10.50</td>\n",
       "      <td>8998</td>\n",
       "    </tr>\n",
       "    <tr>\n",
       "      <th>71058</th>\n",
       "      <td>Offered</td>\n",
       "      <td>2020-10-12</td>\n",
       "      <td>29.99</td>\n",
       "      <td>8998</td>\n",
       "    </tr>\n",
       "    <tr>\n",
       "      <th>71059</th>\n",
       "      <td>Offered</td>\n",
       "      <td>2020-10-06</td>\n",
       "      <td>12.00</td>\n",
       "      <td>8998</td>\n",
       "    </tr>\n",
       "    <tr>\n",
       "      <th>71060</th>\n",
       "      <td>Offered</td>\n",
       "      <td>2018-05-29</td>\n",
       "      <td>0.10</td>\n",
       "      <td>8998</td>\n",
       "    </tr>\n",
       "    <tr>\n",
       "      <th>71061</th>\n",
       "      <td>Offered</td>\n",
       "      <td>2017-07-21</td>\n",
       "      <td>6.50</td>\n",
       "      <td>8999</td>\n",
       "    </tr>\n",
       "  </tbody>\n",
       "</table>\n",
       "</div>"
      ],
      "text/plain": [
       "          type        date  amount  punk_id\n",
       "71057  Offered  2020-10-26   10.50     8998\n",
       "71058  Offered  2020-10-12   29.99     8998\n",
       "71059  Offered  2020-10-06   12.00     8998\n",
       "71060  Offered  2018-05-29    0.10     8998\n",
       "71061  Offered  2017-07-21    6.50     8999"
      ]
     },
     "execution_count": 343,
     "metadata": {},
     "output_type": "execute_result"
    }
   ],
   "source": [
    "df_offered.tail()"
   ]
  },
  {
   "cell_type": "code",
   "execution_count": 344,
   "id": "34c00e40-715f-43c4-8fcd-2e0103eea5d7",
   "metadata": {},
   "outputs": [
    {
     "data": {
      "text/plain": [
       "7013"
      ]
     },
     "execution_count": 344,
     "metadata": {},
     "output_type": "execute_result"
    }
   ],
   "source": [
    "#keep only first item for each punk\n",
    "df_offered = df_offered.drop_duplicates(subset=['punk_id'], keep='first')\n",
    "len(df_offered['punk_id'])"
   ]
  },
  {
   "cell_type": "code",
   "execution_count": 345,
   "id": "7a8c398b-f4c7-4d67-9688-aaa14454c825",
   "metadata": {},
   "outputs": [
    {
     "data": {
      "text/html": [
       "<div>\n",
       "<style scoped>\n",
       "    .dataframe tbody tr th:only-of-type {\n",
       "        vertical-align: middle;\n",
       "    }\n",
       "\n",
       "    .dataframe tbody tr th {\n",
       "        vertical-align: top;\n",
       "    }\n",
       "\n",
       "    .dataframe thead th {\n",
       "        text-align: right;\n",
       "    }\n",
       "</style>\n",
       "<table border=\"1\" class=\"dataframe\">\n",
       "  <thead>\n",
       "    <tr style=\"text-align: right;\">\n",
       "      <th></th>\n",
       "      <th>total_att</th>\n",
       "      <th>punk_id</th>\n",
       "    </tr>\n",
       "  </thead>\n",
       "  <tbody>\n",
       "    <tr>\n",
       "      <th>0</th>\n",
       "      <td>3</td>\n",
       "      <td>0</td>\n",
       "    </tr>\n",
       "    <tr>\n",
       "      <th>1</th>\n",
       "      <td>2</td>\n",
       "      <td>1</td>\n",
       "    </tr>\n",
       "    <tr>\n",
       "      <th>2</th>\n",
       "      <td>1</td>\n",
       "      <td>2</td>\n",
       "    </tr>\n",
       "    <tr>\n",
       "      <th>3</th>\n",
       "      <td>3</td>\n",
       "      <td>3</td>\n",
       "    </tr>\n",
       "    <tr>\n",
       "      <th>4</th>\n",
       "      <td>4</td>\n",
       "      <td>4</td>\n",
       "    </tr>\n",
       "  </tbody>\n",
       "</table>\n",
       "</div>"
      ],
      "text/plain": [
       "   total_att  punk_id\n",
       "0          3        0\n",
       "1          2        1\n",
       "2          1        2\n",
       "3          3        3\n",
       "4          4        4"
      ]
     },
     "execution_count": 345,
     "metadata": {},
     "output_type": "execute_result"
    }
   ],
   "source": [
    "df_attributes.head()"
   ]
  },
  {
   "cell_type": "code",
   "execution_count": 346,
   "id": "5a9147da-e515-49f0-b157-e5189fe0f262",
   "metadata": {},
   "outputs": [
    {
     "data": {
      "text/html": [
       "<div>\n",
       "<style scoped>\n",
       "    .dataframe tbody tr th:only-of-type {\n",
       "        vertical-align: middle;\n",
       "    }\n",
       "\n",
       "    .dataframe tbody tr th {\n",
       "        vertical-align: top;\n",
       "    }\n",
       "\n",
       "    .dataframe thead th {\n",
       "        text-align: right;\n",
       "    }\n",
       "</style>\n",
       "<table border=\"1\" class=\"dataframe\">\n",
       "  <thead>\n",
       "    <tr style=\"text-align: right;\">\n",
       "      <th></th>\n",
       "      <th>total_att</th>\n",
       "      <th>punk_id</th>\n",
       "      <th>type</th>\n",
       "      <th>date</th>\n",
       "      <th>amount</th>\n",
       "    </tr>\n",
       "  </thead>\n",
       "  <tbody>\n",
       "    <tr>\n",
       "      <th>0</th>\n",
       "      <td>3</td>\n",
       "      <td>0</td>\n",
       "      <td>Offered</td>\n",
       "      <td>2018-09-12</td>\n",
       "      <td>100.00</td>\n",
       "    </tr>\n",
       "    <tr>\n",
       "      <th>1</th>\n",
       "      <td>2</td>\n",
       "      <td>1</td>\n",
       "      <td>Offered</td>\n",
       "      <td>2020-11-25</td>\n",
       "      <td>79.50</td>\n",
       "    </tr>\n",
       "    <tr>\n",
       "      <th>2</th>\n",
       "      <td>3</td>\n",
       "      <td>14</td>\n",
       "      <td>Offered</td>\n",
       "      <td>2021-09-14</td>\n",
       "      <td>667.00</td>\n",
       "    </tr>\n",
       "    <tr>\n",
       "      <th>3</th>\n",
       "      <td>2</td>\n",
       "      <td>53</td>\n",
       "      <td>Offered</td>\n",
       "      <td>2021-08-03</td>\n",
       "      <td>129.99</td>\n",
       "    </tr>\n",
       "    <tr>\n",
       "      <th>4</th>\n",
       "      <td>1</td>\n",
       "      <td>89</td>\n",
       "      <td>Offered</td>\n",
       "      <td>2021-03-16</td>\n",
       "      <td>890.00</td>\n",
       "    </tr>\n",
       "  </tbody>\n",
       "</table>\n",
       "</div>"
      ],
      "text/plain": [
       "   total_att  punk_id     type        date  amount\n",
       "0          3        0  Offered  2018-09-12  100.00\n",
       "1          2        1  Offered  2020-11-25   79.50\n",
       "2          3       14  Offered  2021-09-14  667.00\n",
       "3          2       53  Offered  2021-08-03  129.99\n",
       "4          1       89  Offered  2021-03-16  890.00"
      ]
     },
     "execution_count": 346,
     "metadata": {},
     "output_type": "execute_result"
    }
   ],
   "source": [
    "df_offered = pd.merge(df_attributes, df_offered, on=[\"punk_id\"])\n",
    "df_offered.head(5)"
   ]
  },
  {
   "cell_type": "code",
   "execution_count": 161,
   "id": "2896e540-2e1b-4d23-b80c-8278dc29dcd5",
   "metadata": {},
   "outputs": [
    {
     "data": {
      "text/html": [
       "<div>\n",
       "<style scoped>\n",
       "    .dataframe tbody tr th:only-of-type {\n",
       "        vertical-align: middle;\n",
       "    }\n",
       "\n",
       "    .dataframe tbody tr th {\n",
       "        vertical-align: top;\n",
       "    }\n",
       "\n",
       "    .dataframe thead th {\n",
       "        text-align: right;\n",
       "    }\n",
       "</style>\n",
       "<table border=\"1\" class=\"dataframe\">\n",
       "  <thead>\n",
       "    <tr style=\"text-align: right;\">\n",
       "      <th></th>\n",
       "      <th>punk_id</th>\n",
       "      <th>type</th>\n",
       "      <th>date</th>\n",
       "      <th>amount</th>\n",
       "      <th>total_att</th>\n",
       "    </tr>\n",
       "    <tr>\n",
       "      <th>total_att</th>\n",
       "      <th></th>\n",
       "      <th></th>\n",
       "      <th></th>\n",
       "      <th></th>\n",
       "      <th></th>\n",
       "    </tr>\n",
       "  </thead>\n",
       "  <tbody>\n",
       "    <tr>\n",
       "      <th>0</th>\n",
       "      <td>7</td>\n",
       "      <td>7</td>\n",
       "      <td>7</td>\n",
       "      <td>7</td>\n",
       "      <td>0</td>\n",
       "    </tr>\n",
       "    <tr>\n",
       "      <th>1</th>\n",
       "      <td>125</td>\n",
       "      <td>125</td>\n",
       "      <td>125</td>\n",
       "      <td>125</td>\n",
       "      <td>1</td>\n",
       "    </tr>\n",
       "    <tr>\n",
       "      <th>2</th>\n",
       "      <td>2458</td>\n",
       "      <td>2458</td>\n",
       "      <td>2458</td>\n",
       "      <td>2458</td>\n",
       "      <td>2</td>\n",
       "    </tr>\n",
       "    <tr>\n",
       "      <th>3</th>\n",
       "      <td>3310</td>\n",
       "      <td>3310</td>\n",
       "      <td>3310</td>\n",
       "      <td>3310</td>\n",
       "      <td>3</td>\n",
       "    </tr>\n",
       "    <tr>\n",
       "      <th>4</th>\n",
       "      <td>996</td>\n",
       "      <td>996</td>\n",
       "      <td>996</td>\n",
       "      <td>996</td>\n",
       "      <td>4</td>\n",
       "    </tr>\n",
       "    <tr>\n",
       "      <th>5</th>\n",
       "      <td>110</td>\n",
       "      <td>110</td>\n",
       "      <td>110</td>\n",
       "      <td>110</td>\n",
       "      <td>5</td>\n",
       "    </tr>\n",
       "    <tr>\n",
       "      <th>6</th>\n",
       "      <td>6</td>\n",
       "      <td>6</td>\n",
       "      <td>6</td>\n",
       "      <td>6</td>\n",
       "      <td>6</td>\n",
       "    </tr>\n",
       "    <tr>\n",
       "      <th>7</th>\n",
       "      <td>1</td>\n",
       "      <td>1</td>\n",
       "      <td>1</td>\n",
       "      <td>1</td>\n",
       "      <td>7</td>\n",
       "    </tr>\n",
       "  </tbody>\n",
       "</table>\n",
       "</div>"
      ],
      "text/plain": [
       "           punk_id  type  date  amount  total_att\n",
       "total_att                                        \n",
       "0                7     7     7       7          0\n",
       "1              125   125   125     125          1\n",
       "2             2458  2458  2458    2458          2\n",
       "3             3310  3310  3310    3310          3\n",
       "4              996   996   996     996          4\n",
       "5              110   110   110     110          5\n",
       "6                6     6     6       6          6\n",
       "7                1     1     1       1          7"
      ]
     },
     "execution_count": 161,
     "metadata": {},
     "output_type": "execute_result"
    }
   ],
   "source": [
    "data = df_offered.groupby(['total_att']).count()\n",
    "data['total_att'] = data.index\n",
    "data"
   ]
  },
  {
   "cell_type": "code",
   "execution_count": 162,
   "id": "1e9a0c1d-9de1-4456-8c97-443f96be47dc",
   "metadata": {},
   "outputs": [
    {
     "data": {
      "image/png": "[encoded data removed]",
      "text/plain": [
       "<Figure size 1080x432 with 1 Axes>"
      ]
     },
     "metadata": {
      "needs_background": "light"
     },
     "output_type": "display_data"
    }
   ],
   "source": [
    "plt.figure(figsize =(15, 6))\n",
    "a = sns.barplot(x=\"total_att\", y=\"amount\", data=data,\n",
    "                palette=([\"#E1F3F6\",\"#83CEB9\",\"#2B9553\",\"#04712F\",\n",
    "                            \"#51B689\", \"#BDE6DD\",\"#E1F3F6\",\"#E1F3F6\"]))\n",
    "\n",
    "a.set_xticklabels(['0','1','2','3','4','5','6','7'],fontsize=15)\n",
    "a.set(yticklabels=[])\n",
    "a.set(ylabel=None)\n",
    "a.tick_params(left=False)\n",
    "\n",
    "for index, row in data.iterrows():\n",
    "    a.text(row.total_att, row.amount,round(row.amount,2), color='black', ha=\"center\",fontsize=15)\n",
    "\n",
    "plt.title(\"Total number of available punks by number of attributes\",fontsize=20)\n",
    "plt.xlabel(\"\")\n",
    "plt.ylabel(\"\")\n",
    "plt.savefig('14.png')\n",
    "plt.show(a)"
   ]
  },
  {
   "cell_type": "markdown",
   "id": "62ff2bbc-f532-45d3-b09a-855ca25fd42f",
   "metadata": {},
   "source": [
    "### Average rarest rank of punk character by type"
   ]
  },
  {
   "cell_type": "code",
   "execution_count": 167,
   "id": "396c136c-07df-4312-9aa8-ab892e1b0be3",
   "metadata": {},
   "outputs": [],
   "source": [
    "try:\n",
    "    query = \"\"\"SELECT id, type_id, rarest_rank FROM punk;\"\"\"\n",
    "    df_rank_type = pd.read_sql(query,connection)\n",
    "except Exception as e:\n",
    "    cursor.close()\n",
    "    print(str(e))"
   ]
  },
  {
   "cell_type": "code",
   "execution_count": 168,
   "id": "5edb8129-4466-4854-9538-7d11060322f2",
   "metadata": {},
   "outputs": [
    {
     "data": {
      "text/html": [
       "<div>\n",
       "<style scoped>\n",
       "    .dataframe tbody tr th:only-of-type {\n",
       "        vertical-align: middle;\n",
       "    }\n",
       "\n",
       "    .dataframe tbody tr th {\n",
       "        vertical-align: top;\n",
       "    }\n",
       "\n",
       "    .dataframe thead th {\n",
       "        text-align: right;\n",
       "    }\n",
       "</style>\n",
       "<table border=\"1\" class=\"dataframe\">\n",
       "  <thead>\n",
       "    <tr style=\"text-align: right;\">\n",
       "      <th></th>\n",
       "      <th>id</th>\n",
       "      <th>type_id</th>\n",
       "      <th>rarest_rank</th>\n",
       "    </tr>\n",
       "  </thead>\n",
       "  <tbody>\n",
       "    <tr>\n",
       "      <th>0</th>\n",
       "      <td>0</td>\n",
       "      <td>3</td>\n",
       "      <td>2118</td>\n",
       "    </tr>\n",
       "    <tr>\n",
       "      <th>1</th>\n",
       "      <td>1</td>\n",
       "      <td>4</td>\n",
       "      <td>4337</td>\n",
       "    </tr>\n",
       "    <tr>\n",
       "      <th>2</th>\n",
       "      <td>2</td>\n",
       "      <td>3</td>\n",
       "      <td>7995</td>\n",
       "    </tr>\n",
       "    <tr>\n",
       "      <th>3</th>\n",
       "      <td>3</td>\n",
       "      <td>4</td>\n",
       "      <td>7834</td>\n",
       "    </tr>\n",
       "    <tr>\n",
       "      <th>4</th>\n",
       "      <td>4</td>\n",
       "      <td>4</td>\n",
       "      <td>7189</td>\n",
       "    </tr>\n",
       "  </tbody>\n",
       "</table>\n",
       "</div>"
      ],
      "text/plain": [
       "   id  type_id  rarest_rank\n",
       "0   0        3         2118\n",
       "1   1        4         4337\n",
       "2   2        3         7995\n",
       "3   3        4         7834\n",
       "4   4        4         7189"
      ]
     },
     "execution_count": 168,
     "metadata": {},
     "output_type": "execute_result"
    }
   ],
   "source": [
    "df_rank_type.head()"
   ]
  },
  {
   "cell_type": "code",
   "execution_count": 169,
   "id": "ef740f1d-321d-46e9-b282-8be1b6f09c21",
   "metadata": {},
   "outputs": [
    {
     "data": {
      "text/html": [
       "<div>\n",
       "<style scoped>\n",
       "    .dataframe tbody tr th:only-of-type {\n",
       "        vertical-align: middle;\n",
       "    }\n",
       "\n",
       "    .dataframe tbody tr th {\n",
       "        vertical-align: top;\n",
       "    }\n",
       "\n",
       "    .dataframe thead th {\n",
       "        text-align: right;\n",
       "    }\n",
       "</style>\n",
       "<table border=\"1\" class=\"dataframe\">\n",
       "  <thead>\n",
       "    <tr style=\"text-align: right;\">\n",
       "      <th></th>\n",
       "      <th>id</th>\n",
       "      <th>rarest_rank</th>\n",
       "      <th>type</th>\n",
       "    </tr>\n",
       "    <tr>\n",
       "      <th>type_id</th>\n",
       "      <th></th>\n",
       "      <th></th>\n",
       "      <th></th>\n",
       "    </tr>\n",
       "  </thead>\n",
       "  <tbody>\n",
       "    <tr>\n",
       "      <th>0</th>\n",
       "      <td>4801.222222</td>\n",
       "      <td>6.444444</td>\n",
       "      <td>0</td>\n",
       "    </tr>\n",
       "    <tr>\n",
       "      <th>1</th>\n",
       "      <td>4830.291667</td>\n",
       "      <td>31.291667</td>\n",
       "      <td>1</td>\n",
       "    </tr>\n",
       "    <tr>\n",
       "      <th>2</th>\n",
       "      <td>5280.602273</td>\n",
       "      <td>97.477273</td>\n",
       "      <td>2</td>\n",
       "    </tr>\n",
       "    <tr>\n",
       "      <th>3</th>\n",
       "      <td>4915.416146</td>\n",
       "      <td>4356.071354</td>\n",
       "      <td>3</td>\n",
       "    </tr>\n",
       "    <tr>\n",
       "      <th>4</th>\n",
       "      <td>5049.837887</td>\n",
       "      <td>5508.908594</td>\n",
       "      <td>4</td>\n",
       "    </tr>\n",
       "  </tbody>\n",
       "</table>\n",
       "</div>"
      ],
      "text/plain": [
       "                  id  rarest_rank  type\n",
       "type_id                                \n",
       "0        4801.222222     6.444444     0\n",
       "1        4830.291667    31.291667     1\n",
       "2        5280.602273    97.477273     2\n",
       "3        4915.416146  4356.071354     3\n",
       "4        5049.837887  5508.908594     4"
      ]
     },
     "execution_count": 169,
     "metadata": {},
     "output_type": "execute_result"
    }
   ],
   "source": [
    "data = df_rank_type.groupby(['type_id']).mean()\n",
    "data['type'] = data.index\n",
    "data"
   ]
  },
  {
   "cell_type": "code",
   "execution_count": 171,
   "id": "b58cfcec-93a5-4bef-a6de-3888c2a3c2d2",
   "metadata": {},
   "outputs": [
    {
     "data": {
      "image/png": "[encoded data removed]",
      "text/plain": [
       "<Figure size 1080x432 with 1 Axes>"
      ]
     },
     "metadata": {
      "needs_background": "light"
     },
     "output_type": "display_data"
    }
   ],
   "source": [
    "plt.figure(figsize =(15, 6))\n",
    "a = sns.barplot(x=\"type\", y=\"rarest_rank\", data=data, palette=\"Purples_r\")\n",
    "\n",
    "a.set_xticklabels(['Alien','Ape','Zombie','Female','Male'],fontsize=15)\n",
    "a.set(yticklabels=[])\n",
    "a.set(ylabel=None)\n",
    "a.tick_params(left=False)\n",
    "\n",
    "for index, row in data.iterrows():\n",
    "    a.text(row.type, row.rarest_rank, round(row.rarest_rank,2), color='black', ha=\"center\",fontsize=15)\n",
    "\n",
    "plt.title(\"Average of rarest rating score by type\",fontsize=20)\n",
    "plt.xlabel(\"\")\n",
    "plt.ylabel(\"\")\n",
    "plt.savefig('15.png')\n",
    "plt.show(a)"
   ]
  },
  {
   "cell_type": "markdown",
   "id": "49085f4e-322c-4940-87b5-168b03012974",
   "metadata": {},
   "source": [
    "### Average rarest rank of punk character by skin"
   ]
  },
  {
   "cell_type": "code",
   "execution_count": 172,
   "id": "7f79859c-57cb-4fdf-9b1d-c198e88467e8",
   "metadata": {},
   "outputs": [],
   "source": [
    "try:\n",
    "    query = \"\"\"SELECT id, skin_id, rarest_rank FROM punk;\"\"\"\n",
    "    df_rank_skin = pd.read_sql(query,connection)\n",
    "except Exception as e:\n",
    "    cursor.close()\n",
    "    print(str(e))"
   ]
  },
  {
   "cell_type": "code",
   "execution_count": 173,
   "id": "8c81f859-813b-4eb6-93b2-fed3cd5e7446",
   "metadata": {},
   "outputs": [
    {
     "data": {
      "text/html": [
       "<div>\n",
       "<style scoped>\n",
       "    .dataframe tbody tr th:only-of-type {\n",
       "        vertical-align: middle;\n",
       "    }\n",
       "\n",
       "    .dataframe tbody tr th {\n",
       "        vertical-align: top;\n",
       "    }\n",
       "\n",
       "    .dataframe thead th {\n",
       "        text-align: right;\n",
       "    }\n",
       "</style>\n",
       "<table border=\"1\" class=\"dataframe\">\n",
       "  <thead>\n",
       "    <tr style=\"text-align: right;\">\n",
       "      <th></th>\n",
       "      <th>id</th>\n",
       "      <th>skin_id</th>\n",
       "      <th>rarest_rank</th>\n",
       "    </tr>\n",
       "  </thead>\n",
       "  <tbody>\n",
       "    <tr>\n",
       "      <th>0</th>\n",
       "      <td>0</td>\n",
       "      <td>6</td>\n",
       "      <td>2118</td>\n",
       "    </tr>\n",
       "    <tr>\n",
       "      <th>1</th>\n",
       "      <td>1</td>\n",
       "      <td>4</td>\n",
       "      <td>4337</td>\n",
       "    </tr>\n",
       "    <tr>\n",
       "      <th>2</th>\n",
       "      <td>2</td>\n",
       "      <td>5</td>\n",
       "      <td>7995</td>\n",
       "    </tr>\n",
       "    <tr>\n",
       "      <th>3</th>\n",
       "      <td>3</td>\n",
       "      <td>4</td>\n",
       "      <td>7834</td>\n",
       "    </tr>\n",
       "    <tr>\n",
       "      <th>4</th>\n",
       "      <td>4</td>\n",
       "      <td>6</td>\n",
       "      <td>7189</td>\n",
       "    </tr>\n",
       "  </tbody>\n",
       "</table>\n",
       "</div>"
      ],
      "text/plain": [
       "   id  skin_id  rarest_rank\n",
       "0   0        6         2118\n",
       "1   1        4         4337\n",
       "2   2        5         7995\n",
       "3   3        4         7834\n",
       "4   4        6         7189"
      ]
     },
     "execution_count": 173,
     "metadata": {},
     "output_type": "execute_result"
    }
   ],
   "source": [
    "df_rank_skin.head()"
   ]
  },
  {
   "cell_type": "code",
   "execution_count": 174,
   "id": "1fe69203-89da-4a90-9d03-2774e7fc44e8",
   "metadata": {},
   "outputs": [
    {
     "data": {
      "text/html": [
       "<div>\n",
       "<style scoped>\n",
       "    .dataframe tbody tr th:only-of-type {\n",
       "        vertical-align: middle;\n",
       "    }\n",
       "\n",
       "    .dataframe tbody tr th {\n",
       "        vertical-align: top;\n",
       "    }\n",
       "\n",
       "    .dataframe thead th {\n",
       "        text-align: right;\n",
       "    }\n",
       "</style>\n",
       "<table border=\"1\" class=\"dataframe\">\n",
       "  <thead>\n",
       "    <tr style=\"text-align: right;\">\n",
       "      <th></th>\n",
       "      <th>id</th>\n",
       "      <th>rarest_rank</th>\n",
       "      <th>skin</th>\n",
       "    </tr>\n",
       "    <tr>\n",
       "      <th>skin_id</th>\n",
       "      <th></th>\n",
       "      <th></th>\n",
       "      <th></th>\n",
       "    </tr>\n",
       "  </thead>\n",
       "  <tbody>\n",
       "    <tr>\n",
       "      <th>0</th>\n",
       "      <td>4801.222222</td>\n",
       "      <td>6.444444</td>\n",
       "      <td>0</td>\n",
       "    </tr>\n",
       "    <tr>\n",
       "      <th>1</th>\n",
       "      <td>4830.291667</td>\n",
       "      <td>31.291667</td>\n",
       "      <td>1</td>\n",
       "    </tr>\n",
       "    <tr>\n",
       "      <th>2</th>\n",
       "      <td>5280.602273</td>\n",
       "      <td>97.477273</td>\n",
       "      <td>2</td>\n",
       "    </tr>\n",
       "    <tr>\n",
       "      <th>3</th>\n",
       "      <td>5176.261297</td>\n",
       "      <td>5290.792731</td>\n",
       "      <td>3</td>\n",
       "    </tr>\n",
       "    <tr>\n",
       "      <th>4</th>\n",
       "      <td>4933.063031</td>\n",
       "      <td>5028.281516</td>\n",
       "      <td>4</td>\n",
       "    </tr>\n",
       "    <tr>\n",
       "      <th>5</th>\n",
       "      <td>5043.211910</td>\n",
       "      <td>5046.019960</td>\n",
       "      <td>5</td>\n",
       "    </tr>\n",
       "    <tr>\n",
       "      <th>6</th>\n",
       "      <td>4952.448037</td>\n",
       "      <td>5028.499835</td>\n",
       "      <td>6</td>\n",
       "    </tr>\n",
       "  </tbody>\n",
       "</table>\n",
       "</div>"
      ],
      "text/plain": [
       "                  id  rarest_rank  skin\n",
       "skin_id                                \n",
       "0        4801.222222     6.444444     0\n",
       "1        4830.291667    31.291667     1\n",
       "2        5280.602273    97.477273     2\n",
       "3        5176.261297  5290.792731     3\n",
       "4        4933.063031  5028.281516     4\n",
       "5        5043.211910  5046.019960     5\n",
       "6        4952.448037  5028.499835     6"
      ]
     },
     "execution_count": 174,
     "metadata": {},
     "output_type": "execute_result"
    }
   ],
   "source": [
    "data = df_rank_skin.groupby(['skin_id']).mean()\n",
    "data['skin'] = data.index\n",
    "data"
   ]
  },
  {
   "cell_type": "code",
   "execution_count": 176,
   "id": "1407d016-8e92-4313-94d0-8710ac89ed2b",
   "metadata": {},
   "outputs": [
    {
     "data": {
      "image/png": "[encoded data removed]",
      "text/plain": [
       "<Figure size 1080x432 with 1 Axes>"
      ]
     },
     "metadata": {
      "needs_background": "light"
     },
     "output_type": "display_data"
    }
   ],
   "source": [
    "plt.figure(figsize =(15, 6))\n",
    "a = sns.barplot(x=\"skin\", y=\"rarest_rank\", data=data,\n",
    "                palette=([\"#E4EDF5\",\n",
    "                          \"#010080\",\n",
    "                          \"#2D2D99\",\n",
    "                          \"#E5E5FF\",\n",
    "                          \"#8282D6\", \n",
    "                          \"#B7B7E5\",\n",
    "                          \"#8989CC\"]))\n",
    "\n",
    "a.set_xticklabels(['Alien','Ape','Zombie','Albino','Dark','Light','Mid'],fontsize=15)\n",
    "a.set(yticklabels=[])\n",
    "a.set(ylabel=None)\n",
    "a.tick_params(left=False)\n",
    "\n",
    "for index, row in data.iterrows():\n",
    "    a.text(row.skin, row.rarest_rank, round(row.rarest_rank,2), color='black', ha=\"center\",fontsize=15)\n",
    "\n",
    "plt.title(\"Average of rarest rating score by skin\",fontsize=20)\n",
    "plt.xlabel(\"\")\n",
    "plt.ylabel(\"\")\n",
    "plt.savefig('16.png')\n",
    "plt.show(a)"
   ]
  },
  {
   "cell_type": "markdown",
   "id": "69531598-ff82-406c-9f8b-5ac5202658d3",
   "metadata": {},
   "source": [
    "### Average rarest rank of punk character by attribute"
   ]
  },
  {
   "cell_type": "code",
   "execution_count": 188,
   "id": "0c6d2385-527c-4493-a987-dd6fa84f7734",
   "metadata": {},
   "outputs": [
    {
     "data": {
      "text/html": [
       "<div>\n",
       "<style scoped>\n",
       "    .dataframe tbody tr th:only-of-type {\n",
       "        vertical-align: middle;\n",
       "    }\n",
       "\n",
       "    .dataframe tbody tr th {\n",
       "        vertical-align: top;\n",
       "    }\n",
       "\n",
       "    .dataframe thead th {\n",
       "        text-align: right;\n",
       "    }\n",
       "</style>\n",
       "<table border=\"1\" class=\"dataframe\">\n",
       "  <thead>\n",
       "    <tr style=\"text-align: right;\">\n",
       "      <th></th>\n",
       "      <th>total_att</th>\n",
       "      <th>punk_id</th>\n",
       "    </tr>\n",
       "  </thead>\n",
       "  <tbody>\n",
       "    <tr>\n",
       "      <th>0</th>\n",
       "      <td>3</td>\n",
       "      <td>0</td>\n",
       "    </tr>\n",
       "    <tr>\n",
       "      <th>1</th>\n",
       "      <td>2</td>\n",
       "      <td>1</td>\n",
       "    </tr>\n",
       "    <tr>\n",
       "      <th>2</th>\n",
       "      <td>1</td>\n",
       "      <td>2</td>\n",
       "    </tr>\n",
       "    <tr>\n",
       "      <th>3</th>\n",
       "      <td>3</td>\n",
       "      <td>3</td>\n",
       "    </tr>\n",
       "    <tr>\n",
       "      <th>4</th>\n",
       "      <td>4</td>\n",
       "      <td>4</td>\n",
       "    </tr>\n",
       "  </tbody>\n",
       "</table>\n",
       "</div>"
      ],
      "text/plain": [
       "   total_att  punk_id\n",
       "0          3        0\n",
       "1          2        1\n",
       "2          1        2\n",
       "3          3        3\n",
       "4          4        4"
      ]
     },
     "execution_count": 188,
     "metadata": {},
     "output_type": "execute_result"
    }
   ],
   "source": [
    "df_attributes.head()"
   ]
  },
  {
   "cell_type": "code",
   "execution_count": 191,
   "id": "e6d2668b-6524-4194-a8f7-1e008b407800",
   "metadata": {},
   "outputs": [
    {
     "data": {
      "text/plain": [
       "10000"
      ]
     },
     "execution_count": 191,
     "metadata": {},
     "output_type": "execute_result"
    }
   ],
   "source": [
    "len(df_attributes['punk_id'].unique())"
   ]
  },
  {
   "cell_type": "code",
   "execution_count": 280,
   "id": "320759ae-2cb4-4d15-8cb1-1426196957f7",
   "metadata": {},
   "outputs": [],
   "source": [
    "try:\n",
    "    query = \"\"\"SELECT id, rarest_rank FROM punk;\"\"\"\n",
    "    df_rank = pd.read_sql(query,connection)\n",
    "except Exception as e:\n",
    "    cursor.close()\n",
    "    print(str(e))"
   ]
  },
  {
   "cell_type": "code",
   "execution_count": 281,
   "id": "94b2216f-f403-47d1-8557-92c6fe137939",
   "metadata": {},
   "outputs": [
    {
     "data": {
      "text/html": [
       "<div>\n",
       "<style scoped>\n",
       "    .dataframe tbody tr th:only-of-type {\n",
       "        vertical-align: middle;\n",
       "    }\n",
       "\n",
       "    .dataframe tbody tr th {\n",
       "        vertical-align: top;\n",
       "    }\n",
       "\n",
       "    .dataframe thead th {\n",
       "        text-align: right;\n",
       "    }\n",
       "</style>\n",
       "<table border=\"1\" class=\"dataframe\">\n",
       "  <thead>\n",
       "    <tr style=\"text-align: right;\">\n",
       "      <th></th>\n",
       "      <th>id</th>\n",
       "      <th>rarest_rank</th>\n",
       "    </tr>\n",
       "  </thead>\n",
       "  <tbody>\n",
       "    <tr>\n",
       "      <th>0</th>\n",
       "      <td>0</td>\n",
       "      <td>2118</td>\n",
       "    </tr>\n",
       "    <tr>\n",
       "      <th>1</th>\n",
       "      <td>1</td>\n",
       "      <td>4337</td>\n",
       "    </tr>\n",
       "    <tr>\n",
       "      <th>2</th>\n",
       "      <td>2</td>\n",
       "      <td>7995</td>\n",
       "    </tr>\n",
       "    <tr>\n",
       "      <th>3</th>\n",
       "      <td>3</td>\n",
       "      <td>7834</td>\n",
       "    </tr>\n",
       "    <tr>\n",
       "      <th>4</th>\n",
       "      <td>4</td>\n",
       "      <td>7189</td>\n",
       "    </tr>\n",
       "  </tbody>\n",
       "</table>\n",
       "</div>"
      ],
      "text/plain": [
       "   id  rarest_rank\n",
       "0   0         2118\n",
       "1   1         4337\n",
       "2   2         7995\n",
       "3   3         7834\n",
       "4   4         7189"
      ]
     },
     "execution_count": 281,
     "metadata": {},
     "output_type": "execute_result"
    }
   ],
   "source": [
    "df_rank.head()"
   ]
  },
  {
   "cell_type": "code",
   "execution_count": 282,
   "id": "208cbdf2-3df9-4c56-9f49-c3bdb67fb51c",
   "metadata": {},
   "outputs": [
    {
     "data": {
      "text/html": [
       "<div>\n",
       "<style scoped>\n",
       "    .dataframe tbody tr th:only-of-type {\n",
       "        vertical-align: middle;\n",
       "    }\n",
       "\n",
       "    .dataframe tbody tr th {\n",
       "        vertical-align: top;\n",
       "    }\n",
       "\n",
       "    .dataframe thead th {\n",
       "        text-align: right;\n",
       "    }\n",
       "</style>\n",
       "<table border=\"1\" class=\"dataframe\">\n",
       "  <thead>\n",
       "    <tr style=\"text-align: right;\">\n",
       "      <th></th>\n",
       "      <th>punk_id</th>\n",
       "      <th>rarest_rank</th>\n",
       "    </tr>\n",
       "  </thead>\n",
       "  <tbody>\n",
       "    <tr>\n",
       "      <th>0</th>\n",
       "      <td>0</td>\n",
       "      <td>2118</td>\n",
       "    </tr>\n",
       "    <tr>\n",
       "      <th>1</th>\n",
       "      <td>1</td>\n",
       "      <td>4337</td>\n",
       "    </tr>\n",
       "    <tr>\n",
       "      <th>2</th>\n",
       "      <td>2</td>\n",
       "      <td>7995</td>\n",
       "    </tr>\n",
       "    <tr>\n",
       "      <th>3</th>\n",
       "      <td>3</td>\n",
       "      <td>7834</td>\n",
       "    </tr>\n",
       "    <tr>\n",
       "      <th>4</th>\n",
       "      <td>4</td>\n",
       "      <td>7189</td>\n",
       "    </tr>\n",
       "  </tbody>\n",
       "</table>\n",
       "</div>"
      ],
      "text/plain": [
       "   punk_id  rarest_rank\n",
       "0        0         2118\n",
       "1        1         4337\n",
       "2        2         7995\n",
       "3        3         7834\n",
       "4        4         7189"
      ]
     },
     "execution_count": 282,
     "metadata": {},
     "output_type": "execute_result"
    }
   ],
   "source": [
    "df_rank = df_rank.rename(columns={'id':'punk_id'})\n",
    "df_rank.head()"
   ]
  },
  {
   "cell_type": "code",
   "execution_count": 193,
   "id": "f792e4a3-63cf-491f-bb9b-4d8fc300468c",
   "metadata": {},
   "outputs": [
    {
     "data": {
      "text/html": [
       "<div>\n",
       "<style scoped>\n",
       "    .dataframe tbody tr th:only-of-type {\n",
       "        vertical-align: middle;\n",
       "    }\n",
       "\n",
       "    .dataframe tbody tr th {\n",
       "        vertical-align: top;\n",
       "    }\n",
       "\n",
       "    .dataframe thead th {\n",
       "        text-align: right;\n",
       "    }\n",
       "</style>\n",
       "<table border=\"1\" class=\"dataframe\">\n",
       "  <thead>\n",
       "    <tr style=\"text-align: right;\">\n",
       "      <th></th>\n",
       "      <th>punk_id</th>\n",
       "      <th>rarest_rank</th>\n",
       "      <th>total_att</th>\n",
       "    </tr>\n",
       "  </thead>\n",
       "  <tbody>\n",
       "    <tr>\n",
       "      <th>0</th>\n",
       "      <td>0</td>\n",
       "      <td>2118</td>\n",
       "      <td>3</td>\n",
       "    </tr>\n",
       "    <tr>\n",
       "      <th>1</th>\n",
       "      <td>1</td>\n",
       "      <td>4337</td>\n",
       "      <td>2</td>\n",
       "    </tr>\n",
       "    <tr>\n",
       "      <th>2</th>\n",
       "      <td>2</td>\n",
       "      <td>7995</td>\n",
       "      <td>1</td>\n",
       "    </tr>\n",
       "    <tr>\n",
       "      <th>3</th>\n",
       "      <td>3</td>\n",
       "      <td>7834</td>\n",
       "      <td>3</td>\n",
       "    </tr>\n",
       "    <tr>\n",
       "      <th>4</th>\n",
       "      <td>4</td>\n",
       "      <td>7189</td>\n",
       "      <td>4</td>\n",
       "    </tr>\n",
       "  </tbody>\n",
       "</table>\n",
       "</div>"
      ],
      "text/plain": [
       "   punk_id  rarest_rank  total_att\n",
       "0        0         2118          3\n",
       "1        1         4337          2\n",
       "2        2         7995          1\n",
       "3        3         7834          3\n",
       "4        4         7189          4"
      ]
     },
     "execution_count": 193,
     "metadata": {},
     "output_type": "execute_result"
    }
   ],
   "source": [
    "df_rank_att = pd.merge(df_rank, df_attributes, on=[\"punk_id\"])\n",
    "df_rank_att.head(5)"
   ]
  },
  {
   "cell_type": "code",
   "execution_count": 194,
   "id": "3cbab480-051d-44a8-a8e7-ede42c546f6f",
   "metadata": {},
   "outputs": [
    {
     "data": {
      "text/html": [
       "<div>\n",
       "<style scoped>\n",
       "    .dataframe tbody tr th:only-of-type {\n",
       "        vertical-align: middle;\n",
       "    }\n",
       "\n",
       "    .dataframe tbody tr th {\n",
       "        vertical-align: top;\n",
       "    }\n",
       "\n",
       "    .dataframe thead th {\n",
       "        text-align: right;\n",
       "    }\n",
       "</style>\n",
       "<table border=\"1\" class=\"dataframe\">\n",
       "  <thead>\n",
       "    <tr style=\"text-align: right;\">\n",
       "      <th></th>\n",
       "      <th>punk_id</th>\n",
       "      <th>rarest_rank</th>\n",
       "      <th>att</th>\n",
       "    </tr>\n",
       "    <tr>\n",
       "      <th>total_att</th>\n",
       "      <th></th>\n",
       "      <th></th>\n",
       "      <th></th>\n",
       "    </tr>\n",
       "  </thead>\n",
       "  <tbody>\n",
       "    <tr>\n",
       "      <th>0</th>\n",
       "      <td>1902.625000</td>\n",
       "      <td>22.500000</td>\n",
       "      <td>0</td>\n",
       "    </tr>\n",
       "    <tr>\n",
       "      <th>1</th>\n",
       "      <td>2479.561562</td>\n",
       "      <td>4500.477477</td>\n",
       "      <td>1</td>\n",
       "    </tr>\n",
       "    <tr>\n",
       "      <th>2</th>\n",
       "      <td>4382.905337</td>\n",
       "      <td>5250.500843</td>\n",
       "      <td>2</td>\n",
       "    </tr>\n",
       "    <tr>\n",
       "      <th>3</th>\n",
       "      <td>5454.828927</td>\n",
       "      <td>5049.341257</td>\n",
       "      <td>3</td>\n",
       "    </tr>\n",
       "    <tr>\n",
       "      <th>4</th>\n",
       "      <td>5643.367606</td>\n",
       "      <td>4540.291549</td>\n",
       "      <td>4</td>\n",
       "    </tr>\n",
       "    <tr>\n",
       "      <th>5</th>\n",
       "      <td>5561.036145</td>\n",
       "      <td>3852.710843</td>\n",
       "      <td>5</td>\n",
       "    </tr>\n",
       "    <tr>\n",
       "      <th>6</th>\n",
       "      <td>4881.363636</td>\n",
       "      <td>48.000000</td>\n",
       "      <td>6</td>\n",
       "    </tr>\n",
       "    <tr>\n",
       "      <th>7</th>\n",
       "      <td>8348.000000</td>\n",
       "      <td>1.000000</td>\n",
       "      <td>7</td>\n",
       "    </tr>\n",
       "  </tbody>\n",
       "</table>\n",
       "</div>"
      ],
      "text/plain": [
       "               punk_id  rarest_rank  att\n",
       "total_att                               \n",
       "0          1902.625000    22.500000    0\n",
       "1          2479.561562  4500.477477    1\n",
       "2          4382.905337  5250.500843    2\n",
       "3          5454.828927  5049.341257    3\n",
       "4          5643.367606  4540.291549    4\n",
       "5          5561.036145  3852.710843    5\n",
       "6          4881.363636    48.000000    6\n",
       "7          8348.000000     1.000000    7"
      ]
     },
     "execution_count": 194,
     "metadata": {},
     "output_type": "execute_result"
    }
   ],
   "source": [
    "data = df_rank_att.groupby(['total_att']).mean()\n",
    "data['att'] = data.index\n",
    "data"
   ]
  },
  {
   "cell_type": "code",
   "execution_count": 195,
   "id": "68c7a54f-5461-43f2-8c67-3957aa0db862",
   "metadata": {},
   "outputs": [
    {
     "data": {
      "image/png": "[encoded data removed]",
      "text/plain": [
       "<Figure size 1080x432 with 1 Axes>"
      ]
     },
     "metadata": {
      "needs_background": "light"
     },
     "output_type": "display_data"
    }
   ],
   "source": [
    "plt.figure(figsize =(15, 6))\n",
    "a = sns.barplot(x=\"att\", y=\"rarest_rank\", data=data, \n",
    "                palette=([\"#5B5BB2\",\n",
    "                          \"#B0B2D9\",\n",
    "                          \"#E5E5FF\",\n",
    "                          \"#DCDEF2\",\n",
    "                          \"#B7B7E5\", \n",
    "                          \"#8989CC\",\n",
    "                          \"#2D2D99\",\n",
    "                          \"#8487BF\"]))\n",
    "\n",
    "a.set_xticklabels(['0','1','2','3','4','5','6','7'],fontsize=15)\n",
    "a.set(yticklabels=[])\n",
    "a.set(ylabel=None)\n",
    "a.tick_params(left=False)\n",
    "\n",
    "for index, row in data.iterrows():\n",
    "    a.text(row.att, row.rarest_rank, round(row.rarest_rank,2), color='black', ha=\"center\",fontsize=15)\n",
    "\n",
    "plt.title(\"Average of rarest rating score by number of attributes\",fontsize=20)\n",
    "plt.xlabel(\"\")\n",
    "plt.ylabel(\"\")\n",
    "plt.savefig('17.png')\n",
    "plt.show(a)"
   ]
  },
  {
   "cell_type": "markdown",
   "id": "0745c00e-91c3-4b8c-a761-b714c95787bc",
   "metadata": {},
   "source": [
    "### Evolution of transactions"
   ]
  },
  {
   "cell_type": "code",
   "execution_count": 147,
   "id": "9433c155-28da-4bc0-8374-639e49985d2b",
   "metadata": {},
   "outputs": [],
   "source": [
    "try:\n",
    "    query = \"\"\"SELECT type, date, amount, punk_id \n",
    "    FROM transaction\n",
    "    WHERE type = 'Bid' OR type = 'Offered' OR type = 'Sold';\"\"\"\n",
    "    df_transactions = pd.read_sql(query,connection)\n",
    "except Exception as e:\n",
    "    cursor.close()\n",
    "    print(str(e))"
   ]
  },
  {
   "cell_type": "code",
   "execution_count": 148,
   "id": "dcafd1e6-3558-456f-9096-1e7afe7ff688",
   "metadata": {},
   "outputs": [
    {
     "data": {
      "text/html": [
       "<div>\n",
       "<style scoped>\n",
       "    .dataframe tbody tr th:only-of-type {\n",
       "        vertical-align: middle;\n",
       "    }\n",
       "\n",
       "    .dataframe tbody tr th {\n",
       "        vertical-align: top;\n",
       "    }\n",
       "\n",
       "    .dataframe thead th {\n",
       "        text-align: right;\n",
       "    }\n",
       "</style>\n",
       "<table border=\"1\" class=\"dataframe\">\n",
       "  <thead>\n",
       "    <tr style=\"text-align: right;\">\n",
       "      <th></th>\n",
       "      <th>type</th>\n",
       "      <th>date</th>\n",
       "      <th>amount</th>\n",
       "      <th>punk_id</th>\n",
       "    </tr>\n",
       "  </thead>\n",
       "  <tbody>\n",
       "    <tr>\n",
       "      <th>0</th>\n",
       "      <td>Bid</td>\n",
       "      <td>2021-09-01</td>\n",
       "      <td>321.0</td>\n",
       "      <td>0</td>\n",
       "    </tr>\n",
       "    <tr>\n",
       "      <th>1</th>\n",
       "      <td>Bid</td>\n",
       "      <td>2021-09-01</td>\n",
       "      <td>320.0</td>\n",
       "      <td>0</td>\n",
       "    </tr>\n",
       "    <tr>\n",
       "      <th>2</th>\n",
       "      <td>Bid</td>\n",
       "      <td>2021-08-29</td>\n",
       "      <td>263.0</td>\n",
       "      <td>0</td>\n",
       "    </tr>\n",
       "    <tr>\n",
       "      <th>3</th>\n",
       "      <td>Bid</td>\n",
       "      <td>2021-04-11</td>\n",
       "      <td>250.0</td>\n",
       "      <td>0</td>\n",
       "    </tr>\n",
       "    <tr>\n",
       "      <th>4</th>\n",
       "      <td>Bid</td>\n",
       "      <td>2021-02-20</td>\n",
       "      <td>100.0</td>\n",
       "      <td>0</td>\n",
       "    </tr>\n",
       "  </tbody>\n",
       "</table>\n",
       "</div>"
      ],
      "text/plain": [
       "  type        date  amount  punk_id\n",
       "0  Bid  2021-09-01   321.0        0\n",
       "1  Bid  2021-09-01   320.0        0\n",
       "2  Bid  2021-08-29   263.0        0\n",
       "3  Bid  2021-04-11   250.0        0\n",
       "4  Bid  2021-02-20   100.0        0"
      ]
     },
     "execution_count": 148,
     "metadata": {},
     "output_type": "execute_result"
    }
   ],
   "source": [
    "df_transactions.head()"
   ]
  },
  {
   "cell_type": "code",
   "execution_count": 149,
   "id": "67ad53ea-e25e-4bb8-bdbe-117974cd4676",
   "metadata": {},
   "outputs": [],
   "source": [
    "df_sold = df_transactions.loc[df_transactions['type'] == 'Sold']\n",
    "df_sold = df_sold.sort_values(by=['date'])\n",
    "df_sold = df_sold.reset_index(drop=True)\n",
    "\n",
    "df_bid = df_transactions.loc[df_transactions['type'] == 'Bid']\n",
    "df_bid = df_bid.sort_values(by=['date'])\n",
    "df_bid = df_bid.reset_index(drop=True)\n",
    "\n",
    "df_offered = df_transactions.loc[df_transactions['type'] == 'Offered']\n",
    "df_offered = df_offered.sort_values(by=['date'])\n",
    "df_offered = df_offered.reset_index(drop=True)"
   ]
  },
  {
   "cell_type": "code",
   "execution_count": 150,
   "id": "16f80782-3330-409d-8c14-a44765205207",
   "metadata": {},
   "outputs": [
    {
     "data": {
      "text/html": [
       "<div>\n",
       "<style scoped>\n",
       "    .dataframe tbody tr th:only-of-type {\n",
       "        vertical-align: middle;\n",
       "    }\n",
       "\n",
       "    .dataframe tbody tr th {\n",
       "        vertical-align: top;\n",
       "    }\n",
       "\n",
       "    .dataframe thead th {\n",
       "        text-align: right;\n",
       "    }\n",
       "</style>\n",
       "<table border=\"1\" class=\"dataframe\">\n",
       "  <thead>\n",
       "    <tr style=\"text-align: right;\">\n",
       "      <th></th>\n",
       "      <th>type</th>\n",
       "      <th>date</th>\n",
       "      <th>amount</th>\n",
       "      <th>punk_id</th>\n",
       "    </tr>\n",
       "  </thead>\n",
       "  <tbody>\n",
       "    <tr>\n",
       "      <th>10666</th>\n",
       "      <td>Sold</td>\n",
       "      <td>2021-03-11</td>\n",
       "      <td>4200.0</td>\n",
       "      <td>7804</td>\n",
       "    </tr>\n",
       "    <tr>\n",
       "      <th>10669</th>\n",
       "      <td>Sold</td>\n",
       "      <td>2021-03-11</td>\n",
       "      <td>4200.0</td>\n",
       "      <td>3100</td>\n",
       "    </tr>\n",
       "    <tr>\n",
       "      <th>19614</th>\n",
       "      <td>Sold</td>\n",
       "      <td>2021-12-09</td>\n",
       "      <td>2500.0</td>\n",
       "      <td>4156</td>\n",
       "    </tr>\n",
       "  </tbody>\n",
       "</table>\n",
       "</div>"
      ],
      "text/plain": [
       "       type        date  amount  punk_id\n",
       "10666  Sold  2021-03-11  4200.0     7804\n",
       "10669  Sold  2021-03-11  4200.0     3100\n",
       "19614  Sold  2021-12-09  2500.0     4156"
      ]
     },
     "execution_count": 150,
     "metadata": {},
     "output_type": "execute_result"
    }
   ],
   "source": [
    "df_sold.nlargest(3, 'amount')"
   ]
  },
  {
   "cell_type": "code",
   "execution_count": 151,
   "id": "2d119be5-2baf-430d-9bdf-5f6318fedc3a",
   "metadata": {},
   "outputs": [
    {
     "data": {
      "text/html": [
       "<div>\n",
       "<style scoped>\n",
       "    .dataframe tbody tr th:only-of-type {\n",
       "        vertical-align: middle;\n",
       "    }\n",
       "\n",
       "    .dataframe tbody tr th {\n",
       "        vertical-align: top;\n",
       "    }\n",
       "\n",
       "    .dataframe thead th {\n",
       "        text-align: right;\n",
       "    }\n",
       "</style>\n",
       "<table border=\"1\" class=\"dataframe\">\n",
       "  <thead>\n",
       "    <tr style=\"text-align: right;\">\n",
       "      <th></th>\n",
       "      <th>type</th>\n",
       "      <th>date</th>\n",
       "      <th>amount</th>\n",
       "      <th>punk_id</th>\n",
       "    </tr>\n",
       "  </thead>\n",
       "  <tbody>\n",
       "    <tr>\n",
       "      <th>15152</th>\n",
       "      <td>Bid</td>\n",
       "      <td>2021-03-11</td>\n",
       "      <td>4200.0</td>\n",
       "      <td>3100</td>\n",
       "    </tr>\n",
       "    <tr>\n",
       "      <th>17196</th>\n",
       "      <td>Bid</td>\n",
       "      <td>2021-04-02</td>\n",
       "      <td>3100.0</td>\n",
       "      <td>3443</td>\n",
       "    </tr>\n",
       "    <tr>\n",
       "      <th>17201</th>\n",
       "      <td>Bid</td>\n",
       "      <td>2021-04-02</td>\n",
       "      <td>3000.0</td>\n",
       "      <td>3443</td>\n",
       "    </tr>\n",
       "  </tbody>\n",
       "</table>\n",
       "</div>"
      ],
      "text/plain": [
       "      type        date  amount  punk_id\n",
       "15152  Bid  2021-03-11  4200.0     3100\n",
       "17196  Bid  2021-04-02  3100.0     3443\n",
       "17201  Bid  2021-04-02  3000.0     3443"
      ]
     },
     "execution_count": 151,
     "metadata": {},
     "output_type": "execute_result"
    }
   ],
   "source": [
    "df_bid.nlargest(3, 'amount')"
   ]
  },
  {
   "cell_type": "code",
   "execution_count": 152,
   "id": "adcc951e-f4b7-4202-9a86-665c5082184b",
   "metadata": {},
   "outputs": [
    {
     "data": {
      "text/html": [
       "<div>\n",
       "<style scoped>\n",
       "    .dataframe tbody tr th:only-of-type {\n",
       "        vertical-align: middle;\n",
       "    }\n",
       "\n",
       "    .dataframe tbody tr th {\n",
       "        vertical-align: top;\n",
       "    }\n",
       "\n",
       "    .dataframe thead th {\n",
       "        text-align: right;\n",
       "    }\n",
       "</style>\n",
       "<table border=\"1\" class=\"dataframe\">\n",
       "  <thead>\n",
       "    <tr style=\"text-align: right;\">\n",
       "      <th></th>\n",
       "      <th>type</th>\n",
       "      <th>date</th>\n",
       "      <th>amount</th>\n",
       "      <th>punk_id</th>\n",
       "    </tr>\n",
       "  </thead>\n",
       "  <tbody>\n",
       "    <tr>\n",
       "      <th>93</th>\n",
       "      <td>Offered</td>\n",
       "      <td>2017-06-24</td>\n",
       "      <td>9.000000e+13</td>\n",
       "      <td>6141</td>\n",
       "    </tr>\n",
       "    <tr>\n",
       "      <th>31968</th>\n",
       "      <td>Offered</td>\n",
       "      <td>2021-04-07</td>\n",
       "      <td>8.889000e+10</td>\n",
       "      <td>6174</td>\n",
       "    </tr>\n",
       "    <tr>\n",
       "      <th>31991</th>\n",
       "      <td>Offered</td>\n",
       "      <td>2021-04-07</td>\n",
       "      <td>8.889000e+10</td>\n",
       "      <td>6754</td>\n",
       "    </tr>\n",
       "  </tbody>\n",
       "</table>\n",
       "</div>"
      ],
      "text/plain": [
       "          type        date        amount  punk_id\n",
       "93     Offered  2017-06-24  9.000000e+13     6141\n",
       "31968  Offered  2021-04-07  8.889000e+10     6174\n",
       "31991  Offered  2021-04-07  8.889000e+10     6754"
      ]
     },
     "execution_count": 152,
     "metadata": {},
     "output_type": "execute_result"
    }
   ],
   "source": [
    "df_offered.nlargest(3, 'amount')"
   ]
  },
  {
   "cell_type": "code",
   "execution_count": 153,
   "id": "e4e26665-f573-46fc-a383-1ddb6a837fe9",
   "metadata": {},
   "outputs": [
    {
     "data": {
      "text/plain": [
       "90000000000000.0"
      ]
     },
     "execution_count": 153,
     "metadata": {},
     "output_type": "execute_result"
    }
   ],
   "source": [
    "df_offered['amount'].max()"
   ]
  },
  {
   "cell_type": "code",
   "execution_count": 154,
   "id": "0f30944a-9a8b-4347-8562-95c1803a80bb",
   "metadata": {},
   "outputs": [
    {
     "data": {
      "image/png": "[encoded data removed]",
      "text/plain": [
       "<Figure size 360x288 with 1 Axes>"
      ]
     },
     "metadata": {
      "needs_background": "light"
     },
     "output_type": "display_data"
    }
   ],
   "source": [
    "sns.displot(x = df_sold['amount'],bins=200,fill=True, color='#A6266C',height=4,aspect=5/4)\n",
    "plt.xlim(0, 1000)\n",
    "plt.title(\"Distribution of Sold transactions\",fontsize=20)\n",
    "plt.xlabel(\"Amount in Ethers\",fontsize=11)\n",
    "plt.ylabel(\"Count\",fontsize=11)\n",
    "plt.savefig('18.png',bbox_inches='tight')\n",
    "plt.show()"
   ]
  },
  {
   "cell_type": "code",
   "execution_count": 155,
   "id": "601403c7-cb91-4a5a-8ed2-b9c297c13ac2",
   "metadata": {},
   "outputs": [
    {
     "data": {
      "image/png": "[encoded data removed]",
      "text/plain": [
       "<Figure size 360x288 with 1 Axes>"
      ]
     },
     "metadata": {
      "needs_background": "light"
     },
     "output_type": "display_data"
    }
   ],
   "source": [
    "sns.displot(x = df_bid['amount'],bins=200,fill=True, color='#2D689C',height=4,aspect=5/4)\n",
    "plt.xlim(0, 1000)\n",
    "plt.title(\"Distribution of Bid transactions\",fontsize=20)\n",
    "plt.xlabel(\"Amount in Ethers\",fontsize=11)\n",
    "plt.ylabel(\"Count\",fontsize=11)\n",
    "plt.savefig('19.png',bbox_inches='tight')\n",
    "plt.show()"
   ]
  },
  {
   "cell_type": "markdown",
   "id": "888302ba-380a-4543-b6c4-70223133e55f",
   "metadata": {},
   "source": [
    "### Evolution of transaction types amount"
   ]
  },
  {
   "cell_type": "code",
   "execution_count": 20,
   "id": "e9db5ec2-7d72-4333-af45-eaecb7d0eaae",
   "metadata": {},
   "outputs": [
    {
     "data": {
      "text/html": [
       "<div>\n",
       "<style scoped>\n",
       "    .dataframe tbody tr th:only-of-type {\n",
       "        vertical-align: middle;\n",
       "    }\n",
       "\n",
       "    .dataframe tbody tr th {\n",
       "        vertical-align: top;\n",
       "    }\n",
       "\n",
       "    .dataframe thead th {\n",
       "        text-align: right;\n",
       "    }\n",
       "</style>\n",
       "<table border=\"1\" class=\"dataframe\">\n",
       "  <thead>\n",
       "    <tr style=\"text-align: right;\">\n",
       "      <th></th>\n",
       "      <th>type</th>\n",
       "      <th>amount</th>\n",
       "      <th>punk_id</th>\n",
       "      <th>date</th>\n",
       "    </tr>\n",
       "  </thead>\n",
       "  <tbody>\n",
       "    <tr>\n",
       "      <th>0</th>\n",
       "      <td>20</td>\n",
       "      <td>20</td>\n",
       "      <td>20</td>\n",
       "      <td>2017-06-23</td>\n",
       "    </tr>\n",
       "    <tr>\n",
       "      <th>1</th>\n",
       "      <td>22</td>\n",
       "      <td>22</td>\n",
       "      <td>22</td>\n",
       "      <td>2017-06-24</td>\n",
       "    </tr>\n",
       "    <tr>\n",
       "      <th>2</th>\n",
       "      <td>13</td>\n",
       "      <td>13</td>\n",
       "      <td>13</td>\n",
       "      <td>2017-06-25</td>\n",
       "    </tr>\n",
       "    <tr>\n",
       "      <th>3</th>\n",
       "      <td>18</td>\n",
       "      <td>18</td>\n",
       "      <td>18</td>\n",
       "      <td>2017-06-26</td>\n",
       "    </tr>\n",
       "    <tr>\n",
       "      <th>4</th>\n",
       "      <td>36</td>\n",
       "      <td>36</td>\n",
       "      <td>36</td>\n",
       "      <td>2017-06-27</td>\n",
       "    </tr>\n",
       "  </tbody>\n",
       "</table>\n",
       "</div>"
      ],
      "text/plain": [
       "   type  amount  punk_id        date\n",
       "0    20      20       20  2017-06-23\n",
       "1    22      22       22  2017-06-24\n",
       "2    13      13       13  2017-06-25\n",
       "3    18      18       18  2017-06-26\n",
       "4    36      36       36  2017-06-27"
      ]
     },
     "execution_count": 20,
     "metadata": {},
     "output_type": "execute_result"
    }
   ],
   "source": [
    "data1 = df_sold.groupby(['date']).count()\n",
    "data1['date'] = data1.index\n",
    "data1 = data1.reset_index(drop=True)\n",
    "data1.head()"
   ]
  },
  {
   "cell_type": "code",
   "execution_count": 19,
   "id": "0abeaa6f-1c47-49cf-96b2-6c8cbec99135",
   "metadata": {},
   "outputs": [
    {
     "data": {
      "text/html": [
       "<div>\n",
       "<style scoped>\n",
       "    .dataframe tbody tr th:only-of-type {\n",
       "        vertical-align: middle;\n",
       "    }\n",
       "\n",
       "    .dataframe tbody tr th {\n",
       "        vertical-align: top;\n",
       "    }\n",
       "\n",
       "    .dataframe thead th {\n",
       "        text-align: right;\n",
       "    }\n",
       "</style>\n",
       "<table border=\"1\" class=\"dataframe\">\n",
       "  <thead>\n",
       "    <tr style=\"text-align: right;\">\n",
       "      <th></th>\n",
       "      <th>type</th>\n",
       "      <th>amount</th>\n",
       "      <th>punk_id</th>\n",
       "      <th>date</th>\n",
       "    </tr>\n",
       "  </thead>\n",
       "  <tbody>\n",
       "    <tr>\n",
       "      <th>0</th>\n",
       "      <td>32</td>\n",
       "      <td>32</td>\n",
       "      <td>32</td>\n",
       "      <td>2017-06-23</td>\n",
       "    </tr>\n",
       "    <tr>\n",
       "      <th>1</th>\n",
       "      <td>26</td>\n",
       "      <td>26</td>\n",
       "      <td>26</td>\n",
       "      <td>2017-06-24</td>\n",
       "    </tr>\n",
       "    <tr>\n",
       "      <th>2</th>\n",
       "      <td>685</td>\n",
       "      <td>685</td>\n",
       "      <td>685</td>\n",
       "      <td>2017-06-25</td>\n",
       "    </tr>\n",
       "    <tr>\n",
       "      <th>3</th>\n",
       "      <td>1020</td>\n",
       "      <td>1020</td>\n",
       "      <td>1020</td>\n",
       "      <td>2017-06-26</td>\n",
       "    </tr>\n",
       "    <tr>\n",
       "      <th>4</th>\n",
       "      <td>113</td>\n",
       "      <td>113</td>\n",
       "      <td>113</td>\n",
       "      <td>2017-06-27</td>\n",
       "    </tr>\n",
       "  </tbody>\n",
       "</table>\n",
       "</div>"
      ],
      "text/plain": [
       "   type  amount  punk_id        date\n",
       "0    32      32       32  2017-06-23\n",
       "1    26      26       26  2017-06-24\n",
       "2   685     685      685  2017-06-25\n",
       "3  1020    1020     1020  2017-06-26\n",
       "4   113     113      113  2017-06-27"
      ]
     },
     "execution_count": 19,
     "metadata": {},
     "output_type": "execute_result"
    }
   ],
   "source": [
    "data2 = df_bid.groupby(['date']).count()\n",
    "data2['date'] = data2.index\n",
    "data2 = data2.reset_index(drop=True)\n",
    "data2.head()"
   ]
  },
  {
   "cell_type": "code",
   "execution_count": 21,
   "id": "e578bb7d-4c3d-4486-875b-43cad3d8bcee",
   "metadata": {},
   "outputs": [
    {
     "data": {
      "text/html": [
       "<div>\n",
       "<style scoped>\n",
       "    .dataframe tbody tr th:only-of-type {\n",
       "        vertical-align: middle;\n",
       "    }\n",
       "\n",
       "    .dataframe tbody tr th {\n",
       "        vertical-align: top;\n",
       "    }\n",
       "\n",
       "    .dataframe thead th {\n",
       "        text-align: right;\n",
       "    }\n",
       "</style>\n",
       "<table border=\"1\" class=\"dataframe\">\n",
       "  <thead>\n",
       "    <tr style=\"text-align: right;\">\n",
       "      <th></th>\n",
       "      <th>type</th>\n",
       "      <th>amount</th>\n",
       "      <th>punk_id</th>\n",
       "      <th>date</th>\n",
       "    </tr>\n",
       "  </thead>\n",
       "  <tbody>\n",
       "    <tr>\n",
       "      <th>0</th>\n",
       "      <td>1</td>\n",
       "      <td>1</td>\n",
       "      <td>1</td>\n",
       "      <td>2017-02-23</td>\n",
       "    </tr>\n",
       "    <tr>\n",
       "      <th>1</th>\n",
       "      <td>1</td>\n",
       "      <td>1</td>\n",
       "      <td>1</td>\n",
       "      <td>2017-03-23</td>\n",
       "    </tr>\n",
       "    <tr>\n",
       "      <th>2</th>\n",
       "      <td>39</td>\n",
       "      <td>39</td>\n",
       "      <td>39</td>\n",
       "      <td>2017-06-23</td>\n",
       "    </tr>\n",
       "    <tr>\n",
       "      <th>3</th>\n",
       "      <td>240</td>\n",
       "      <td>240</td>\n",
       "      <td>240</td>\n",
       "      <td>2017-06-24</td>\n",
       "    </tr>\n",
       "    <tr>\n",
       "      <th>4</th>\n",
       "      <td>104</td>\n",
       "      <td>104</td>\n",
       "      <td>104</td>\n",
       "      <td>2017-06-25</td>\n",
       "    </tr>\n",
       "  </tbody>\n",
       "</table>\n",
       "</div>"
      ],
      "text/plain": [
       "   type  amount  punk_id        date\n",
       "0     1       1        1  2017-02-23\n",
       "1     1       1        1  2017-03-23\n",
       "2    39      39       39  2017-06-23\n",
       "3   240     240      240  2017-06-24\n",
       "4   104     104      104  2017-06-25"
      ]
     },
     "execution_count": 21,
     "metadata": {},
     "output_type": "execute_result"
    }
   ],
   "source": [
    "data3 = df_offered.groupby(['date']).count()\n",
    "data3['date'] = data3.index\n",
    "data3 = data3.reset_index(drop=True)\n",
    "data3.head()"
   ]
  },
  {
   "cell_type": "code",
   "execution_count": 24,
   "id": "7a41d1c0-0c94-47d4-912e-ed989670ae25",
   "metadata": {},
   "outputs": [
    {
     "data": {
      "image/png": "[encoded data removed]",
      "text/plain": [
       "<Figure size 1080x432 with 1 Axes>"
      ]
     },
     "metadata": {
      "needs_background": "light"
     },
     "output_type": "display_data"
    }
   ],
   "source": [
    "#scatterplot\n",
    "plt.figure(figsize =(15, 6))\n",
    "sns.lineplot(x=data3['date'],y=data3['amount'], color='#51B689',label='Offered')\n",
    "sns.lineplot(x=data2['date'],y=data2['amount'], color='#2D689C',label='Bid')\n",
    "sns.lineplot(x=data1['date'],y=data1['amount'], color='#A6266C',label='Sold')\n",
    "\n",
    "plt.title(\"Evolution of the amount of transactions by type\",fontsize=20)\n",
    "plt.xlabel(\"Date\",fontsize=11)\n",
    "plt.ylabel(\"Count\",fontsize=11)\n",
    "plt.savefig('20.png')\n",
    "plt.show()"
   ]
  },
  {
   "cell_type": "code",
   "execution_count": 27,
   "id": "45ce31c8-fccc-4a2a-a2df-d81a2c6fd931",
   "metadata": {},
   "outputs": [
    {
     "data": {
      "text/html": [
       "<div>\n",
       "<style scoped>\n",
       "    .dataframe tbody tr th:only-of-type {\n",
       "        vertical-align: middle;\n",
       "    }\n",
       "\n",
       "    .dataframe tbody tr th {\n",
       "        vertical-align: top;\n",
       "    }\n",
       "\n",
       "    .dataframe thead th {\n",
       "        text-align: right;\n",
       "    }\n",
       "</style>\n",
       "<table border=\"1\" class=\"dataframe\">\n",
       "  <thead>\n",
       "    <tr style=\"text-align: right;\">\n",
       "      <th></th>\n",
       "      <th>type</th>\n",
       "      <th>amount</th>\n",
       "      <th>punk_id</th>\n",
       "      <th>date</th>\n",
       "    </tr>\n",
       "  </thead>\n",
       "  <tbody>\n",
       "    <tr>\n",
       "      <th>0</th>\n",
       "      <td>Sold</td>\n",
       "      <td>0.98</td>\n",
       "      <td>8878</td>\n",
       "      <td>2017-06-23</td>\n",
       "    </tr>\n",
       "    <tr>\n",
       "      <th>1</th>\n",
       "      <td>Sold</td>\n",
       "      <td>0.50</td>\n",
       "      <td>9963</td>\n",
       "      <td>2017-06-24</td>\n",
       "    </tr>\n",
       "    <tr>\n",
       "      <th>2</th>\n",
       "      <td>Sold</td>\n",
       "      <td>0.21</td>\n",
       "      <td>9439</td>\n",
       "      <td>2017-06-25</td>\n",
       "    </tr>\n",
       "    <tr>\n",
       "      <th>3</th>\n",
       "      <td>Sold</td>\n",
       "      <td>0.42</td>\n",
       "      <td>9549</td>\n",
       "      <td>2017-06-26</td>\n",
       "    </tr>\n",
       "    <tr>\n",
       "      <th>4</th>\n",
       "      <td>Sold</td>\n",
       "      <td>1.00</td>\n",
       "      <td>9874</td>\n",
       "      <td>2017-06-27</td>\n",
       "    </tr>\n",
       "  </tbody>\n",
       "</table>\n",
       "</div>"
      ],
      "text/plain": [
       "   type  amount  punk_id        date\n",
       "0  Sold    0.98     8878  2017-06-23\n",
       "1  Sold    0.50     9963  2017-06-24\n",
       "2  Sold    0.21     9439  2017-06-25\n",
       "3  Sold    0.42     9549  2017-06-26\n",
       "4  Sold    1.00     9874  2017-06-27"
      ]
     },
     "execution_count": 27,
     "metadata": {},
     "output_type": "execute_result"
    }
   ],
   "source": [
    "data4 = df_sold.groupby(['date']).max()\n",
    "data4['date'] = data4.index\n",
    "data4 = data4.reset_index(drop=True)\n",
    "data4.head()"
   ]
  },
  {
   "cell_type": "code",
   "execution_count": 33,
   "id": "bbe3fcc6-6168-4d25-ba78-39f821060a5d",
   "metadata": {},
   "outputs": [
    {
     "data": {
      "text/html": [
       "<div>\n",
       "<style scoped>\n",
       "    .dataframe tbody tr th:only-of-type {\n",
       "        vertical-align: middle;\n",
       "    }\n",
       "\n",
       "    .dataframe tbody tr th {\n",
       "        vertical-align: top;\n",
       "    }\n",
       "\n",
       "    .dataframe thead th {\n",
       "        text-align: right;\n",
       "    }\n",
       "</style>\n",
       "<table border=\"1\" class=\"dataframe\">\n",
       "  <thead>\n",
       "    <tr style=\"text-align: right;\">\n",
       "      <th></th>\n",
       "      <th>type</th>\n",
       "      <th>amount</th>\n",
       "      <th>punk_id</th>\n",
       "      <th>date</th>\n",
       "    </tr>\n",
       "  </thead>\n",
       "  <tbody>\n",
       "    <tr>\n",
       "      <th>0</th>\n",
       "      <td>Sold</td>\n",
       "      <td>0.00</td>\n",
       "      <td>0</td>\n",
       "      <td>2017-06-23</td>\n",
       "    </tr>\n",
       "    <tr>\n",
       "      <th>1</th>\n",
       "      <td>Sold</td>\n",
       "      <td>0.01</td>\n",
       "      <td>1050</td>\n",
       "      <td>2017-06-24</td>\n",
       "    </tr>\n",
       "    <tr>\n",
       "      <th>2</th>\n",
       "      <td>Sold</td>\n",
       "      <td>0.05</td>\n",
       "      <td>944</td>\n",
       "      <td>2017-06-25</td>\n",
       "    </tr>\n",
       "    <tr>\n",
       "      <th>3</th>\n",
       "      <td>Sold</td>\n",
       "      <td>0.01</td>\n",
       "      <td>1</td>\n",
       "      <td>2017-06-26</td>\n",
       "    </tr>\n",
       "    <tr>\n",
       "      <th>4</th>\n",
       "      <td>Sold</td>\n",
       "      <td>0.01</td>\n",
       "      <td>641</td>\n",
       "      <td>2017-06-27</td>\n",
       "    </tr>\n",
       "  </tbody>\n",
       "</table>\n",
       "</div>"
      ],
      "text/plain": [
       "   type  amount  punk_id        date\n",
       "0  Sold    0.00        0  2017-06-23\n",
       "1  Sold    0.01     1050  2017-06-24\n",
       "2  Sold    0.05      944  2017-06-25\n",
       "3  Sold    0.01        1  2017-06-26\n",
       "4  Sold    0.01      641  2017-06-27"
      ]
     },
     "execution_count": 33,
     "metadata": {},
     "output_type": "execute_result"
    }
   ],
   "source": [
    "data5 = df_sold.groupby(['date']).min()\n",
    "data5['date'] = data5.index\n",
    "data5 = data5.reset_index(drop=True)\n",
    "data5.head()"
   ]
  },
  {
   "cell_type": "code",
   "execution_count": 35,
   "id": "0cf25472-7c58-4f7a-9959-baa5f6f76db4",
   "metadata": {},
   "outputs": [
    {
     "data": {
      "text/html": [
       "<div>\n",
       "<style scoped>\n",
       "    .dataframe tbody tr th:only-of-type {\n",
       "        vertical-align: middle;\n",
       "    }\n",
       "\n",
       "    .dataframe tbody tr th {\n",
       "        vertical-align: top;\n",
       "    }\n",
       "\n",
       "    .dataframe thead th {\n",
       "        text-align: right;\n",
       "    }\n",
       "</style>\n",
       "<table border=\"1\" class=\"dataframe\">\n",
       "  <thead>\n",
       "    <tr style=\"text-align: right;\">\n",
       "      <th></th>\n",
       "      <th>amount</th>\n",
       "      <th>punk_id</th>\n",
       "      <th>date</th>\n",
       "    </tr>\n",
       "  </thead>\n",
       "  <tbody>\n",
       "    <tr>\n",
       "      <th>0</th>\n",
       "      <td>0.154500</td>\n",
       "      <td>5080.350000</td>\n",
       "      <td>2017-06-23</td>\n",
       "    </tr>\n",
       "    <tr>\n",
       "      <th>1</th>\n",
       "      <td>0.194091</td>\n",
       "      <td>4664.090909</td>\n",
       "      <td>2017-06-24</td>\n",
       "    </tr>\n",
       "    <tr>\n",
       "      <th>2</th>\n",
       "      <td>0.138462</td>\n",
       "      <td>4552.000000</td>\n",
       "      <td>2017-06-25</td>\n",
       "    </tr>\n",
       "    <tr>\n",
       "      <th>3</th>\n",
       "      <td>0.135556</td>\n",
       "      <td>5626.555556</td>\n",
       "      <td>2017-06-26</td>\n",
       "    </tr>\n",
       "    <tr>\n",
       "      <th>4</th>\n",
       "      <td>0.222222</td>\n",
       "      <td>4976.944444</td>\n",
       "      <td>2017-06-27</td>\n",
       "    </tr>\n",
       "  </tbody>\n",
       "</table>\n",
       "</div>"
      ],
      "text/plain": [
       "     amount      punk_id        date\n",
       "0  0.154500  5080.350000  2017-06-23\n",
       "1  0.194091  4664.090909  2017-06-24\n",
       "2  0.138462  4552.000000  2017-06-25\n",
       "3  0.135556  5626.555556  2017-06-26\n",
       "4  0.222222  4976.944444  2017-06-27"
      ]
     },
     "execution_count": 35,
     "metadata": {},
     "output_type": "execute_result"
    }
   ],
   "source": [
    "data6 = df_sold.groupby(['date']).mean()\n",
    "data6['date'] = data6.index\n",
    "data6 = data6.reset_index(drop=True)\n",
    "data6.head()"
   ]
  },
  {
   "cell_type": "code",
   "execution_count": 41,
   "id": "9ec5a2c1-3260-49eb-9f39-d7c749c05387",
   "metadata": {},
   "outputs": [
    {
     "data": {
      "image/png": "[encoded data removed]",
      "text/plain": [
       "<Figure size 1080x432 with 1 Axes>"
      ]
     },
     "metadata": {
      "needs_background": "light"
     },
     "output_type": "display_data"
    }
   ],
   "source": [
    "#scatterplot\n",
    "plt.figure(figsize =(15, 6))\n",
    "\n",
    "sns.lineplot(x=data4['date'],y=data4['amount'], color='#F2929E',label='Sold maximum')\n",
    "sns.lineplot(x=data5['date'],y=data5['amount'], color='#F2389E',label='Sold minimum')\n",
    "sns.lineplot(x=data6['date'],y=data6['amount'], color='#A6266C',label='Sold average')\n",
    "\n",
    "plt.title(\"Evolution of price of Sold transactions\",fontsize=20)\n",
    "plt.xlabel(\"Date\",fontsize=11)\n",
    "plt.ylabel(\"Amount\",fontsize=11)\n",
    "plt.savefig('21.png')\n",
    "plt.show()"
   ]
  },
  {
   "cell_type": "markdown",
   "id": "6ecadcd4-657a-4388-9f92-15a77a3c7358",
   "metadata": {},
   "source": [
    "### Distribution of Sold transactions"
   ]
  },
  {
   "cell_type": "code",
   "execution_count": 241,
   "id": "2d307a04-6440-40f8-becd-27b0874bf63b",
   "metadata": {},
   "outputs": [],
   "source": [
    "try:\n",
    "    query = \"\"\"SELECT type, date, amount, punk_id \n",
    "    FROM transaction\n",
    "    WHERE type = 'Sold';\"\"\"\n",
    "    df_sold = pd.read_sql(query,connection)\n",
    "except Exception as e:\n",
    "    cursor.close()\n",
    "    print(str(e))"
   ]
  },
  {
   "cell_type": "code",
   "execution_count": 242,
   "id": "0e596433-4cab-45aa-a1c3-067c843a65f7",
   "metadata": {
    "tags": []
   },
   "outputs": [],
   "source": [
    "df_sold = df_sold.sort_values(by=['date'])\n",
    "df_sold = df_sold.reset_index(drop=True)"
   ]
  },
  {
   "cell_type": "code",
   "execution_count": 243,
   "id": "44a94822-7014-447d-9042-8d0b2387260b",
   "metadata": {},
   "outputs": [
    {
     "data": {
      "text/plain": [
       "19702"
      ]
     },
     "execution_count": 243,
     "metadata": {},
     "output_type": "execute_result"
    }
   ],
   "source": [
    "len(df_sold['punk_id'])"
   ]
  },
  {
   "cell_type": "code",
   "execution_count": 130,
   "id": "70205054-f271-49e8-ab67-f3975df9d121",
   "metadata": {},
   "outputs": [
    {
     "data": {
      "text/plain": [
       "6500"
      ]
     },
     "execution_count": 130,
     "metadata": {},
     "output_type": "execute_result"
    }
   ],
   "source": [
    "data = df_sold.drop_duplicates(subset=['punk_id'], keep='first')\n",
    "len(data['punk_id'])"
   ]
  },
  {
   "cell_type": "code",
   "execution_count": 131,
   "id": "1fd071b0-b9fd-41c8-bf4a-dee2465481d3",
   "metadata": {},
   "outputs": [
    {
     "data": {
      "text/html": [
       "<div>\n",
       "<style scoped>\n",
       "    .dataframe tbody tr th:only-of-type {\n",
       "        vertical-align: middle;\n",
       "    }\n",
       "\n",
       "    .dataframe tbody tr th {\n",
       "        vertical-align: top;\n",
       "    }\n",
       "\n",
       "    .dataframe thead th {\n",
       "        text-align: right;\n",
       "    }\n",
       "</style>\n",
       "<table border=\"1\" class=\"dataframe\">\n",
       "  <thead>\n",
       "    <tr style=\"text-align: right;\">\n",
       "      <th></th>\n",
       "      <th>type</th>\n",
       "      <th>date</th>\n",
       "      <th>amount</th>\n",
       "      <th>punk_id</th>\n",
       "    </tr>\n",
       "  </thead>\n",
       "  <tbody>\n",
       "    <tr>\n",
       "      <th>0</th>\n",
       "      <td>Sold</td>\n",
       "      <td>2017-06-23</td>\n",
       "      <td>0.20</td>\n",
       "      <td>5545</td>\n",
       "    </tr>\n",
       "    <tr>\n",
       "      <th>1</th>\n",
       "      <td>Sold</td>\n",
       "      <td>2017-06-23</td>\n",
       "      <td>0.20</td>\n",
       "      <td>4641</td>\n",
       "    </tr>\n",
       "    <tr>\n",
       "      <th>3</th>\n",
       "      <td>Sold</td>\n",
       "      <td>2017-06-23</td>\n",
       "      <td>0.25</td>\n",
       "      <td>1841</td>\n",
       "    </tr>\n",
       "    <tr>\n",
       "      <th>4</th>\n",
       "      <td>Sold</td>\n",
       "      <td>2017-06-23</td>\n",
       "      <td>0.10</td>\n",
       "      <td>5056</td>\n",
       "    </tr>\n",
       "    <tr>\n",
       "      <th>5</th>\n",
       "      <td>Sold</td>\n",
       "      <td>2017-06-23</td>\n",
       "      <td>0.13</td>\n",
       "      <td>8878</td>\n",
       "    </tr>\n",
       "  </tbody>\n",
       "</table>\n",
       "</div>"
      ],
      "text/plain": [
       "   type        date  amount  punk_id\n",
       "0  Sold  2017-06-23    0.20     5545\n",
       "1  Sold  2017-06-23    0.20     4641\n",
       "3  Sold  2017-06-23    0.25     1841\n",
       "4  Sold  2017-06-23    0.10     5056\n",
       "5  Sold  2017-06-23    0.13     8878"
      ]
     },
     "execution_count": 131,
     "metadata": {},
     "output_type": "execute_result"
    }
   ],
   "source": [
    "data.head()"
   ]
  },
  {
   "cell_type": "code",
   "execution_count": 246,
   "id": "7a07cd0b-6a9b-4c01-9fd8-c4c0796cc0d2",
   "metadata": {},
   "outputs": [
    {
     "data": {
      "image/png": "[encoded data removed]",
      "text/plain": [
       "<Figure size 1080x144 with 1 Axes>"
      ]
     },
     "metadata": {
      "needs_background": "light"
     },
     "output_type": "display_data"
    }
   ],
   "source": [
    "plt.figure(figsize =(15, 2))\n",
    "a = sns.boxplot(x=df_sold[\"amount\"],color='#A6266C')\n",
    "a.tick_params(left=False)\n",
    "plt.title(\"Distribution of Sold transactions\",fontsize=20)\n",
    "plt.xlabel(\"\")\n",
    "plt.ylabel(\"\")\n",
    "plt.savefig('22.png',bbox_inches='tight')\n",
    "plt.show(a)"
   ]
  },
  {
   "cell_type": "code",
   "execution_count": 132,
   "id": "a23a27b6-191f-44bf-b08c-65915a57dc22",
   "metadata": {},
   "outputs": [
    {
     "data": {
      "text/plain": [
       "1320.0"
      ]
     },
     "execution_count": 132,
     "metadata": {},
     "output_type": "execute_result"
    }
   ],
   "source": [
    "data[\"amount\"].max()"
   ]
  },
  {
   "cell_type": "code",
   "execution_count": 133,
   "id": "cf58fea1-872e-4c9e-b3bb-7ae52a6fd196",
   "metadata": {},
   "outputs": [
    {
     "data": {
      "text/plain": [
       "2.25"
      ]
     },
     "execution_count": 133,
     "metadata": {},
     "output_type": "execute_result"
    }
   ],
   "source": [
    "round(data[\"amount\"].median(),2)"
   ]
  },
  {
   "cell_type": "code",
   "execution_count": 134,
   "id": "18836bd8-33ae-4e1f-9bbf-3ea882004336",
   "metadata": {},
   "outputs": [
    {
     "data": {
      "text/plain": [
       "18.55"
      ]
     },
     "execution_count": 134,
     "metadata": {},
     "output_type": "execute_result"
    }
   ],
   "source": [
    "round(data[\"amount\"].mean(),2)"
   ]
  },
  {
   "cell_type": "code",
   "execution_count": 135,
   "id": "ce23d6fa-c2ce-4960-9e41-da44b1f3fd3a",
   "metadata": {},
   "outputs": [
    {
     "data": {
      "text/plain": [
       "40.76"
      ]
     },
     "execution_count": 135,
     "metadata": {},
     "output_type": "execute_result"
    }
   ],
   "source": [
    "round(data[\"amount\"].std(),2)"
   ]
  },
  {
   "cell_type": "code",
   "execution_count": 136,
   "id": "3364c3f6-d8b1-45f3-8281-baca9eff430c",
   "metadata": {
    "tags": []
   },
   "outputs": [
    {
     "data": {
      "text/plain": [
       "0.3"
      ]
     },
     "execution_count": 136,
     "metadata": {},
     "output_type": "execute_result"
    }
   ],
   "source": [
    "data[\"amount\"].quantile(0.25)"
   ]
  },
  {
   "cell_type": "code",
   "execution_count": 146,
   "id": "51a79778-cfec-4ca4-b62e-722acb16c6a4",
   "metadata": {},
   "outputs": [
    {
     "data": {
      "text/plain": [
       "120.0"
      ]
     },
     "execution_count": 146,
     "metadata": {},
     "output_type": "execute_result"
    }
   ],
   "source": [
    "df_sold[\"amount\"].quantile(0.95)"
   ]
  },
  {
   "cell_type": "code",
   "execution_count": 263,
   "id": "630ebd56-3d15-4cba-8a88-00d54cb7cb7b",
   "metadata": {},
   "outputs": [],
   "source": [
    "try:\n",
    "    query = \"\"\"SELECT type, date, amount, punk_id \n",
    "    FROM transaction\n",
    "    WHERE type = 'Bid';\"\"\"\n",
    "    df_bid = pd.read_sql(query,connection)\n",
    "except Exception as e:\n",
    "    cursor.close()\n",
    "    print(str(e))"
   ]
  },
  {
   "cell_type": "code",
   "execution_count": 264,
   "id": "d9c9a757-aee9-4a64-8a76-13bea359b385",
   "metadata": {},
   "outputs": [
    {
     "data": {
      "image/png": "[encoded data removed]",
      "text/plain": [
       "<Figure size 1080x144 with 1 Axes>"
      ]
     },
     "metadata": {
      "needs_background": "light"
     },
     "output_type": "display_data"
    }
   ],
   "source": [
    "plt.figure(figsize =(15, 2))\n",
    "a = sns.boxplot(x=df_bid[\"amount\"],color='#2D689C')\n",
    "a.tick_params(left=False)\n",
    "plt.title(\"Distribution of Bid transactions\",fontsize=20)\n",
    "plt.xlabel(\"\")\n",
    "plt.ylabel(\"\")\n",
    "plt.savefig('23.png',bbox_inches='tight')\n",
    "plt.show(a)"
   ]
  },
  {
   "cell_type": "code",
   "execution_count": 251,
   "id": "6650fa56-1e19-4835-97ea-90b59626c16f",
   "metadata": {},
   "outputs": [
    {
     "data": {
      "text/plain": [
       "4200.0"
      ]
     },
     "execution_count": 251,
     "metadata": {},
     "output_type": "execute_result"
    }
   ],
   "source": [
    "df_bid[\"amount\"].max()"
   ]
  },
  {
   "cell_type": "code",
   "execution_count": 252,
   "id": "a5fc776b-015e-4477-9c91-d1b073a5ecab",
   "metadata": {},
   "outputs": [
    {
     "data": {
      "text/plain": [
       "10.0"
      ]
     },
     "execution_count": 252,
     "metadata": {},
     "output_type": "execute_result"
    }
   ],
   "source": [
    "round(df_bid[\"amount\"].median(),2)"
   ]
  },
  {
   "cell_type": "code",
   "execution_count": 253,
   "id": "bc06d780-f158-4029-b2f7-c92b6133745d",
   "metadata": {},
   "outputs": [
    {
     "data": {
      "text/plain": [
       "31.8"
      ]
     },
     "execution_count": 253,
     "metadata": {},
     "output_type": "execute_result"
    }
   ],
   "source": [
    "round(df_bid[\"amount\"].mean(),2)"
   ]
  },
  {
   "cell_type": "code",
   "execution_count": 254,
   "id": "3da90b72-a33e-4c51-9b28-63ebd05acaef",
   "metadata": {},
   "outputs": [
    {
     "data": {
      "text/plain": [
       "95.23"
      ]
     },
     "execution_count": 254,
     "metadata": {},
     "output_type": "execute_result"
    }
   ],
   "source": [
    "round(df_bid[\"amount\"].std(),2)"
   ]
  },
  {
   "cell_type": "code",
   "execution_count": 255,
   "id": "64f4c9b7-22a6-4352-9ff8-b404cdac5e00",
   "metadata": {
    "tags": []
   },
   "outputs": [
    {
     "data": {
      "text/plain": [
       "0.33"
      ]
     },
     "execution_count": 255,
     "metadata": {},
     "output_type": "execute_result"
    }
   ],
   "source": [
    "df_bid[\"amount\"].quantile(0.25)"
   ]
  },
  {
   "cell_type": "code",
   "execution_count": 257,
   "id": "3a207f69-977d-4d68-bfe8-de3b77b42323",
   "metadata": {
    "tags": []
   },
   "outputs": [
    {
     "data": {
      "text/plain": [
       "32.5"
      ]
     },
     "execution_count": 257,
     "metadata": {},
     "output_type": "execute_result"
    }
   ],
   "source": [
    "df_bid[\"amount\"].quantile(0.75)"
   ]
  },
  {
   "cell_type": "code",
   "execution_count": 261,
   "id": "fe4cbeda-ecb9-4705-9eea-89f4ddc51b02",
   "metadata": {},
   "outputs": [],
   "source": [
    "try:\n",
    "    query = \"\"\"SELECT type, date, amount, punk_id \n",
    "    FROM transaction\n",
    "    WHERE type = 'Offered';\"\"\"\n",
    "    df_offered = pd.read_sql(query,connection)\n",
    "except Exception as e:\n",
    "    cursor.close()\n",
    "    print(str(e))"
   ]
  },
  {
   "cell_type": "code",
   "execution_count": 262,
   "id": "206cb172-820a-480d-b408-ae0ea286a85c",
   "metadata": {},
   "outputs": [
    {
     "data": {
      "image/png": "[encoded data removed]",
      "text/plain": [
       "<Figure size 1080x144 with 1 Axes>"
      ]
     },
     "metadata": {
      "needs_background": "light"
     },
     "output_type": "display_data"
    }
   ],
   "source": [
    "plt.figure(figsize =(15, 2))\n",
    "a = sns.boxplot(x=df_offered[\"amount\"],color='#2D689C')\n",
    "a.tick_params(left=False)\n",
    "plt.title(\"Distribution of Offered transactions\",fontsize=20)\n",
    "plt.xlabel(\"\")\n",
    "plt.ylabel(\"\")\n",
    "plt.savefig('24.png',bbox_inches='tight')\n",
    "plt.show(a)"
   ]
  },
  {
   "cell_type": "code",
   "execution_count": 265,
   "id": "0e516a93-2ec2-4a1e-9733-796e2ae931e3",
   "metadata": {},
   "outputs": [
    {
     "data": {
      "text/plain": [
       "90000000000000.0"
      ]
     },
     "execution_count": 265,
     "metadata": {},
     "output_type": "execute_result"
    }
   ],
   "source": [
    "df_offered[\"amount\"].max()"
   ]
  },
  {
   "cell_type": "code",
   "execution_count": 266,
   "id": "0fd77880-4482-442b-b499-6dd65d638cc1",
   "metadata": {},
   "outputs": [
    {
     "data": {
      "text/plain": [
       "35.0"
      ]
     },
     "execution_count": 266,
     "metadata": {},
     "output_type": "execute_result"
    }
   ],
   "source": [
    "round(df_offered[\"amount\"].median(),2)"
   ]
  },
  {
   "cell_type": "code",
   "execution_count": 267,
   "id": "d703d398-f3b6-487c-a6d4-6c5c540b0c90",
   "metadata": {},
   "outputs": [
    {
     "data": {
      "text/plain": [
       "1269115321.01"
      ]
     },
     "execution_count": 267,
     "metadata": {},
     "output_type": "execute_result"
    }
   ],
   "source": [
    "round(df_offered[\"amount\"].mean(),2)"
   ]
  },
  {
   "cell_type": "code",
   "execution_count": 268,
   "id": "040c96a9-8c56-4f3c-acc8-9e15674b942f",
   "metadata": {},
   "outputs": [
    {
     "data": {
      "text/plain": [
       "337616923921.81"
      ]
     },
     "execution_count": 268,
     "metadata": {},
     "output_type": "execute_result"
    }
   ],
   "source": [
    "round(df_offered[\"amount\"].std(),2)"
   ]
  },
  {
   "cell_type": "code",
   "execution_count": 269,
   "id": "39a4a9cb-2bd3-4dc7-a532-e93f1be53918",
   "metadata": {
    "tags": []
   },
   "outputs": [
    {
     "data": {
      "text/plain": [
       "12.754999999999999"
      ]
     },
     "execution_count": 269,
     "metadata": {},
     "output_type": "execute_result"
    }
   ],
   "source": [
    "df_offered[\"amount\"].quantile(0.25)"
   ]
  },
  {
   "cell_type": "code",
   "execution_count": 271,
   "id": "dd513ed4-db3d-4e65-a5bb-3bc43d3149e4",
   "metadata": {
    "tags": []
   },
   "outputs": [
    {
     "data": {
      "text/plain": [
       "275.0"
      ]
     },
     "execution_count": 271,
     "metadata": {},
     "output_type": "execute_result"
    }
   ],
   "source": [
    "df_offered[\"amount\"].quantile(0.95)"
   ]
  },
  {
   "cell_type": "markdown",
   "id": "6854280b-5b6c-4ede-a5e2-906196ad4cba",
   "metadata": {},
   "source": [
    "### Proportion of Sold transactions by type"
   ]
  },
  {
   "cell_type": "code",
   "execution_count": 191,
   "id": "7d48bf75-51ba-4b22-bb53-a2e612a0a7f1",
   "metadata": {},
   "outputs": [],
   "source": [
    "try:\n",
    "    query = \"\"\"\n",
    "    SELECT type, date, amount, punk_id, type_id, skin_id \n",
    "    FROM transaction\n",
    "    LEFT JOIN punk ON transaction.punk_id = punk.id\n",
    "    WHERE type = 'Sold';\"\"\"\n",
    "    df_proportion = pd.read_sql(query,connection)\n",
    "except Exception as e:\n",
    "    cursor.close()\n",
    "    print(str(e))"
   ]
  },
  {
   "cell_type": "code",
   "execution_count": 192,
   "id": "1abc9c37-c084-490f-a287-59304d958a45",
   "metadata": {},
   "outputs": [
    {
     "data": {
      "text/html": [
       "<div>\n",
       "<style scoped>\n",
       "    .dataframe tbody tr th:only-of-type {\n",
       "        vertical-align: middle;\n",
       "    }\n",
       "\n",
       "    .dataframe tbody tr th {\n",
       "        vertical-align: top;\n",
       "    }\n",
       "\n",
       "    .dataframe thead th {\n",
       "        text-align: right;\n",
       "    }\n",
       "</style>\n",
       "<table border=\"1\" class=\"dataframe\">\n",
       "  <thead>\n",
       "    <tr style=\"text-align: right;\">\n",
       "      <th></th>\n",
       "      <th>type</th>\n",
       "      <th>date</th>\n",
       "      <th>amount</th>\n",
       "      <th>punk_id</th>\n",
       "      <th>type_id</th>\n",
       "      <th>skin_id</th>\n",
       "    </tr>\n",
       "  </thead>\n",
       "  <tbody>\n",
       "    <tr>\n",
       "      <th>0</th>\n",
       "      <td>Sold</td>\n",
       "      <td>2018-11-30</td>\n",
       "      <td>25.00</td>\n",
       "      <td>0</td>\n",
       "      <td>3</td>\n",
       "      <td>6</td>\n",
       "    </tr>\n",
       "    <tr>\n",
       "      <th>1</th>\n",
       "      <td>Sold</td>\n",
       "      <td>2017-07-07</td>\n",
       "      <td>1.60</td>\n",
       "      <td>0</td>\n",
       "      <td>3</td>\n",
       "      <td>6</td>\n",
       "    </tr>\n",
       "    <tr>\n",
       "      <th>2</th>\n",
       "      <td>Sold</td>\n",
       "      <td>2017-06-23</td>\n",
       "      <td>0.98</td>\n",
       "      <td>0</td>\n",
       "      <td>3</td>\n",
       "      <td>6</td>\n",
       "    </tr>\n",
       "    <tr>\n",
       "      <th>3</th>\n",
       "      <td>Sold</td>\n",
       "      <td>2020-11-30</td>\n",
       "      <td>60.00</td>\n",
       "      <td>1</td>\n",
       "      <td>4</td>\n",
       "      <td>4</td>\n",
       "    </tr>\n",
       "    <tr>\n",
       "      <th>4</th>\n",
       "      <td>Sold</td>\n",
       "      <td>2019-04-06</td>\n",
       "      <td>31.00</td>\n",
       "      <td>1</td>\n",
       "      <td>4</td>\n",
       "      <td>4</td>\n",
       "    </tr>\n",
       "  </tbody>\n",
       "</table>\n",
       "</div>"
      ],
      "text/plain": [
       "   type        date  amount  punk_id  type_id  skin_id\n",
       "0  Sold  2018-11-30   25.00        0        3        6\n",
       "1  Sold  2017-07-07    1.60        0        3        6\n",
       "2  Sold  2017-06-23    0.98        0        3        6\n",
       "3  Sold  2020-11-30   60.00        1        4        4\n",
       "4  Sold  2019-04-06   31.00        1        4        4"
      ]
     },
     "execution_count": 192,
     "metadata": {},
     "output_type": "execute_result"
    }
   ],
   "source": [
    "df_proportion.head()"
   ]
  },
  {
   "cell_type": "code",
   "execution_count": 193,
   "id": "cdf56aec-11a9-41af-9e4c-8dad8fe969ae",
   "metadata": {},
   "outputs": [
    {
     "data": {
      "text/html": [
       "<div>\n",
       "<style scoped>\n",
       "    .dataframe tbody tr th:only-of-type {\n",
       "        vertical-align: middle;\n",
       "    }\n",
       "\n",
       "    .dataframe tbody tr th {\n",
       "        vertical-align: top;\n",
       "    }\n",
       "\n",
       "    .dataframe thead th {\n",
       "        text-align: right;\n",
       "    }\n",
       "</style>\n",
       "<table border=\"1\" class=\"dataframe\">\n",
       "  <thead>\n",
       "    <tr style=\"text-align: right;\">\n",
       "      <th></th>\n",
       "      <th>type</th>\n",
       "      <th>date</th>\n",
       "      <th>amount</th>\n",
       "      <th>punk_id</th>\n",
       "      <th>skin_id</th>\n",
       "      <th>type_id</th>\n",
       "    </tr>\n",
       "  </thead>\n",
       "  <tbody>\n",
       "    <tr>\n",
       "      <th>0</th>\n",
       "      <td>10</td>\n",
       "      <td>10</td>\n",
       "      <td>10</td>\n",
       "      <td>10</td>\n",
       "      <td>10</td>\n",
       "      <td>0</td>\n",
       "    </tr>\n",
       "    <tr>\n",
       "      <th>1</th>\n",
       "      <td>34</td>\n",
       "      <td>34</td>\n",
       "      <td>34</td>\n",
       "      <td>34</td>\n",
       "      <td>34</td>\n",
       "      <td>1</td>\n",
       "    </tr>\n",
       "    <tr>\n",
       "      <th>2</th>\n",
       "      <td>105</td>\n",
       "      <td>105</td>\n",
       "      <td>105</td>\n",
       "      <td>105</td>\n",
       "      <td>105</td>\n",
       "      <td>2</td>\n",
       "    </tr>\n",
       "    <tr>\n",
       "      <th>3</th>\n",
       "      <td>6313</td>\n",
       "      <td>6313</td>\n",
       "      <td>6313</td>\n",
       "      <td>6313</td>\n",
       "      <td>6313</td>\n",
       "      <td>3</td>\n",
       "    </tr>\n",
       "    <tr>\n",
       "      <th>4</th>\n",
       "      <td>13240</td>\n",
       "      <td>13240</td>\n",
       "      <td>13240</td>\n",
       "      <td>13240</td>\n",
       "      <td>13240</td>\n",
       "      <td>4</td>\n",
       "    </tr>\n",
       "  </tbody>\n",
       "</table>\n",
       "</div>"
      ],
      "text/plain": [
       "    type   date  amount  punk_id  skin_id  type_id\n",
       "0     10     10      10       10       10        0\n",
       "1     34     34      34       34       34        1\n",
       "2    105    105     105      105      105        2\n",
       "3   6313   6313    6313     6313     6313        3\n",
       "4  13240  13240   13240    13240    13240        4"
      ]
     },
     "execution_count": 193,
     "metadata": {},
     "output_type": "execute_result"
    }
   ],
   "source": [
    "df_proportion = df_proportion.groupby(['type_id']).count()\n",
    "df_proportion['type_id'] = df_proportion.index\n",
    "df_proportion = df_proportion.reset_index(drop=True)\n",
    "df_proportion.head()"
   ]
  },
  {
   "cell_type": "code",
   "execution_count": 194,
   "id": "48e70236-b7c3-4be3-8f6e-05ee41a1ab21",
   "metadata": {},
   "outputs": [
    {
     "data": {
      "text/html": [
       "<div>\n",
       "<style scoped>\n",
       "    .dataframe tbody tr th:only-of-type {\n",
       "        vertical-align: middle;\n",
       "    }\n",
       "\n",
       "    .dataframe tbody tr th {\n",
       "        vertical-align: top;\n",
       "    }\n",
       "\n",
       "    .dataframe thead th {\n",
       "        text-align: right;\n",
       "    }\n",
       "</style>\n",
       "<table border=\"1\" class=\"dataframe\">\n",
       "  <thead>\n",
       "    <tr style=\"text-align: right;\">\n",
       "      <th></th>\n",
       "      <th>type</th>\n",
       "      <th>date</th>\n",
       "      <th>amount</th>\n",
       "      <th>punk_id</th>\n",
       "      <th>skin_id</th>\n",
       "      <th>type_id</th>\n",
       "      <th>percent</th>\n",
       "    </tr>\n",
       "  </thead>\n",
       "  <tbody>\n",
       "    <tr>\n",
       "      <th>0</th>\n",
       "      <td>10</td>\n",
       "      <td>10</td>\n",
       "      <td>10</td>\n",
       "      <td>10</td>\n",
       "      <td>10</td>\n",
       "      <td>0</td>\n",
       "      <td>0.05</td>\n",
       "    </tr>\n",
       "    <tr>\n",
       "      <th>1</th>\n",
       "      <td>34</td>\n",
       "      <td>34</td>\n",
       "      <td>34</td>\n",
       "      <td>34</td>\n",
       "      <td>34</td>\n",
       "      <td>1</td>\n",
       "      <td>0.17</td>\n",
       "    </tr>\n",
       "    <tr>\n",
       "      <th>2</th>\n",
       "      <td>105</td>\n",
       "      <td>105</td>\n",
       "      <td>105</td>\n",
       "      <td>105</td>\n",
       "      <td>105</td>\n",
       "      <td>2</td>\n",
       "      <td>0.53</td>\n",
       "    </tr>\n",
       "    <tr>\n",
       "      <th>3</th>\n",
       "      <td>6313</td>\n",
       "      <td>6313</td>\n",
       "      <td>6313</td>\n",
       "      <td>6313</td>\n",
       "      <td>6313</td>\n",
       "      <td>3</td>\n",
       "      <td>32.04</td>\n",
       "    </tr>\n",
       "    <tr>\n",
       "      <th>4</th>\n",
       "      <td>13240</td>\n",
       "      <td>13240</td>\n",
       "      <td>13240</td>\n",
       "      <td>13240</td>\n",
       "      <td>13240</td>\n",
       "      <td>4</td>\n",
       "      <td>67.20</td>\n",
       "    </tr>\n",
       "  </tbody>\n",
       "</table>\n",
       "</div>"
      ],
      "text/plain": [
       "    type   date  amount  punk_id  skin_id  type_id  percent\n",
       "0     10     10      10       10       10        0     0.05\n",
       "1     34     34      34       34       34        1     0.17\n",
       "2    105    105     105      105      105        2     0.53\n",
       "3   6313   6313    6313     6313     6313        3    32.04\n",
       "4  13240  13240   13240    13240    13240        4    67.20"
      ]
     },
     "execution_count": 194,
     "metadata": {},
     "output_type": "execute_result"
    }
   ],
   "source": [
    "df_proportion['percent'] = round((df_proportion['amount'] / df_proportion['amount'].sum()) * 100,2)\n",
    "df_proportion"
   ]
  },
  {
   "cell_type": "code",
   "execution_count": 197,
   "id": "d9d4eacb-9ba6-4fb9-8018-cf4906e7c718",
   "metadata": {},
   "outputs": [
    {
     "data": {
      "text/plain": [
       "[0.05, 0.17, 0.53, 32.04, 67.2]"
      ]
     },
     "execution_count": 197,
     "metadata": {},
     "output_type": "execute_result"
    }
   ],
   "source": [
    "list(df_proportion['percent'])"
   ]
  },
  {
   "cell_type": "code",
   "execution_count": 272,
   "id": "b3839b5a-fbc9-434c-a52b-8c8444d3aea2",
   "metadata": {},
   "outputs": [
    {
     "data": {
      "image/png": "[encoded data removed]",
      "text/plain": [
       "<Figure size 1080x432 with 1 Axes>"
      ]
     },
     "metadata": {
      "needs_background": "light"
     },
     "output_type": "display_data"
    }
   ],
   "source": [
    "bar,ax = plt.subplots(figsize=(15,6))\n",
    "labels = ['Alien','Ape','Zombie','Female','Male']\n",
    "ax = sns.barplot(x=\"percent\", y=labels, data=df_proportion, ci=None, palette=\"Paired\",orient='h' )\n",
    "ax.set_title(\"Proportion of Sold transactions by type\", fontsize=20)\n",
    "ax.set_xlabel (\"Percentage\", fontsize=11)\n",
    "ax.set_ylabel (\"\")\n",
    "for rect in ax.patches:\n",
    "    ax.text (rect.get_width(), rect.get_y() + rect.get_height() / 2,\"%.1f%%\"% rect.get_width(), weight='bold', fontsize=11)\n",
    "bar.savefig(\"26.png\");"
   ]
  },
  {
   "cell_type": "markdown",
   "id": "66ecb99c-d66b-4d1f-9277-1de6cbbefffb",
   "metadata": {},
   "source": [
    "### Proportion of Sold transactions by skin"
   ]
  },
  {
   "cell_type": "code",
   "execution_count": 274,
   "id": "0f81bbb5-fdc5-41e7-b382-7fdd838439ba",
   "metadata": {},
   "outputs": [],
   "source": [
    "try:\n",
    "    query = \"\"\"\n",
    "    SELECT type, date, amount, punk_id, type_id, skin_id \n",
    "    FROM transaction\n",
    "    LEFT JOIN punk ON transaction.punk_id = punk.id\n",
    "    WHERE type = 'Sold';\"\"\"\n",
    "    df_skin = pd.read_sql(query,connection)\n",
    "except Exception as e:\n",
    "    cursor.close()\n",
    "    print(str(e))"
   ]
  },
  {
   "cell_type": "code",
   "execution_count": 275,
   "id": "34efde28-b539-4436-be0e-96015185068a",
   "metadata": {},
   "outputs": [
    {
     "data": {
      "text/html": [
       "<div>\n",
       "<style scoped>\n",
       "    .dataframe tbody tr th:only-of-type {\n",
       "        vertical-align: middle;\n",
       "    }\n",
       "\n",
       "    .dataframe tbody tr th {\n",
       "        vertical-align: top;\n",
       "    }\n",
       "\n",
       "    .dataframe thead th {\n",
       "        text-align: right;\n",
       "    }\n",
       "</style>\n",
       "<table border=\"1\" class=\"dataframe\">\n",
       "  <thead>\n",
       "    <tr style=\"text-align: right;\">\n",
       "      <th></th>\n",
       "      <th>type</th>\n",
       "      <th>date</th>\n",
       "      <th>amount</th>\n",
       "      <th>punk_id</th>\n",
       "      <th>type_id</th>\n",
       "      <th>skin_id</th>\n",
       "      <th>percent</th>\n",
       "    </tr>\n",
       "  </thead>\n",
       "  <tbody>\n",
       "    <tr>\n",
       "      <th>0</th>\n",
       "      <td>10</td>\n",
       "      <td>10</td>\n",
       "      <td>10</td>\n",
       "      <td>10</td>\n",
       "      <td>10</td>\n",
       "      <td>0</td>\n",
       "      <td>0.05</td>\n",
       "    </tr>\n",
       "    <tr>\n",
       "      <th>1</th>\n",
       "      <td>34</td>\n",
       "      <td>34</td>\n",
       "      <td>34</td>\n",
       "      <td>34</td>\n",
       "      <td>34</td>\n",
       "      <td>1</td>\n",
       "      <td>0.17</td>\n",
       "    </tr>\n",
       "    <tr>\n",
       "      <th>2</th>\n",
       "      <td>105</td>\n",
       "      <td>105</td>\n",
       "      <td>105</td>\n",
       "      <td>105</td>\n",
       "      <td>105</td>\n",
       "      <td>2</td>\n",
       "      <td>0.53</td>\n",
       "    </tr>\n",
       "    <tr>\n",
       "      <th>3</th>\n",
       "      <td>1760</td>\n",
       "      <td>1760</td>\n",
       "      <td>1760</td>\n",
       "      <td>1760</td>\n",
       "      <td>1760</td>\n",
       "      <td>3</td>\n",
       "      <td>8.93</td>\n",
       "    </tr>\n",
       "    <tr>\n",
       "      <th>4</th>\n",
       "      <td>6260</td>\n",
       "      <td>6260</td>\n",
       "      <td>6260</td>\n",
       "      <td>6260</td>\n",
       "      <td>6260</td>\n",
       "      <td>4</td>\n",
       "      <td>31.77</td>\n",
       "    </tr>\n",
       "  </tbody>\n",
       "</table>\n",
       "</div>"
      ],
      "text/plain": [
       "   type  date  amount  punk_id  type_id  skin_id  percent\n",
       "0    10    10      10       10       10        0     0.05\n",
       "1    34    34      34       34       34        1     0.17\n",
       "2   105   105     105      105      105        2     0.53\n",
       "3  1760  1760    1760     1760     1760        3     8.93\n",
       "4  6260  6260    6260     6260     6260        4    31.77"
      ]
     },
     "execution_count": 275,
     "metadata": {},
     "output_type": "execute_result"
    }
   ],
   "source": [
    "df_skin = df_skin.groupby(['skin_id']).count()\n",
    "df_skin['skin_id'] = df_skin.index\n",
    "df_skin = df_skin.reset_index(drop=True)\n",
    "df_skin['percent'] = round((df_skin['amount'] / df_skin['amount'].sum()) * 100,2)\n",
    "df_skin.head()"
   ]
  },
  {
   "cell_type": "code",
   "execution_count": 278,
   "id": "8ef1beca-5a88-4d11-9d0d-8c985c29b25d",
   "metadata": {},
   "outputs": [
    {
     "data": {
      "image/png": "[encoded data removed]",
      "text/plain": [
       "<Figure size 1080x432 with 1 Axes>"
      ]
     },
     "metadata": {
      "needs_background": "light"
     },
     "output_type": "display_data"
    }
   ],
   "source": [
    "bar,ax = plt.subplots(figsize=(15,6))\n",
    "labels = ['Alien','Ape','Zombie','Albino','Dark','Light','Mid']\n",
    "ax = sns.barplot(x=\"percent\", y=labels, data=df_skin, ci=None, palette=\"Paired\",orient='h' )\n",
    "ax.set_title(\"Proportion of Sold transactions by skin\", fontsize=20)\n",
    "ax.set_xlabel (\"Percentage\", fontsize=11)\n",
    "ax.set_ylabel (\"\")\n",
    "for rect in ax.patches:\n",
    "    ax.text (rect.get_width(), rect.get_y() + rect.get_height() / 2,\"%.1f%%\"% rect.get_width(), weight='bold', fontsize=11)\n",
    "bar.savefig(\"27.png\");"
   ]
  },
  {
   "cell_type": "markdown",
   "id": "e25373b3-d318-48ac-97e4-8f7cd9100b31",
   "metadata": {},
   "source": [
    "### Proportion of Sold transactions by attribute"
   ]
  },
  {
   "cell_type": "code",
   "execution_count": 353,
   "id": "68f5e705-2a9f-4cf8-8cba-72d80a026eec",
   "metadata": {},
   "outputs": [],
   "source": [
    "try:\n",
    "    query = \"\"\"\n",
    "    SELECT type, date, amount, punk_id, type_id, skin_id \n",
    "    FROM transaction\n",
    "    LEFT JOIN punk ON transaction.punk_id = punk.id\n",
    "    WHERE type = 'Sold';\"\"\"\n",
    "    df_at = pd.read_sql(query,connection)\n",
    "except Exception as e:\n",
    "    cursor.close()\n",
    "    print(str(e))"
   ]
  },
  {
   "cell_type": "code",
   "execution_count": 354,
   "id": "e420d069-5180-47e4-8484-dceec6a0271a",
   "metadata": {},
   "outputs": [
    {
     "data": {
      "text/html": [
       "<div>\n",
       "<style scoped>\n",
       "    .dataframe tbody tr th:only-of-type {\n",
       "        vertical-align: middle;\n",
       "    }\n",
       "\n",
       "    .dataframe tbody tr th {\n",
       "        vertical-align: top;\n",
       "    }\n",
       "\n",
       "    .dataframe thead th {\n",
       "        text-align: right;\n",
       "    }\n",
       "</style>\n",
       "<table border=\"1\" class=\"dataframe\">\n",
       "  <thead>\n",
       "    <tr style=\"text-align: right;\">\n",
       "      <th></th>\n",
       "      <th>type</th>\n",
       "      <th>date</th>\n",
       "      <th>amount</th>\n",
       "      <th>punk_id</th>\n",
       "      <th>type_id</th>\n",
       "      <th>skin_id</th>\n",
       "    </tr>\n",
       "  </thead>\n",
       "  <tbody>\n",
       "    <tr>\n",
       "      <th>0</th>\n",
       "      <td>Sold</td>\n",
       "      <td>2018-11-30</td>\n",
       "      <td>25.00</td>\n",
       "      <td>0</td>\n",
       "      <td>3</td>\n",
       "      <td>6</td>\n",
       "    </tr>\n",
       "    <tr>\n",
       "      <th>1</th>\n",
       "      <td>Sold</td>\n",
       "      <td>2017-07-07</td>\n",
       "      <td>1.60</td>\n",
       "      <td>0</td>\n",
       "      <td>3</td>\n",
       "      <td>6</td>\n",
       "    </tr>\n",
       "    <tr>\n",
       "      <th>2</th>\n",
       "      <td>Sold</td>\n",
       "      <td>2017-06-23</td>\n",
       "      <td>0.98</td>\n",
       "      <td>0</td>\n",
       "      <td>3</td>\n",
       "      <td>6</td>\n",
       "    </tr>\n",
       "    <tr>\n",
       "      <th>3</th>\n",
       "      <td>Sold</td>\n",
       "      <td>2020-11-30</td>\n",
       "      <td>60.00</td>\n",
       "      <td>1</td>\n",
       "      <td>4</td>\n",
       "      <td>4</td>\n",
       "    </tr>\n",
       "    <tr>\n",
       "      <th>4</th>\n",
       "      <td>Sold</td>\n",
       "      <td>2019-04-06</td>\n",
       "      <td>31.00</td>\n",
       "      <td>1</td>\n",
       "      <td>4</td>\n",
       "      <td>4</td>\n",
       "    </tr>\n",
       "  </tbody>\n",
       "</table>\n",
       "</div>"
      ],
      "text/plain": [
       "   type        date  amount  punk_id  type_id  skin_id\n",
       "0  Sold  2018-11-30   25.00        0        3        6\n",
       "1  Sold  2017-07-07    1.60        0        3        6\n",
       "2  Sold  2017-06-23    0.98        0        3        6\n",
       "3  Sold  2020-11-30   60.00        1        4        4\n",
       "4  Sold  2019-04-06   31.00        1        4        4"
      ]
     },
     "execution_count": 354,
     "metadata": {},
     "output_type": "execute_result"
    }
   ],
   "source": [
    "df_at.head(5)"
   ]
  },
  {
   "cell_type": "code",
   "execution_count": 348,
   "id": "835c0df2-4fe9-4408-96f3-5f146fcb8b41",
   "metadata": {},
   "outputs": [
    {
     "data": {
      "text/html": [
       "<div>\n",
       "<style scoped>\n",
       "    .dataframe tbody tr th:only-of-type {\n",
       "        vertical-align: middle;\n",
       "    }\n",
       "\n",
       "    .dataframe tbody tr th {\n",
       "        vertical-align: top;\n",
       "    }\n",
       "\n",
       "    .dataframe thead th {\n",
       "        text-align: right;\n",
       "    }\n",
       "</style>\n",
       "<table border=\"1\" class=\"dataframe\">\n",
       "  <thead>\n",
       "    <tr style=\"text-align: right;\">\n",
       "      <th></th>\n",
       "      <th>total_att</th>\n",
       "      <th>punk_id</th>\n",
       "    </tr>\n",
       "  </thead>\n",
       "  <tbody>\n",
       "    <tr>\n",
       "      <th>0</th>\n",
       "      <td>3</td>\n",
       "      <td>0</td>\n",
       "    </tr>\n",
       "    <tr>\n",
       "      <th>1</th>\n",
       "      <td>2</td>\n",
       "      <td>1</td>\n",
       "    </tr>\n",
       "    <tr>\n",
       "      <th>2</th>\n",
       "      <td>1</td>\n",
       "      <td>2</td>\n",
       "    </tr>\n",
       "    <tr>\n",
       "      <th>3</th>\n",
       "      <td>3</td>\n",
       "      <td>3</td>\n",
       "    </tr>\n",
       "    <tr>\n",
       "      <th>4</th>\n",
       "      <td>4</td>\n",
       "      <td>4</td>\n",
       "    </tr>\n",
       "  </tbody>\n",
       "</table>\n",
       "</div>"
      ],
      "text/plain": [
       "   total_att  punk_id\n",
       "0          3        0\n",
       "1          2        1\n",
       "2          1        2\n",
       "3          3        3\n",
       "4          4        4"
      ]
     },
     "execution_count": 348,
     "metadata": {},
     "output_type": "execute_result"
    }
   ],
   "source": [
    "df_attributes.head(5)"
   ]
  },
  {
   "cell_type": "code",
   "execution_count": 356,
   "id": "6cf9320e-a3bc-442f-84d5-7c0127efed74",
   "metadata": {},
   "outputs": [
    {
     "data": {
      "text/html": [
       "<div>\n",
       "<style scoped>\n",
       "    .dataframe tbody tr th:only-of-type {\n",
       "        vertical-align: middle;\n",
       "    }\n",
       "\n",
       "    .dataframe tbody tr th {\n",
       "        vertical-align: top;\n",
       "    }\n",
       "\n",
       "    .dataframe thead th {\n",
       "        text-align: right;\n",
       "    }\n",
       "</style>\n",
       "<table border=\"1\" class=\"dataframe\">\n",
       "  <thead>\n",
       "    <tr style=\"text-align: right;\">\n",
       "      <th></th>\n",
       "      <th>type</th>\n",
       "      <th>date</th>\n",
       "      <th>amount</th>\n",
       "      <th>punk_id</th>\n",
       "      <th>type_id</th>\n",
       "      <th>skin_id</th>\n",
       "      <th>total_att</th>\n",
       "    </tr>\n",
       "  </thead>\n",
       "  <tbody>\n",
       "    <tr>\n",
       "      <th>0</th>\n",
       "      <td>Sold</td>\n",
       "      <td>2018-11-30</td>\n",
       "      <td>25.00</td>\n",
       "      <td>0</td>\n",
       "      <td>3</td>\n",
       "      <td>6</td>\n",
       "      <td>3</td>\n",
       "    </tr>\n",
       "    <tr>\n",
       "      <th>1</th>\n",
       "      <td>Sold</td>\n",
       "      <td>2017-07-07</td>\n",
       "      <td>1.60</td>\n",
       "      <td>0</td>\n",
       "      <td>3</td>\n",
       "      <td>6</td>\n",
       "      <td>3</td>\n",
       "    </tr>\n",
       "    <tr>\n",
       "      <th>2</th>\n",
       "      <td>Sold</td>\n",
       "      <td>2017-06-23</td>\n",
       "      <td>0.98</td>\n",
       "      <td>0</td>\n",
       "      <td>3</td>\n",
       "      <td>6</td>\n",
       "      <td>3</td>\n",
       "    </tr>\n",
       "    <tr>\n",
       "      <th>3</th>\n",
       "      <td>Sold</td>\n",
       "      <td>2020-11-30</td>\n",
       "      <td>60.00</td>\n",
       "      <td>1</td>\n",
       "      <td>4</td>\n",
       "      <td>4</td>\n",
       "      <td>2</td>\n",
       "    </tr>\n",
       "    <tr>\n",
       "      <th>4</th>\n",
       "      <td>Sold</td>\n",
       "      <td>2019-04-06</td>\n",
       "      <td>31.00</td>\n",
       "      <td>1</td>\n",
       "      <td>4</td>\n",
       "      <td>4</td>\n",
       "      <td>2</td>\n",
       "    </tr>\n",
       "  </tbody>\n",
       "</table>\n",
       "</div>"
      ],
      "text/plain": [
       "   type        date  amount  punk_id  type_id  skin_id  total_att\n",
       "0  Sold  2018-11-30   25.00        0        3        6          3\n",
       "1  Sold  2017-07-07    1.60        0        3        6          3\n",
       "2  Sold  2017-06-23    0.98        0        3        6          3\n",
       "3  Sold  2020-11-30   60.00        1        4        4          2\n",
       "4  Sold  2019-04-06   31.00        1        4        4          2"
      ]
     },
     "execution_count": 356,
     "metadata": {},
     "output_type": "execute_result"
    }
   ],
   "source": [
    "df_att_tran = pd.merge(df_at, df_attributes, on=[\"punk_id\"])\n",
    "df_att_tran.head(5)"
   ]
  },
  {
   "cell_type": "code",
   "execution_count": 357,
   "id": "0405b333-9b05-448b-aeed-1a2df8b8011b",
   "metadata": {},
   "outputs": [
    {
     "data": {
      "text/html": [
       "<div>\n",
       "<style scoped>\n",
       "    .dataframe tbody tr th:only-of-type {\n",
       "        vertical-align: middle;\n",
       "    }\n",
       "\n",
       "    .dataframe tbody tr th {\n",
       "        vertical-align: top;\n",
       "    }\n",
       "\n",
       "    .dataframe thead th {\n",
       "        text-align: right;\n",
       "    }\n",
       "</style>\n",
       "<table border=\"1\" class=\"dataframe\">\n",
       "  <thead>\n",
       "    <tr style=\"text-align: right;\">\n",
       "      <th></th>\n",
       "      <th>type</th>\n",
       "      <th>date</th>\n",
       "      <th>amount</th>\n",
       "      <th>punk_id</th>\n",
       "      <th>type_id</th>\n",
       "      <th>skin_id</th>\n",
       "      <th>total_att</th>\n",
       "      <th>percent</th>\n",
       "    </tr>\n",
       "  </thead>\n",
       "  <tbody>\n",
       "    <tr>\n",
       "      <th>0</th>\n",
       "      <td>11</td>\n",
       "      <td>11</td>\n",
       "      <td>11</td>\n",
       "      <td>11</td>\n",
       "      <td>11</td>\n",
       "      <td>11</td>\n",
       "      <td>0</td>\n",
       "      <td>0.06</td>\n",
       "    </tr>\n",
       "    <tr>\n",
       "      <th>1</th>\n",
       "      <td>267</td>\n",
       "      <td>267</td>\n",
       "      <td>267</td>\n",
       "      <td>267</td>\n",
       "      <td>267</td>\n",
       "      <td>267</td>\n",
       "      <td>1</td>\n",
       "      <td>1.36</td>\n",
       "    </tr>\n",
       "    <tr>\n",
       "      <th>2</th>\n",
       "      <td>7093</td>\n",
       "      <td>7093</td>\n",
       "      <td>7093</td>\n",
       "      <td>7093</td>\n",
       "      <td>7093</td>\n",
       "      <td>7093</td>\n",
       "      <td>2</td>\n",
       "      <td>36.00</td>\n",
       "    </tr>\n",
       "    <tr>\n",
       "      <th>3</th>\n",
       "      <td>9390</td>\n",
       "      <td>9390</td>\n",
       "      <td>9390</td>\n",
       "      <td>9390</td>\n",
       "      <td>9390</td>\n",
       "      <td>9390</td>\n",
       "      <td>3</td>\n",
       "      <td>47.66</td>\n",
       "    </tr>\n",
       "    <tr>\n",
       "      <th>4</th>\n",
       "      <td>2647</td>\n",
       "      <td>2647</td>\n",
       "      <td>2647</td>\n",
       "      <td>2647</td>\n",
       "      <td>2647</td>\n",
       "      <td>2647</td>\n",
       "      <td>4</td>\n",
       "      <td>13.44</td>\n",
       "    </tr>\n",
       "  </tbody>\n",
       "</table>\n",
       "</div>"
      ],
      "text/plain": [
       "   type  date  amount  punk_id  type_id  skin_id  total_att  percent\n",
       "0    11    11      11       11       11       11          0     0.06\n",
       "1   267   267     267      267      267      267          1     1.36\n",
       "2  7093  7093    7093     7093     7093     7093          2    36.00\n",
       "3  9390  9390    9390     9390     9390     9390          3    47.66\n",
       "4  2647  2647    2647     2647     2647     2647          4    13.44"
      ]
     },
     "execution_count": 357,
     "metadata": {},
     "output_type": "execute_result"
    }
   ],
   "source": [
    "df_att_tran = df_att_tran.groupby(['total_att']).count()\n",
    "df_att_tran['total_att'] = df_att_tran.index\n",
    "df_att_tran = df_att_tran.reset_index(drop=True)\n",
    "df_att_tran['percent'] = round((df_att_tran['amount'] / df_att_tran['amount'].sum()) * 100,2)\n",
    "df_att_tran.head()"
   ]
  },
  {
   "cell_type": "code",
   "execution_count": 358,
   "id": "05d6908a-643f-458e-a85d-fdc441cfcf00",
   "metadata": {},
   "outputs": [
    {
     "data": {
      "image/png": "[encoded data removed]",
      "text/plain": [
       "<Figure size 1080x432 with 1 Axes>"
      ]
     },
     "metadata": {
      "needs_background": "light"
     },
     "output_type": "display_data"
    }
   ],
   "source": [
    "bar,ax = plt.subplots(figsize=(15,6))\n",
    "labels = ['0','1','2','3','4','5','6','7']\n",
    "ax = sns.barplot(x=\"percent\", y=labels, data=df_att_tran, ci=None, palette=\"Paired\",orient='h' )\n",
    "ax.set_title(\"Proportion of Sold transactions by number of attributes\", fontsize=20)\n",
    "ax.set_xlabel (\"Percentage\", fontsize=11)\n",
    "ax.set_ylabel (\"\")\n",
    "for rect in ax.patches:\n",
    "    ax.text (rect.get_width(), rect.get_y() + rect.get_height() / 2,\"%.1f%%\"% rect.get_width(), weight='bold', fontsize=11)\n",
    "bar.savefig(\"28.png\");"
   ]
  },
  {
   "cell_type": "markdown",
   "id": "5ce8282f-b428-4acc-9d98-d48359176f78",
   "metadata": {},
   "source": [
    "### Evolution of Sold price of punk by type"
   ]
  },
  {
   "cell_type": "code",
   "execution_count": 360,
   "id": "285a1a08-c2e8-45a1-bd8b-e0db42da78c7",
   "metadata": {},
   "outputs": [],
   "source": [
    "try:\n",
    "    query = \"\"\"SELECT transaction.type, transaction.date, transaction.amount, transaction.punk_id, punk.type_id \n",
    "    FROM transaction\n",
    "    INNER JOIN punk ON punk.id=transaction.punk_id\n",
    "    WHERE type = 'Sold';\"\"\"\n",
    "    df_type_evolution = pd.read_sql(query,connection)\n",
    "except Exception as e:\n",
    "    cursor.close()\n",
    "    print(str(e))"
   ]
  },
  {
   "cell_type": "code",
   "execution_count": 361,
   "id": "e7741155-f1ef-430c-8d28-6c2af9ef7231",
   "metadata": {},
   "outputs": [],
   "source": [
    "df1 = df_type_evolution.loc[df_type_evolution['type_id'] == 0]\n",
    "df1 = df1.sort_values(by=['date'])\n",
    "df1 = df1.reset_index(drop=True)\n",
    "\n",
    "df2 = df_type_evolution.loc[df_type_evolution['type_id'] == 1]\n",
    "df2 = df2.sort_values(by=['date'])\n",
    "df2 = df2.reset_index(drop=True)\n",
    "\n",
    "df3 = df_type_evolution.loc[df_type_evolution['type_id'] == 2]\n",
    "df3 = df3.sort_values(by=['date'])\n",
    "df3 = df3.reset_index(drop=True)\n",
    "\n",
    "df4 = df_type_evolution.loc[df_type_evolution['type_id'] == 3]\n",
    "df4 = df4.sort_values(by=['date'])\n",
    "df4 = df4.reset_index(drop=True)\n",
    "\n",
    "df5 = df_type_evolution.loc[df_type_evolution['type_id'] == 4]\n",
    "df5 = df5.sort_values(by=['date'])\n",
    "df5 = df5.reset_index(drop=True)"
   ]
  },
  {
   "cell_type": "code",
   "execution_count": 364,
   "id": "8def7923-ff0c-44f5-804f-77321e8fb647",
   "metadata": {},
   "outputs": [
    {
     "data": {
      "image/png": "[encoded data removed]",
      "text/plain": [
       "<Figure size 1080x432 with 1 Axes>"
      ]
     },
     "metadata": {
      "needs_background": "light"
     },
     "output_type": "display_data"
    }
   ],
   "source": [
    "#scatterplot\n",
    "plt.figure(figsize =(15, 6))\n",
    "sns.lineplot(x=df1['date'],y=df1['amount'], color='#BF343F',label='Alien')\n",
    "sns.lineplot(x=df2['date'],y=df2['amount'], color='#3274A1',label='Ape')\n",
    "sns.lineplot(x=df3['date'],y=df3['amount'], color='#B3D495',label='Zombie')\n",
    "sns.lineplot(x=df4['date'],y=df4['amount'], color='#40923A',label='Female')\n",
    "sns.lineplot(x=df5['date'],y=df5['amount'], color='#EFA6A5',label='Male')\n",
    "\n",
    "plt.title(\"Evolution of punk characters sales by type\",fontsize=20)\n",
    "plt.xlabel(\"Date\")\n",
    "plt.ylabel(\"Amount\")\n",
    "plt.savefig('29.png')\n",
    "plt.show()"
   ]
  }
 ],
 "metadata": {
  "kernelspec": {
   "display_name": "Python 3",
   "language": "python",
   "name": "python3"
  },
  "language_info": {
   "codemirror_mode": {
    "name": "ipython",
    "version": 3
   },
   "file_extension": ".py",
   "mimetype": "text/x-python",
   "name": "python",
   "nbconvert_exporter": "python",
   "pygments_lexer": "ipython3",
   "version": "3.8.8"
  }
 },
 "nbformat": 4,
 "nbformat_minor": 5
}
